{
 "cells": [
  {
   "cell_type": "markdown",
   "metadata": {},
   "source": [
    "# Лабораторная работа №2.2 \"Изучение спектров атомов водорода и дейтерия\""
   ]
  },
  {
   "cell_type": "markdown",
   "metadata": {},
   "source": [
    "<div style=\"padding-left:5%; padding-right:5%\">Исследуются спектральные закономерности в оптических спектрах водорода и дейтерия. По результатам измерений вычисляются постоянные Ридберга для этих двух изотопов водорода, их потенциалы ионизации, изотопические сдвиги линий.</div>"
   ]
  },
  {
   "cell_type": "markdown",
   "metadata": {},
   "source": [
    "## Спектральные линии водорода (серия Бальмера)"
   ]
  },
  {
   "cell_type": "markdown",
   "metadata": {},
   "source": [
    "### Теоретическая справка"
   ]
  },
  {
   "cell_type": "markdown",
   "metadata": {},
   "source": [
    "Для атома водорода существует точное решение уравнения Шредингера, поэтому его спектр является предметом тщательного экспериментального и теоретического исследования.\n",
    "\n",
    "Длины волн спектральных линий водородоподобного атома описываются формулой:"
   ]
  },
  {
   "cell_type": "markdown",
   "metadata": {},
   "source": [
    "$$\n",
    "\\dfrac{1}{\\lambda_{mn}} = R Z^2 \\left(\\dfrac{1}{n^2} - \\dfrac{1}{m^2} \\right)\n",
    "$$"
   ]
  },
  {
   "cell_type": "markdown",
   "metadata": {},
   "source": [
    "где $R$ - константа, называемая постоянной Ридберга, а $m$ и $n$ - целые числа."
   ]
  },
  {
   "cell_type": "markdown",
   "metadata": {},
   "source": [
    "_Маленькая подсказка_: в лабнике дано значение для сравнения: $R = 109\\, 667.6 \\,\\text{см}^{-1}$."
   ]
  },
  {
   "cell_type": "markdown",
   "metadata": {},
   "source": [
    "Мы будем исследовать **серию Бальмера**. Она соответствует $n = 2$ и $m$ от $n+1$ до $\\infty$. Для 3, 4, 5, 6 линии обозначаются соответственно $H_\\alpha, H_\\beta, H_\\gamma, H_\\delta$"
   ]
  },
  {
   "cell_type": "markdown",
   "metadata": {},
   "source": [
    "Строки таблицы:\n",
    "\n",
    "*deg* - градусы угла\n",
    "\n",
    "*min* - минуты угла\n",
    "\n",
    "*sec* - секунды угла\n",
    "\n",
    "*l*   - длина волны угла (для калибровочного графика)"
   ]
  },
  {
   "cell_type": "markdown",
   "metadata": {},
   "source": [
    "### Обработка"
   ]
  },
  {
   "cell_type": "markdown",
   "metadata": {},
   "source": [
    "#### Градуировка"
   ]
  },
  {
   "cell_type": "code",
   "execution_count": null,
   "metadata": {},
   "outputs": [],
   "source": [
    "import pandas as pd"
   ]
  },
  {
   "cell_type": "code",
   "execution_count": null,
   "metadata": {},
   "outputs": [],
   "source": [
    "FILE_NAME = 'graduation.csv'\n",
    "df = pd.read_csv(FILE_NAME)\n",
    "df['angle'] = df['deg'] + df['min']/60 + df['sec']/3600\n",
    "df.head()"
   ]
  },
  {
   "cell_type": "code",
   "execution_count": null,
   "metadata": {},
   "outputs": [],
   "source": [
    "# TODO: дописать обработку\n",
    "\n",
    "def angle_to_lambda(l):\n",
    "    \"\"\"\n",
    "    Переводит угол в длину волны в [нм]\n",
    "    \"\"\"\n",
    "    pass"
   ]
  },
  {
   "cell_type": "markdown",
   "metadata": {},
   "source": [
    "#### Определение длин волн серии"
   ]
  },
  {
   "cell_type": "code",
   "execution_count": null,
   "metadata": {},
   "outputs": [],
   "source": [
    "l = angle_to_lambda(df['angle'])"
   ]
  }
 ],
 "metadata": {
  "kernelspec": {
   "display_name": "Python 3",
   "language": "python",
   "name": "python3"
  },
  "language_info": {
   "codemirror_mode": {
    "name": "ipython",
    "version": 3
   },
   "file_extension": ".py",
   "mimetype": "text/x-python",
   "name": "python",
   "nbconvert_exporter": "python",
   "pygments_lexer": "ipython3",
   "version": "3.7.0"
  }
 },
 "nbformat": 4,
 "nbformat_minor": 2
}
