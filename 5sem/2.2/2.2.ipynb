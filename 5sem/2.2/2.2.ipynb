{
 "cells": [
  {
   "cell_type": "markdown",
   "metadata": {},
   "source": [
    "# Лабораторная работа №2.2 \"Изучение спектров атомов водорода и дейтерия\""
   ]
  },
  {
   "cell_type": "markdown",
   "metadata": {},
   "source": [
    "<div style=\"padding-left:5%; padding-right:5%\">Исследуются спектральные закономерности в оптических спектрах водорода и дейтерия. По результатам измерений вычисляются постоянные Ридберга для этих двух изотопов водорода, их потенциалы ионизации, изотопические сдвиги линий.</div>"
   ]
  },
  {
   "cell_type": "markdown",
   "metadata": {},
   "source": [
    "## Спектральные линии водорода (серия Бальмера)"
   ]
  },
  {
   "cell_type": "markdown",
   "metadata": {},
   "source": [
    "### Теоретическая справка"
   ]
  },
  {
   "cell_type": "markdown",
   "metadata": {},
   "source": [
    "Для атома водорода существует точное решение уравнения Шредингера, поэтому его спектр является предметом тщательного экспериментального и теоретического исследования.\n",
    "\n",
    "Длины волн спектральных линий водородоподобного атома описываются формулой:"
   ]
  },
  {
   "cell_type": "markdown",
   "metadata": {},
   "source": [
    "$$\n",
    "\\dfrac{1}{\\lambda_{mn}} = R Z^2 \\left(\\dfrac{1}{n^2} - \\dfrac{1}{m^2} \\right)\n",
    "$$"
   ]
  },
  {
   "cell_type": "markdown",
   "metadata": {},
   "source": [
    "где $R$ - константа, называемая постоянной Ридберга, а $m$ и $n$ - целые числа."
   ]
  },
  {
   "cell_type": "markdown",
   "metadata": {},
   "source": [
    "_Маленькая подсказка_: в лабнике дано значение для сравнения: $R = 109\\, 667.6 \\,\\text{см}^{-1}$."
   ]
  },
  {
   "cell_type": "markdown",
   "metadata": {},
   "source": [
    "Мы будем исследовать **серию Бальмера**. Она соответствует $n = 2$ и $m$ от $n+1$ до $\\infty$. Для 3, 4, 5, 6 линии обозначаются соответственно $H_\\alpha, H_\\beta, H_\\gamma, H_\\delta$"
   ]
  },
  {
   "cell_type": "markdown",
   "metadata": {},
   "source": [
    "Строки таблицы:\n",
    "\n",
    "*deg* - градусы угла\n",
    "\n",
    "*min* - минуты угла\n",
    "\n",
    "*sec* - секунды угла\n",
    "\n",
    "*l*   - длина волны угла (для калибровочного графика)"
   ]
  },
  {
   "cell_type": "markdown",
   "metadata": {},
   "source": [
    "### Обработка"
   ]
  },
  {
   "cell_type": "markdown",
   "metadata": {},
   "source": [
    "#### Градуировка"
   ]
  },
  {
   "cell_type": "code",
   "execution_count": 1,
   "metadata": {},
   "outputs": [],
   "source": [
    "import pandas as pd\n",
    "import numpy as np"
   ]
  },
  {
   "cell_type": "code",
   "execution_count": 2,
   "metadata": {
    "scrolled": false
   },
   "outputs": [
    {
     "data": {
      "text/html": [
       "<div>\n",
       "<style scoped>\n",
       "    .dataframe tbody tr th:only-of-type {\n",
       "        vertical-align: middle;\n",
       "    }\n",
       "\n",
       "    .dataframe tbody tr th {\n",
       "        vertical-align: top;\n",
       "    }\n",
       "\n",
       "    .dataframe thead th {\n",
       "        text-align: right;\n",
       "    }\n",
       "</style>\n",
       "<table border=\"1\" class=\"dataframe\">\n",
       "  <thead>\n",
       "    <tr style=\"text-align: right;\">\n",
       "      <th></th>\n",
       "      <th>angle</th>\n",
       "      <th>lambda, A</th>\n",
       "    </tr>\n",
       "  </thead>\n",
       "  <tbody>\n",
       "    <tr>\n",
       "      <th>0</th>\n",
       "      <td>2144.0</td>\n",
       "      <td>5852.0</td>\n",
       "    </tr>\n",
       "    <tr>\n",
       "      <th>1</th>\n",
       "      <td>2159.0</td>\n",
       "      <td>5882.0</td>\n",
       "    </tr>\n",
       "    <tr>\n",
       "      <th>2</th>\n",
       "      <td>2189.0</td>\n",
       "      <td>5945.0</td>\n",
       "    </tr>\n",
       "    <tr>\n",
       "      <th>3</th>\n",
       "      <td>2230.0</td>\n",
       "      <td>6030.0</td>\n",
       "    </tr>\n",
       "    <tr>\n",
       "      <th>4</th>\n",
       "      <td>2258.0</td>\n",
       "      <td>6096.0</td>\n",
       "    </tr>\n",
       "  </tbody>\n",
       "</table>\n",
       "</div>"
      ],
      "text/plain": [
       "    angle  lambda, A\n",
       "0  2144.0     5852.0\n",
       "1  2159.0     5882.0\n",
       "2  2189.0     5945.0\n",
       "3  2230.0     6030.0\n",
       "4  2258.0     6096.0"
      ]
     },
     "execution_count": 2,
     "metadata": {},
     "output_type": "execute_result"
    }
   ],
   "source": [
    "CALIBRATION_FILE = 'grad_neon.csv'\n",
    "df_neon = pd.read_csv(CALIBRATION_FILE, delimiter=';', dtype=np.float)\n",
    "df_neon.head()"
   ]
  },
  {
   "cell_type": "code",
   "execution_count": 30,
   "metadata": {},
   "outputs": [],
   "source": [
    "class Calibrator():\n",
    "    from scipy.stats import linregress\n",
    "    \n",
    "    def __init__(self, n=1):\n",
    "        self.n = n\n",
    "    \n",
    "    def fit(self, x_data, y_data):\n",
    "        import numpy as np\n",
    "        p, resudials, rank, singular_values, cond_threshold = np.polyfit(x_data, y_data, self.n, full=True)\n",
    "        self.f = np.poly1d(p)\n",
    "        self.p = p\n",
    "        self.err = resudials[0]\n",
    "        return self\n",
    "    \n",
    "    def predict(self, x_data):\n",
    "        return self.f(x_data)"
   ]
  },
  {
   "cell_type": "code",
   "execution_count": 31,
   "metadata": {},
   "outputs": [],
   "source": [
    "x, y = df_neon['angle'].dropna(), df_neon['lambda, A'].dropna()\n",
    "# Выкинем 0 элемент\n",
    "x, y = x[:-1], y[:-1]"
   ]
  },
  {
   "cell_type": "code",
   "execution_count": 32,
   "metadata": {
    "scrolled": true
   },
   "outputs": [
    {
     "data": {
      "text/plain": [
       "<matplotlib.legend.Legend at 0x11e0b0d30>"
      ]
     },
     "execution_count": 32,
     "metadata": {},
     "output_type": "execute_result"
    },
    {
     "data": {
      "image/png": "[encoded data removed]",
      "text/plain": [
       "<Figure size 432x288 with 1 Axes>"
      ]
     },
     "metadata": {
      "needs_background": "light"
     },
     "output_type": "display_data"
    }
   ],
   "source": [
    "import matplotlib.pyplot as plt\n",
    "import numpy as np\n",
    "from scipy.stats import linregress\n",
    "\n",
    "x_range = np.linspace(min(x), max(x), 1000)\n",
    "calibrator = Calibrator().fit(x, y)\n",
    "plt.scatter(x, y, label='Real data')\n",
    "plt.plot(x_range, calibrator.predict(x_range), label=r'linregress')\n",
    "\n",
    "plt.grid()\n",
    "plt.legend()"
   ]
  },
  {
   "cell_type": "markdown",
   "metadata": {},
   "source": [
    "#### Определение длин волн серии"
   ]
  },
  {
   "cell_type": "code",
   "execution_count": 33,
   "metadata": {
    "scrolled": false
   },
   "outputs": [
    {
     "data": {
      "text/html": [
       "<div>\n",
       "<style scoped>\n",
       "    .dataframe tbody tr th:only-of-type {\n",
       "        vertical-align: middle;\n",
       "    }\n",
       "\n",
       "    .dataframe tbody tr th {\n",
       "        vertical-align: top;\n",
       "    }\n",
       "\n",
       "    .dataframe thead th {\n",
       "        text-align: right;\n",
       "    }\n",
       "</style>\n",
       "<table border=\"1\" class=\"dataframe\">\n",
       "  <thead>\n",
       "    <tr style=\"text-align: right;\">\n",
       "      <th></th>\n",
       "      <th>Цвет</th>\n",
       "      <th>angle</th>\n",
       "      <th>Имя</th>\n",
       "    </tr>\n",
       "  </thead>\n",
       "  <tbody>\n",
       "    <tr>\n",
       "      <th>0</th>\n",
       "      <td>красная</td>\n",
       "      <td>2440</td>\n",
       "      <td>alpha</td>\n",
       "    </tr>\n",
       "    <tr>\n",
       "      <th>1</th>\n",
       "      <td>голубая</td>\n",
       "      <td>1446</td>\n",
       "      <td>beta</td>\n",
       "    </tr>\n",
       "    <tr>\n",
       "      <th>2</th>\n",
       "      <td>фиолетовый</td>\n",
       "      <td>804</td>\n",
       "      <td>gamma</td>\n",
       "    </tr>\n",
       "    <tr>\n",
       "      <th>3</th>\n",
       "      <td>слабо-фиолетовый</td>\n",
       "      <td>397</td>\n",
       "      <td>delta</td>\n",
       "    </tr>\n",
       "  </tbody>\n",
       "</table>\n",
       "</div>"
      ],
      "text/plain": [
       "               Цвет  angle    Имя\n",
       "0           красная   2440  alpha\n",
       "1           голубая   1446   beta\n",
       "2        фиолетовый    804  gamma\n",
       "3  слабо-фиолетовый    397  delta"
      ]
     },
     "execution_count": 33,
     "metadata": {},
     "output_type": "execute_result"
    }
   ],
   "source": [
    "BALMER_FILE = \"balmer.csv\"\n",
    "balmer_df = pd.read_csv(BALMER_FILE, delimiter=';')\n",
    "balmer_df.head()"
   ]
  },
  {
   "cell_type": "code",
   "execution_count": 34,
   "metadata": {},
   "outputs": [],
   "source": [
    "balmer_lambda = list(calibrator.predict(balmer_df['angle']) / 10) # чтоб в нм"
   ]
  },
  {
   "cell_type": "code",
   "execution_count": 35,
   "metadata": {},
   "outputs": [
    {
     "data": {
      "text/plain": [
       "'Серия Бальмера дает: 654.3622343046013 нм; 415.7197875332539 нм; 261.5865372040738 нм; 163.87277881781787'"
      ]
     },
     "execution_count": 35,
     "metadata": {},
     "output_type": "execute_result"
    }
   ],
   "source": [
    "'Серия Бальмера дает: ' + ' нм; '.join([str(i) for i in balmer_lambda])"
   ]
  },
  {
   "cell_type": "markdown",
   "metadata": {},
   "source": [
    "Сходится только первая. Дело в том, что наш калибровочный график не захватывает остальные углы!"
   ]
  },
  {
   "cell_type": "markdown",
   "metadata": {},
   "source": [
    "#### Калибровка по ртути"
   ]
  },
  {
   "cell_type": "code",
   "execution_count": 36,
   "metadata": {},
   "outputs": [
    {
     "data": {
      "text/html": [
       "<div>\n",
       "<style scoped>\n",
       "    .dataframe tbody tr th:only-of-type {\n",
       "        vertical-align: middle;\n",
       "    }\n",
       "\n",
       "    .dataframe tbody tr th {\n",
       "        vertical-align: top;\n",
       "    }\n",
       "\n",
       "    .dataframe thead th {\n",
       "        text-align: right;\n",
       "    }\n",
       "</style>\n",
       "<table border=\"1\" class=\"dataframe\">\n",
       "  <thead>\n",
       "    <tr style=\"text-align: right;\">\n",
       "      <th></th>\n",
       "      <th>angle</th>\n",
       "      <th>lambda, nm</th>\n",
       "    </tr>\n",
       "  </thead>\n",
       "  <tbody>\n",
       "    <tr>\n",
       "      <th>0</th>\n",
       "      <td>833.0</td>\n",
       "      <td>435.8</td>\n",
       "    </tr>\n",
       "    <tr>\n",
       "      <th>1</th>\n",
       "      <td>279.0</td>\n",
       "      <td>404.7</td>\n",
       "    </tr>\n",
       "    <tr>\n",
       "      <th>2</th>\n",
       "      <td>1498.0</td>\n",
       "      <td>491.6</td>\n",
       "    </tr>\n",
       "    <tr>\n",
       "      <th>3</th>\n",
       "      <td>1921.0</td>\n",
       "      <td>546.1</td>\n",
       "    </tr>\n",
       "    <tr>\n",
       "      <th>4</th>\n",
       "      <td>2101.0</td>\n",
       "      <td>577.0</td>\n",
       "    </tr>\n",
       "  </tbody>\n",
       "</table>\n",
       "</div>"
      ],
      "text/plain": [
       "    angle  lambda, nm\n",
       "0   833.0       435.8\n",
       "1   279.0       404.7\n",
       "2  1498.0       491.6\n",
       "3  1921.0       546.1\n",
       "4  2101.0       577.0"
      ]
     },
     "execution_count": 36,
     "metadata": {},
     "output_type": "execute_result"
    }
   ],
   "source": [
    "RTYT_CALIBRATION_FILE = 'grad_rtyt.csv'\n",
    "df_rtyt = pd.read_csv(RTYT_CALIBRATION_FILE, delimiter=';')\n",
    "df_rtyt.head()"
   ]
  },
  {
   "cell_type": "code",
   "execution_count": 37,
   "metadata": {},
   "outputs": [
    {
     "data": {
      "image/png": "[encoded data removed]",
      "text/plain": [
       "<Figure size 432x288 with 1 Axes>"
      ]
     },
     "metadata": {
      "needs_background": "light"
     },
     "output_type": "display_data"
    }
   ],
   "source": [
    "x, y = df_rtyt['angle'].dropna(), df_rtyt['lambda, nm'].dropna()\n",
    "\n",
    "# Отсортируем данные\n",
    "x, y = np.sort(x), np.sort(y)\n",
    "\n",
    "x_range = np.linspace(min(x), max(x), 1000)\n",
    "calibrator_rtyt = Calibrator(3)\n",
    "calibrator_rtyt.fit(x, y)\n",
    "plt.scatter(x, y)\n",
    "plt.plot(x_range, calibrator_rtyt.predict(x_range))\n",
    "\n",
    "plt.grid()"
   ]
  },
  {
   "cell_type": "markdown",
   "metadata": {},
   "source": [
    "#### Объединим калибровки"
   ]
  },
  {
   "cell_type": "code",
   "execution_count": 38,
   "metadata": {},
   "outputs": [
    {
     "name": "stderr",
     "output_type": "stream",
     "text": [
      "/Users/aleksei/.virtualenvs/math/lib/python3.7/site-packages/ipykernel_launcher.py:1: FutureWarning: Sorting because non-concatenation axis is not aligned. A future version\n",
      "of pandas will change to not sort by default.\n",
      "\n",
      "To accept the future behavior, pass 'sort=False'.\n",
      "\n",
      "To retain the current behavior and silence the warning, pass 'sort=True'.\n",
      "\n",
      "  \"\"\"Entry point for launching an IPython kernel.\n"
     ]
    }
   ],
   "source": [
    "df_calib = pd.concat([df_rtyt, df_neon]).fillna(0)\n",
    "df_calib['lambda, nm'] += df_calib['lambda, A']/10\n",
    "df_calib = df_calib[['angle', 'lambda, nm']]\n",
    "df_calib = df_calib[df_calib['angle'] != 0]"
   ]
  },
  {
   "cell_type": "code",
   "execution_count": 39,
   "metadata": {},
   "outputs": [
    {
     "data": {
      "text/html": [
       "<div>\n",
       "<style scoped>\n",
       "    .dataframe tbody tr th:only-of-type {\n",
       "        vertical-align: middle;\n",
       "    }\n",
       "\n",
       "    .dataframe tbody tr th {\n",
       "        vertical-align: top;\n",
       "    }\n",
       "\n",
       "    .dataframe thead th {\n",
       "        text-align: right;\n",
       "    }\n",
       "</style>\n",
       "<table border=\"1\" class=\"dataframe\">\n",
       "  <thead>\n",
       "    <tr style=\"text-align: right;\">\n",
       "      <th></th>\n",
       "      <th>angle</th>\n",
       "      <th>lambda, nm</th>\n",
       "    </tr>\n",
       "  </thead>\n",
       "  <tbody>\n",
       "    <tr>\n",
       "      <th>0</th>\n",
       "      <td>833.0</td>\n",
       "      <td>435.8</td>\n",
       "    </tr>\n",
       "    <tr>\n",
       "      <th>1</th>\n",
       "      <td>279.0</td>\n",
       "      <td>404.7</td>\n",
       "    </tr>\n",
       "    <tr>\n",
       "      <th>2</th>\n",
       "      <td>1498.0</td>\n",
       "      <td>491.6</td>\n",
       "    </tr>\n",
       "    <tr>\n",
       "      <th>3</th>\n",
       "      <td>1921.0</td>\n",
       "      <td>546.1</td>\n",
       "    </tr>\n",
       "    <tr>\n",
       "      <th>4</th>\n",
       "      <td>2101.0</td>\n",
       "      <td>577.0</td>\n",
       "    </tr>\n",
       "  </tbody>\n",
       "</table>\n",
       "</div>"
      ],
      "text/plain": [
       "    angle  lambda, nm\n",
       "0   833.0       435.8\n",
       "1   279.0       404.7\n",
       "2  1498.0       491.6\n",
       "3  1921.0       546.1\n",
       "4  2101.0       577.0"
      ]
     },
     "execution_count": 39,
     "metadata": {},
     "output_type": "execute_result"
    }
   ],
   "source": [
    "df_calib.head()"
   ]
  },
  {
   "cell_type": "code",
   "execution_count": 40,
   "metadata": {},
   "outputs": [
    {
     "data": {
      "image/png": "[encoded data removed]",
      "text/plain": [
       "<Figure size 432x288 with 1 Axes>"
      ]
     },
     "metadata": {
      "needs_background": "light"
     },
     "output_type": "display_data"
    }
   ],
   "source": [
    "x, y = df_calib['angle'], df_calib['lambda, nm']\n",
    "\n",
    "plt.scatter(x, y)\n",
    "\n",
    "x_range = np.linspace(min(x), max(x), 1000)\n",
    "calibrator_both = Calibrator(4)\n",
    "calibrator_both.fit(x, y)\n",
    "plt.plot(x_range, calibrator_both.predict(x_range), label=r'Approx.')\n",
    "\n",
    "plt.grid()"
   ]
  },
  {
   "cell_type": "markdown",
   "metadata": {},
   "source": [
    "Отлично! Теперь у нас есть калибровочный график. По нему можно сразу подсчитать длины волн серии Бальмера:"
   ]
  },
  {
   "cell_type": "code",
   "execution_count": 41,
   "metadata": {},
   "outputs": [
    {
     "name": "stdout",
     "output_type": "stream",
     "text": [
      "Для угла 2440 длина волны 656.76 нм\n",
      "Для угла 1446 длина волны 487.30 нм\n",
      "Для угла 804 длина волны 433.42 нм\n",
      "Для угла 397 длина волны 409.30 нм\n"
     ]
    }
   ],
   "source": [
    "exper_balmer_lambda = calibrator_both.predict(balmer_df['angle'])\n",
    "for i in zip(balmer_df['angle'], exper_balmer_lambda):\n",
    "    print(\"Для угла {0:.0f} длина волны {1:.2f} нм\".format(*i))"
   ]
  },
  {
   "cell_type": "markdown",
   "metadata": {},
   "source": [
    "Истинные значения длин волн для серии Бальмера можно взять из <a href=\"https://ru.wikipedia.org/wiki/Серия_Бальмера\" target=\"_blank\">Википедии</a>"
   ]
  },
  {
   "cell_type": "code",
   "execution_count": 42,
   "metadata": {},
   "outputs": [],
   "source": [
    "real_balmer_lambda = [656.3, 486.1, 434.1, 410.2]"
   ]
  },
  {
   "cell_type": "code",
   "execution_count": 43,
   "metadata": {},
   "outputs": [
    {
     "name": "stdout",
     "output_type": "stream",
     "text": [
      "Относительная погрешность для волны 656.765 составляет 0.071%\n",
      "Относительная погрешность для волны 487.297 составляет 0.246%\n",
      "Относительная погрешность для волны 433.416 составляет 0.158%\n",
      "Относительная погрешность для волны 409.297 составляет 0.221%\n"
     ]
    }
   ],
   "source": [
    "for i, l in enumerate(exper_balmer_lambda):\n",
    "    print('Относительная погрешность для волны {0:.3f} составляет {1:.3f}%'.\n",
    "          format(l, abs(l - real_balmer_lambda[i])/l*100))"
   ]
  },
  {
   "cell_type": "markdown",
   "metadata": {},
   "source": [
    "Мы получили хорошие результаты! На основании их можно проверить формулу в начале описания и найти постоянную Ридберга.\n",
    "\n",
    "Сделаем так: построим график $\\dfrac{1}{\\lambda} = R \\left(\\dfrac{1}{2^2} - \\dfrac{1}{n^2} \\right)$"
   ]
  },
  {
   "cell_type": "code",
   "execution_count": 44,
   "metadata": {},
   "outputs": [],
   "source": [
    "x, y = 1/np.array(range(3, 7))**2, 1/exper_balmer_lambda"
   ]
  },
  {
   "cell_type": "code",
   "execution_count": 45,
   "metadata": {},
   "outputs": [
    {
     "data": {
      "image/png": "[encoded data removed]",
      "text/plain": [
       "<Figure size 432x288 with 1 Axes>"
      ]
     },
     "metadata": {
      "needs_background": "light"
     },
     "output_type": "display_data"
    }
   ],
   "source": [
    "import matplotlib.ticker as mtick\n",
    "\n",
    "f = np.poly1d(np.polyfit(x, y, 1))\n",
    "x_range = np.linspace(min(x), max(x), 1000)\n",
    "\n",
    "fig, ax = plt.subplots()\n",
    "ax.scatter(x, y, label='raw data')\n",
    "ax.plot(x_range, f(x_range), label='Linregress')\n",
    "ax.set_ylim((0.001, 0.003))\n",
    "ax.yaxis.set_major_formatter(mtick.FormatStrFormatter('%.2e'))\n",
    "#plt.\n",
    "\n",
    "plt.grid()"
   ]
  },
  {
   "cell_type": "markdown",
   "metadata": {},
   "source": [
    "Из графика имеем постоянную Ридберга (в см$^{-1}$):"
   ]
  },
  {
   "cell_type": "code",
   "execution_count": 46,
   "metadata": {},
   "outputs": [],
   "source": [
    "R = -linregress(x, y)[0]*10**9 / 100"
   ]
  },
  {
   "cell_type": "code",
   "execution_count": 47,
   "metadata": {},
   "outputs": [
    {
     "data": {
      "text/plain": [
       "110464.39600699574"
      ]
     },
     "execution_count": 47,
     "metadata": {},
     "output_type": "execute_result"
    }
   ],
   "source": [
    "R"
   ]
  },
  {
   "cell_type": "code",
   "execution_count": 48,
   "metadata": {},
   "outputs": [],
   "source": [
    "real_R = 109737.3157"
   ]
  },
  {
   "cell_type": "markdown",
   "metadata": {},
   "source": [
    "Относительная погрешность:"
   ]
  },
  {
   "cell_type": "code",
   "execution_count": 49,
   "metadata": {},
   "outputs": [
    {
     "data": {
      "text/plain": [
       "0.6582033064750444"
      ]
     },
     "execution_count": 49,
     "metadata": {},
     "output_type": "execute_result"
    }
   ],
   "source": [
    "(R - real_R) / R * 100"
   ]
  },
  {
   "cell_type": "markdown",
   "metadata": {},
   "source": [
    "*Не через МНК*. Усредним по каждой из линий:"
   ]
  },
  {
   "cell_type": "code",
   "execution_count": 50,
   "metadata": {},
   "outputs": [],
   "source": [
    "def get_R(l, n):\n",
    "    return 1/l / (1/2**2 - 1/n**2)"
   ]
  },
  {
   "cell_type": "code",
   "execution_count": 58,
   "metadata": {},
   "outputs": [
    {
     "name": "stdout",
     "output_type": "stream",
     "text": [
      "  Для n = 3 имеем R = 109628.29\n",
      "  Для n = 4 имеем R = 109447.30\n",
      "  Для n = 5 имеем R = 109869.26\n",
      "  Для n = 6 имеем R = 109944.53\n"
     ]
    }
   ],
   "source": [
    "R_array = []\n",
    "for i, elem in enumerate(exper_balmer_lambda):\n",
    "    R_array.append(get_R(elem, i+3)*10**9/100)\n",
    "    print('  Для n = {0} имеем R = {1:.2f}'.format(i+3, R_array[-1]))"
   ]
  },
  {
   "cell_type": "code",
   "execution_count": 63,
   "metadata": {},
   "outputs": [
    {
     "name": "stdout",
     "output_type": "stream",
     "text": [
      "  Отклонение экспериментальных данных: 0.17967\n",
      "  Ошибка МНК составила: 0.25590\n"
     ]
    }
   ],
   "source": [
    "R_best = np.mean(R_array)\n",
    "print('  Отклонение экспериментальных данных: {0:.5f}'.format(np.std(R_array)/ R_best * 100))\n",
    "print('  Ошибка МНК составила: {0:.5f}'.format(calibrator_both.err / 2000 * 100))"
   ]
  },
  {
   "cell_type": "code",
   "execution_count": 53,
   "metadata": {},
   "outputs": [
    {
     "data": {
      "text/plain": [
       "109722.34795278775"
      ]
     },
     "execution_count": 53,
     "metadata": {},
     "output_type": "execute_result"
    }
   ],
   "source": [
    "R_best"
   ]
  },
  {
   "cell_type": "code",
   "execution_count": 79,
   "metadata": {},
   "outputs": [
    {
     "data": {
      "text/plain": [
       "-0.013641475498407218"
      ]
     },
     "execution_count": 79,
     "metadata": {},
     "output_type": "execute_result"
    }
   ],
   "source": [
    "(R_best - real_R) / R_best * 100"
   ]
  },
  {
   "cell_type": "markdown",
   "metadata": {},
   "source": [
    "Результаты лучше через усреднения"
   ]
  },
  {
   "cell_type": "markdown",
   "metadata": {},
   "source": [
    "## Изучения спектра йода"
   ]
  },
  {
   "cell_type": "markdown",
   "metadata": {},
   "source": [
    "### Теоретическая справка"
   ]
  },
  {
   "cell_type": "markdown",
   "metadata": {},
   "source": [
    "В первом приближении энергия молекулы может быть представлена в виде:\n",
    "$$\n",
    "E = E_\\text{эл} + E_\\text{колеб} + E_\\text{вращ}\n",
    "$$\n",
    "При небольших $n$ имеем уравнение на энергию колебаний:\n",
    "$$\n",
    "E_\\text{колеб} = \\hbar \\omega_0 \\left( n + \\dfrac{1}{2} \\right)\n",
    "$$\n",
    "Энергия вращательных возбуждений:\n",
    "$$\n",
    "E_\\text{вращ} = \\dfrac{\\hbar^2}{2 J} l (l+1),~ l = 0, 1, 2, \\ldots\n",
    "$$\n",
    "Отношения частот (и энергий) всех состовляющих энергий:\n",
    "$$\n",
    "\\omega_\\text{эл} : \\omega_\\text{колеб} : \\omega_\\text{вращ} \\approx 1 : \\sqrt{\\dfrac{m}{M}} : \\dfrac{m}{M} \\approx 1 : 10^{-3} : 10^{-6}\n",
    "$$"
   ]
  },
  {
   "cell_type": "markdown",
   "metadata": {},
   "source": [
    "Линии $h \\nu_{1, 0}$ - самой длинноволновой из наблюдаемых линий поглощения ($n_{1, 0}$) - имеем:"
   ]
  },
  {
   "cell_type": "code",
   "execution_count": 80,
   "metadata": {},
   "outputs": [
    {
     "data": {
      "text/html": [
       "<div>\n",
       "<style scoped>\n",
       "    .dataframe tbody tr th:only-of-type {\n",
       "        vertical-align: middle;\n",
       "    }\n",
       "\n",
       "    .dataframe tbody tr th {\n",
       "        vertical-align: top;\n",
       "    }\n",
       "\n",
       "    .dataframe thead th {\n",
       "        text-align: right;\n",
       "    }\n",
       "</style>\n",
       "<table border=\"1\" class=\"dataframe\">\n",
       "  <thead>\n",
       "    <tr style=\"text-align: right;\">\n",
       "      <th></th>\n",
       "      <th>angle</th>\n",
       "      <th>Name</th>\n",
       "    </tr>\n",
       "  </thead>\n",
       "  <tbody>\n",
       "    <tr>\n",
       "      <th>0</th>\n",
       "      <td>2304</td>\n",
       "      <td>1,0</td>\n",
       "    </tr>\n",
       "    <tr>\n",
       "      <th>1</th>\n",
       "      <td>2210</td>\n",
       "      <td>1,5</td>\n",
       "    </tr>\n",
       "    <tr>\n",
       "      <th>2</th>\n",
       "      <td>2210</td>\n",
       "      <td>grubo</td>\n",
       "    </tr>\n",
       "  </tbody>\n",
       "</table>\n",
       "</div>"
      ],
      "text/plain": [
       "   angle   Name\n",
       "0   2304    1,0\n",
       "1   2210    1,5\n",
       "2   2210  grubo"
      ]
     },
     "execution_count": 80,
     "metadata": {},
     "output_type": "execute_result"
    }
   ],
   "source": [
    "IOD_FILENAME = 'iod.csv'\n",
    "df_iod = pd.read_csv(IOD_FILENAME, delimiter=';')\n",
    "df_iod.head()"
   ]
  },
  {
   "cell_type": "code",
   "execution_count": 82,
   "metadata": {},
   "outputs": [],
   "source": [
    "iod_l = calibrator_both.predict(df_iod['angle'])"
   ]
  },
  {
   "cell_type": "code",
   "execution_count": 83,
   "metadata": {},
   "outputs": [
    {
     "data": {
      "text/plain": [
       "array([620.51914016, 598.84007394, 598.84007394])"
      ]
     },
     "execution_count": 83,
     "metadata": {},
     "output_type": "execute_result"
    }
   ],
   "source": [
    "iod_l"
   ]
  },
  {
   "cell_type": "markdown",
   "metadata": {},
   "source": [
    "Определим энергию колебательного кванта возбужденного состояния молекулы йода:\n",
    "$$\n",
    "h \\nu_2 = (h \\nu_{1, 5} - h \\nu_{1, 0}) / 5\n",
    "$$"
   ]
  },
  {
   "cell_type": "code",
   "execution_count": 86,
   "metadata": {},
   "outputs": [
    {
     "data": {
      "text/plain": [
       "2.3194328684273692e-20"
      ]
     },
     "execution_count": 86,
     "metadata": {},
     "output_type": "execute_result"
    }
   ],
   "source": [
    "h = 6.626070040*10**(-34)\n",
    "def lambda_to_nu(l):\n",
    "    return 3*10**9/(l*10**(-9))\n",
    "E_koleb = h*(lambda_to_nu(iod_l[1]) - lambda_to_nu(iod_l[0]))/5\n",
    "E_koleb"
   ]
  },
  {
   "cell_type": "code",
   "execution_count": 87,
   "metadata": {},
   "outputs": [],
   "source": [
    "def j_to_ev(joul):\n",
    "    return joul/(1.6*10**(-19))"
   ]
  },
  {
   "cell_type": "code",
   "execution_count": 89,
   "metadata": {},
   "outputs": [
    {
     "data": {
      "text/plain": [
       "0.14496455427671057"
      ]
     },
     "execution_count": 89,
     "metadata": {},
     "output_type": "execute_result"
    }
   ],
   "source": [
    "E_koleb_ev = j_to_ev(E_koleb)\n",
    "E_koleb_ev"
   ]
  },
  {
   "cell_type": "markdown",
   "metadata": {},
   "source": [
    "Видно, что энергия колебательного кванта мала."
   ]
  }
 ],
 "metadata": {
  "kernelspec": {
   "display_name": "Python 3",
   "language": "python",
   "name": "python3"
  },
  "language_info": {
   "codemirror_mode": {
    "name": "ipython",
    "version": 3
   },
   "file_extension": ".py",
   "mimetype": "text/x-python",
   "name": "python",
   "nbconvert_exporter": "python",
   "pygments_lexer": "ipython3",
   "version": "3.7.0"
  }
 },
 "nbformat": 4,
 "nbformat_minor": 2
}
