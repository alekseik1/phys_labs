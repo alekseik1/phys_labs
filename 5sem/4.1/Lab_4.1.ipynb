{
 "cells": [
  {
   "cell_type": "markdown",
   "metadata": {},
   "source": [
    "# Лабораторная работа № 4.1\n",
    "## \"Определение энергии $\\alpha$-частиц по величине их пробега в воздухе\""
   ]
  },
  {
   "cell_type": "markdown",
   "metadata": {},
   "source": [
    "Измеряется пробег $\\alpha$-частиц в воздухе двумя способами $-$ с помощью торцевого счетчика Гейгера и сцинтилляционного счетчика, $-$ и по полученным величинам определяется их энергия."
   ]
  },
  {
   "cell_type": "code",
   "execution_count": 213,
   "metadata": {
    "ExecuteTime": {
     "end_time": "2018-09-20T19:24:47.853000Z",
     "start_time": "2018-09-20T19:24:47.832949Z"
    }
   },
   "outputs": [],
   "source": [
    "WORKING_DIRECTORY = 'alekseik1-642'\n",
    "RA_FILE = 'radium.csv'\n",
    "U_FILE = 'uran.csv'\n",
    "PU_FILE = 'pu.csv'\n",
    "AM_TH_FILE = 'Am+Th.csv'\n",
    "# TODO: поменяйте на свой\n",
    "HEADER_NUMBER = 21"
   ]
  },
  {
   "cell_type": "code",
   "execution_count": 214,
   "metadata": {
    "ExecuteTime": {
     "end_time": "2018-09-20T19:24:48.200726Z",
     "start_time": "2018-09-20T19:24:48.185703Z"
    }
   },
   "outputs": [],
   "source": [
    "import pandas as pd\n",
    "import os\n",
    "import matplotlib.pyplot as plt\n",
    "import numpy as np\n",
    "import scipy as sc"
   ]
  },
  {
   "cell_type": "code",
   "execution_count": 215,
   "metadata": {
    "ExecuteTime": {
     "end_time": "2018-09-20T19:24:48.513660Z",
     "start_time": "2018-09-20T19:24:48.491289Z"
    }
   },
   "outputs": [],
   "source": [
    "def read_table_and_time(path):\n",
    "    df = pd.read_csv(\n",
    "        path, \n",
    "        delimiter=';')\n",
    "    # Найдем время\n",
    "    time = df[df['Unnamed: 0'] == 'LTime'].iloc[-1, 1]\n",
    "    # Возьмем нужные данные\n",
    "    ind = df[df['Unnamed: 0'] == 'Channel'].index[0]\n",
    "    df.columns = df.iloc[ind]\n",
    "    df = df.iloc[ind+1:]\n",
    "    # Обнулим индексы\n",
    "    df.reset_index(drop=True, inplace=True)\n",
    "    # Приведем к численному типу\n",
    "    df = df.apply(pd.to_numeric)\n",
    "    return df, float(time)"
   ]
  },
  {
   "cell_type": "markdown",
   "metadata": {},
   "source": [
    "### Градуировка по $_{\\phantom{2}88}^{226}Ra$"
   ]
  },
  {
   "cell_type": "code",
   "execution_count": 216,
   "metadata": {
    "ExecuteTime": {
     "end_time": "2018-09-20T19:24:49.831612Z",
     "start_time": "2018-09-20T19:24:49.739133Z"
    },
    "scrolled": true
   },
   "outputs": [
    {
     "data": {
      "text/html": [
       "<div>\n",
       "<style scoped>\n",
       "    .dataframe tbody tr th:only-of-type {\n",
       "        vertical-align: middle;\n",
       "    }\n",
       "\n",
       "    .dataframe tbody tr th {\n",
       "        vertical-align: top;\n",
       "    }\n",
       "\n",
       "    .dataframe thead th {\n",
       "        text-align: right;\n",
       "    }\n",
       "</style>\n",
       "<table border=\"1\" class=\"dataframe\">\n",
       "  <thead>\n",
       "    <tr style=\"text-align: right;\">\n",
       "      <th>20</th>\n",
       "      <th>Channel</th>\n",
       "      <th>Value</th>\n",
       "    </tr>\n",
       "  </thead>\n",
       "  <tbody>\n",
       "    <tr>\n",
       "      <th>0</th>\n",
       "      <td>0</td>\n",
       "      <td>0</td>\n",
       "    </tr>\n",
       "    <tr>\n",
       "      <th>1</th>\n",
       "      <td>1</td>\n",
       "      <td>0</td>\n",
       "    </tr>\n",
       "    <tr>\n",
       "      <th>2</th>\n",
       "      <td>2</td>\n",
       "      <td>0</td>\n",
       "    </tr>\n",
       "    <tr>\n",
       "      <th>3</th>\n",
       "      <td>3</td>\n",
       "      <td>0</td>\n",
       "    </tr>\n",
       "    <tr>\n",
       "      <th>4</th>\n",
       "      <td>4</td>\n",
       "      <td>0</td>\n",
       "    </tr>\n",
       "  </tbody>\n",
       "</table>\n",
       "</div>"
      ],
      "text/plain": [
       "20  Channel  Value\n",
       "0         0      0\n",
       "1         1      0\n",
       "2         2      0\n",
       "3         3      0\n",
       "4         4      0"
      ]
     },
     "execution_count": 216,
     "metadata": {},
     "output_type": "execute_result"
    }
   ],
   "source": [
    "ra_df, ra_time = read_table_and_time(os.path.join(WORKING_DIRECTORY, \n",
    "                                                  RA_FILE))\n",
    "ra_df.head()"
   ]
  },
  {
   "cell_type": "markdown",
   "metadata": {},
   "source": [
    "Построим ориентировочный график зависимости $N(E) = a\\,E$"
   ]
  },
  {
   "cell_type": "code",
   "execution_count": 217,
   "metadata": {
    "ExecuteTime": {
     "end_time": "2018-09-20T19:24:51.688855Z",
     "start_time": "2018-09-20T19:24:51.673510Z"
    }
   },
   "outputs": [],
   "source": [
    "x_data = ra_df['Channel']\n",
    "y_data = ra_df['Value']\n",
    "#plt.plot(x_values, y_values)\n",
    "#plt.show()"
   ]
  },
  {
   "cell_type": "code",
   "execution_count": 340,
   "metadata": {
    "ExecuteTime": {
     "end_time": "2018-09-20T20:09:38.216377Z",
     "start_time": "2018-09-20T20:09:38.190864Z"
    }
   },
   "outputs": [],
   "source": [
    "def plot_data_optimized(x_values, y_values, fig=None, axes=None,\n",
    "                        title=r'Graph', x_label=r'X', y_label=r'Y', \n",
    "                        save_to=False, threshold=0.01):\n",
    "    '''\n",
    "    Умное построение:\n",
    "    1) Убираются данные, похожие на шум (те, чье значение < 1% от максимального)\n",
    "    '''\n",
    "    if fig is None or axes is None:\n",
    "        fig, axes = plt.subplots(figsize=(16, 9))\n",
    "    \n",
    "    max_y, min_y = np.max(y_values), np.min(y_values)\n",
    "    threshold *= (max_y-min_y)\n",
    "    x_values, y_values = (x_values[y_values >= threshold], \n",
    "                          y_values[y_values >= threshold])\n",
    "    \n",
    "    axes.plot(x_values, y_values)\n",
    "    axes.grid(True)\n",
    "    axes.set_xlabel(x_label)\n",
    "    axes.set_ylabel(y_label)\n",
    "    axes.set_title(title)\n",
    "    \n",
    "    # Сохраним\n",
    "    if save_to:\n",
    "        fig.savefig(save_to)\n",
    "    return fig, axes"
   ]
  },
  {
   "cell_type": "code",
   "execution_count": 341,
   "metadata": {
    "ExecuteTime": {
     "end_time": "2018-09-20T20:09:39.591338Z",
     "start_time": "2018-09-20T20:09:38.555209Z"
    }
   },
   "outputs": [
    {
     "name": "stderr",
     "output_type": "stream",
     "text": [
      "/usr/local/lib/python3.5/dist-packages/matplotlib/figure.py:457: UserWarning: matplotlib is currently using a non-GUI backend, so cannot show the figure\n",
      "  \"matplotlib is currently using a non-GUI backend, \"\n"
     ]
    },
    {
     "data": {
      "image/png": "[encoded data removed]",
      "text/plain": [
       "<Figure size 1152x648 with 1 Axes>"
      ]
     },
     "metadata": {
      "needs_background": "light"
     },
     "output_type": "display_data"
    }
   ],
   "source": [
    "plot_data_optimized(x_values=x_data, y_values=y_data, threshold=0,\n",
    "                    title=r'Эксперимент с $^{226}_{\\,\\,88}Ra$', \n",
    "                    x_label=r'Номер канала', y_label=r'Число частиц $N$',\n",
    "                    save_to='out1.pdf')[0].show()"
   ]
  },
  {
   "cell_type": "markdown",
   "metadata": {},
   "source": [
    "Попытаемся аппросимировать пики гауссианой"
   ]
  },
  {
   "cell_type": "code",
   "execution_count": 384,
   "metadata": {
    "ExecuteTime": {
     "end_time": "2018-09-20T20:24:32.665237Z",
     "start_time": "2018-09-20T20:24:32.642848Z"
    }
   },
   "outputs": [],
   "source": [
    "# Сначала нам надо определять пределы аппроксимирования\n",
    "def find_gaus_interval(x_data, y_data):\n",
    "    # Будем полагать, что пик начинается там, где данные выше матожидания\n",
    "    mean = y_data.mean()\n",
    "    x_peaks, y_peaks = x_data[y_data > mean], y_data[y_data > mean]\n",
    "    # Теперь из этот массив надо разделить на отдельные пики\n",
    "    # Как это сделать -- отдельный вопрос анализа данных.\n",
    "    # Я считаю, что можно определить начало и конец пика \n",
    "    # по изменению направления мототонности данных\n",
    "    def is_growing(data):\n",
    "        return np.append(np.diff(data) > 0, [True])\n",
    "    def is_descending(data):\n",
    "        return np.append(np.diff(data) < 0, True)\n",
    "    return x_peaks[is_growing(y_peaks)], y_peaks[is_growing(y_peaks)]"
   ]
  },
  {
   "cell_type": "code",
   "execution_count": 443,
   "metadata": {
    "ExecuteTime": {
     "end_time": "2018-09-20T20:34:40.915462Z",
     "start_time": "2018-09-20T20:34:40.893606Z"
    }
   },
   "outputs": [],
   "source": [
    "from scipy.optimize import curve_fit\n",
    "def fit_with_gauss(x_data, y_data, y_error=None, initial_guess=[1, 1, 1]):\n",
    "    #def find_optimal_function(data, functions, y_data='N', x_data='LL', y_error=None):\n",
    "    if y_error is None:\n",
    "        #y_error = y_data + '_error'\n",
    "        y_error = np.zeros(len(y_data))\n",
    "    #  Подготим все к подгону! 1) Вычтем минимальное значение;\n",
    "    # 2) поделим X на максимальный из X;\n",
    "    y_data = y_data.copy()\n",
    "    x_data = x_data.copy()\n",
    "    min_y = np.min(y_data)\n",
    "    y_data -= min_y\n",
    "    max_x = np.max(x_data)\n",
    "    x_data /= max_x\n",
    "    func = lambda x, a, mu, sigma: a*np.exp(-(x-mu)**2/(2*sigma**2))\n",
    "    popt, pcov = curve_fit(func, x_data, y_data, maxfev=100000, p0=initial_guess)\n",
    "    # Преобразуем оптимальные параметры обратно\n",
    "    popt[1] *= max_x\n",
    "    popt[2] *= max_x\n",
    "    return lambda x: (func(x , *popt) + min_y), popt"
   ]
  },
  {
   "cell_type": "code",
   "execution_count": 535,
   "metadata": {
    "ExecuteTime": {
     "end_time": "2018-09-20T20:50:52.176007Z",
     "start_time": "2018-09-20T20:50:52.157471Z"
    }
   },
   "outputs": [],
   "source": [
    "# TODO: замените на свои\n",
    "# Я очень хорошо угадал свои интервалы!\n",
    "peaks = [\n",
    "    # Мелкий пик\n",
    "    (2200, 2290),\n",
    "    # Большой пик\n",
    "    (2280, 2400),\n",
    "    # Мелкий пик\n",
    "    (2550, 2630),\n",
    "    # Большой пик\n",
    "    (2500, 2730),\n",
    "    # Большой пик\n",
    "    (2850, 2990),\n",
    "    # Большой пик\n",
    "    (3640, 3810)\n",
    "]"
   ]
  },
  {
   "cell_type": "code",
   "execution_count": 536,
   "metadata": {
    "ExecuteTime": {
     "end_time": "2018-09-20T20:50:52.656818Z",
     "start_time": "2018-09-20T20:50:52.621968Z"
    }
   },
   "outputs": [],
   "source": [
    "indices = [(x_data > peak[0]) & (x_data < peak[1]) for peak in peaks]"
   ]
  },
  {
   "cell_type": "code",
   "execution_count": 537,
   "metadata": {
    "ExecuteTime": {
     "end_time": "2018-09-20T20:50:55.972535Z",
     "start_time": "2018-09-20T20:50:53.088082Z"
    }
   },
   "outputs": [],
   "source": [
    "f, params = [], []\n",
    "for ind in indices:\n",
    "    f1, params1 = fit_with_gauss(x_data[ind], y_data[ind], \n",
    "                                 initial_guess=[y_data[ind].max(), 0.5, 1])\n",
    "    f.append(f1)\n",
    "    params.append(params1)"
   ]
  },
  {
   "cell_type": "code",
   "execution_count": 538,
   "metadata": {
    "ExecuteTime": {
     "end_time": "2018-09-20T20:50:57.072109Z",
     "start_time": "2018-09-20T20:50:56.101107Z"
    }
   },
   "outputs": [
    {
     "name": "stderr",
     "output_type": "stream",
     "text": [
      "/usr/local/lib/python3.5/dist-packages/matplotlib/figure.py:457: UserWarning: matplotlib is currently using a non-GUI backend, so cannot show the figure\n",
      "  \"matplotlib is currently using a non-GUI backend, \"\n"
     ]
    },
    {
     "data": {
      "image/png": "[encoded data removed]",
      "text/plain": [
       "<Figure size 1152x648 with 1 Axes>"
      ]
     },
     "metadata": {
      "needs_background": "light"
     },
     "output_type": "display_data"
    }
   ],
   "source": [
    "fig, axes = plot_data_optimized(x_data, y_data)\n",
    "for i in range(len(indices)):\n",
    "    fig, axes = plot_data_optimized(x_data[indices[i]], \n",
    "                                    f[i](x_data[indices[i]]), \n",
    "                                    fig=fig, axes=axes)\n",
    "fig.savefig('out1.pdf')\n",
    "fig.show()"
   ]
  },
  {
   "cell_type": "markdown",
   "metadata": {},
   "source": [
    "Имеем хорошие пики! Теперь пора на них садиться..."
   ]
  }
 ],
 "metadata": {
  "kernelspec": {
   "display_name": "Python 3",
   "language": "python",
   "name": "python3"
  },
  "language_info": {
   "codemirror_mode": {
    "name": "ipython",
    "version": 3
   },
   "file_extension": ".py",
   "mimetype": "text/x-python",
   "name": "python",
   "nbconvert_exporter": "python",
   "pygments_lexer": "ipython3",
   "version": "3.5.2"
  },
  "latex_envs": {
   "LaTeX_envs_menu_present": true,
   "autoclose": false,
   "autocomplete": true,
   "bibliofile": "biblio.bib",
   "cite_by": "apalike",
   "current_citInitial": 1,
   "eqLabelWithNumbers": true,
   "eqNumInitial": 1,
   "hotkeys": {
    "equation": "Ctrl-E",
    "itemize": "Ctrl-I"
   },
   "labels_anchors": false,
   "latex_user_defs": false,
   "report_style_numbering": true,
   "user_envs_cfg": false
  },
  "varInspector": {
   "cols": {
    "lenName": 16,
    "lenType": 16,
    "lenVar": 40
   },
   "kernels_config": {
    "python": {
     "delete_cmd_postfix": "",
     "delete_cmd_prefix": "del ",
     "library": "var_list.py",
     "varRefreshCmd": "print(var_dic_list())"
    },
    "r": {
     "delete_cmd_postfix": ") ",
     "delete_cmd_prefix": "rm(",
     "library": "var_list.r",
     "varRefreshCmd": "cat(var_dic_list()) "
    }
   },
   "types_to_exclude": [
    "module",
    "function",
    "builtin_function_or_method",
    "instance",
    "_Feature"
   ],
   "window_display": false
  }
 },
 "nbformat": 4,
 "nbformat_minor": 2
}
