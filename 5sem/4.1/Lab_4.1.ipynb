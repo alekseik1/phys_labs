{
 "cells": [
  {
   "cell_type": "markdown",
   "metadata": {},
   "source": [
    "# Лабораторная работа № 4.1\n",
    "## \"Определение энергии $\\alpha$-частиц по величине их пробега в воздухе\""
   ]
  },
  {
   "cell_type": "markdown",
   "metadata": {},
   "source": [
    "Измеряется пробег $\\alpha$-частиц в воздухе двумя способами $-$ с помощью торцевого счетчика Гейгера и сцинтилляционного счетчика, $-$ и по полученным величинам определяется их энергия."
   ]
  },
  {
   "cell_type": "code",
   "execution_count": null,
   "metadata": {
    "ExecuteTime": {
     "start_time": "2018-09-19T19:52:17.460Z"
    }
   },
   "outputs": [],
   "source": [
    "WORKING_DIRECTORY = 'alekseik1-642'\n",
    "RA_FILE = 'radium.csv'\n",
    "U_FILE = 'uran.csv'\n",
    "PU_FILE = 'pu.csv'\n",
    "AM_TH_FILE = 'Am+Th.csv'\n",
    "# TODO: поменяйте на свой\n",
    "HEADER_NUMBER = 21"
   ]
  },
  {
   "cell_type": "code",
   "execution_count": null,
   "metadata": {
    "ExecuteTime": {
     "start_time": "2018-09-19T19:52:17.702Z"
    }
   },
   "outputs": [],
   "source": [
    "import pandas as pd\n",
    "import os\n",
    "import matplotlib.pyplot as plt\n",
    "import numpy as np\n",
    "import scipy as sc"
   ]
  },
  {
   "cell_type": "code",
   "execution_count": null,
   "metadata": {
    "ExecuteTime": {
     "start_time": "2018-09-19T19:52:18.056Z"
    }
   },
   "outputs": [],
   "source": [
    "def read_table_and_time(path):\n",
    "    df = pd.read_csv(\n",
    "        path, \n",
    "        delimiter=';')\n",
    "    # Найдем время\n",
    "    time = df[df['Unnamed: 0'] == 'LTime'].iloc[-1, 1]\n",
    "    # Возьмем нужные данные\n",
    "    ind = df[df['Unnamed: 0'] == 'Channel'].index[0]\n",
    "    df.columns = df.iloc[ind]\n",
    "    df = df.iloc[ind+1:]\n",
    "    df.reset_index(drop=True, inplace=True)\n",
    "    return df, float(time)"
   ]
  },
  {
   "cell_type": "markdown",
   "metadata": {},
   "source": [
    "### Градуировка по $_{\\phantom{2}88}^{226}Ra$"
   ]
  },
  {
   "cell_type": "code",
   "execution_count": null,
   "metadata": {
    "ExecuteTime": {
     "start_time": "2018-09-19T19:52:19.053Z"
    },
    "scrolled": true
   },
   "outputs": [],
   "source": [
    "ra_df, ra_time = read_table_and_time(os.path.join(WORKING_DIRECTORY, \n",
    "                                                  RA_FILE))\n",
    "ra_df.head()"
   ]
  },
  {
   "cell_type": "markdown",
   "metadata": {},
   "source": [
    "Построим ориентировочный график зависимости $N(E) = a\\,E$"
   ]
  },
  {
   "cell_type": "code",
   "execution_count": null,
   "metadata": {
    "ExecuteTime": {
     "start_time": "2018-09-19T19:52:28.684Z"
    }
   },
   "outputs": [],
   "source": [
    "x_values = ra_df['Channel']\n",
    "y_values = ra_df['Value']\n",
    "plt.plot(x_values, y_values)\n",
    "plt.show()"
   ]
  },
  {
   "cell_type": "code",
   "execution_count": null,
   "metadata": {},
   "outputs": [],
   "source": []
  }
 ],
 "metadata": {
  "kernelspec": {
   "display_name": "Python 3",
   "language": "python",
   "name": "python3"
  },
  "language_info": {
   "codemirror_mode": {
    "name": "ipython",
    "version": 3
   },
   "file_extension": ".py",
   "mimetype": "text/x-python",
   "name": "python",
   "nbconvert_exporter": "python",
   "pygments_lexer": "ipython3",
   "version": "3.7.0"
  },
  "latex_envs": {
   "LaTeX_envs_menu_present": true,
   "autoclose": false,
   "autocomplete": true,
   "bibliofile": "biblio.bib",
   "cite_by": "apalike",
   "current_citInitial": 1,
   "eqLabelWithNumbers": true,
   "eqNumInitial": 1,
   "hotkeys": {
    "equation": "Ctrl-E",
    "itemize": "Ctrl-I"
   },
   "labels_anchors": false,
   "latex_user_defs": false,
   "report_style_numbering": true,
   "user_envs_cfg": false
  }
 },
 "nbformat": 4,
 "nbformat_minor": 2
}
