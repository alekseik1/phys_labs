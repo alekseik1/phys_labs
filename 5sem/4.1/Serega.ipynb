{
 "cells": [
  {
   "cell_type": "markdown",
   "metadata": {
    "kernel": "SoS"
   },
   "source": [
    "# Лабораторная работа № 5.2A\n",
    "## \"Спектроскопия $\\alpha$-излучения с помощью полупроводникового детектора\""
   ]
  },
  {
   "cell_type": "markdown",
   "metadata": {
    "kernel": "SoS"
   },
   "source": [
    "Измеряются спектры $\\alpha$-частиц с помощью полупроводникового детектора и различных радиоактивных образцов (Ra,Am+Th,U и Pu). Также исследуется тонкая структура $\\alpha$-излучения и последовательность радиактивных распадов в семействе урана."
   ]
  },
  {
   "cell_type": "code",
   "execution_count": 1,
   "metadata": {
    "ExecuteTime": {
     "end_time": "2018-09-25T20:07:50.817679Z",
     "start_time": "2018-09-25T20:07:50.804857Z"
    },
    "kernel": "SoS"
   },
   "outputs": [],
   "source": [
    "WORKING_DIRECTORY = 'serega'\n",
    "RA_FILE = 'Ra.csv'\n",
    "U_FILE = 'uran.csv'\n",
    "PU_FILE = 'pu.csv'\n",
    "AM_TH_FILE = 'Am+Th.csv'\n",
    "# TODO: поменяйте на свой\n",
    "HEADER_NUMBER = 21"
   ]
  },
  {
   "cell_type": "code",
   "execution_count": 2,
   "metadata": {
    "ExecuteTime": {
     "end_time": "2018-09-25T20:08:03.562569Z",
     "start_time": "2018-09-25T20:07:50.893829Z"
    },
    "kernel": "SoS"
   },
   "outputs": [],
   "source": [
    "import pandas as pd\n",
    "import os\n",
    "import matplotlib.pyplot as plt\n",
    "import numpy as np\n",
    "import scipy as sc"
   ]
  },
  {
   "cell_type": "code",
   "execution_count": 3,
   "metadata": {
    "ExecuteTime": {
     "end_time": "2018-09-25T20:08:03.594340Z",
     "start_time": "2018-09-25T20:08:03.579530Z"
    },
    "kernel": "SoS"
   },
   "outputs": [],
   "source": [
    "def read_table_and_time(path):\n",
    "    df = pd.read_csv(\n",
    "        path, \n",
    "        delimiter=';')\n",
    "    # Найдем время\n",
    "    MAGIC_WORD = 'Unnamed: 0'\n",
    "    #time = df[df[MAGIC_WORD] == 'LTime'].iloc[-1, 1]\n",
    "    time = 0\n",
    "    # Возьмем нужные данные\n",
    "    ind = df[df[MAGIC_WORD] == 'Channel'].index[0]\n",
    "    df.columns = df.iloc[ind]\n",
    "    df = df.iloc[ind+1:]\n",
    "    # Обнулим индексы\n",
    "    df.reset_index(drop=True, inplace=True)\n",
    "    # Приведем к численному типу\n",
    "    df = df.apply(pd.to_numeric)\n",
    "    return df, float(time)"
   ]
  },
  {
   "cell_type": "code",
   "execution_count": 4,
   "metadata": {
    "ExecuteTime": {
     "end_time": "2018-09-25T20:08:03.630576Z",
     "start_time": "2018-09-25T20:08:03.610001Z"
    },
    "kernel": "SoS"
   },
   "outputs": [],
   "source": [
    "def plot_data_optimized(x_values, y_values, fig=None, axes=None,\n",
    "                        title=r'Graph', x_label=r'X', y_label=r'Y', \n",
    "                        save_to=False, threshold=0.0):\n",
    "    '''\n",
    "    Умное построение:\n",
    "    1) Убираются данные, похожие на шум (те, чье значение < 1% от максимального)\n",
    "    '''\n",
    "    if fig is None or axes is None:\n",
    "        fig, axes = plt.subplots(figsize=(16, 9))\n",
    "    \n",
    "    max_y, min_y = np.max(y_values), np.min(y_values)\n",
    "    threshold *= (max_y-min_y)\n",
    "    # Перед тем, как менять данные, сделаем их копию\n",
    "    x_values, y_values = x_values.copy(), y_values.copy()\n",
    "    x_values, y_values = (x_values[y_values >= threshold], \n",
    "                          y_values[y_values >= threshold])\n",
    "    \n",
    "    axes.plot(x_values, y_values)\n",
    "    axes.grid(True)\n",
    "    axes.set_xlabel(x_label)\n",
    "    axes.set_ylabel(y_label)\n",
    "    axes.set_title(title)\n",
    "    \n",
    "    # Сохраним\n",
    "    if save_to:\n",
    "        fig.savefig(save_to)\n",
    "    return fig, axes"
   ]
  },
  {
   "cell_type": "code",
   "execution_count": 5,
   "metadata": {
    "ExecuteTime": {
     "end_time": "2018-09-25T20:08:03.932053Z",
     "start_time": "2018-09-25T20:08:03.641825Z"
    },
    "kernel": "SoS"
   },
   "outputs": [],
   "source": [
    "from scipy.optimize import curve_fit\n",
    "def fit_with_gauss(x_data, y_data, y_error=None, initial_guess=[1, 1, 1]):\n",
    "    #def find_optimal_function(data, functions, y_data='N', x_data='LL', y_error=None):\n",
    "    if y_error is None:\n",
    "        #y_error = y_data + '_error'\n",
    "        y_error = np.zeros(len(y_data))\n",
    "    #  Подготим все к подгону! 1) Вычтем минимальное значение;\n",
    "    # 2) поделим X на максимальный из X;\n",
    "    y_data = y_data.copy()\n",
    "    x_data = x_data.copy()\n",
    "    min_y = np.min(y_data)\n",
    "    y_data -= min_y\n",
    "    max_x = np.max(x_data)\n",
    "    x_data /= max_x\n",
    "    func = lambda x, a, mu, sigma: a*np.exp(-(x-mu)**2/(2*sigma**2))\n",
    "    popt, pcov = curve_fit(func, x_data, y_data, maxfev=100000, p0=initial_guess)\n",
    "    # Преобразуем оптимальные параметры обратно\n",
    "    popt[1] *= max_x\n",
    "    popt[2] *= max_x\n",
    "    return lambda x: (func(x , *popt) + min_y), popt"
   ]
  },
  {
   "cell_type": "code",
   "execution_count": 6,
   "metadata": {
    "ExecuteTime": {
     "end_time": "2018-09-25T20:08:03.954165Z",
     "start_time": "2018-09-25T20:08:03.944359Z"
    },
    "kernel": "SoS"
   },
   "outputs": [],
   "source": [
    "def get_gauss_halfwidth(sigma):\n",
    "    return abs(2*np.sqrt(2*np.log(2))*sigma)"
   ]
  },
  {
   "cell_type": "markdown",
   "metadata": {
    "kernel": "SoS"
   },
   "source": [
    "### Градуировка по $_{\\,\\,88}^{226}Ra$"
   ]
  },
  {
   "cell_type": "code",
   "execution_count": 7,
   "metadata": {
    "ExecuteTime": {
     "end_time": "2018-09-25T20:08:04.000931Z",
     "start_time": "2018-09-25T20:08:03.965866Z"
    },
    "kernel": "SoS"
   },
   "outputs": [],
   "source": [
    "# Перед началом работы создадим таблицу, которую просят сделать в доп. описании\n",
    "res_table_cols = [r'Источник', r'N_i', r'Delta N_i', r'E_i', r'Delta E_i', r'R_i']\n",
    "result_table = pd.DataFrame(columns=res_table_cols)"
   ]
  },
  {
   "cell_type": "code",
   "execution_count": 8,
   "metadata": {
    "ExecuteTime": {
     "end_time": "2018-09-25T20:08:04.108353Z",
     "start_time": "2018-09-25T20:08:04.013207Z"
    },
    "kernel": "SoS",
    "scrolled": true
   },
   "outputs": [
    {
     "data": {
      "text/html": [
       "<div>\n",
       "<style scoped>\n",
       "    .dataframe tbody tr th:only-of-type {\n",
       "        vertical-align: middle;\n",
       "    }\n",
       "\n",
       "    .dataframe tbody tr th {\n",
       "        vertical-align: top;\n",
       "    }\n",
       "\n",
       "    .dataframe thead th {\n",
       "        text-align: right;\n",
       "    }\n",
       "</style>\n",
       "<table border=\"1\" class=\"dataframe\">\n",
       "  <thead>\n",
       "    <tr style=\"text-align: right;\">\n",
       "      <th>20</th>\n",
       "      <th>Channel</th>\n",
       "      <th>Value</th>\n",
       "    </tr>\n",
       "  </thead>\n",
       "  <tbody>\n",
       "    <tr>\n",
       "      <th>0</th>\n",
       "      <td>0</td>\n",
       "      <td>0</td>\n",
       "    </tr>\n",
       "    <tr>\n",
       "      <th>1</th>\n",
       "      <td>1</td>\n",
       "      <td>0</td>\n",
       "    </tr>\n",
       "    <tr>\n",
       "      <th>2</th>\n",
       "      <td>2</td>\n",
       "      <td>0</td>\n",
       "    </tr>\n",
       "    <tr>\n",
       "      <th>3</th>\n",
       "      <td>3</td>\n",
       "      <td>0</td>\n",
       "    </tr>\n",
       "    <tr>\n",
       "      <th>4</th>\n",
       "      <td>4</td>\n",
       "      <td>0</td>\n",
       "    </tr>\n",
       "  </tbody>\n",
       "</table>\n",
       "</div>"
      ],
      "text/plain": [
       "20  Channel  Value\n",
       "0         0      0\n",
       "1         1      0\n",
       "2         2      0\n",
       "3         3      0\n",
       "4         4      0"
      ]
     },
     "execution_count": 8,
     "metadata": {},
     "output_type": "execute_result"
    }
   ],
   "source": [
    "ra_df, ra_time = read_table_and_time(os.path.join(WORKING_DIRECTORY, \n",
    "                                                  RA_FILE))\n",
    "ra_df = ra_df.loc[:,'Channel':'Value']\n",
    "ra_df.head()"
   ]
  },
  {
   "cell_type": "markdown",
   "metadata": {
    "kernel": "SoS"
   },
   "source": [
    "Построим ориентировочный график зависимости $N(E) = a\\,E$"
   ]
  },
  {
   "cell_type": "code",
   "execution_count": 9,
   "metadata": {
    "ExecuteTime": {
     "end_time": "2018-09-25T20:08:04.134433Z",
     "start_time": "2018-09-25T20:08:04.123750Z"
    },
    "kernel": "SoS"
   },
   "outputs": [],
   "source": [
    "x_data = ra_df['Channel']\n",
    "y_data = ra_df['Value']"
   ]
  },
  {
   "cell_type": "code",
   "execution_count": 10,
   "metadata": {
    "ExecuteTime": {
     "end_time": "2018-09-25T20:08:05.745333Z",
     "start_time": "2018-09-25T20:08:04.151338Z"
    },
    "kernel": "SoS"
   },
   "outputs": [
    {
     "name": "stderr",
     "output_type": "stream",
     "text": [
      "/usr/local/lib/python3.5/dist-packages/matplotlib/figure.py:457: UserWarning: matplotlib is currently using a non-GUI backend, so cannot show the figure\n",
      "  \"matplotlib is currently using a non-GUI backend, \"\n"
     ]
    },
    {
     "data": {
      "image/png": "[encoded data removed]",
      "text/plain": [
       "<Figure size 1152x648 with 1 Axes>"
      ]
     },
     "metadata": {
      "needs_background": "light"
     },
     "output_type": "display_data"
    }
   ],
   "source": [
    "plot_data_optimized(x_values=x_data, y_values=y_data,\n",
    "                    title=r'Эксперимент с $^{226}_{\\,\\,88}Ra$', \n",
    "                    x_label=r'Номер канала', y_label=r'Число частиц $N$',\n",
    "                    save_to='out1.pdf')[0].show()"
   ]
  },
  {
   "cell_type": "markdown",
   "metadata": {
    "kernel": "SoS"
   },
   "source": [
    "Попытаемся аппросимировать пики гауссианой"
   ]
  },
  {
   "cell_type": "code",
   "execution_count": 11,
   "metadata": {
    "ExecuteTime": {
     "end_time": "2018-09-25T20:08:05.776124Z",
     "start_time": "2018-09-25T20:08:05.757941Z"
    },
    "kernel": "SoS"
   },
   "outputs": [],
   "source": [
    "# TODO: замените на свои\n",
    "# Я очень хорошо угадал свои интервалы!\n",
    "peaks = [\n",
    "    # Мелкий пик\n",
    "    #(2150, 2290),\n",
    "    # Большой пик\n",
    "    (1920, 2055),\n",
    "    # Мелкий пик\n",
    "    (2220, 2340),\n",
    "    # Большой пик\n",
    "    (2410, 2540),\n",
    "    # Большой пик\n",
    "    (3100, 3210),\n",
    "    # Большой пик\n",
    "    #(3640, 3810)\n",
    "]"
   ]
  },
  {
   "cell_type": "code",
   "execution_count": 12,
   "metadata": {
    "ExecuteTime": {
     "end_time": "2018-09-25T20:08:05.814282Z",
     "start_time": "2018-09-25T20:08:05.789520Z"
    },
    "kernel": "SoS"
   },
   "outputs": [],
   "source": [
    "indices = [(x_data > peak[0]) & (x_data < peak[1]) for peak in peaks]"
   ]
  },
  {
   "cell_type": "code",
   "execution_count": 13,
   "metadata": {
    "ExecuteTime": {
     "end_time": "2018-09-25T20:08:07.469088Z",
     "start_time": "2018-09-25T20:08:05.826413Z"
    },
    "kernel": "SoS"
   },
   "outputs": [],
   "source": [
    "f, params = [], []\n",
    "for ind in indices:\n",
    "    f1, params1 = fit_with_gauss(x_data[ind], y_data[ind], \n",
    "                                 initial_guess=[y_data[ind].max(), 0.5, 1])\n",
    "    f.append(f1)\n",
    "    params.append(params1)"
   ]
  },
  {
   "cell_type": "code",
   "execution_count": 14,
   "metadata": {
    "ExecuteTime": {
     "end_time": "2018-09-25T20:08:09.195203Z",
     "start_time": "2018-09-25T20:08:07.481208Z"
    },
    "kernel": "SoS"
   },
   "outputs": [
    {
     "name": "stderr",
     "output_type": "stream",
     "text": [
      "/usr/local/lib/python3.5/dist-packages/matplotlib/figure.py:457: UserWarning: matplotlib is currently using a non-GUI backend, so cannot show the figure\n",
      "  \"matplotlib is currently using a non-GUI backend, \"\n"
     ]
    },
    {
     "data": {
      "image/png": "[encoded data removed]",
      "text/plain": [
       "<Figure size 1152x648 with 1 Axes>"
      ]
     },
     "metadata": {
      "needs_background": "light"
     },
     "output_type": "display_data"
    }
   ],
   "source": [
    "fig, axes = plot_data_optimized(x_data, y_data)\n",
    "for i in range(len(indices)):\n",
    "    fig, axes = plot_data_optimized(x_data[indices[i]], \n",
    "                                    f[i](x_data[indices[i]]), \n",
    "                                    fig=fig, axes=axes,\n",
    "                                    title=r'Эксперимент с $^{226}_{\\,\\,88}Ra$', \n",
    "                                    x_label=r'Номер канала', y_label=r'Число частиц $N$',\n",
    "                                    save_to='out1.pdf')\n",
    "    # Заполним таблицу из лабника\n",
    "    \n",
    "    result_table = pd.concat(\n",
    "        [result_table, pd.DataFrame([['Ra', \n",
    "                                      params[i][1], \n",
    "                                      get_gauss_halfwidth(params[i][2]), \n",
    "                                      # Пока мы их не знаем\n",
    "                                      0, 0, 0]], columns=res_table_cols)])\n",
    "fig.show()"
   ]
  },
  {
   "cell_type": "markdown",
   "metadata": {
    "ExecuteTime": {
     "end_time": "2018-09-23T22:56:44.543008Z",
     "start_time": "2018-09-23T22:56:44.486803Z"
    },
    "kernel": "SoS"
   },
   "source": [
    "## result_table"
   ]
  },
  {
   "cell_type": "markdown",
   "metadata": {
    "kernel": "SoS"
   },
   "source": [
    "Имеем хорошие пики! Теперь пора на них садиться..."
   ]
  },
  {
   "cell_type": "code",
   "execution_count": 15,
   "metadata": {
    "ExecuteTime": {
     "end_time": "2018-09-25T20:08:09.219530Z",
     "start_time": "2018-09-25T20:08:09.206129Z"
    },
    "kernel": "SoS"
   },
   "outputs": [],
   "source": [
    "# Вытащим матожидания\n",
    "mu = [param[1] for param in params]"
   ]
  },
  {
   "cell_type": "markdown",
   "metadata": {
    "ExecuteTime": {
     "end_time": "2018-09-20T21:04:24.638607Z",
     "start_time": "2018-09-20T21:04:24.622356Z"
    },
    "kernel": "SoS",
    "variables": {
     "E = []; E.append(4.784); E[0]": {},
     "E.append(5.490); format(E[1], '.3f')": {},
     "E.append(6.002); E[2]": {},
     "E.append(7.687); E[3]": {}
    }
   },
   "source": [
    "Энергии даны в лабнике $E_1$ = {{E = []; E.append(4.784); E[0]}} МэВ, $E_2$ = {{E.append(5.490); format(E[1], '.3f')}} МэВ, $E_3$ = {{E.append(6.002); E[2]}} МэВ, $E_4$ = {{E.append(7.687); E[3]}} МэВ."
   ]
  },
  {
   "cell_type": "markdown",
   "metadata": {
    "kernel": "SoS"
   },
   "source": [
    "Построим по ним линейную регрессию и убедимся, что действительно существует линейная зависимость между $E$ и номером канала. \\label{p1:linreg}"
   ]
  },
  {
   "cell_type": "code",
   "execution_count": 16,
   "metadata": {
    "ExecuteTime": {
     "end_time": "2018-09-25T20:08:09.932209Z",
     "start_time": "2018-09-25T20:08:09.227765Z"
    },
    "kernel": "SoS"
   },
   "outputs": [
    {
     "ename": "NameError",
     "evalue": "name 'E' is not defined",
     "output_type": "error",
     "traceback": [
      "\u001b[0;31m---------------------------------------------------------------------------\u001b[0m",
      "\u001b[0;31mNameError\u001b[0m                                 Traceback (most recent call last)",
      "\u001b[0;32m<ipython-input-16-a0d61deaf0b6>\u001b[0m in \u001b[0;36m<module>\u001b[0;34m()\u001b[0m\n\u001b[1;32m      1\u001b[0m \u001b[0;32mfrom\u001b[0m \u001b[0mscipy\u001b[0m\u001b[0;34m.\u001b[0m\u001b[0mstats\u001b[0m \u001b[0;32mimport\u001b[0m \u001b[0mchi2_contingency\u001b[0m\u001b[0;34m\u001b[0m\u001b[0m\n\u001b[0;32m----> 2\u001b[0;31m \u001b[0mprint\u001b[0m\u001b[0;34m(\u001b[0m\u001b[0;34m'p-value: %f'\u001b[0m \u001b[0;34m%\u001b[0m \u001b[0mchi2_contingency\u001b[0m\u001b[0;34m(\u001b[0m\u001b[0mmu\u001b[0m\u001b[0;34m,\u001b[0m \u001b[0mE\u001b[0m\u001b[0;34m)\u001b[0m\u001b[0;34m[\u001b[0m\u001b[0;36m1\u001b[0m\u001b[0;34m]\u001b[0m\u001b[0;34m)\u001b[0m\u001b[0;34m\u001b[0m\u001b[0m\n\u001b[0m\u001b[1;32m      3\u001b[0m \u001b[0mplt\u001b[0m\u001b[0;34m.\u001b[0m\u001b[0mscatter\u001b[0m\u001b[0;34m(\u001b[0m\u001b[0mmu\u001b[0m\u001b[0;34m,\u001b[0m \u001b[0mE\u001b[0m\u001b[0;34m)\u001b[0m\u001b[0;34m\u001b[0m\u001b[0m\n\u001b[1;32m      4\u001b[0m \u001b[0mplt\u001b[0m\u001b[0;34m.\u001b[0m\u001b[0mplot\u001b[0m\u001b[0;34m(\u001b[0m\u001b[0mmu\u001b[0m\u001b[0;34m,\u001b[0m \u001b[0mE\u001b[0m\u001b[0;34m)\u001b[0m\u001b[0;34m\u001b[0m\u001b[0m\n\u001b[1;32m      5\u001b[0m \u001b[0mplt\u001b[0m\u001b[0;34m.\u001b[0m\u001b[0mgrid\u001b[0m\u001b[0;34m(\u001b[0m\u001b[0;34m)\u001b[0m\u001b[0;34m\u001b[0m\u001b[0m\n",
      "\u001b[0;31mNameError\u001b[0m: name 'E' is not defined"
     ]
    }
   ],
   "source": [
    "from scipy.stats import chi2_contingency\n",
    "print('p-value: %f' % chi2_contingency(mu, E)[1])\n",
    "plt.scatter(mu, E)\n",
    "plt.plot(mu, E)\n",
    "plt.grid()\n",
    "plt.show()"
   ]
  },
  {
   "cell_type": "markdown",
   "metadata": {
    "kernel": "SoS"
   },
   "source": [
    "Видим, что прибор был действительно настроен хорошо."
   ]
  },
  {
   "cell_type": "markdown",
   "metadata": {
    "kernel": "SoS"
   },
   "source": [
    "Теперь мы готовы анализировать дальнейшие спектры, но для начала подсчитаем коэффициент линейной регрессии:"
   ]
  },
  {
   "cell_type": "code",
   "execution_count": null,
   "metadata": {
    "ExecuteTime": {
     "end_time": "2018-09-25T20:08:09.938660Z",
     "start_time": "2018-09-25T20:07:50.665Z"
    },
    "kernel": "SoS"
   },
   "outputs": [],
   "source": [
    "from scipy.stats import linregress\n",
    "k = linregress(mu, E).slope"
   ]
  },
  {
   "cell_type": "markdown",
   "metadata": {
    "ExecuteTime": {
     "end_time": "2018-09-20T21:24:17.220879Z",
     "start_time": "2018-09-20T21:24:17.198373Z"
    },
    "kernel": "SoS",
    "variables": {
     "format(k, '.8f')": {}
    }
   },
   "source": [
    "<center> k = {{format(k, '.8f')}} </center>"
   ]
  },
  {
   "cell_type": "markdown",
   "metadata": {},
   "source": [
    "Теперь построим графики $N(E)$, где $E$ пересчитаем по найденному выше $k$"
   ]
  },
  {
   "cell_type": "code",
   "execution_count": null,
   "metadata": {
    "ExecuteTime": {
     "end_time": "2018-09-25T20:08:09.945929Z",
     "start_time": "2018-09-25T20:07:50.681Z"
    }
   },
   "outputs": [],
   "source": [
    "# Сначала пересчитаем в энергию\n",
    "x_data *= k\n",
    "\n",
    "# Не забудем пересчитать координаты пиков\n",
    "for i in range(len(peaks)):\n",
    "    peaks[i] = (peaks[i][0]*k, peaks[i][1]*k)\n",
    "    \n",
    "indices = [(x_data > peak[0]) & (x_data < peak[1]) for peak in peaks]\n",
    "\n",
    "f, params = [], []\n",
    "for ind in indices:\n",
    "    f1, params1 = fit_with_gauss(x_data[ind], y_data[ind], \n",
    "                                 initial_guess=[y_data[ind].max(), 0.5, 1])\n",
    "    f.append(f1)\n",
    "    params.append(params1)\n",
    "\n",
    "plot_data_optimized(x_values=x_data, y_values=y_data,\n",
    "                    title=r'Эксперимент с $^{226}_{\\,\\,88}Ra$', \n",
    "                    x_label=r'$E$, МэВ', y_label=r'Число частиц $N$',\n",
    "                    save_to='out1-E.pdf')[0].show()\n",
    "\n",
    "fig, axes = plot_data_optimized(x_data, y_data)\n",
    "for i in range(len(indices)):\n",
    "    fig, axes = plot_data_optimized(x_data[indices[i]], \n",
    "                                    f[i](x_data[indices[i]]), \n",
    "                                    fig=fig, axes=axes,\n",
    "                                    title=r'Эксперимент с $^{226}_{\\,\\,88}Ra$', \n",
    "                                    x_label=r'$E$, МэВ', y_label=r'Число частиц $N$',\n",
    "                                    save_to='out1-E.pdf')\n",
    "    \n",
    "fig.show()"
   ]
  },
  {
   "cell_type": "markdown",
   "metadata": {
    "kernel": "SoS"
   },
   "source": [
    "Теперь мы готовы идти дальше"
   ]
  },
  {
   "cell_type": "markdown",
   "metadata": {
    "kernel": "SoS"
   },
   "source": [
    "### Исследование $^{241}_{\\,\\,95} Am + ^{230}_{\\,\\,90} Th$"
   ]
  },
  {
   "cell_type": "code",
   "execution_count": null,
   "metadata": {
    "ExecuteTime": {
     "end_time": "2018-09-25T20:08:09.953917Z",
     "start_time": "2018-09-25T20:07:50.696Z"
    },
    "kernel": "SoS"
   },
   "outputs": [],
   "source": [
    "at_df, at_time = read_table_and_time(\n",
    "    os.path.join(WORKING_DIRECTORY, AM_TH_FILE))"
   ]
  },
  {
   "cell_type": "code",
   "execution_count": null,
   "metadata": {
    "ExecuteTime": {
     "end_time": "2018-09-25T20:08:09.957448Z",
     "start_time": "2018-09-25T20:07:50.699Z"
    },
    "kernel": "SoS"
   },
   "outputs": [],
   "source": [
    "at_df.head()"
   ]
  },
  {
   "cell_type": "markdown",
   "metadata": {
    "kernel": "SoS"
   },
   "source": [
    "Построим ориентировочный график зависимости $N(E) = a\\,E$"
   ]
  },
  {
   "cell_type": "code",
   "execution_count": null,
   "metadata": {
    "ExecuteTime": {
     "end_time": "2018-09-25T20:08:09.967920Z",
     "start_time": "2018-09-25T20:07:50.708Z"
    },
    "kernel": "SoS"
   },
   "outputs": [],
   "source": [
    "x_data = at_df['Channel']\n",
    "y_data = at_df['Value']"
   ]
  },
  {
   "cell_type": "code",
   "execution_count": null,
   "metadata": {
    "ExecuteTime": {
     "end_time": "2018-09-25T20:08:09.971570Z",
     "start_time": "2018-09-25T20:07:50.710Z"
    },
    "kernel": "SoS",
    "scrolled": true
   },
   "outputs": [],
   "source": [
    "plot_data_optimized(x_values=x_data, y_values=y_data, threshold=0,\n",
    "                    title=r'Эксперимент с $^{241}_{\\,\\,95} Am + ^{230}_{\\,\\,90} Th$', \n",
    "                    x_label=r'Номер канала', y_label=r'Число частиц $N$',\n",
    "                    save_to='out2.pdf')[0].show()"
   ]
  },
  {
   "cell_type": "markdown",
   "metadata": {
    "kernel": "SoS"
   },
   "source": [
    "Попытаемся аппросимировать пики гауссианой"
   ]
  },
  {
   "cell_type": "code",
   "execution_count": null,
   "metadata": {
    "ExecuteTime": {
     "end_time": "2018-09-25T20:08:09.977764Z",
     "start_time": "2018-09-25T20:07:50.719Z"
    },
    "kernel": "SoS"
   },
   "outputs": [],
   "source": [
    "# TODO: замените на свои\n",
    "# Я очень хорошо угадал свои интервалы!\n",
    "peaks = [\n",
    "    # Большой пик\n",
    "    (1900, 2020),\n",
    "    # Большой пик\n",
    "    (2250, 2350),\n",
    "]"
   ]
  },
  {
   "cell_type": "code",
   "execution_count": null,
   "metadata": {
    "ExecuteTime": {
     "end_time": "2018-09-25T20:08:09.988714Z",
     "start_time": "2018-09-25T20:07:50.721Z"
    },
    "kernel": "SoS"
   },
   "outputs": [],
   "source": [
    "indices = [(x_data > peak[0]) & (x_data < peak[1]) for peak in peaks]"
   ]
  },
  {
   "cell_type": "code",
   "execution_count": null,
   "metadata": {
    "ExecuteTime": {
     "end_time": "2018-09-25T20:08:09.992336Z",
     "start_time": "2018-09-25T20:07:50.724Z"
    },
    "kernel": "SoS"
   },
   "outputs": [],
   "source": [
    "f, params = [], []\n",
    "for ind in indices:\n",
    "    f1, params1 = fit_with_gauss(x_data[ind], y_data[ind], \n",
    "                                 initial_guess=[y_data[ind].max(), 0.5, 1])\n",
    "    f.append(f1)\n",
    "    params.append(params1)"
   ]
  },
  {
   "cell_type": "code",
   "execution_count": null,
   "metadata": {
    "ExecuteTime": {
     "end_time": "2018-09-25T20:08:09.995976Z",
     "start_time": "2018-09-25T20:07:50.726Z"
    },
    "kernel": "SoS"
   },
   "outputs": [],
   "source": [
    "fig, axes = plot_data_optimized(x_data, y_data)\n",
    "for i in range(len(indices)):\n",
    "    fig, axes = plot_data_optimized(x_data[indices[i]], \n",
    "                                    f[i](x_data[indices[i]]), \n",
    "                                    fig=fig, axes=axes,\n",
    "                                    title=r'Эксперимент с $^{241}_{\\,\\,95} Am + ^{230}_{\\,\\,90} Th$', \n",
    "                                    x_label=r'Номер канала', y_label=r'Число частиц $N$',\n",
    "                                    save_to='out2.pdf')\n",
    "    # Заполним таблицу из лабника\n",
    "    result_table = pd.concat(\n",
    "        [result_table, pd.DataFrame([['Am+Th', \n",
    "                                      params[i][1], \n",
    "                                      get_gauss_halfwidth(params[i][2]), \n",
    "                                      # Пока мы их не знаем\n",
    "                                      0, 0, 0]], columns=res_table_cols)])\n",
    "fig.show()"
   ]
  },
  {
   "cell_type": "markdown",
   "metadata": {
    "kernel": "SoS"
   },
   "source": [
    "Имеем ярко выраженные пики. Подсчитаем их энергию, соглсно п. 1"
   ]
  },
  {
   "cell_type": "code",
   "execution_count": null,
   "metadata": {
    "ExecuteTime": {
     "end_time": "2018-09-25T20:08:10.004717Z",
     "start_time": "2018-09-25T20:07:50.739Z"
    },
    "kernel": "SoS"
   },
   "outputs": [],
   "source": [
    "# Вытащим матожидания\n",
    "mu = [param[1] for param in params]\n",
    "E_at = [m*k for m in mu]"
   ]
  },
  {
   "cell_type": "code",
   "execution_count": null,
   "metadata": {
    "ExecuteTime": {
     "end_time": "2018-09-25T20:08:10.008506Z",
     "start_time": "2018-09-25T20:07:50.741Z"
    },
    "kernel": "SoS"
   },
   "outputs": [],
   "source": [
    "E_at"
   ]
  },
  {
   "cell_type": "markdown",
   "metadata": {
    "ExecuteTime": {
     "end_time": "2018-09-20T21:42:14.960350Z",
     "start_time": "2018-09-20T21:42:14.944927Z"
    },
    "kernel": "SoS"
   },
   "source": [
    "\\[ \\boxed{\n",
    "    E_1 = 4.795 \\text{ МэВ} \\\\\n",
    "    E_2 = 5.615 \\text{ МэВ} \n",
    "}\\]"
   ]
  },
  {
   "cell_type": "markdown",
   "metadata": {},
   "source": [
    "Теперь построим графики $N(E)$, где $E$ пересчитаем по найденному выше $k$"
   ]
  },
  {
   "cell_type": "code",
   "execution_count": null,
   "metadata": {
    "ExecuteTime": {
     "end_time": "2018-09-25T20:08:10.011825Z",
     "start_time": "2018-09-25T20:07:50.759Z"
    }
   },
   "outputs": [],
   "source": [
    "# Сначала пересчитаем в энергию\n",
    "x_data *= k\n",
    "\n",
    "# Не забудем пересчитать координаты пиков\n",
    "for i in range(len(peaks)):\n",
    "    peaks[i] = (peaks[i][0]*k, peaks[i][1]*k)\n",
    "    \n",
    "indices = [(x_data > peak[0]) & (x_data < peak[1]) for peak in peaks]\n",
    "\n",
    "f, params = [], []\n",
    "for ind in indices:\n",
    "    f1, params1 = fit_with_gauss(x_data[ind], y_data[ind], \n",
    "                                 initial_guess=[y_data[ind].max(), 0.5, 1])\n",
    "    f.append(f1)\n",
    "    params.append(params1)\n",
    "\n",
    "plot_data_optimized(x_values=x_data, y_values=y_data,\n",
    "                    title=r'Эксперимент с $^{241}_{\\,\\,95} Am + ^{230}_{\\,\\,90} Th$', \n",
    "                    x_label=r'$E$, МэВ', y_label=r'Число частиц $N$',\n",
    "                    save_to='out2-E.pdf')[0].show()\n",
    "\n",
    "fig, axes = plot_data_optimized(x_data, y_data)\n",
    "for i in range(len(indices)):\n",
    "    fig, axes = plot_data_optimized(x_data[indices[i]], \n",
    "                                    f[i](x_data[indices[i]]), \n",
    "                                    fig=fig, axes=axes,\n",
    "                                    title=r'Эксперимент с $^{241}_{\\,\\,95} Am + ^{230}_{\\,\\,90} Th$', \n",
    "                                    x_label=r'$E$, МэВ', y_label=r'Число частиц $N$',\n",
    "                                    save_to='out2-E.pdf')\n",
    "    \n",
    "fig.show()"
   ]
  },
  {
   "cell_type": "markdown",
   "metadata": {
    "kernel": "SoS"
   },
   "source": [
    "### Исследование $^{239}_{\\,\\,94}Pu$"
   ]
  },
  {
   "cell_type": "code",
   "execution_count": null,
   "metadata": {
    "ExecuteTime": {
     "end_time": "2018-09-25T20:08:10.019682Z",
     "start_time": "2018-09-25T20:07:50.770Z"
    },
    "kernel": "SoS"
   },
   "outputs": [],
   "source": [
    "pu_df, pu_time = read_table_and_time(\n",
    "    os.path.join(WORKING_DIRECTORY, PU_FILE))"
   ]
  },
  {
   "cell_type": "code",
   "execution_count": null,
   "metadata": {
    "ExecuteTime": {
     "end_time": "2018-09-25T20:08:10.028287Z",
     "start_time": "2018-09-25T20:07:50.772Z"
    },
    "kernel": "SoS"
   },
   "outputs": [],
   "source": [
    "at_df.head()"
   ]
  },
  {
   "cell_type": "markdown",
   "metadata": {
    "kernel": "SoS"
   },
   "source": [
    "Построим ориентировочный график зависимости $N(E) = a\\,E$"
   ]
  },
  {
   "cell_type": "code",
   "execution_count": null,
   "metadata": {
    "ExecuteTime": {
     "end_time": "2018-09-25T20:08:10.031930Z",
     "start_time": "2018-09-25T20:07:50.780Z"
    },
    "kernel": "SoS"
   },
   "outputs": [],
   "source": [
    "x_data = pu_df['Channel']\n",
    "y_data = pu_df['Value']"
   ]
  },
  {
   "cell_type": "code",
   "execution_count": null,
   "metadata": {
    "ExecuteTime": {
     "end_time": "2018-09-25T20:08:10.041834Z",
     "start_time": "2018-09-25T20:07:50.784Z"
    },
    "kernel": "SoS",
    "scrolled": true
   },
   "outputs": [],
   "source": [
    "plot_data_optimized(x_values=x_data, y_values=y_data, threshold=0,\n",
    "                    title=r'Эксперимент с $^{239}_{\\,\\,94}Pu$', \n",
    "                    x_label=r'Номер канала', y_label=r'Число частиц $N$',\n",
    "                    save_to='out3.pdf')[0].show()"
   ]
  },
  {
   "cell_type": "markdown",
   "metadata": {
    "kernel": "SoS"
   },
   "source": [
    "Попытаемся аппросимировать пики гауссианой"
   ]
  },
  {
   "cell_type": "code",
   "execution_count": null,
   "metadata": {
    "ExecuteTime": {
     "end_time": "2018-09-25T20:08:10.045333Z",
     "start_time": "2018-09-25T20:07:50.793Z"
    },
    "kernel": "SoS"
   },
   "outputs": [],
   "source": [
    "# TODO: замените на свои\n",
    "# Я очень хорошо угадал свои интервалы!\n",
    "peaks = [\n",
    "    # Большой пик\n",
    "    (2080, 2200)\n",
    "]"
   ]
  },
  {
   "cell_type": "code",
   "execution_count": null,
   "metadata": {
    "ExecuteTime": {
     "end_time": "2018-09-25T20:08:10.053803Z",
     "start_time": "2018-09-25T20:07:50.795Z"
    },
    "kernel": "SoS"
   },
   "outputs": [],
   "source": [
    "indices = [(x_data > peak[0]) & (x_data < peak[1]) for peak in peaks]"
   ]
  },
  {
   "cell_type": "code",
   "execution_count": null,
   "metadata": {
    "ExecuteTime": {
     "end_time": "2018-09-25T20:08:10.057292Z",
     "start_time": "2018-09-25T20:07:50.797Z"
    },
    "kernel": "SoS"
   },
   "outputs": [],
   "source": [
    "f, params = [], []\n",
    "for ind in indices:\n",
    "    f1, params1 = fit_with_gauss(x_data[ind], y_data[ind], \n",
    "                                 initial_guess=[y_data[ind].max(), 0.5, 1])\n",
    "    f.append(f1)\n",
    "    params.append(params1)"
   ]
  },
  {
   "cell_type": "code",
   "execution_count": null,
   "metadata": {
    "ExecuteTime": {
     "end_time": "2018-09-25T20:08:10.065763Z",
     "start_time": "2018-09-25T20:07:50.800Z"
    },
    "kernel": "SoS"
   },
   "outputs": [],
   "source": [
    "fig, axes = plot_data_optimized(x_data, y_data)\n",
    "for i in range(len(indices)):\n",
    "    fig, axes = plot_data_optimized(x_data[indices[i]], \n",
    "                                    f[i](x_data[indices[i]]), \n",
    "                                    fig=fig, axes=axes,\n",
    "                                    title=r'Эксперимент с $^{239}_{\\,\\,94}Pu$', \n",
    "                                    x_label=r'Номер канала', y_label=r'Число частиц $N$',\n",
    "                                    save_to='out3.pdf')\n",
    "    # Заполним таблицу из лабника\n",
    "    result_table = pd.concat(\n",
    "        [result_table, pd.DataFrame([['Pu', \n",
    "                                      params[i][1], \n",
    "                                      get_gauss_halfwidth(params[i][2]), \n",
    "                                      # Пока мы их не знаем\n",
    "                                      0, 0, 0]], columns=res_table_cols)])\n",
    "fig.show()"
   ]
  },
  {
   "cell_type": "markdown",
   "metadata": {
    "kernel": "SoS"
   },
   "source": [
    "Имеем ярко выраженный пик. Подсчитаем его энергию, соглсно п. 1"
   ]
  },
  {
   "cell_type": "code",
   "execution_count": null,
   "metadata": {
    "ExecuteTime": {
     "end_time": "2018-09-25T20:08:10.069183Z",
     "start_time": "2018-09-25T20:07:50.809Z"
    },
    "kernel": "SoS"
   },
   "outputs": [],
   "source": [
    "# Вытащим матожидания\n",
    "mu = [param[1] for param in params]\n",
    "E_pu = [m*k for m in mu]"
   ]
  },
  {
   "cell_type": "code",
   "execution_count": null,
   "metadata": {
    "ExecuteTime": {
     "end_time": "2018-09-25T20:08:10.075046Z",
     "start_time": "2018-09-25T20:07:50.814Z"
    },
    "kernel": "SoS"
   },
   "outputs": [],
   "source": [
    "E_pu"
   ]
  },
  {
   "cell_type": "markdown",
   "metadata": {
    "ExecuteTime": {
     "end_time": "2018-09-20T21:42:14.960350Z",
     "start_time": "2018-09-20T21:42:14.944927Z"
    },
    "kernel": "SoS"
   },
   "source": [
    "\\[ \\boxed{\n",
    "    E_1 = 5.298 \\text{ МэВ}\n",
    "}\\]"
   ]
  },
  {
   "cell_type": "markdown",
   "metadata": {},
   "source": [
    "Теперь построим графики $N(E)$, где $E$ пересчитаем по найденному выше $k$"
   ]
  },
  {
   "cell_type": "code",
   "execution_count": null,
   "metadata": {
    "ExecuteTime": {
     "end_time": "2018-09-25T20:08:10.081780Z",
     "start_time": "2018-09-25T20:07:50.828Z"
    }
   },
   "outputs": [],
   "source": [
    "# Сначала пересчитаем в энергию\n",
    "x_data *= k\n",
    "\n",
    "# Не забудем пересчитать координаты пиков\n",
    "for i in range(len(peaks)):\n",
    "    peaks[i] = (peaks[i][0]*k, peaks[i][1]*k)\n",
    "    \n",
    "indices = [(x_data > peak[0]) & (x_data < peak[1]) for peak in peaks]\n",
    "\n",
    "f, params = [], []\n",
    "for ind in indices:\n",
    "    f1, params1 = fit_with_gauss(x_data[ind], y_data[ind], \n",
    "                                 initial_guess=[y_data[ind].max(), 0.5, 1])\n",
    "    f.append(f1)\n",
    "    params.append(params1)\n",
    "\n",
    "plot_data_optimized(x_values=x_data, y_values=y_data,\n",
    "                    title=r'Эксперимент с $^{239}_{\\,\\,94}Pu$', \n",
    "                    x_label=r'$E$, МэВ', y_label=r'Число частиц $N$',\n",
    "                    save_to='out3-E.pdf')[0].show()\n",
    "\n",
    "fig, axes = plot_data_optimized(x_data, y_data)\n",
    "for i in range(len(indices)):\n",
    "    fig, axes = plot_data_optimized(x_data[indices[i]], \n",
    "                                    f[i](x_data[indices[i]]), \n",
    "                                    fig=fig, axes=axes,\n",
    "                                    title=r'Эксперимент с $^{239}_{\\,\\,94}Pu$', \n",
    "                                    x_label=r'$E$, МэВ', y_label=r'Число частиц $N$',\n",
    "                                    save_to='out3-E.pdf')\n",
    "    \n",
    "fig.show()"
   ]
  },
  {
   "cell_type": "markdown",
   "metadata": {
    "kernel": "SoS"
   },
   "source": [
    "### Исследование $U_\\text{прир} $"
   ]
  },
  {
   "cell_type": "code",
   "execution_count": null,
   "metadata": {
    "ExecuteTime": {
     "end_time": "2018-09-25T20:08:10.089407Z",
     "start_time": "2018-09-25T20:07:50.839Z"
    },
    "kernel": "SoS"
   },
   "outputs": [],
   "source": [
    "u_df, u_time = read_table_and_time(\n",
    "    os.path.join(WORKING_DIRECTORY, U_FILE))"
   ]
  },
  {
   "cell_type": "code",
   "execution_count": null,
   "metadata": {
    "ExecuteTime": {
     "end_time": "2018-09-25T20:08:10.092853Z",
     "start_time": "2018-09-25T20:07:50.842Z"
    },
    "kernel": "SoS"
   },
   "outputs": [],
   "source": [
    "u_df.head()"
   ]
  },
  {
   "cell_type": "markdown",
   "metadata": {
    "kernel": "SoS"
   },
   "source": [
    "Построим ориентировочный график зависимости $N(E) = a\\,E$"
   ]
  },
  {
   "cell_type": "code",
   "execution_count": null,
   "metadata": {
    "ExecuteTime": {
     "end_time": "2018-09-25T20:08:10.101775Z",
     "start_time": "2018-09-25T20:07:50.851Z"
    },
    "kernel": "SoS"
   },
   "outputs": [],
   "source": [
    "x_data = u_df['Channel']\n",
    "y_data = u_df['Value']"
   ]
  },
  {
   "cell_type": "code",
   "execution_count": null,
   "metadata": {
    "ExecuteTime": {
     "end_time": "2018-09-25T20:08:10.105116Z",
     "start_time": "2018-09-25T20:07:50.854Z"
    },
    "kernel": "SoS",
    "scrolled": true
   },
   "outputs": [],
   "source": [
    "plot_data_optimized(x_values=x_data, y_values=y_data, threshold=0,\n",
    "                    title=r'Эксперимент с $U$', \n",
    "                    x_label=r'Номер канала', y_label=r'Число частиц $N$',\n",
    "                    save_to='out4.pdf')[0].show()"
   ]
  },
  {
   "cell_type": "markdown",
   "metadata": {
    "kernel": "SoS"
   },
   "source": [
    "Попытаемся аппросимировать пики гауссианой"
   ]
  },
  {
   "cell_type": "code",
   "execution_count": null,
   "metadata": {
    "ExecuteTime": {
     "end_time": "2018-09-25T20:08:10.112709Z",
     "start_time": "2018-09-25T20:07:50.861Z"
    },
    "kernel": "SoS"
   },
   "outputs": [],
   "source": [
    "# TODO: замените на свои\n",
    "# Я очень хорошо угадал свои интервалы!\n",
    "peaks = [\n",
    "    # Большой пик\n",
    "    (1790, 2020),\n",
    "    # Большой пик\n",
    "    (1500, 1790),\n",
    "]"
   ]
  },
  {
   "cell_type": "code",
   "execution_count": null,
   "metadata": {
    "ExecuteTime": {
     "end_time": "2018-09-25T20:08:10.116210Z",
     "start_time": "2018-09-25T20:07:50.864Z"
    },
    "kernel": "SoS"
   },
   "outputs": [],
   "source": [
    "indices = [(x_data > peak[0]) & (x_data < peak[1]) for peak in peaks]"
   ]
  },
  {
   "cell_type": "code",
   "execution_count": null,
   "metadata": {
    "ExecuteTime": {
     "end_time": "2018-09-25T20:08:10.125809Z",
     "start_time": "2018-09-25T20:07:50.867Z"
    },
    "kernel": "SoS"
   },
   "outputs": [],
   "source": [
    "f, params = [], []\n",
    "for ind in indices:\n",
    "    f1, params1 = fit_with_gauss(x_data[ind], y_data[ind], \n",
    "                                 initial_guess=[y_data[ind].max(), 0.5, 1])\n",
    "    f.append(f1)\n",
    "    params.append(params1)"
   ]
  },
  {
   "cell_type": "code",
   "execution_count": null,
   "metadata": {
    "ExecuteTime": {
     "end_time": "2018-09-25T20:08:10.129275Z",
     "start_time": "2018-09-25T20:07:50.870Z"
    },
    "kernel": "SoS"
   },
   "outputs": [],
   "source": [
    "fig, axes = plot_data_optimized(x_data, y_data)\n",
    "for i in range(len(indices)):\n",
    "    fig, axes = plot_data_optimized(x_data[indices[i]], \n",
    "                                    f[i](x_data[indices[i]]), \n",
    "                                    fig=fig, axes=axes,\n",
    "                                    title=r'Эксперимент с $U$',\n",
    "                                    x_label=r'Номер канала', y_label=r'Число частиц $N$',\n",
    "                                    save_to='out4.pdf')\n",
    "    # Заполним таблицу из лабника\n",
    "    result_table = pd.concat(\n",
    "        [result_table, pd.DataFrame([['U', \n",
    "                                      params[i][1], \n",
    "                                      get_gauss_halfwidth(params[i][2]), \n",
    "                                      # Пока мы их не знаем\n",
    "                                      0, 0, 0]], columns=res_table_cols)])\n",
    "fig.show()"
   ]
  },
  {
   "cell_type": "markdown",
   "metadata": {
    "kernel": "SoS"
   },
   "source": [
    "Имеем плохие пики. Тем не менее, попытаемся подсчитать их энергию:"
   ]
  },
  {
   "cell_type": "code",
   "execution_count": null,
   "metadata": {
    "ExecuteTime": {
     "end_time": "2018-09-25T20:08:10.132629Z",
     "start_time": "2018-09-25T20:07:50.880Z"
    },
    "kernel": "SoS"
   },
   "outputs": [],
   "source": [
    "# Вытащим матожидания\n",
    "mu = [param[1] for param in params]\n",
    "E_u = [m*k for m in mu]"
   ]
  },
  {
   "cell_type": "code",
   "execution_count": null,
   "metadata": {
    "ExecuteTime": {
     "end_time": "2018-09-25T20:08:10.142783Z",
     "start_time": "2018-09-25T20:07:50.883Z"
    },
    "kernel": "SoS"
   },
   "outputs": [],
   "source": [
    "E_u"
   ]
  },
  {
   "cell_type": "markdown",
   "metadata": {
    "ExecuteTime": {
     "end_time": "2018-09-20T21:42:14.960350Z",
     "start_time": "2018-09-20T21:42:14.944927Z"
    },
    "kernel": "SoS"
   },
   "source": [
    "\\[ \\boxed{\n",
    "    E_1 \\approx 4.172 \\text{ МэВ} \\\\\n",
    "    E_2 \\approx 4.739 \\text{ МэВ} \n",
    "}\\]"
   ]
  },
  {
   "cell_type": "markdown",
   "metadata": {},
   "source": [
    "Теперь построим графики $N(E)$, где $E$ пересчитаем по найденному выше $k$"
   ]
  },
  {
   "cell_type": "code",
   "execution_count": null,
   "metadata": {
    "ExecuteTime": {
     "end_time": "2018-09-25T20:08:10.146132Z",
     "start_time": "2018-09-25T20:07:50.898Z"
    }
   },
   "outputs": [],
   "source": [
    "# Сначала пересчитаем в энергию\n",
    "x_data *= k\n",
    "\n",
    "# Не забудем пересчитать координаты пиков\n",
    "for i in range(len(peaks)):\n",
    "    peaks[i] = (peaks[i][0]*k, peaks[i][1]*k)\n",
    "    \n",
    "indices = [(x_data > peak[0]) & (x_data < peak[1]) for peak in peaks]\n",
    "\n",
    "f, params = [], []\n",
    "for ind in indices:\n",
    "    f1, params1 = fit_with_gauss(x_data[ind], y_data[ind], \n",
    "                                 initial_guess=[y_data[ind].max(), 0.5, 1])\n",
    "    f.append(f1)\n",
    "    params.append(params1)\n",
    "\n",
    "plot_data_optimized(x_values=x_data, y_values=y_data,\n",
    "                    title=r'Эксперимент с $U$', \n",
    "                    x_label=r'$E$, МэВ', y_label=r'Число частиц $N$',\n",
    "                    save_to='out4-E.pdf')[0].show()\n",
    "\n",
    "fig, axes = plot_data_optimized(x_data, y_data)\n",
    "for i in range(len(indices)):\n",
    "    fig, axes = plot_data_optimized(x_data[indices[i]], \n",
    "                                    f[i](x_data[indices[i]]), \n",
    "                                    fig=fig, axes=axes,\n",
    "                                    title=r'Эксперимент с $U$', \n",
    "                                    x_label=r'$E$, МэВ', y_label=r'Число частиц $N$',\n",
    "                                    save_to='out4-E.pdf')\n",
    "    \n",
    "fig.show()"
   ]
  },
  {
   "cell_type": "markdown",
   "metadata": {
    "kernel": "SoS"
   },
   "source": [
    "## Займемся таблицей из лабника"
   ]
  },
  {
   "cell_type": "markdown",
   "metadata": {
    "kernel": "SoS"
   },
   "source": [
    "Вот она"
   ]
  },
  {
   "cell_type": "markdown",
   "metadata": {
    "kernel": "SoS"
   },
   "source": [
    "Теперь подсчитаем $E_i$ и $\\Delta E_i$, зная значение коэффициента пересчета:"
   ]
  },
  {
   "cell_type": "code",
   "execution_count": null,
   "metadata": {
    "ExecuteTime": {
     "end_time": "2018-09-25T20:08:10.149647Z",
     "start_time": "2018-09-25T20:07:50.919Z"
    },
    "kernel": "SoS"
   },
   "outputs": [],
   "source": [
    "result_table['E_i'] = result_table['N_i']*k\n",
    "result_table['Delta E_i'] = result_table['Delta N_i']*k\n",
    "result_table['R_i'] = result_table['Delta E_i'] / result_table['E_i']"
   ]
  },
  {
   "cell_type": "code",
   "execution_count": null,
   "metadata": {
    "ExecuteTime": {
     "end_time": "2018-09-25T20:08:10.159836Z",
     "start_time": "2018-09-25T20:07:50.922Z"
    },
    "kernel": "SoS"
   },
   "outputs": [],
   "source": [
    "result_table"
   ]
  },
  {
   "cell_type": "markdown",
   "metadata": {
    "kernel": "SoS"
   },
   "source": [
    "Для радия определим $R_\\text{фл., i} = \\dfrac{1}{\\sqrt{N_i}}$, где $N_i = \\dfrac{E_i}{E_\\text{ср}}$, $E_\\text{ср}$ = 3.6 эВ  "
   ]
  },
  {
   "cell_type": "code",
   "execution_count": null,
   "metadata": {
    "ExecuteTime": {
     "end_time": "2018-09-25T20:08:10.163485Z",
     "start_time": "2018-09-25T20:07:50.933Z"
    },
    "kernel": "SoS"
   },
   "outputs": [],
   "source": [
    "R_fluc = 1/np.sqrt(result_table[result_table['Источник'] == 'Ra']['E_i'] / 3.6 * 10**6)"
   ]
  },
  {
   "cell_type": "markdown",
   "metadata": {
    "kernel": "SoS"
   },
   "source": [
    "Составим разность $R_i - R_\\text{фл., i}$ "
   ]
  },
  {
   "cell_type": "code",
   "execution_count": null,
   "metadata": {
    "ExecuteTime": {
     "end_time": "2018-09-25T20:08:10.173764Z",
     "start_time": "2018-09-25T20:07:50.941Z"
    },
    "kernel": "SoS"
   },
   "outputs": [],
   "source": [
    "delta_R = result_table[result_table['Источник'] == 'Ra']['R_i'] - R_fluc\n",
    "ra_R_df = pd.DataFrame(np.array([result_table[result_table['Источник'] == 'Ra']['R_i'].values, \n",
    "                        R_fluc.values, delta_R.values]).T, columns=['R_i', 'R_fluc_i', 'Delta R'])"
   ]
  },
  {
   "cell_type": "markdown",
   "metadata": {
    "kernel": "SoS"
   },
   "source": [
    "Результаты сведем в таблицу:"
   ]
  },
  {
   "cell_type": "code",
   "execution_count": null,
   "metadata": {
    "ExecuteTime": {
     "end_time": "2018-09-25T20:08:10.177827Z",
     "start_time": "2018-09-25T20:07:50.949Z"
    },
    "kernel": "SoS"
   },
   "outputs": [],
   "source": [
    "ra_R_df"
   ]
  },
  {
   "cell_type": "markdown",
   "metadata": {
    "kernel": "SoS"
   },
   "source": [
    "## Проверка закона Гейгера-Неттола"
   ]
  },
  {
   "cell_type": "markdown",
   "metadata": {
    "kernel": "SoS"
   },
   "source": [
    "Закон Гейгера-Нетолла имеет вид:\n",
    "$$\n",
    "\\lg T_{1/2} = \\dfrac{a}{\\sqrt{E_\\alpha}} + b\n",
    "$$"
   ]
  },
  {
   "cell_type": "markdown",
   "metadata": {
    "kernel": "SoS"
   },
   "source": [
    "Здесь коэффициенты $a$ и $b$ очень слабо зависят от заряда ядра $Z$"
   ]
  },
  {
   "cell_type": "markdown",
   "metadata": {
    "kernel": "SoS"
   },
   "source": [
    "Из материалов к лабораторной работе мы имеем знания об энергии $\\alpha$-частиц $^{226}_{\\phantom{2} 88} Ra$ и его дочерних ядер, а также их периоды полураспада. По этим данным мы построим график \n",
    "$$\\lg T_{1/2} = f \\left(1 / \\sqrt{E_\\alpha} \\right)$$\n",
    "Ожидаем прямую!"
   ]
  },
  {
   "cell_type": "markdown",
   "metadata": {
    "kernel": "SoS"
   },
   "source": [
    "Перепишем данные из описания к работе:"
   ]
  },
  {
   "cell_type": "code",
   "execution_count": null,
   "metadata": {
    "ExecuteTime": {
     "end_time": "2018-09-25T20:08:10.181535Z",
     "start_time": "2018-09-25T20:07:50.980Z"
    },
    "kernel": "SoS"
   },
   "outputs": [],
   "source": [
    "geiger_netoll_df = pd.DataFrame(np.array([\n",
    "    [1620*365*24*3600, 3.82*24*3600, 3.11*60, 1.63*10**(-4)], \n",
    "    [4.784, 5.490, 6.002, 7.687]]).T, columns=['T', 'E'])"
   ]
  },
  {
   "cell_type": "code",
   "execution_count": null,
   "metadata": {
    "ExecuteTime": {
     "end_time": "2018-09-25T20:08:10.188594Z",
     "start_time": "2018-09-25T20:07:50.985Z"
    },
    "kernel": "SoS"
   },
   "outputs": [],
   "source": [
    "geiger_netoll_df"
   ]
  },
  {
   "cell_type": "markdown",
   "metadata": {
    "kernel": "SoS"
   },
   "source": [
    "Построим требуемый график:"
   ]
  },
  {
   "cell_type": "code",
   "execution_count": null,
   "metadata": {
    "ExecuteTime": {
     "end_time": "2018-09-25T20:08:10.197843Z",
     "start_time": "2018-09-25T20:07:50.991Z"
    },
    "kernel": "SoS"
   },
   "outputs": [],
   "source": [
    "x_data, y_data = 1/np.sqrt(geiger_netoll_df['E']), np.log(geiger_netoll_df['T'])"
   ]
  },
  {
   "cell_type": "code",
   "execution_count": null,
   "metadata": {
    "ExecuteTime": {
     "end_time": "2018-09-25T20:08:10.201215Z",
     "start_time": "2018-09-25T20:07:50.994Z"
    },
    "kernel": "SoS"
   },
   "outputs": [],
   "source": [
    "regression_results = sc.stats.linregress(x_data, y_data)"
   ]
  },
  {
   "cell_type": "code",
   "execution_count": null,
   "metadata": {
    "ExecuteTime": {
     "end_time": "2018-09-25T20:08:10.208720Z",
     "start_time": "2018-09-25T20:07:50.996Z"
    },
    "kernel": "SoS",
    "scrolled": true
   },
   "outputs": [],
   "source": [
    "fig, axes = plt.subplots(figsize=(16, 9))\n",
    "axes.scatter(x_data, y_data)\n",
    "axes.grid(True)\n",
    "axes.set_title(r'Проверка закона Гейгера-Нетолла')\n",
    "axes.set_xlabel(r'$\\dfrac{1}{\\sqrt{E_\\alpha}}$')\n",
    "axes.set_ylabel(r'$\\lg T_{1/2}$')\n",
    "# Линейная регрессия\n",
    "x_linreg_data = np.linspace(min(x_data), max(x_data))\n",
    "f = lambda x: regression_results.slope*x + regression_results.intercept\n",
    "axes.plot(x_linreg_data, f(x_linreg_data))\n",
    "\n",
    "fig.savefig('geiger.pdf')\n",
    "fig.show()"
   ]
  },
  {
   "cell_type": "markdown",
   "metadata": {
    "kernel": "SoS",
    "variables": {
     "format(regression_results.pvalue, '.5f')": {},
     "format(regression_results.rvalue, '.5f')": {}
    }
   },
   "source": [
    "Неплохо выполняется. Линейная регрессия дает значение <b>p-value</b> = {{format(regression_results.pvalue, '.5f')}} и <b>r-value</b> = {{format(regression_results.rvalue, '.5f')}}, что подтвержает гипотезу о линейной зависимости."
   ]
  },
  {
   "cell_type": "code",
   "execution_count": null,
   "metadata": {},
   "outputs": [],
   "source": []
  }
 ],
 "metadata": {
  "kernelspec": {
   "display_name": "Python 3",
   "language": "python",
   "name": "python3"
  },
  "language_info": {
   "codemirror_mode": {
    "name": "ipython",
    "version": 3
   },
   "file_extension": ".py",
   "mimetype": "text/x-python",
   "name": "python",
   "nbconvert_exporter": "python",
   "pygments_lexer": "ipython3",
   "version": "3.5.2"
  },
  "latex_envs": {
   "LaTeX_envs_menu_present": true,
   "autoclose": false,
   "autocomplete": true,
   "bibliofile": "biblio.bib",
   "cite_by": "apalike",
   "current_citInitial": 1,
   "eqLabelWithNumbers": true,
   "eqNumInitial": 1,
   "hotkeys": {
    "equation": "Ctrl-E",
    "itemize": "Ctrl-I"
   },
   "labels_anchors": false,
   "latex_user_defs": false,
   "report_style_numbering": true,
   "user_envs_cfg": false
  },
  "sos": {
   "kernels": [
    [
     null,
     null,
     "",
     ""
    ]
   ],
   "panel": {
    "displayed": true,
    "height": 0,
    "style": "side"
   }
  },
  "varInspector": {
   "cols": {
    "lenName": 16,
    "lenType": 16,
    "lenVar": 40
   },
   "kernels_config": {
    "python": {
     "delete_cmd_postfix": "",
     "delete_cmd_prefix": "del ",
     "library": "var_list.py",
     "varRefreshCmd": "print(var_dic_list())"
    },
    "r": {
     "delete_cmd_postfix": ") ",
     "delete_cmd_prefix": "rm(",
     "library": "var_list.r",
     "varRefreshCmd": "cat(var_dic_list()) "
    }
   },
   "types_to_exclude": [
    "module",
    "function",
    "builtin_function_or_method",
    "instance",
    "_Feature"
   ],
   "window_display": false
  }
 },
 "nbformat": 4,
 "nbformat_minor": 2
}
