{
 "cells": [
  {
   "cell_type": "markdown",
   "metadata": {
    "kernel": "SoS"
   },
   "source": [
    "# Лабораторная работа № 4.1\n",
    "## \"Определение энергии $\\alpha$-частиц по величине их пробега в воздухе\""
   ]
  },
  {
   "cell_type": "markdown",
   "metadata": {
    "kernel": "SoS"
   },
   "source": [
    "Измеряется пробег $\\alpha$-частиц в воздухе двумя способами $-$ с помощью торцевого счетчика Гейгера и сцинтилляционного счетчика, $-$ и по полученным величинам определяется их энергия."
   ]
  },
  {
   "cell_type": "code",
   "execution_count": 1,
   "metadata": {
    "ExecuteTime": {
     "end_time": "2018-09-23T16:16:50.617248Z",
     "start_time": "2018-09-23T16:16:50.601273Z"
    },
    "kernel": "SoS"
   },
   "outputs": [],
   "source": [
    "WORKING_DIRECTORY = 'ildar'\n",
    "RA_FILE = 'radium.csv'\n",
    "U_FILE = 'uran.csv'\n",
    "PU_FILE = 'pu.csv'\n",
    "AM_TH_FILE = 'Am+Th.csv'\n",
    "# TODO: поменяйте на свой\n",
    "HEADER_NUMBER = 21"
   ]
  },
  {
   "cell_type": "code",
   "execution_count": 2,
   "metadata": {
    "ExecuteTime": {
     "end_time": "2018-09-23T16:17:03.656775Z",
     "start_time": "2018-09-23T16:16:51.596153Z"
    },
    "kernel": "SoS"
   },
   "outputs": [],
   "source": [
    "import pandas as pd\n",
    "import os\n",
    "import matplotlib.pyplot as plt\n",
    "import numpy as np\n",
    "import scipy as sc"
   ]
  },
  {
   "cell_type": "code",
   "execution_count": 15,
   "metadata": {
    "ExecuteTime": {
     "end_time": "2018-09-23T16:19:50.343507Z",
     "start_time": "2018-09-23T16:19:50.325191Z"
    },
    "kernel": "SoS"
   },
   "outputs": [],
   "source": [
    "def read_table_and_time(path):\n",
    "    df = pd.read_csv(\n",
    "        path, \n",
    "        delimiter=';')\n",
    "    # Найдем время\n",
    "    MAGIC_WORD = 'ROOT:'\n",
    "    time = df[df[MAGIC_WORD] == 'LTime'].iloc[-1, 1]\n",
    "    # Возьмем нужные данные\n",
    "    ind = df[df[MAGIC_WORD] == 'Channel'].index[0]\n",
    "    df.columns = df.iloc[ind]\n",
    "    df = df.iloc[ind+1:]\n",
    "    # Обнулим индексы\n",
    "    df.reset_index(drop=True, inplace=True)\n",
    "    # Приведем к численному типу\n",
    "    df = df.apply(pd.to_numeric)\n",
    "    return df, float(time)"
   ]
  },
  {
   "cell_type": "code",
   "execution_count": 4,
   "metadata": {
    "ExecuteTime": {
     "end_time": "2018-09-23T16:17:03.774155Z",
     "start_time": "2018-09-23T16:17:03.749247Z"
    },
    "kernel": "SoS"
   },
   "outputs": [],
   "source": [
    "def plot_data_optimized(x_values, y_values, fig=None, axes=None,\n",
    "                        title=r'Graph', x_label=r'X', y_label=r'Y', \n",
    "                        save_to=False, threshold=0.0):\n",
    "    '''\n",
    "    Умное построение:\n",
    "    1) Убираются данные, похожие на шум (те, чье значение < 1% от максимального)\n",
    "    '''\n",
    "    if fig is None or axes is None:\n",
    "        fig, axes = plt.subplots(figsize=(16, 9))\n",
    "    \n",
    "    max_y, min_y = np.max(y_values), np.min(y_values)\n",
    "    threshold *= (max_y-min_y)\n",
    "    # Перед тем, как менять данные, сделаем их копию\n",
    "    x_values, y_values = x_values.copy(), y_values.copy()\n",
    "    x_values, y_values = (x_values[y_values >= threshold], \n",
    "                          y_values[y_values >= threshold])\n",
    "    \n",
    "    axes.plot(x_values, y_values)\n",
    "    axes.grid(True)\n",
    "    axes.set_xlabel(x_label)\n",
    "    axes.set_ylabel(y_label)\n",
    "    axes.set_title(title)\n",
    "    \n",
    "    # Сохраним\n",
    "    if save_to:\n",
    "        fig.savefig(save_to)\n",
    "    return fig, axes"
   ]
  },
  {
   "cell_type": "code",
   "execution_count": 5,
   "metadata": {
    "ExecuteTime": {
     "end_time": "2018-09-23T16:17:04.028572Z",
     "start_time": "2018-09-23T16:17:03.806578Z"
    },
    "kernel": "SoS"
   },
   "outputs": [],
   "source": [
    "from scipy.optimize import curve_fit\n",
    "def fit_with_gauss(x_data, y_data, y_error=None, initial_guess=[1, 1, 1]):\n",
    "    #def find_optimal_function(data, functions, y_data='N', x_data='LL', y_error=None):\n",
    "    if y_error is None:\n",
    "        #y_error = y_data + '_error'\n",
    "        y_error = np.zeros(len(y_data))\n",
    "    #  Подготим все к подгону! 1) Вычтем минимальное значение;\n",
    "    # 2) поделим X на максимальный из X;\n",
    "    y_data = y_data.copy()\n",
    "    x_data = x_data.copy()\n",
    "    min_y = np.min(y_data)\n",
    "    y_data -= min_y\n",
    "    max_x = np.max(x_data)\n",
    "    x_data /= max_x\n",
    "    func = lambda x, a, mu, sigma: a*np.exp(-(x-mu)**2/(2*sigma**2))\n",
    "    popt, pcov = curve_fit(func, x_data, y_data, maxfev=100000, p0=initial_guess)\n",
    "    # Преобразуем оптимальные параметры обратно\n",
    "    popt[1] *= max_x\n",
    "    popt[2] *= max_x\n",
    "    return lambda x: (func(x , *popt) + min_y), popt"
   ]
  },
  {
   "cell_type": "code",
   "execution_count": 6,
   "metadata": {
    "ExecuteTime": {
     "end_time": "2018-09-23T16:17:04.075526Z",
     "start_time": "2018-09-23T16:17:04.068748Z"
    },
    "kernel": "SoS"
   },
   "outputs": [],
   "source": [
    "def get_gauss_halfwidth(sigma):\n",
    "    return abs(2*np.sqrt(2*np.log(2))*sigma)"
   ]
  },
  {
   "cell_type": "markdown",
   "metadata": {
    "kernel": "SoS"
   },
   "source": [
    "### Градуировка по $_{\\,\\,88}^{226}Ra$"
   ]
  },
  {
   "cell_type": "code",
   "execution_count": 7,
   "metadata": {
    "ExecuteTime": {
     "end_time": "2018-09-23T16:17:11.971884Z",
     "start_time": "2018-09-23T16:17:11.942362Z"
    },
    "kernel": "SoS"
   },
   "outputs": [],
   "source": [
    "# Перед началом работы создадим таблицу, которую просят сделать в доп. описании\n",
    "res_table_cols = [r'Источник', r'N_i', r'Delta N_i', r'E_i', r'Delta E_i', r'R_i']\n",
    "result_table = pd.DataFrame(columns=res_table_cols)"
   ]
  },
  {
   "cell_type": "code",
   "execution_count": 16,
   "metadata": {
    "ExecuteTime": {
     "end_time": "2018-09-23T16:19:55.369847Z",
     "start_time": "2018-09-23T16:19:55.293228Z"
    },
    "kernel": "SoS",
    "scrolled": true
   },
   "outputs": [
    {
     "data": {
      "text/html": [
       "<div>\n",
       "<style scoped>\n",
       "    .dataframe tbody tr th:only-of-type {\n",
       "        vertical-align: middle;\n",
       "    }\n",
       "\n",
       "    .dataframe tbody tr th {\n",
       "        vertical-align: top;\n",
       "    }\n",
       "\n",
       "    .dataframe thead th {\n",
       "        text-align: right;\n",
       "    }\n",
       "</style>\n",
       "<table border=\"1\" class=\"dataframe\">\n",
       "  <thead>\n",
       "    <tr style=\"text-align: right;\">\n",
       "      <th>19</th>\n",
       "      <th>Channel</th>\n",
       "      <th>Value</th>\n",
       "    </tr>\n",
       "  </thead>\n",
       "  <tbody>\n",
       "    <tr>\n",
       "      <th>0</th>\n",
       "      <td>0</td>\n",
       "      <td>0</td>\n",
       "    </tr>\n",
       "    <tr>\n",
       "      <th>1</th>\n",
       "      <td>1</td>\n",
       "      <td>0</td>\n",
       "    </tr>\n",
       "    <tr>\n",
       "      <th>2</th>\n",
       "      <td>2</td>\n",
       "      <td>0</td>\n",
       "    </tr>\n",
       "    <tr>\n",
       "      <th>3</th>\n",
       "      <td>3</td>\n",
       "      <td>0</td>\n",
       "    </tr>\n",
       "    <tr>\n",
       "      <th>4</th>\n",
       "      <td>4</td>\n",
       "      <td>0</td>\n",
       "    </tr>\n",
       "  </tbody>\n",
       "</table>\n",
       "</div>"
      ],
      "text/plain": [
       "19  Channel  Value\n",
       "0         0      0\n",
       "1         1      0\n",
       "2         2      0\n",
       "3         3      0\n",
       "4         4      0"
      ]
     },
     "execution_count": 16,
     "metadata": {},
     "output_type": "execute_result"
    }
   ],
   "source": [
    "ra_df, ra_time = read_table_and_time(os.path.join(WORKING_DIRECTORY, \n",
    "                                                  RA_FILE))\n",
    "ra_df.head()"
   ]
  },
  {
   "cell_type": "markdown",
   "metadata": {
    "kernel": "SoS"
   },
   "source": [
    "Построим ориентировочный график зависимости $N(E) = a\\,E$"
   ]
  },
  {
   "cell_type": "code",
   "execution_count": 17,
   "metadata": {
    "ExecuteTime": {
     "end_time": "2018-09-23T16:20:00.064762Z",
     "start_time": "2018-09-23T16:20:00.055371Z"
    },
    "kernel": "SoS"
   },
   "outputs": [],
   "source": [
    "x_data = ra_df['Channel']\n",
    "y_data = ra_df['Value']"
   ]
  },
  {
   "cell_type": "code",
   "execution_count": 18,
   "metadata": {
    "ExecuteTime": {
     "end_time": "2018-09-23T16:20:02.447451Z",
     "start_time": "2018-09-23T16:20:00.774498Z"
    },
    "kernel": "SoS"
   },
   "outputs": [
    {
     "name": "stderr",
     "output_type": "stream",
     "text": [
      "/usr/local/lib/python3.5/dist-packages/matplotlib/figure.py:457: UserWarning: matplotlib is currently using a non-GUI backend, so cannot show the figure\n",
      "  \"matplotlib is currently using a non-GUI backend, \"\n"
     ]
    },
    {
     "data": {
      "image/png": "[encoded data removed]",
      "text/plain": [
       "<Figure size 1152x648 with 1 Axes>"
      ]
     },
     "metadata": {
      "needs_background": "light"
     },
     "output_type": "display_data"
    }
   ],
   "source": [
    "plot_data_optimized(x_values=x_data, y_values=y_data,\n",
    "                    title=r'Эксперимент с $^{226}_{\\,\\,88}Ra$', \n",
    "                    x_label=r'Номер канала', y_label=r'Число частиц $N$',\n",
    "                    save_to='out1.pdf')[0].show()"
   ]
  },
  {
   "cell_type": "markdown",
   "metadata": {
    "kernel": "SoS"
   },
   "source": [
    "Попытаемся аппросимировать пики гауссианой"
   ]
  },
  {
   "cell_type": "code",
   "execution_count": 19,
   "metadata": {
    "ExecuteTime": {
     "end_time": "2018-09-23T16:20:11.044343Z",
     "start_time": "2018-09-23T16:20:11.023344Z"
    },
    "kernel": "SoS"
   },
   "outputs": [],
   "source": [
    "# TODO: замените на свои\n",
    "# Я очень хорошо угадал свои интервалы!\n",
    "peaks = [\n",
    "    # Мелкий пик\n",
    "    #(2200, 2290),\n",
    "    # Большой пик\n",
    "    (2280, 2400),\n",
    "    # Мелкий пик\n",
    "    #(2550, 2630),\n",
    "    # Большой пик\n",
    "    (2500, 2730),\n",
    "    # Большой пик\n",
    "    (2850, 2990),\n",
    "    # Большой пик\n",
    "    (3640, 3810)\n",
    "]"
   ]
  },
  {
   "cell_type": "code",
   "execution_count": 20,
   "metadata": {
    "ExecuteTime": {
     "end_time": "2018-09-23T16:20:11.367750Z",
     "start_time": "2018-09-23T16:20:11.342048Z"
    },
    "kernel": "SoS"
   },
   "outputs": [],
   "source": [
    "indices = [(x_data > peak[0]) & (x_data < peak[1]) for peak in peaks]"
   ]
  },
  {
   "cell_type": "code",
   "execution_count": 21,
   "metadata": {
    "ExecuteTime": {
     "end_time": "2018-09-23T16:20:13.532872Z",
     "start_time": "2018-09-23T16:20:11.809611Z"
    },
    "kernel": "SoS"
   },
   "outputs": [
    {
     "name": "stderr",
     "output_type": "stream",
     "text": [
      "/usr/local/lib/python3.5/dist-packages/scipy/optimize/minpack.py:794: OptimizeWarning: Covariance of the parameters could not be estimated\n",
      "  category=OptimizeWarning)\n"
     ]
    }
   ],
   "source": [
    "f, params = [], []\n",
    "for ind in indices:\n",
    "    f1, params1 = fit_with_gauss(x_data[ind], y_data[ind], \n",
    "                                 initial_guess=[y_data[ind].max(), 0.5, 1])\n",
    "    f.append(f1)\n",
    "    params.append(params1)"
   ]
  },
  {
   "cell_type": "code",
   "execution_count": 22,
   "metadata": {
    "ExecuteTime": {
     "end_time": "2018-09-23T16:20:15.451462Z",
     "start_time": "2018-09-23T16:20:13.632818Z"
    },
    "kernel": "SoS"
   },
   "outputs": [
    {
     "name": "stderr",
     "output_type": "stream",
     "text": [
      "/usr/local/lib/python3.5/dist-packages/matplotlib/figure.py:457: UserWarning: matplotlib is currently using a non-GUI backend, so cannot show the figure\n",
      "  \"matplotlib is currently using a non-GUI backend, \"\n"
     ]
    },
    {
     "data": {
      "image/png": "[encoded data removed]",
      "text/plain": [
       "<Figure size 1152x648 with 1 Axes>"
      ]
     },
     "metadata": {
      "needs_background": "light"
     },
     "output_type": "display_data"
    }
   ],
   "source": [
    "fig, axes = plot_data_optimized(x_data, y_data)\n",
    "for i in range(len(indices)):\n",
    "    fig, axes = plot_data_optimized(x_data[indices[i]], \n",
    "                                    f[i](x_data[indices[i]]), \n",
    "                                    fig=fig, axes=axes,\n",
    "                                    title=r'Эксперимент с $^{226}_{\\,\\,88}Ra$', \n",
    "                                    x_label=r'Номер канала', y_label=r'Число частиц $N$',\n",
    "                                    save_to='out1.pdf')\n",
    "    # Заполним таблицу из лабника\n",
    "    \n",
    "    result_table = pd.concat(\n",
    "        [result_table, pd.DataFrame([['Ra', \n",
    "                                      params[i][1], \n",
    "                                      get_gauss_halfwidth(params[i][2]), \n",
    "                                      # Пока мы их не знаем\n",
    "                                      0, 0, 0]], columns=res_table_cols)])\n",
    "fig.show()"
   ]
  },
  {
   "cell_type": "code",
   "execution_count": 23,
   "metadata": {
    "ExecuteTime": {
     "end_time": "2018-09-23T16:20:19.937776Z",
     "start_time": "2018-09-23T16:20:19.884648Z"
    },
    "kernel": "SoS"
   },
   "outputs": [
    {
     "data": {
      "text/html": [
       "<div>\n",
       "<style scoped>\n",
       "    .dataframe tbody tr th:only-of-type {\n",
       "        vertical-align: middle;\n",
       "    }\n",
       "\n",
       "    .dataframe tbody tr th {\n",
       "        vertical-align: top;\n",
       "    }\n",
       "\n",
       "    .dataframe thead th {\n",
       "        text-align: right;\n",
       "    }\n",
       "</style>\n",
       "<table border=\"1\" class=\"dataframe\">\n",
       "  <thead>\n",
       "    <tr style=\"text-align: right;\">\n",
       "      <th></th>\n",
       "      <th>Источник</th>\n",
       "      <th>N_i</th>\n",
       "      <th>Delta N_i</th>\n",
       "      <th>E_i</th>\n",
       "      <th>Delta E_i</th>\n",
       "      <th>R_i</th>\n",
       "    </tr>\n",
       "  </thead>\n",
       "  <tbody>\n",
       "    <tr>\n",
       "      <th>0</th>\n",
       "      <td>Ra</td>\n",
       "      <td>2433.363085</td>\n",
       "      <td>67.246717</td>\n",
       "      <td>0</td>\n",
       "      <td>0</td>\n",
       "      <td>0</td>\n",
       "    </tr>\n",
       "    <tr>\n",
       "      <th>0</th>\n",
       "      <td>Ra</td>\n",
       "      <td>2730.282936</td>\n",
       "      <td>1.005784</td>\n",
       "      <td>0</td>\n",
       "      <td>0</td>\n",
       "      <td>0</td>\n",
       "    </tr>\n",
       "    <tr>\n",
       "      <th>0</th>\n",
       "      <td>Ra</td>\n",
       "      <td>-15690.313436</td>\n",
       "      <td>176.464495</td>\n",
       "      <td>0</td>\n",
       "      <td>0</td>\n",
       "      <td>0</td>\n",
       "    </tr>\n",
       "    <tr>\n",
       "      <th>0</th>\n",
       "      <td>Ra</td>\n",
       "      <td>1904.500000</td>\n",
       "      <td>8969.509552</td>\n",
       "      <td>0</td>\n",
       "      <td>0</td>\n",
       "      <td>0</td>\n",
       "    </tr>\n",
       "  </tbody>\n",
       "</table>\n",
       "</div>"
      ],
      "text/plain": [
       "  Источник           N_i    Delta N_i E_i Delta E_i R_i\n",
       "0       Ra   2433.363085    67.246717   0         0   0\n",
       "0       Ra   2730.282936     1.005784   0         0   0\n",
       "0       Ra -15690.313436   176.464495   0         0   0\n",
       "0       Ra   1904.500000  8969.509552   0         0   0"
      ]
     },
     "execution_count": 23,
     "metadata": {},
     "output_type": "execute_result"
    }
   ],
   "source": [
    "result_table"
   ]
  },
  {
   "cell_type": "markdown",
   "metadata": {
    "kernel": "SoS"
   },
   "source": [
    "Имеем хорошие пики! Теперь пора на них садиться..."
   ]
  },
  {
   "cell_type": "code",
   "execution_count": 24,
   "metadata": {
    "ExecuteTime": {
     "end_time": "2018-09-23T16:20:20.699586Z",
     "start_time": "2018-09-23T16:20:20.684899Z"
    },
    "kernel": "SoS"
   },
   "outputs": [],
   "source": [
    "# Вытащим матожидания\n",
    "mu = [param[1] for param in params]"
   ]
  },
  {
   "cell_type": "markdown",
   "metadata": {
    "ExecuteTime": {
     "end_time": "2018-09-20T21:04:24.638607Z",
     "start_time": "2018-09-20T21:04:24.622356Z"
    },
    "kernel": "SoS",
    "variables": {
     "E = []; E.append(4.784); E[0]": "4.784",
     "E.append(5.490); format(E[1], '.3f')": "5.490",
     "E.append(6.002); E[2]": "6.002",
     "E.append(7.687); E[3]": "7.687"
    }
   },
   "source": [
    "Энергии даны в лабнике $E_1$ = {{E = []; E.append(4.784); E[0]}} МэВ, $E_2$ = {{E.append(5.490); format(E[1], '.3f')}} МэВ, $E_3$ = {{E.append(6.002); E[2]}} МэВ, $E_4$ = {{E.append(7.687); E[3]}} МэВ."
   ]
  },
  {
   "cell_type": "markdown",
   "metadata": {
    "kernel": "SoS"
   },
   "source": [
    "Построим по ним линейную регрессию и убедимся, что действительно существует линейная зависимость между $E$ и номером канала. \\label{p1:linreg}"
   ]
  },
  {
   "cell_type": "code",
   "execution_count": 17,
   "metadata": {
    "ExecuteTime": {
     "end_time": "2018-09-22T16:55:11.219535Z",
     "start_time": "2018-09-22T16:55:09.587456Z"
    },
    "kernel": "SoS"
   },
   "outputs": [
    {
     "name": "stdout",
     "output_type": "stream",
     "text": [
      "p-value: 1.000000\n"
     ]
    },
    {
     "data": {
      "image/png": "[encoded data removed]",
      "text/plain": [
       "<Figure size 432x288 with 1 Axes>"
      ]
     },
     "metadata": {
      "needs_background": "light"
     },
     "output_type": "display_data"
    }
   ],
   "source": [
    "from scipy.stats import chi2_contingency\n",
    "print('p-value: %f' % chi2_contingency(mu, E)[1])\n",
    "plt.scatter(mu, E)\n",
    "plt.plot(mu, E)\n",
    "plt.grid()\n",
    "plt.show()"
   ]
  },
  {
   "cell_type": "markdown",
   "metadata": {
    "kernel": "SoS"
   },
   "source": [
    "Видим, что прибор был действительно настроен хорошо."
   ]
  },
  {
   "cell_type": "markdown",
   "metadata": {
    "kernel": "SoS"
   },
   "source": [
    "Теперь мы готовы анализировать дальнейшие спектры, но для начала подсчитаем коэффициент линейной регрессии:"
   ]
  },
  {
   "cell_type": "code",
   "execution_count": 18,
   "metadata": {
    "ExecuteTime": {
     "end_time": "2018-09-22T16:55:11.302240Z",
     "start_time": "2018-09-22T16:55:11.248776Z"
    },
    "kernel": "SoS"
   },
   "outputs": [],
   "source": [
    "from scipy.stats import linregress\n",
    "k = linregress(mu, E).slope"
   ]
  },
  {
   "cell_type": "markdown",
   "metadata": {
    "ExecuteTime": {
     "end_time": "2018-09-20T21:24:17.220879Z",
     "start_time": "2018-09-20T21:24:17.198373Z"
    },
    "kernel": "SoS",
    "variables": {
     "format(k, '.8f')": {}
    }
   },
   "source": [
    "<center> k = {{format(k, '.8f')}} </center>"
   ]
  },
  {
   "cell_type": "markdown",
   "metadata": {
    "kernel": "SoS"
   },
   "source": [
    "Теперь мы готовы идти дальше"
   ]
  },
  {
   "cell_type": "markdown",
   "metadata": {
    "kernel": "SoS"
   },
   "source": [
    "### Исследование $^{241}_{\\,\\,95} Am + ^{230}_{\\,\\,90} Th$"
   ]
  },
  {
   "cell_type": "code",
   "execution_count": 19,
   "metadata": {
    "ExecuteTime": {
     "end_time": "2018-09-22T16:55:11.535618Z",
     "start_time": "2018-09-22T16:55:11.384421Z"
    },
    "kernel": "SoS"
   },
   "outputs": [],
   "source": [
    "at_df, at_time = read_table_and_time(\n",
    "    os.path.join(WORKING_DIRECTORY, AM_TH_FILE))"
   ]
  },
  {
   "cell_type": "code",
   "execution_count": 20,
   "metadata": {
    "ExecuteTime": {
     "end_time": "2018-09-22T16:55:11.639358Z",
     "start_time": "2018-09-22T16:55:11.563403Z"
    },
    "kernel": "SoS"
   },
   "outputs": [
    {
     "data": {
      "text/html": [
       "<div>\n",
       "<style scoped>\n",
       "    .dataframe tbody tr th:only-of-type {\n",
       "        vertical-align: middle;\n",
       "    }\n",
       "\n",
       "    .dataframe tbody tr th {\n",
       "        vertical-align: top;\n",
       "    }\n",
       "\n",
       "    .dataframe thead th {\n",
       "        text-align: right;\n",
       "    }\n",
       "</style>\n",
       "<table border=\"1\" class=\"dataframe\">\n",
       "  <thead>\n",
       "    <tr style=\"text-align: right;\">\n",
       "      <th>20</th>\n",
       "      <th>Channel</th>\n",
       "      <th>Value</th>\n",
       "    </tr>\n",
       "  </thead>\n",
       "  <tbody>\n",
       "    <tr>\n",
       "      <th>0</th>\n",
       "      <td>0</td>\n",
       "      <td>0</td>\n",
       "    </tr>\n",
       "    <tr>\n",
       "      <th>1</th>\n",
       "      <td>1</td>\n",
       "      <td>0</td>\n",
       "    </tr>\n",
       "    <tr>\n",
       "      <th>2</th>\n",
       "      <td>2</td>\n",
       "      <td>0</td>\n",
       "    </tr>\n",
       "    <tr>\n",
       "      <th>3</th>\n",
       "      <td>3</td>\n",
       "      <td>0</td>\n",
       "    </tr>\n",
       "    <tr>\n",
       "      <th>4</th>\n",
       "      <td>4</td>\n",
       "      <td>0</td>\n",
       "    </tr>\n",
       "  </tbody>\n",
       "</table>\n",
       "</div>"
      ],
      "text/plain": [
       "20  Channel  Value\n",
       "0         0      0\n",
       "1         1      0\n",
       "2         2      0\n",
       "3         3      0\n",
       "4         4      0"
      ]
     },
     "execution_count": 20,
     "metadata": {},
     "output_type": "execute_result"
    }
   ],
   "source": [
    "at_df.head()"
   ]
  },
  {
   "cell_type": "markdown",
   "metadata": {
    "kernel": "SoS"
   },
   "source": [
    "Построим ориентировочный график зависимости $N(E) = a\\,E$"
   ]
  },
  {
   "cell_type": "code",
   "execution_count": 21,
   "metadata": {
    "ExecuteTime": {
     "end_time": "2018-09-22T16:55:11.693681Z",
     "start_time": "2018-09-22T16:55:11.663422Z"
    },
    "kernel": "SoS"
   },
   "outputs": [],
   "source": [
    "x_data = at_df['Channel']\n",
    "y_data = at_df['Value']"
   ]
  },
  {
   "cell_type": "code",
   "execution_count": 22,
   "metadata": {
    "ExecuteTime": {
     "end_time": "2018-09-22T16:55:14.344251Z",
     "start_time": "2018-09-22T16:55:11.726180Z"
    },
    "kernel": "SoS",
    "scrolled": true
   },
   "outputs": [
    {
     "name": "stderr",
     "output_type": "stream",
     "text": [
      "/usr/local/lib/python3.5/dist-packages/matplotlib/figure.py:457: UserWarning: matplotlib is currently using a non-GUI backend, so cannot show the figure\n",
      "  \"matplotlib is currently using a non-GUI backend, \"\n"
     ]
    },
    {
     "data": {
      "image/png": "[encoded data removed]",
      "text/plain": [
       "<Figure size 1152x648 with 1 Axes>"
      ]
     },
     "metadata": {
      "needs_background": "light"
     },
     "output_type": "display_data"
    }
   ],
   "source": [
    "plot_data_optimized(x_values=x_data, y_values=y_data, threshold=0,\n",
    "                    title=r'Эксперимент с $^{241}_{\\,\\,95} Am + ^{230}_{\\,\\,90} Th$', \n",
    "                    x_label=r'Номер канала', y_label=r'Число частиц $N$',\n",
    "                    save_to='out2.pdf')[0].show()"
   ]
  },
  {
   "cell_type": "markdown",
   "metadata": {
    "kernel": "SoS"
   },
   "source": [
    "Попытаемся аппросимировать пики гауссианой"
   ]
  },
  {
   "cell_type": "code",
   "execution_count": 23,
   "metadata": {
    "ExecuteTime": {
     "end_time": "2018-09-22T16:55:14.408045Z",
     "start_time": "2018-09-22T16:55:14.372192Z"
    },
    "kernel": "SoS"
   },
   "outputs": [],
   "source": [
    "# TODO: замените на свои\n",
    "# Я очень хорошо угадал свои интервалы!\n",
    "peaks = [\n",
    "    # Большой пик\n",
    "    (2250, 2400),\n",
    "    # Большой пик\n",
    "    (2660, 2800),\n",
    "]"
   ]
  },
  {
   "cell_type": "code",
   "execution_count": 24,
   "metadata": {
    "ExecuteTime": {
     "end_time": "2018-09-22T16:55:14.494120Z",
     "start_time": "2018-09-22T16:55:14.430156Z"
    },
    "kernel": "SoS"
   },
   "outputs": [],
   "source": [
    "indices = [(x_data > peak[0]) & (x_data < peak[1]) for peak in peaks]"
   ]
  },
  {
   "cell_type": "code",
   "execution_count": 25,
   "metadata": {
    "ExecuteTime": {
     "end_time": "2018-09-22T16:55:15.596559Z",
     "start_time": "2018-09-22T16:55:14.516116Z"
    },
    "kernel": "SoS"
   },
   "outputs": [],
   "source": [
    "f, params = [], []\n",
    "for ind in indices:\n",
    "    f1, params1 = fit_with_gauss(x_data[ind], y_data[ind], \n",
    "                                 initial_guess=[y_data[ind].max(), 0.5, 1])\n",
    "    f.append(f1)\n",
    "    params.append(params1)"
   ]
  },
  {
   "cell_type": "code",
   "execution_count": 26,
   "metadata": {
    "ExecuteTime": {
     "end_time": "2018-09-22T16:55:18.752781Z",
     "start_time": "2018-09-22T16:55:15.627284Z"
    },
    "kernel": "SoS"
   },
   "outputs": [
    {
     "name": "stderr",
     "output_type": "stream",
     "text": [
      "/usr/local/lib/python3.5/dist-packages/matplotlib/figure.py:457: UserWarning: matplotlib is currently using a non-GUI backend, so cannot show the figure\n",
      "  \"matplotlib is currently using a non-GUI backend, \"\n"
     ]
    },
    {
     "data": {
      "image/png": "[encoded data removed]",
      "text/plain": [
       "<Figure size 1152x648 with 1 Axes>"
      ]
     },
     "metadata": {
      "needs_background": "light"
     },
     "output_type": "display_data"
    }
   ],
   "source": [
    "fig, axes = plot_data_optimized(x_data, y_data)\n",
    "for i in range(len(indices)):\n",
    "    fig, axes = plot_data_optimized(x_data[indices[i]], \n",
    "                                    f[i](x_data[indices[i]]), \n",
    "                                    fig=fig, axes=axes,\n",
    "                                    title=r'Эксперимент с $^{241}_{\\,\\,95} Am + ^{230}_{\\,\\,90} Th$', \n",
    "                                    x_label=r'Номер канала', y_label=r'Число частиц $N$',\n",
    "                                    save_to='out2.pdf')\n",
    "    # Заполним таблицу из лабника\n",
    "    result_table = pd.concat(\n",
    "        [result_table, pd.DataFrame([['Am+Th', \n",
    "                                      params[i][1], \n",
    "                                      get_gauss_halfwidth(params[i][2]), \n",
    "                                      # Пока мы их не знаем\n",
    "                                      0, 0, 0]], columns=res_table_cols)])\n",
    "fig.show()"
   ]
  },
  {
   "cell_type": "markdown",
   "metadata": {
    "kernel": "SoS"
   },
   "source": [
    "Имеем ярко выраженные пики. Подсчитаем их энергию, соглсно п. 1"
   ]
  },
  {
   "cell_type": "code",
   "execution_count": 27,
   "metadata": {
    "ExecuteTime": {
     "end_time": "2018-09-22T16:55:18.800012Z",
     "start_time": "2018-09-22T16:55:18.774035Z"
    },
    "kernel": "SoS"
   },
   "outputs": [],
   "source": [
    "# Вытащим матожидания\n",
    "mu = [param[1] for param in params]\n",
    "E_at = [m*k for m in mu]"
   ]
  },
  {
   "cell_type": "code",
   "execution_count": 28,
   "metadata": {
    "ExecuteTime": {
     "end_time": "2018-09-22T16:55:18.866990Z",
     "start_time": "2018-09-22T16:55:18.828680Z"
    },
    "kernel": "SoS"
   },
   "outputs": [
    {
     "data": {
      "text/plain": [
       "[4.795296662713277, 5.614698507708594]"
      ]
     },
     "execution_count": 28,
     "metadata": {},
     "output_type": "execute_result"
    }
   ],
   "source": [
    "E_at"
   ]
  },
  {
   "cell_type": "markdown",
   "metadata": {
    "ExecuteTime": {
     "end_time": "2018-09-20T21:42:14.960350Z",
     "start_time": "2018-09-20T21:42:14.944927Z"
    },
    "kernel": "SoS"
   },
   "source": [
    "\\[ \\boxed{\n",
    "    E_1 = 4.795 \\text{ МэВ} \\\\\n",
    "    E_2 = 5.615 \\text{ МэВ} \n",
    "}\\]"
   ]
  },
  {
   "cell_type": "markdown",
   "metadata": {
    "kernel": "SoS"
   },
   "source": [
    "### Исследование $^{239}_{\\,\\,94}Pu$"
   ]
  },
  {
   "cell_type": "code",
   "execution_count": 29,
   "metadata": {
    "ExecuteTime": {
     "end_time": "2018-09-22T16:55:19.052576Z",
     "start_time": "2018-09-22T16:55:18.892783Z"
    },
    "kernel": "SoS"
   },
   "outputs": [],
   "source": [
    "pu_df, pu_time = read_table_and_time(\n",
    "    os.path.join(WORKING_DIRECTORY, PU_FILE))"
   ]
  },
  {
   "cell_type": "code",
   "execution_count": 30,
   "metadata": {
    "ExecuteTime": {
     "end_time": "2018-09-22T16:55:19.154534Z",
     "start_time": "2018-09-22T16:55:19.079819Z"
    },
    "kernel": "SoS"
   },
   "outputs": [
    {
     "data": {
      "text/html": [
       "<div>\n",
       "<style scoped>\n",
       "    .dataframe tbody tr th:only-of-type {\n",
       "        vertical-align: middle;\n",
       "    }\n",
       "\n",
       "    .dataframe tbody tr th {\n",
       "        vertical-align: top;\n",
       "    }\n",
       "\n",
       "    .dataframe thead th {\n",
       "        text-align: right;\n",
       "    }\n",
       "</style>\n",
       "<table border=\"1\" class=\"dataframe\">\n",
       "  <thead>\n",
       "    <tr style=\"text-align: right;\">\n",
       "      <th>20</th>\n",
       "      <th>Channel</th>\n",
       "      <th>Value</th>\n",
       "    </tr>\n",
       "  </thead>\n",
       "  <tbody>\n",
       "    <tr>\n",
       "      <th>0</th>\n",
       "      <td>0</td>\n",
       "      <td>0</td>\n",
       "    </tr>\n",
       "    <tr>\n",
       "      <th>1</th>\n",
       "      <td>1</td>\n",
       "      <td>0</td>\n",
       "    </tr>\n",
       "    <tr>\n",
       "      <th>2</th>\n",
       "      <td>2</td>\n",
       "      <td>0</td>\n",
       "    </tr>\n",
       "    <tr>\n",
       "      <th>3</th>\n",
       "      <td>3</td>\n",
       "      <td>0</td>\n",
       "    </tr>\n",
       "    <tr>\n",
       "      <th>4</th>\n",
       "      <td>4</td>\n",
       "      <td>0</td>\n",
       "    </tr>\n",
       "  </tbody>\n",
       "</table>\n",
       "</div>"
      ],
      "text/plain": [
       "20  Channel  Value\n",
       "0         0      0\n",
       "1         1      0\n",
       "2         2      0\n",
       "3         3      0\n",
       "4         4      0"
      ]
     },
     "execution_count": 30,
     "metadata": {},
     "output_type": "execute_result"
    }
   ],
   "source": [
    "at_df.head()"
   ]
  },
  {
   "cell_type": "markdown",
   "metadata": {
    "kernel": "SoS"
   },
   "source": [
    "Построим ориентировочный график зависимости $N(E) = a\\,E$"
   ]
  },
  {
   "cell_type": "code",
   "execution_count": 31,
   "metadata": {
    "ExecuteTime": {
     "end_time": "2018-09-22T16:55:19.204886Z",
     "start_time": "2018-09-22T16:55:19.182880Z"
    },
    "kernel": "SoS"
   },
   "outputs": [],
   "source": [
    "x_data = pu_df['Channel']\n",
    "y_data = pu_df['Value']"
   ]
  },
  {
   "cell_type": "code",
   "execution_count": 32,
   "metadata": {
    "ExecuteTime": {
     "end_time": "2018-09-22T16:55:21.540946Z",
     "start_time": "2018-09-22T16:55:19.230033Z"
    },
    "kernel": "SoS",
    "scrolled": true
   },
   "outputs": [
    {
     "name": "stderr",
     "output_type": "stream",
     "text": [
      "/usr/local/lib/python3.5/dist-packages/matplotlib/figure.py:457: UserWarning: matplotlib is currently using a non-GUI backend, so cannot show the figure\n",
      "  \"matplotlib is currently using a non-GUI backend, \"\n"
     ]
    },
    {
     "data": {
      "image/png": "[encoded data removed]",
      "text/plain": [
       "<Figure size 1152x648 with 1 Axes>"
      ]
     },
     "metadata": {
      "needs_background": "light"
     },
     "output_type": "display_data"
    }
   ],
   "source": [
    "plot_data_optimized(x_values=x_data, y_values=y_data, threshold=0,\n",
    "                    title=r'Эксперимент с $^{239}_{\\,\\,94}Pu$', \n",
    "                    x_label=r'Номер канала', y_label=r'Число частиц $N$',\n",
    "                    save_to='out3.pdf')[0].show()"
   ]
  },
  {
   "cell_type": "markdown",
   "metadata": {
    "kernel": "SoS"
   },
   "source": [
    "Попытаемся аппросимировать пики гауссианой"
   ]
  },
  {
   "cell_type": "code",
   "execution_count": 33,
   "metadata": {
    "ExecuteTime": {
     "end_time": "2018-09-22T16:55:21.599157Z",
     "start_time": "2018-09-22T16:55:21.567559Z"
    },
    "kernel": "SoS"
   },
   "outputs": [],
   "source": [
    "# TODO: замените на свои\n",
    "# Я очень хорошо угадал свои интервалы!\n",
    "peaks = [\n",
    "    # Большой пик\n",
    "    (2500, 2600),\n",
    "]"
   ]
  },
  {
   "cell_type": "code",
   "execution_count": 34,
   "metadata": {
    "ExecuteTime": {
     "end_time": "2018-09-22T16:55:21.666974Z",
     "start_time": "2018-09-22T16:55:21.631265Z"
    },
    "kernel": "SoS"
   },
   "outputs": [],
   "source": [
    "indices = [(x_data > peak[0]) & (x_data < peak[1]) for peak in peaks]"
   ]
  },
  {
   "cell_type": "code",
   "execution_count": 35,
   "metadata": {
    "ExecuteTime": {
     "end_time": "2018-09-22T16:55:22.168091Z",
     "start_time": "2018-09-22T16:55:21.691691Z"
    },
    "kernel": "SoS"
   },
   "outputs": [],
   "source": [
    "f, params = [], []\n",
    "for ind in indices:\n",
    "    f1, params1 = fit_with_gauss(x_data[ind], y_data[ind], \n",
    "                                 initial_guess=[y_data[ind].max(), 0.5, 1])\n",
    "    f.append(f1)\n",
    "    params.append(params1)"
   ]
  },
  {
   "cell_type": "code",
   "execution_count": 36,
   "metadata": {
    "ExecuteTime": {
     "end_time": "2018-09-22T16:55:24.575737Z",
     "start_time": "2018-09-22T16:55:22.197824Z"
    },
    "kernel": "SoS"
   },
   "outputs": [
    {
     "name": "stderr",
     "output_type": "stream",
     "text": [
      "/usr/local/lib/python3.5/dist-packages/matplotlib/figure.py:457: UserWarning: matplotlib is currently using a non-GUI backend, so cannot show the figure\n",
      "  \"matplotlib is currently using a non-GUI backend, \"\n"
     ]
    },
    {
     "data": {
      "image/png": "[encoded data removed]",
      "text/plain": [
       "<Figure size 1152x648 with 1 Axes>"
      ]
     },
     "metadata": {
      "needs_background": "light"
     },
     "output_type": "display_data"
    }
   ],
   "source": [
    "fig, axes = plot_data_optimized(x_data, y_data)\n",
    "for i in range(len(indices)):\n",
    "    fig, axes = plot_data_optimized(x_data[indices[i]], \n",
    "                                    f[i](x_data[indices[i]]), \n",
    "                                    fig=fig, axes=axes,\n",
    "                                    title=r'Эксперимент с $^{239}_{\\,\\,94}Pu$', \n",
    "                                    x_label=r'Номер канала', y_label=r'Число частиц $N$',\n",
    "                                    save_to='out3.pdf')\n",
    "    # Заполним таблицу из лабника\n",
    "    result_table = pd.concat(\n",
    "        [result_table, pd.DataFrame([['Pu', \n",
    "                                      params[i][1], \n",
    "                                      get_gauss_halfwidth(params[i][2]), \n",
    "                                      # Пока мы их не знаем\n",
    "                                      0, 0, 0]], columns=res_table_cols)])\n",
    "fig.show()"
   ]
  },
  {
   "cell_type": "markdown",
   "metadata": {
    "kernel": "SoS"
   },
   "source": [
    "Имеем ярко выраженный пик. Подсчитаем его энергию, соглсно п. 1"
   ]
  },
  {
   "cell_type": "code",
   "execution_count": 37,
   "metadata": {
    "ExecuteTime": {
     "end_time": "2018-09-22T16:55:24.630856Z",
     "start_time": "2018-09-22T16:55:24.601764Z"
    },
    "kernel": "SoS"
   },
   "outputs": [],
   "source": [
    "# Вытащим матожидания\n",
    "mu = [param[1] for param in params]\n",
    "E_pu = [m*k for m in mu]"
   ]
  },
  {
   "cell_type": "code",
   "execution_count": 38,
   "metadata": {
    "ExecuteTime": {
     "end_time": "2018-09-22T16:55:24.697072Z",
     "start_time": "2018-09-22T16:55:24.648160Z"
    },
    "kernel": "SoS"
   },
   "outputs": [
    {
     "data": {
      "text/plain": [
       "[5.297700528990646]"
      ]
     },
     "execution_count": 38,
     "metadata": {},
     "output_type": "execute_result"
    }
   ],
   "source": [
    "E_pu"
   ]
  },
  {
   "cell_type": "markdown",
   "metadata": {
    "ExecuteTime": {
     "end_time": "2018-09-20T21:42:14.960350Z",
     "start_time": "2018-09-20T21:42:14.944927Z"
    },
    "kernel": "SoS"
   },
   "source": [
    "\\[ \\boxed{\n",
    "    E_1 = 5.298 \\text{ МэВ}\n",
    "}\\]"
   ]
  },
  {
   "cell_type": "markdown",
   "metadata": {
    "kernel": "SoS"
   },
   "source": [
    "### Исследование $U_\\text{прир} $"
   ]
  },
  {
   "cell_type": "code",
   "execution_count": 39,
   "metadata": {
    "ExecuteTime": {
     "end_time": "2018-09-22T16:55:24.844918Z",
     "start_time": "2018-09-22T16:55:24.724790Z"
    },
    "kernel": "SoS"
   },
   "outputs": [],
   "source": [
    "u_df, u_time = read_table_and_time(\n",
    "    os.path.join(WORKING_DIRECTORY, U_FILE))"
   ]
  },
  {
   "cell_type": "code",
   "execution_count": 40,
   "metadata": {
    "ExecuteTime": {
     "end_time": "2018-09-22T16:55:24.940412Z",
     "start_time": "2018-09-22T16:55:24.869940Z"
    },
    "kernel": "SoS"
   },
   "outputs": [
    {
     "data": {
      "text/html": [
       "<div>\n",
       "<style scoped>\n",
       "    .dataframe tbody tr th:only-of-type {\n",
       "        vertical-align: middle;\n",
       "    }\n",
       "\n",
       "    .dataframe tbody tr th {\n",
       "        vertical-align: top;\n",
       "    }\n",
       "\n",
       "    .dataframe thead th {\n",
       "        text-align: right;\n",
       "    }\n",
       "</style>\n",
       "<table border=\"1\" class=\"dataframe\">\n",
       "  <thead>\n",
       "    <tr style=\"text-align: right;\">\n",
       "      <th>20</th>\n",
       "      <th>Channel</th>\n",
       "      <th>Value</th>\n",
       "    </tr>\n",
       "  </thead>\n",
       "  <tbody>\n",
       "    <tr>\n",
       "      <th>0</th>\n",
       "      <td>0</td>\n",
       "      <td>0</td>\n",
       "    </tr>\n",
       "    <tr>\n",
       "      <th>1</th>\n",
       "      <td>1</td>\n",
       "      <td>0</td>\n",
       "    </tr>\n",
       "    <tr>\n",
       "      <th>2</th>\n",
       "      <td>2</td>\n",
       "      <td>0</td>\n",
       "    </tr>\n",
       "    <tr>\n",
       "      <th>3</th>\n",
       "      <td>3</td>\n",
       "      <td>0</td>\n",
       "    </tr>\n",
       "    <tr>\n",
       "      <th>4</th>\n",
       "      <td>4</td>\n",
       "      <td>0</td>\n",
       "    </tr>\n",
       "  </tbody>\n",
       "</table>\n",
       "</div>"
      ],
      "text/plain": [
       "20  Channel  Value\n",
       "0         0      0\n",
       "1         1      0\n",
       "2         2      0\n",
       "3         3      0\n",
       "4         4      0"
      ]
     },
     "execution_count": 40,
     "metadata": {},
     "output_type": "execute_result"
    }
   ],
   "source": [
    "u_df.head()"
   ]
  },
  {
   "cell_type": "markdown",
   "metadata": {
    "kernel": "SoS"
   },
   "source": [
    "Построим ориентировочный график зависимости $N(E) = a\\,E$"
   ]
  },
  {
   "cell_type": "code",
   "execution_count": 41,
   "metadata": {
    "ExecuteTime": {
     "end_time": "2018-09-22T16:55:25.007277Z",
     "start_time": "2018-09-22T16:55:24.973883Z"
    },
    "kernel": "SoS"
   },
   "outputs": [],
   "source": [
    "x_data = u_df['Channel']\n",
    "y_data = u_df['Value']"
   ]
  },
  {
   "cell_type": "code",
   "execution_count": 42,
   "metadata": {
    "ExecuteTime": {
     "end_time": "2018-09-22T16:55:27.127740Z",
     "start_time": "2018-09-22T16:55:25.044270Z"
    },
    "kernel": "SoS",
    "scrolled": true
   },
   "outputs": [
    {
     "name": "stderr",
     "output_type": "stream",
     "text": [
      "/usr/local/lib/python3.5/dist-packages/matplotlib/figure.py:457: UserWarning: matplotlib is currently using a non-GUI backend, so cannot show the figure\n",
      "  \"matplotlib is currently using a non-GUI backend, \"\n"
     ]
    },
    {
     "data": {
      "image/png": "[encoded data removed]",
      "text/plain": [
       "<Figure size 1152x648 with 1 Axes>"
      ]
     },
     "metadata": {
      "needs_background": "light"
     },
     "output_type": "display_data"
    }
   ],
   "source": [
    "plot_data_optimized(x_values=x_data, y_values=y_data, threshold=0,\n",
    "                    title=r'Эксперимент с $U$', \n",
    "                    x_label=r'Номер канала', y_label=r'Число частиц $N$',\n",
    "                    save_to='out4.pdf')[0].show()"
   ]
  },
  {
   "cell_type": "markdown",
   "metadata": {
    "kernel": "SoS"
   },
   "source": [
    "Попытаемся аппросимировать пики гауссианой"
   ]
  },
  {
   "cell_type": "code",
   "execution_count": 43,
   "metadata": {
    "ExecuteTime": {
     "end_time": "2018-09-22T16:55:27.182774Z",
     "start_time": "2018-09-22T16:55:27.154692Z"
    },
    "kernel": "SoS"
   },
   "outputs": [],
   "source": [
    "# TODO: замените на свои\n",
    "# Я очень хорошо угадал свои интервалы!\n",
    "peaks = [\n",
    "    # Большой пик\n",
    "    (1850, 2150),\n",
    "    # Большой пик\n",
    "    (2150, 2400),\n",
    "]"
   ]
  },
  {
   "cell_type": "code",
   "execution_count": 44,
   "metadata": {
    "ExecuteTime": {
     "end_time": "2018-09-22T16:55:27.257890Z",
     "start_time": "2018-09-22T16:55:27.206860Z"
    },
    "kernel": "SoS"
   },
   "outputs": [],
   "source": [
    "indices = [(x_data > peak[0]) & (x_data < peak[1]) for peak in peaks]"
   ]
  },
  {
   "cell_type": "code",
   "execution_count": 45,
   "metadata": {
    "ExecuteTime": {
     "end_time": "2018-09-22T16:55:28.299725Z",
     "start_time": "2018-09-22T16:55:27.282648Z"
    },
    "kernel": "SoS"
   },
   "outputs": [],
   "source": [
    "f, params = [], []\n",
    "for ind in indices:\n",
    "    f1, params1 = fit_with_gauss(x_data[ind], y_data[ind], \n",
    "                                 initial_guess=[y_data[ind].max(), 0.5, 1])\n",
    "    f.append(f1)\n",
    "    params.append(params1)"
   ]
  },
  {
   "cell_type": "code",
   "execution_count": 46,
   "metadata": {
    "ExecuteTime": {
     "end_time": "2018-09-22T16:55:31.974590Z",
     "start_time": "2018-09-22T16:55:28.323933Z"
    },
    "kernel": "SoS"
   },
   "outputs": [
    {
     "name": "stderr",
     "output_type": "stream",
     "text": [
      "/usr/local/lib/python3.5/dist-packages/matplotlib/figure.py:457: UserWarning: matplotlib is currently using a non-GUI backend, so cannot show the figure\n",
      "  \"matplotlib is currently using a non-GUI backend, \"\n"
     ]
    },
    {
     "data": {
      "image/png": "[encoded data removed]",
      "text/plain": [
       "<Figure size 1152x648 with 1 Axes>"
      ]
     },
     "metadata": {
      "needs_background": "light"
     },
     "output_type": "display_data"
    }
   ],
   "source": [
    "fig, axes = plot_data_optimized(x_data, y_data)\n",
    "for i in range(len(indices)):\n",
    "    fig, axes = plot_data_optimized(x_data[indices[i]], \n",
    "                                    f[i](x_data[indices[i]]), \n",
    "                                    fig=fig, axes=axes,\n",
    "                                    title=r'Эксперимент с $U$',\n",
    "                                    x_label=r'Номер канала', y_label=r'Число частиц $N$',\n",
    "                                    save_to='out4.pdf')\n",
    "    # Заполним таблицу из лабника\n",
    "    result_table = pd.concat(\n",
    "        [result_table, pd.DataFrame([['U', \n",
    "                                      params[i][1], \n",
    "                                      get_gauss_halfwidth(params[i][2]), \n",
    "                                      # Пока мы их не знаем\n",
    "                                      0, 0, 0]], columns=res_table_cols)])\n",
    "fig.show()"
   ]
  },
  {
   "cell_type": "markdown",
   "metadata": {
    "kernel": "SoS"
   },
   "source": [
    "Имеем плохие пики. Тем не менее, попытаемся подсчитать их энергию:"
   ]
  },
  {
   "cell_type": "code",
   "execution_count": 47,
   "metadata": {
    "ExecuteTime": {
     "end_time": "2018-09-22T16:55:32.025811Z",
     "start_time": "2018-09-22T16:55:31.995737Z"
    },
    "kernel": "SoS"
   },
   "outputs": [],
   "source": [
    "# Вытащим матожидания\n",
    "mu = [param[1] for param in params]\n",
    "E_u = [m*k for m in mu]"
   ]
  },
  {
   "cell_type": "code",
   "execution_count": 48,
   "metadata": {
    "ExecuteTime": {
     "end_time": "2018-09-22T16:55:32.087373Z",
     "start_time": "2018-09-22T16:55:32.050597Z"
    },
    "kernel": "SoS"
   },
   "outputs": [
    {
     "data": {
      "text/plain": [
       "[4.172134197468353, 4.738713451890187]"
      ]
     },
     "execution_count": 48,
     "metadata": {},
     "output_type": "execute_result"
    }
   ],
   "source": [
    "E_u"
   ]
  },
  {
   "cell_type": "markdown",
   "metadata": {
    "ExecuteTime": {
     "end_time": "2018-09-20T21:42:14.960350Z",
     "start_time": "2018-09-20T21:42:14.944927Z"
    },
    "kernel": "SoS"
   },
   "source": [
    "\\[ \\boxed{\n",
    "    E_1 \\approx 4.172 \\text{ МэВ} \\\\\n",
    "    E_2 \\approx 4.739 \\text{ МэВ} \n",
    "}\\]"
   ]
  },
  {
   "cell_type": "markdown",
   "metadata": {
    "kernel": "SoS"
   },
   "source": [
    "## Займемся таблицей из лабника"
   ]
  },
  {
   "cell_type": "markdown",
   "metadata": {
    "kernel": "SoS"
   },
   "source": [
    "Вот она"
   ]
  },
  {
   "cell_type": "markdown",
   "metadata": {
    "kernel": "SoS"
   },
   "source": [
    "Теперь подсчитаем $E_i$ и $\\Delta E_i$, зная значение коэффициента пересчета:"
   ]
  },
  {
   "cell_type": "code",
   "execution_count": 49,
   "metadata": {
    "ExecuteTime": {
     "end_time": "2018-09-22T16:55:32.167604Z",
     "start_time": "2018-09-22T16:55:32.110782Z"
    },
    "kernel": "SoS"
   },
   "outputs": [],
   "source": [
    "result_table['E_i'] = result_table['N_i']*k\n",
    "result_table['Delta E_i'] = result_table['Delta N_i']*k\n",
    "result_table['R_i'] = result_table['Delta E_i'] / result_table['E_i']"
   ]
  },
  {
   "cell_type": "code",
   "execution_count": 50,
   "metadata": {
    "ExecuteTime": {
     "end_time": "2018-09-22T16:55:32.329459Z",
     "start_time": "2018-09-22T16:55:32.188312Z"
    },
    "kernel": "SoS"
   },
   "outputs": [
    {
     "data": {
      "text/html": [
       "<div>\n",
       "<style scoped>\n",
       "    .dataframe tbody tr th:only-of-type {\n",
       "        vertical-align: middle;\n",
       "    }\n",
       "\n",
       "    .dataframe tbody tr th {\n",
       "        vertical-align: top;\n",
       "    }\n",
       "\n",
       "    .dataframe thead th {\n",
       "        text-align: right;\n",
       "    }\n",
       "</style>\n",
       "<table border=\"1\" class=\"dataframe\">\n",
       "  <thead>\n",
       "    <tr style=\"text-align: right;\">\n",
       "      <th></th>\n",
       "      <th>Источник</th>\n",
       "      <th>N_i</th>\n",
       "      <th>Delta N_i</th>\n",
       "      <th>E_i</th>\n",
       "      <th>Delta E_i</th>\n",
       "      <th>R_i</th>\n",
       "    </tr>\n",
       "  </thead>\n",
       "  <tbody>\n",
       "    <tr>\n",
       "      <th>0</th>\n",
       "      <td>Ra</td>\n",
       "      <td>2335.908702</td>\n",
       "      <td>33.669094</td>\n",
       "      <td>4.869591</td>\n",
       "      <td>0.070189</td>\n",
       "      <td>0.014414</td>\n",
       "    </tr>\n",
       "    <tr>\n",
       "      <th>0</th>\n",
       "      <td>Ra</td>\n",
       "      <td>2677.523562</td>\n",
       "      <td>32.774373</td>\n",
       "      <td>5.581744</td>\n",
       "      <td>0.068324</td>\n",
       "      <td>0.012241</td>\n",
       "    </tr>\n",
       "    <tr>\n",
       "      <th>0</th>\n",
       "      <td>Ra</td>\n",
       "      <td>2923.868367</td>\n",
       "      <td>31.755128</td>\n",
       "      <td>6.095290</td>\n",
       "      <td>0.066199</td>\n",
       "      <td>0.010861</td>\n",
       "    </tr>\n",
       "    <tr>\n",
       "      <th>0</th>\n",
       "      <td>Ra</td>\n",
       "      <td>3729.293295</td>\n",
       "      <td>30.595864</td>\n",
       "      <td>7.774333</td>\n",
       "      <td>0.063782</td>\n",
       "      <td>0.008204</td>\n",
       "    </tr>\n",
       "    <tr>\n",
       "      <th>0</th>\n",
       "      <td>Am+Th</td>\n",
       "      <td>2300.270430</td>\n",
       "      <td>30.290368</td>\n",
       "      <td>4.795297</td>\n",
       "      <td>0.063145</td>\n",
       "      <td>0.013168</td>\n",
       "    </tr>\n",
       "    <tr>\n",
       "      <th>0</th>\n",
       "      <td>Am+Th</td>\n",
       "      <td>2693.331791</td>\n",
       "      <td>28.197059</td>\n",
       "      <td>5.614699</td>\n",
       "      <td>0.058781</td>\n",
       "      <td>0.010469</td>\n",
       "    </tr>\n",
       "    <tr>\n",
       "      <th>0</th>\n",
       "      <td>Pu</td>\n",
       "      <td>2541.270067</td>\n",
       "      <td>24.103536</td>\n",
       "      <td>5.297701</td>\n",
       "      <td>0.050248</td>\n",
       "      <td>0.009485</td>\n",
       "    </tr>\n",
       "    <tr>\n",
       "      <th>0</th>\n",
       "      <td>U</td>\n",
       "      <td>2001.343733</td>\n",
       "      <td>156.602734</td>\n",
       "      <td>4.172134</td>\n",
       "      <td>0.326464</td>\n",
       "      <td>0.078249</td>\n",
       "    </tr>\n",
       "    <tr>\n",
       "      <th>0</th>\n",
       "      <td>U</td>\n",
       "      <td>2273.127857</td>\n",
       "      <td>159.059659</td>\n",
       "      <td>4.738713</td>\n",
       "      <td>0.331586</td>\n",
       "      <td>0.069974</td>\n",
       "    </tr>\n",
       "  </tbody>\n",
       "</table>\n",
       "</div>"
      ],
      "text/plain": [
       "  Источник          N_i   Delta N_i       E_i  Delta E_i       R_i\n",
       "0       Ra  2335.908702   33.669094  4.869591   0.070189  0.014414\n",
       "0       Ra  2677.523562   32.774373  5.581744   0.068324  0.012241\n",
       "0       Ra  2923.868367   31.755128  6.095290   0.066199  0.010861\n",
       "0       Ra  3729.293295   30.595864  7.774333   0.063782  0.008204\n",
       "0    Am+Th  2300.270430   30.290368  4.795297   0.063145  0.013168\n",
       "0    Am+Th  2693.331791   28.197059  5.614699   0.058781  0.010469\n",
       "0       Pu  2541.270067   24.103536  5.297701   0.050248  0.009485\n",
       "0        U  2001.343733  156.602734  4.172134   0.326464  0.078249\n",
       "0        U  2273.127857  159.059659  4.738713   0.331586  0.069974"
      ]
     },
     "execution_count": 50,
     "metadata": {},
     "output_type": "execute_result"
    }
   ],
   "source": [
    "result_table"
   ]
  },
  {
   "cell_type": "markdown",
   "metadata": {
    "kernel": "SoS"
   },
   "source": [
    "Для радия определим $R_\\text{фл., i} = \\dfrac{1}{\\sqrt{N_i}}$, где $N_i = \\dfrac{E_i}{E_\\text{ср}}$, $E_\\text{ср}$ = 3.6 эВ  "
   ]
  },
  {
   "cell_type": "code",
   "execution_count": 51,
   "metadata": {
    "ExecuteTime": {
     "end_time": "2018-09-22T16:55:32.402343Z",
     "start_time": "2018-09-22T16:55:32.352225Z"
    },
    "kernel": "SoS"
   },
   "outputs": [],
   "source": [
    "R_fluc = 1/np.sqrt(result_table[result_table['Источник'] == 'Ra']['E_i'] / 3.6 * 10**6)"
   ]
  },
  {
   "cell_type": "markdown",
   "metadata": {
    "kernel": "SoS"
   },
   "source": [
    "Составим разность $R_i - R_\\text{фл., i}$ "
   ]
  },
  {
   "cell_type": "code",
   "execution_count": 52,
   "metadata": {
    "ExecuteTime": {
     "end_time": "2018-09-22T16:55:32.487791Z",
     "start_time": "2018-09-22T16:55:32.426927Z"
    },
    "kernel": "SoS"
   },
   "outputs": [],
   "source": [
    "delta_R = result_table[result_table['Источник'] == 'Ra']['R_i'] - R_fluc\n",
    "ra_R_df = pd.DataFrame(np.array([result_table[result_table['Источник'] == 'Ra']['R_i'].values, \n",
    "                        R_fluc.values, delta_R.values]).T, columns=['R_i', 'R_fluc_i', 'Delta R'])"
   ]
  },
  {
   "cell_type": "markdown",
   "metadata": {
    "kernel": "SoS"
   },
   "source": [
    "Результаты сведем в таблицу:"
   ]
  },
  {
   "cell_type": "code",
   "execution_count": 53,
   "metadata": {
    "ExecuteTime": {
     "end_time": "2018-09-22T16:55:32.592302Z",
     "start_time": "2018-09-22T16:55:32.512329Z"
    },
    "kernel": "SoS"
   },
   "outputs": [
    {
     "data": {
      "text/html": [
       "<div>\n",
       "<style scoped>\n",
       "    .dataframe tbody tr th:only-of-type {\n",
       "        vertical-align: middle;\n",
       "    }\n",
       "\n",
       "    .dataframe tbody tr th {\n",
       "        vertical-align: top;\n",
       "    }\n",
       "\n",
       "    .dataframe thead th {\n",
       "        text-align: right;\n",
       "    }\n",
       "</style>\n",
       "<table border=\"1\" class=\"dataframe\">\n",
       "  <thead>\n",
       "    <tr style=\"text-align: right;\">\n",
       "      <th></th>\n",
       "      <th>R_i</th>\n",
       "      <th>R_fluc_i</th>\n",
       "      <th>Delta R</th>\n",
       "    </tr>\n",
       "  </thead>\n",
       "  <tbody>\n",
       "    <tr>\n",
       "      <th>0</th>\n",
       "      <td>0.014414</td>\n",
       "      <td>0.000860</td>\n",
       "      <td>0.013554</td>\n",
       "    </tr>\n",
       "    <tr>\n",
       "      <th>1</th>\n",
       "      <td>0.012241</td>\n",
       "      <td>0.000803</td>\n",
       "      <td>0.011437</td>\n",
       "    </tr>\n",
       "    <tr>\n",
       "      <th>2</th>\n",
       "      <td>0.010861</td>\n",
       "      <td>0.000769</td>\n",
       "      <td>0.010092</td>\n",
       "    </tr>\n",
       "    <tr>\n",
       "      <th>3</th>\n",
       "      <td>0.008204</td>\n",
       "      <td>0.000680</td>\n",
       "      <td>0.007524</td>\n",
       "    </tr>\n",
       "  </tbody>\n",
       "</table>\n",
       "</div>"
      ],
      "text/plain": [
       "        R_i  R_fluc_i   Delta R\n",
       "0  0.014414  0.000860  0.013554\n",
       "1  0.012241  0.000803  0.011437\n",
       "2  0.010861  0.000769  0.010092\n",
       "3  0.008204  0.000680  0.007524"
      ]
     },
     "execution_count": 53,
     "metadata": {},
     "output_type": "execute_result"
    }
   ],
   "source": [
    "ra_R_df"
   ]
  },
  {
   "cell_type": "markdown",
   "metadata": {
    "kernel": "SoS"
   },
   "source": [
    "## Проверка закона Гейгера-Неттола"
   ]
  },
  {
   "cell_type": "markdown",
   "metadata": {
    "kernel": "SoS"
   },
   "source": [
    "Закон Гейгера-Нетолла имеет вид:\n",
    "$$\n",
    "\\lg T_{1/2} = \\dfrac{a}{\\sqrt{E_\\alpha}} + b\n",
    "$$"
   ]
  },
  {
   "cell_type": "markdown",
   "metadata": {
    "kernel": "SoS"
   },
   "source": [
    "Здесь коэффициенты $a$ и $b$ очень слабо зависят от заряда ядра $Z$"
   ]
  },
  {
   "cell_type": "markdown",
   "metadata": {
    "kernel": "SoS"
   },
   "source": [
    "Из материалов к лабораторной работе мы имеем знания об энергии $\\alpha$-частиц $^{226}_{\\phantom{2} 88} Ra$ и его дочерних ядер, а также их периоды полураспада. По этим данным мы построим график \n",
    "$$\\lg T_{1/2} = f \\left(1 / \\sqrt{E_\\alpha} \\right)$$\n",
    "Ожидаем прямую!"
   ]
  },
  {
   "cell_type": "markdown",
   "metadata": {
    "kernel": "SoS"
   },
   "source": [
    "Перепишем данные из описания к работе:"
   ]
  },
  {
   "cell_type": "code",
   "execution_count": 54,
   "metadata": {
    "ExecuteTime": {
     "end_time": "2018-09-22T16:55:32.666864Z",
     "start_time": "2018-09-22T16:55:32.622165Z"
    },
    "kernel": "SoS"
   },
   "outputs": [],
   "source": [
    "geiger_netoll_df = pd.DataFrame(np.array([\n",
    "    [1620*365*24*3600, 3.82*24*3600, 3.11*60, 1.63*10**(-4)], \n",
    "    [4.784, 5.490, 6.002, 7.687]]).T, columns=['T', 'E'])"
   ]
  },
  {
   "cell_type": "code",
   "execution_count": 55,
   "metadata": {
    "ExecuteTime": {
     "end_time": "2018-09-22T16:55:32.775428Z",
     "start_time": "2018-09-22T16:55:32.691474Z"
    },
    "kernel": "SoS"
   },
   "outputs": [
    {
     "data": {
      "text/html": [
       "<div>\n",
       "<style scoped>\n",
       "    .dataframe tbody tr th:only-of-type {\n",
       "        vertical-align: middle;\n",
       "    }\n",
       "\n",
       "    .dataframe tbody tr th {\n",
       "        vertical-align: top;\n",
       "    }\n",
       "\n",
       "    .dataframe thead th {\n",
       "        text-align: right;\n",
       "    }\n",
       "</style>\n",
       "<table border=\"1\" class=\"dataframe\">\n",
       "  <thead>\n",
       "    <tr style=\"text-align: right;\">\n",
       "      <th></th>\n",
       "      <th>T</th>\n",
       "      <th>E</th>\n",
       "    </tr>\n",
       "  </thead>\n",
       "  <tbody>\n",
       "    <tr>\n",
       "      <th>0</th>\n",
       "      <td>5.108832e+10</td>\n",
       "      <td>4.784</td>\n",
       "    </tr>\n",
       "    <tr>\n",
       "      <th>1</th>\n",
       "      <td>3.300480e+05</td>\n",
       "      <td>5.490</td>\n",
       "    </tr>\n",
       "    <tr>\n",
       "      <th>2</th>\n",
       "      <td>1.866000e+02</td>\n",
       "      <td>6.002</td>\n",
       "    </tr>\n",
       "    <tr>\n",
       "      <th>3</th>\n",
       "      <td>1.630000e-04</td>\n",
       "      <td>7.687</td>\n",
       "    </tr>\n",
       "  </tbody>\n",
       "</table>\n",
       "</div>"
      ],
      "text/plain": [
       "              T      E\n",
       "0  5.108832e+10  4.784\n",
       "1  3.300480e+05  5.490\n",
       "2  1.866000e+02  6.002\n",
       "3  1.630000e-04  7.687"
      ]
     },
     "execution_count": 55,
     "metadata": {},
     "output_type": "execute_result"
    }
   ],
   "source": [
    "geiger_netoll_df"
   ]
  },
  {
   "cell_type": "markdown",
   "metadata": {
    "kernel": "SoS"
   },
   "source": [
    "Построим требуемый график:"
   ]
  },
  {
   "cell_type": "code",
   "execution_count": 56,
   "metadata": {
    "ExecuteTime": {
     "end_time": "2018-09-22T16:55:32.830089Z",
     "start_time": "2018-09-22T16:55:32.796153Z"
    },
    "kernel": "SoS"
   },
   "outputs": [],
   "source": [
    "x_data, y_data = 1/np.sqrt(geiger_netoll_df['E']), np.log(geiger_netoll_df['T'])"
   ]
  },
  {
   "cell_type": "code",
   "execution_count": 57,
   "metadata": {
    "ExecuteTime": {
     "end_time": "2018-09-22T16:55:32.886112Z",
     "start_time": "2018-09-22T16:55:32.854811Z"
    },
    "kernel": "SoS"
   },
   "outputs": [],
   "source": [
    "regression_results = sc.stats.linregress(x_data, y_data)"
   ]
  },
  {
   "cell_type": "code",
   "execution_count": 58,
   "metadata": {
    "ExecuteTime": {
     "end_time": "2018-09-22T16:55:35.539505Z",
     "start_time": "2018-09-22T16:55:32.910925Z"
    },
    "kernel": "SoS",
    "scrolled": true
   },
   "outputs": [
    {
     "name": "stderr",
     "output_type": "stream",
     "text": [
      "/usr/local/lib/python3.5/dist-packages/matplotlib/figure.py:457: UserWarning: matplotlib is currently using a non-GUI backend, so cannot show the figure\n",
      "  \"matplotlib is currently using a non-GUI backend, \"\n"
     ]
    },
    {
     "data": {
      "image/png": "[encoded data removed]",
      "text/plain": [
       "<Figure size 1152x648 with 1 Axes>"
      ]
     },
     "metadata": {
      "needs_background": "light"
     },
     "output_type": "display_data"
    }
   ],
   "source": [
    "fig, axes = plt.subplots(figsize=(16, 9))\n",
    "axes.scatter(x_data, y_data)\n",
    "axes.grid(True)\n",
    "axes.set_title(r'Проверка закона Гейгера-Нетолла')\n",
    "axes.set_xlabel(r'$\\dfrac{1}{\\sqrt{E_\\alpha}}$')\n",
    "axes.set_ylabel(r'$\\lg T_{1/2}$')\n",
    "# Линейная регрессия\n",
    "x_linreg_data = np.linspace(min(x_data), max(x_data))\n",
    "f = lambda x: regression_results.slope*x + regression_results.intercept\n",
    "axes.plot(x_linreg_data, f(x_linreg_data))\n",
    "\n",
    "fig.savefig('geiger.pdf')\n",
    "fig.show()"
   ]
  },
  {
   "cell_type": "markdown",
   "metadata": {
    "kernel": "SoS",
    "variables": {
     "format(regression_results.pvalue, '.5f')": "<p><strong>NameError</strong>: name &#39;regression_results&#39; is not defined</p>\n",
     "format(regression_results.rvalue, '.5f')": "<p><strong>NameError</strong>: name &#39;regression_results&#39; is not defined</p>\n"
    }
   },
   "source": [
    "Неплохо выполняется. Линейная регрессия дает значение <b>p-value</b> = {{format(regression_results.pvalue, '.5f')}} и <b>r-value</b> = {{format(regression_results.rvalue, '.5f')}}, что подтвержает гипотезу о линейной зависимости."
   ]
  }
 ],
 "metadata": {
  "kernelspec": {
   "display_name": "Python 3",
   "language": "python",
   "name": "python3"
  },
  "language_info": {
   "codemirror_mode": {
    "name": "ipython",
    "version": 3
   },
   "file_extension": ".py",
   "mimetype": "text/x-python",
   "name": "python",
   "nbconvert_exporter": "python",
   "pygments_lexer": "ipython3",
   "version": "3.5.2"
  },
  "latex_envs": {
   "LaTeX_envs_menu_present": true,
   "autoclose": false,
   "autocomplete": true,
   "bibliofile": "biblio.bib",
   "cite_by": "apalike",
   "current_citInitial": 1,
   "eqLabelWithNumbers": true,
   "eqNumInitial": 1,
   "hotkeys": {
    "equation": "Ctrl-E",
    "itemize": "Ctrl-I"
   },
   "labels_anchors": false,
   "latex_user_defs": false,
   "report_style_numbering": true,
   "user_envs_cfg": false
  },
  "sos": {
   "kernels": [
    [
     null,
     null,
     "",
     ""
    ]
   ],
   "panel": {
    "displayed": true,
    "height": 0,
    "style": "side"
   }
  },
  "varInspector": {
   "cols": {
    "lenName": 16,
    "lenType": 16,
    "lenVar": 40
   },
   "kernels_config": {
    "python": {
     "delete_cmd_postfix": "",
     "delete_cmd_prefix": "del ",
     "library": "var_list.py",
     "varRefreshCmd": "print(var_dic_list())"
    },
    "r": {
     "delete_cmd_postfix": ") ",
     "delete_cmd_prefix": "rm(",
     "library": "var_list.r",
     "varRefreshCmd": "cat(var_dic_list()) "
    }
   },
   "types_to_exclude": [
    "module",
    "function",
    "builtin_function_or_method",
    "instance",
    "_Feature"
   ],
   "window_display": false
  }
 },
 "nbformat": 4,
 "nbformat_minor": 2
}
