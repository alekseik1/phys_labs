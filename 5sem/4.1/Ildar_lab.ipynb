{
 "cells": [
  {
   "cell_type": "markdown",
   "metadata": {
    "kernel": "SoS"
   },
   "source": [
    "# Лабораторная работа № 4.1\n",
    "## \"Определение энергии $\\alpha$-частиц по величине их пробега в воздухе\""
   ]
  },
  {
   "cell_type": "markdown",
   "metadata": {
    "kernel": "SoS"
   },
   "source": [
    "Измеряется пробег $\\alpha$-частиц в воздухе двумя способами $-$ с помощью торцевого счетчика Гейгера и сцинтилляционного счетчика, $-$ и по полученным величинам определяется их энергия."
   ]
  },
  {
   "cell_type": "code",
   "execution_count": 1,
   "metadata": {
    "ExecuteTime": {
     "end_time": "2018-09-25T20:04:33.696340Z",
     "start_time": "2018-09-25T20:04:33.683487Z"
    },
    "kernel": "SoS"
   },
   "outputs": [],
   "source": [
    "WORKING_DIRECTORY = 'ildar'\n",
    "RA_FILE = 'radium.csv'\n",
    "U_FILE = 'uran.csv'\n",
    "PU_FILE = 'pu.csv'\n",
    "AM_TH_FILE = 'Am_Th.csv'\n",
    "# TODO: поменяйте на свой\n",
    "HEADER_NUMBER = 21"
   ]
  },
  {
   "cell_type": "code",
   "execution_count": 2,
   "metadata": {
    "ExecuteTime": {
     "end_time": "2018-09-25T20:04:46.419664Z",
     "start_time": "2018-09-25T20:04:33.705650Z"
    },
    "kernel": "SoS"
   },
   "outputs": [],
   "source": [
    "import pandas as pd\n",
    "import os\n",
    "import matplotlib.pyplot as plt\n",
    "import numpy as np\n",
    "import scipy as sc"
   ]
  },
  {
   "cell_type": "code",
   "execution_count": 3,
   "metadata": {
    "ExecuteTime": {
     "end_time": "2018-09-25T20:04:46.451869Z",
     "start_time": "2018-09-25T20:04:46.432921Z"
    },
    "kernel": "SoS"
   },
   "outputs": [],
   "source": [
    "def read_table_and_time(path):\n",
    "    df = pd.read_csv(\n",
    "        path, \n",
    "        delimiter=';')\n",
    "    # Найдем время\n",
    "    MAGIC_WORD = 'ROOT:'\n",
    "    time = df[df[MAGIC_WORD] == 'LTime'].iloc[-1, 1]\n",
    "    # Возьмем нужные данные\n",
    "    ind = df[df[MAGIC_WORD] == 'Channel'].index[0]\n",
    "    df.columns = df.iloc[ind]\n",
    "    df = df.iloc[ind+1:]\n",
    "    # Обнулим индексы\n",
    "    df.reset_index(drop=True, inplace=True)\n",
    "    # Приведем к численному типу\n",
    "    df = df.apply(pd.to_numeric)\n",
    "    return df, float(time)"
   ]
  },
  {
   "cell_type": "code",
   "execution_count": 4,
   "metadata": {
    "ExecuteTime": {
     "end_time": "2018-09-25T20:04:46.489262Z",
     "start_time": "2018-09-25T20:04:46.466854Z"
    },
    "kernel": "SoS"
   },
   "outputs": [],
   "source": [
    "def plot_data_optimized(x_values, y_values, fig=None, axes=None,\n",
    "                        title=r'Graph', x_label=r'X', y_label=r'Y', \n",
    "                        save_to=False, threshold=0.0):\n",
    "    '''\n",
    "    Умное построение:\n",
    "    1) Убираются данные, похожие на шум (те, чье значение < 1% от максимального)\n",
    "    '''\n",
    "    if fig is None or axes is None:\n",
    "        fig, axes = plt.subplots(figsize=(16, 9))\n",
    "    \n",
    "    max_y, min_y = np.max(y_values), np.min(y_values)\n",
    "    threshold *= (max_y-min_y)\n",
    "    # Перед тем, как менять данные, сделаем их копию\n",
    "    x_values, y_values = x_values.copy(), y_values.copy()\n",
    "    x_values, y_values = (x_values[y_values >= threshold], \n",
    "                          y_values[y_values >= threshold])\n",
    "    \n",
    "    axes.plot(x_values, y_values)\n",
    "    axes.grid(True)\n",
    "    axes.set_xlabel(x_label)\n",
    "    axes.set_ylabel(y_label)\n",
    "    axes.set_title(title)\n",
    "    \n",
    "    # Сохраним\n",
    "    if save_to:\n",
    "        fig.savefig(save_to)\n",
    "    return fig, axes"
   ]
  },
  {
   "cell_type": "code",
   "execution_count": 5,
   "metadata": {
    "ExecuteTime": {
     "end_time": "2018-09-25T20:04:46.868862Z",
     "start_time": "2018-09-25T20:04:46.502591Z"
    },
    "kernel": "SoS"
   },
   "outputs": [],
   "source": [
    "from scipy.optimize import curve_fit\n",
    "def fit_with_gauss(x_data, y_data, y_error=None, initial_guess=[1, 1, 1]):\n",
    "    #def find_optimal_function(data, functions, y_data='N', x_data='LL', y_error=None):\n",
    "    if y_error is None:\n",
    "        #y_error = y_data + '_error'\n",
    "        y_error = np.zeros(len(y_data))\n",
    "    #  Подготим все к подгону! 1) Вычтем минимальное значение;\n",
    "    # 2) поделим X на максимальный из X;\n",
    "    y_data = y_data.copy()\n",
    "    x_data = x_data.copy()\n",
    "    min_y = np.min(y_data)\n",
    "    y_data -= min_y\n",
    "    max_x = np.max(x_data)\n",
    "    x_data /= max_x\n",
    "    func = lambda x, a, mu, sigma: a*np.exp(-(x-mu)**2/(2*sigma**2))\n",
    "    popt, pcov = curve_fit(func, x_data, y_data, maxfev=100000, p0=initial_guess)\n",
    "    # Преобразуем оптимальные параметры обратно\n",
    "    popt[1] *= max_x\n",
    "    popt[2] *= max_x\n",
    "    return lambda x: (func(x , *popt) + min_y), popt"
   ]
  },
  {
   "cell_type": "code",
   "execution_count": 6,
   "metadata": {
    "ExecuteTime": {
     "end_time": "2018-09-25T20:04:46.895242Z",
     "start_time": "2018-09-25T20:04:46.883178Z"
    },
    "kernel": "SoS"
   },
   "outputs": [],
   "source": [
    "def get_gauss_halfwidth(sigma):\n",
    "    return abs(2*np.sqrt(2*np.log(2))*sigma)"
   ]
  },
  {
   "cell_type": "markdown",
   "metadata": {
    "kernel": "SoS"
   },
   "source": [
    "### Градуировка по $_{\\,\\,88}^{226}Ra$"
   ]
  },
  {
   "cell_type": "code",
   "execution_count": 7,
   "metadata": {
    "ExecuteTime": {
     "end_time": "2018-09-25T20:04:46.946088Z",
     "start_time": "2018-09-25T20:04:46.904695Z"
    },
    "kernel": "SoS"
   },
   "outputs": [],
   "source": [
    "# Перед началом работы создадим таблицу, которую просят сделать в доп. описании\n",
    "res_table_cols = [r'Источник', r'N_i', r'Delta N_i', r'E_i', r'Delta E_i', r'R_i']\n",
    "result_table = pd.DataFrame(columns=res_table_cols)"
   ]
  },
  {
   "cell_type": "code",
   "execution_count": 8,
   "metadata": {
    "ExecuteTime": {
     "end_time": "2018-09-25T20:04:47.041570Z",
     "start_time": "2018-09-25T20:04:46.958346Z"
    },
    "kernel": "SoS",
    "scrolled": true
   },
   "outputs": [
    {
     "data": {
      "text/html": [
       "<div>\n",
       "<style scoped>\n",
       "    .dataframe tbody tr th:only-of-type {\n",
       "        vertical-align: middle;\n",
       "    }\n",
       "\n",
       "    .dataframe tbody tr th {\n",
       "        vertical-align: top;\n",
       "    }\n",
       "\n",
       "    .dataframe thead th {\n",
       "        text-align: right;\n",
       "    }\n",
       "</style>\n",
       "<table border=\"1\" class=\"dataframe\">\n",
       "  <thead>\n",
       "    <tr style=\"text-align: right;\">\n",
       "      <th>19</th>\n",
       "      <th>Channel</th>\n",
       "      <th>Value</th>\n",
       "    </tr>\n",
       "  </thead>\n",
       "  <tbody>\n",
       "    <tr>\n",
       "      <th>0</th>\n",
       "      <td>0</td>\n",
       "      <td>0</td>\n",
       "    </tr>\n",
       "    <tr>\n",
       "      <th>1</th>\n",
       "      <td>1</td>\n",
       "      <td>0</td>\n",
       "    </tr>\n",
       "    <tr>\n",
       "      <th>2</th>\n",
       "      <td>2</td>\n",
       "      <td>0</td>\n",
       "    </tr>\n",
       "    <tr>\n",
       "      <th>3</th>\n",
       "      <td>3</td>\n",
       "      <td>0</td>\n",
       "    </tr>\n",
       "    <tr>\n",
       "      <th>4</th>\n",
       "      <td>4</td>\n",
       "      <td>0</td>\n",
       "    </tr>\n",
       "  </tbody>\n",
       "</table>\n",
       "</div>"
      ],
      "text/plain": [
       "19  Channel  Value\n",
       "0         0      0\n",
       "1         1      0\n",
       "2         2      0\n",
       "3         3      0\n",
       "4         4      0"
      ]
     },
     "execution_count": 8,
     "metadata": {},
     "output_type": "execute_result"
    }
   ],
   "source": [
    "ra_df, ra_time = read_table_and_time(os.path.join(WORKING_DIRECTORY, \n",
    "                                                  RA_FILE))\n",
    "ra_df.head()"
   ]
  },
  {
   "cell_type": "markdown",
   "metadata": {
    "kernel": "SoS"
   },
   "source": [
    "Построим ориентировочный график зависимости $N(E) = a\\,E$"
   ]
  },
  {
   "cell_type": "code",
   "execution_count": 9,
   "metadata": {
    "ExecuteTime": {
     "end_time": "2018-09-25T20:04:47.063260Z",
     "start_time": "2018-09-25T20:04:47.056688Z"
    },
    "kernel": "SoS"
   },
   "outputs": [],
   "source": [
    "x_data = ra_df['Channel']\n",
    "y_data = ra_df['Value']"
   ]
  },
  {
   "cell_type": "code",
   "execution_count": 10,
   "metadata": {
    "ExecuteTime": {
     "end_time": "2018-09-25T20:04:48.739574Z",
     "start_time": "2018-09-25T20:04:47.073955Z"
    },
    "kernel": "SoS"
   },
   "outputs": [
    {
     "name": "stderr",
     "output_type": "stream",
     "text": [
      "/usr/local/lib/python3.5/dist-packages/matplotlib/figure.py:457: UserWarning: matplotlib is currently using a non-GUI backend, so cannot show the figure\n",
      "  \"matplotlib is currently using a non-GUI backend, \"\n"
     ]
    },
    {
     "data": {
      "image/png": "[encoded data removed]",
      "text/plain": [
       "<Figure size 1152x648 with 1 Axes>"
      ]
     },
     "metadata": {
      "needs_background": "light"
     },
     "output_type": "display_data"
    }
   ],
   "source": [
    "plot_data_optimized(x_values=x_data, y_values=y_data,\n",
    "                    title=r'Эксперимент с $^{226}_{\\,\\,88}Ra$', \n",
    "                    x_label=r'Номер канала', y_label=r'Число частиц $N$',\n",
    "                    save_to='out1.pdf')[0].show()"
   ]
  },
  {
   "cell_type": "markdown",
   "metadata": {
    "kernel": "SoS"
   },
   "source": [
    "Попытаемся аппросимировать пики гауссианой"
   ]
  },
  {
   "cell_type": "code",
   "execution_count": 11,
   "metadata": {
    "ExecuteTime": {
     "end_time": "2018-09-25T20:04:48.769714Z",
     "start_time": "2018-09-25T20:04:48.751833Z"
    },
    "kernel": "SoS"
   },
   "outputs": [],
   "source": [
    "# TODO: замените на свои\n",
    "# Я очень хорошо угадал свои интервалы!\n",
    "peaks = [\n",
    "    # Мелкий пик\n",
    "    #(2200, 2290),\n",
    "    # Большой пик\n",
    "    (1750, 2050),\n",
    "    # Мелкий пик\n",
    "    #(2550, 2630),\n",
    "    # Большой пик\n",
    "    (2150, 2300),\n",
    "    # Большой пик\n",
    "    (2350, 2500),\n",
    "    # Большой пик\n",
    "    (3000, 3150)\n",
    "]"
   ]
  },
  {
   "cell_type": "code",
   "execution_count": 12,
   "metadata": {
    "ExecuteTime": {
     "end_time": "2018-09-25T20:04:48.806799Z",
     "start_time": "2018-09-25T20:04:48.781892Z"
    },
    "kernel": "SoS"
   },
   "outputs": [],
   "source": [
    "indices = [(x_data > peak[0]) & (x_data < peak[1]) for peak in peaks]"
   ]
  },
  {
   "cell_type": "code",
   "execution_count": 13,
   "metadata": {
    "ExecuteTime": {
     "end_time": "2018-09-25T20:04:50.022615Z",
     "start_time": "2018-09-25T20:04:48.818603Z"
    },
    "kernel": "SoS"
   },
   "outputs": [],
   "source": [
    "f, params = [], []\n",
    "for ind in indices:\n",
    "    f1, params1 = fit_with_gauss(x_data[ind], y_data[ind], \n",
    "                                 initial_guess=[y_data[ind].max(), 0.5, 1])\n",
    "    f.append(f1)\n",
    "    params.append(params1)"
   ]
  },
  {
   "cell_type": "code",
   "execution_count": 14,
   "metadata": {
    "ExecuteTime": {
     "end_time": "2018-09-25T20:04:51.742377Z",
     "start_time": "2018-09-25T20:04:50.035141Z"
    },
    "kernel": "SoS"
   },
   "outputs": [
    {
     "name": "stderr",
     "output_type": "stream",
     "text": [
      "/usr/local/lib/python3.5/dist-packages/matplotlib/figure.py:457: UserWarning: matplotlib is currently using a non-GUI backend, so cannot show the figure\n",
      "  \"matplotlib is currently using a non-GUI backend, \"\n"
     ]
    },
    {
     "data": {
      "image/png": "[encoded data removed]",
      "text/plain": [
       "<Figure size 1152x648 with 1 Axes>"
      ]
     },
     "metadata": {
      "needs_background": "light"
     },
     "output_type": "display_data"
    }
   ],
   "source": [
    "fig, axes = plot_data_optimized(x_data, y_data)\n",
    "for i in range(len(indices)):\n",
    "    fig, axes = plot_data_optimized(x_data[indices[i]], \n",
    "                                    f[i](x_data[indices[i]]), \n",
    "                                    fig=fig, axes=axes,\n",
    "                                    title=r'$^{226}_{\\,\\,88}Ra$', \n",
    "                                    x_label=r'номер канала', y_label=r'$N$',\n",
    "                                    save_to='out1.pdf')\n",
    "    # Заполним таблицу из лабника\n",
    "    \n",
    "    result_table = pd.concat(\n",
    "        [result_table, pd.DataFrame([['Ra', \n",
    "                                      params[i][1], \n",
    "                                      get_gauss_halfwidth(params[i][2]), \n",
    "                                      # Пока мы их не знаем\n",
    "                                      0, 0, 0]], columns=res_table_cols)])\n",
    "fig.show()"
   ]
  },
  {
   "cell_type": "code",
   "execution_count": 15,
   "metadata": {
    "ExecuteTime": {
     "end_time": "2018-09-25T20:04:51.796791Z",
     "start_time": "2018-09-25T20:04:51.755872Z"
    },
    "kernel": "SoS",
    "scrolled": true
   },
   "outputs": [
    {
     "data": {
      "text/html": [
       "<div>\n",
       "<style scoped>\n",
       "    .dataframe tbody tr th:only-of-type {\n",
       "        vertical-align: middle;\n",
       "    }\n",
       "\n",
       "    .dataframe tbody tr th {\n",
       "        vertical-align: top;\n",
       "    }\n",
       "\n",
       "    .dataframe thead th {\n",
       "        text-align: right;\n",
       "    }\n",
       "</style>\n",
       "<table border=\"1\" class=\"dataframe\">\n",
       "  <thead>\n",
       "    <tr style=\"text-align: right;\">\n",
       "      <th></th>\n",
       "      <th>Источник</th>\n",
       "      <th>N_i</th>\n",
       "      <th>Delta N_i</th>\n",
       "      <th>E_i</th>\n",
       "      <th>Delta E_i</th>\n",
       "      <th>R_i</th>\n",
       "    </tr>\n",
       "  </thead>\n",
       "  <tbody>\n",
       "    <tr>\n",
       "      <th>0</th>\n",
       "      <td>Ra</td>\n",
       "      <td>1932.988894</td>\n",
       "      <td>53.403646</td>\n",
       "      <td>0</td>\n",
       "      <td>0</td>\n",
       "      <td>0</td>\n",
       "    </tr>\n",
       "    <tr>\n",
       "      <th>0</th>\n",
       "      <td>Ra</td>\n",
       "      <td>2215.260825</td>\n",
       "      <td>55.432073</td>\n",
       "      <td>0</td>\n",
       "      <td>0</td>\n",
       "      <td>0</td>\n",
       "    </tr>\n",
       "    <tr>\n",
       "      <th>0</th>\n",
       "      <td>Ra</td>\n",
       "      <td>2418.818956</td>\n",
       "      <td>52.437278</td>\n",
       "      <td>0</td>\n",
       "      <td>0</td>\n",
       "      <td>0</td>\n",
       "    </tr>\n",
       "    <tr>\n",
       "      <th>0</th>\n",
       "      <td>Ra</td>\n",
       "      <td>3082.156351</td>\n",
       "      <td>51.648898</td>\n",
       "      <td>0</td>\n",
       "      <td>0</td>\n",
       "      <td>0</td>\n",
       "    </tr>\n",
       "  </tbody>\n",
       "</table>\n",
       "</div>"
      ],
      "text/plain": [
       "  Источник          N_i  Delta N_i E_i Delta E_i R_i\n",
       "0       Ra  1932.988894  53.403646   0         0   0\n",
       "0       Ra  2215.260825  55.432073   0         0   0\n",
       "0       Ra  2418.818956  52.437278   0         0   0\n",
       "0       Ra  3082.156351  51.648898   0         0   0"
      ]
     },
     "execution_count": 15,
     "metadata": {},
     "output_type": "execute_result"
    }
   ],
   "source": [
    "result_table"
   ]
  },
  {
   "cell_type": "markdown",
   "metadata": {
    "kernel": "SoS"
   },
   "source": [
    "Имеем хорошие пики! Теперь пора на них садиться..."
   ]
  },
  {
   "cell_type": "code",
   "execution_count": 16,
   "metadata": {
    "ExecuteTime": {
     "end_time": "2018-09-25T20:04:51.819562Z",
     "start_time": "2018-09-25T20:04:51.812666Z"
    },
    "kernel": "SoS"
   },
   "outputs": [],
   "source": [
    "# Вытащим матожидания\n",
    "mu = [param[1] for param in params]"
   ]
  },
  {
   "cell_type": "markdown",
   "metadata": {
    "ExecuteTime": {
     "end_time": "2018-09-20T21:04:24.638607Z",
     "start_time": "2018-09-20T21:04:24.622356Z"
    },
    "kernel": "SoS"
   },
   "source": [
    "Энергии даны в лабнике $E_1$ = {{E = []; E.append(4.784); E[0]}} МэВ, $E_2$ = {{E.append(5.490); format(E[1], '.3f')}} МэВ, $E_3$ = {{E.append(6.002); E[2]}} МэВ, $E_4$ = {{E.append(7.687); E[3]}} МэВ."
   ]
  },
  {
   "cell_type": "markdown",
   "metadata": {
    "kernel": "SoS"
   },
   "source": [
    "Построим по ним линейную регрессию и убедимся, что действительно существует линейная зависимость между $E$ и номером канала. \\label{p1:linreg}"
   ]
  },
  {
   "cell_type": "code",
   "execution_count": 17,
   "metadata": {
    "ExecuteTime": {
     "end_time": "2018-09-25T20:04:52.637946Z",
     "start_time": "2018-09-25T20:04:51.917796Z"
    },
    "kernel": "SoS"
   },
   "outputs": [
    {
     "name": "stdout",
     "output_type": "stream",
     "text": [
      "p-value: 1.000000\n"
     ]
    },
    {
     "data": {
      "image/png": "[encoded data removed]",
      "text/plain": [
       "<Figure size 432x288 with 1 Axes>"
      ]
     },
     "metadata": {
      "needs_background": "light"
     },
     "output_type": "display_data"
    }
   ],
   "source": [
    "from scipy.stats import chi2_contingency\n",
    "print('p-value: %f' % chi2_contingency(mu, E)[1])\n",
    "plt.scatter(mu, E)\n",
    "plt.plot(mu, E)\n",
    "plt.grid()\n",
    "plt.show()"
   ]
  },
  {
   "cell_type": "markdown",
   "metadata": {
    "kernel": "SoS"
   },
   "source": [
    "Видим, что прибор был действительно настроен хорошо."
   ]
  },
  {
   "cell_type": "markdown",
   "metadata": {
    "kernel": "SoS"
   },
   "source": [
    "Теперь мы готовы анализировать дальнейшие спектры, но для начала подсчитаем коэффициент линейной регрессии:"
   ]
  },
  {
   "cell_type": "code",
   "execution_count": 18,
   "metadata": {
    "ExecuteTime": {
     "end_time": "2018-09-25T20:04:52.664414Z",
     "start_time": "2018-09-25T20:04:52.650379Z"
    },
    "kernel": "SoS"
   },
   "outputs": [],
   "source": [
    "from scipy.stats import linregress\n",
    "k = linregress(mu, E).slope"
   ]
  },
  {
   "cell_type": "markdown",
   "metadata": {
    "ExecuteTime": {
     "end_time": "2018-09-20T21:24:17.220879Z",
     "start_time": "2018-09-20T21:24:17.198373Z"
    },
    "kernel": "SoS"
   },
   "source": [
    "<center> k = {{format(k, '.8f')}} </center>"
   ]
  },
  {
   "cell_type": "markdown",
   "metadata": {
    "ExecuteTime": {
     "end_time": "2018-09-25T20:00:45.594308Z",
     "start_time": "2018-09-25T20:00:45.571446Z"
    }
   },
   "source": [
    "Теперь построим графики $N(E)$, где $E$ пересчитаем по найденному выше $k$"
   ]
  },
  {
   "cell_type": "code",
   "execution_count": 19,
   "metadata": {
    "ExecuteTime": {
     "end_time": "2018-09-25T20:04:56.781990Z",
     "start_time": "2018-09-25T20:04:52.699478Z"
    }
   },
   "outputs": [
    {
     "name": "stderr",
     "output_type": "stream",
     "text": [
      "/usr/local/lib/python3.5/dist-packages/matplotlib/figure.py:457: UserWarning: matplotlib is currently using a non-GUI backend, so cannot show the figure\n",
      "  \"matplotlib is currently using a non-GUI backend, \"\n"
     ]
    },
    {
     "data": {
      "image/png": "[encoded data removed]",
      "text/plain": [
       "<Figure size 1152x648 with 1 Axes>"
      ]
     },
     "metadata": {
      "needs_background": "light"
     },
     "output_type": "display_data"
    },
    {
     "data": {
      "image/png": "[encoded data removed]",
      "text/plain": [
       "<Figure size 1152x648 with 1 Axes>"
      ]
     },
     "metadata": {
      "needs_background": "light"
     },
     "output_type": "display_data"
    }
   ],
   "source": [
    "# Сначала пересчитаем в энергию\n",
    "x_data *= k\n",
    "\n",
    "# Не забудем пересчитать координаты пиков\n",
    "for i in range(len(peaks)):\n",
    "    peaks[i] = (peaks[i][0]*k, peaks[i][1]*k)\n",
    "    \n",
    "indices = [(x_data > peak[0]) & (x_data < peak[1]) for peak in peaks]\n",
    "\n",
    "f, params = [], []\n",
    "for ind in indices:\n",
    "    f1, params1 = fit_with_gauss(x_data[ind], y_data[ind], \n",
    "                                 initial_guess=[y_data[ind].max(), 0.5, 1])\n",
    "    f.append(f1)\n",
    "    params.append(params1)\n",
    "\n",
    "plot_data_optimized(x_values=x_data, y_values=y_data,\n",
    "                    title=r'Эксперимент с $^{226}_{\\,\\,88}Ra$', \n",
    "                    x_label=r'$E$, МэВ', y_label=r'Число частиц $N$',\n",
    "                    save_to='out1-E.pdf')[0].show()\n",
    "\n",
    "fig, axes = plot_data_optimized(x_data, y_data)\n",
    "for i in range(len(indices)):\n",
    "    fig, axes = plot_data_optimized(x_data[indices[i]], \n",
    "                                    f[i](x_data[indices[i]]), \n",
    "                                    fig=fig, axes=axes,\n",
    "                                    title=r'Эксперимент с $^{226}_{\\,\\,88}Ra$', \n",
    "                                    x_label=r'$E$, МэВ', y_label=r'Число частиц $N$',\n",
    "                                    save_to='out1-E.pdf')\n",
    "    \n",
    "fig.show()"
   ]
  },
  {
   "cell_type": "markdown",
   "metadata": {
    "kernel": "SoS"
   },
   "source": [
    "Теперь мы готовы идти дальше"
   ]
  },
  {
   "cell_type": "markdown",
   "metadata": {
    "kernel": "SoS"
   },
   "source": [
    "### Исследование $^{241}_{\\,\\,95} Am + ^{230}_{\\,\\,90} Th$"
   ]
  },
  {
   "cell_type": "code",
   "execution_count": 20,
   "metadata": {
    "ExecuteTime": {
     "end_time": "2018-09-25T20:04:56.847192Z",
     "start_time": "2018-09-25T20:04:56.794607Z"
    },
    "kernel": "SoS"
   },
   "outputs": [],
   "source": [
    "at_df, at_time = read_table_and_time(\n",
    "    os.path.join(WORKING_DIRECTORY, AM_TH_FILE))"
   ]
  },
  {
   "cell_type": "code",
   "execution_count": 21,
   "metadata": {
    "ExecuteTime": {
     "end_time": "2018-09-25T20:04:56.891568Z",
     "start_time": "2018-09-25T20:04:56.859643Z"
    },
    "kernel": "SoS"
   },
   "outputs": [
    {
     "data": {
      "text/html": [
       "<div>\n",
       "<style scoped>\n",
       "    .dataframe tbody tr th:only-of-type {\n",
       "        vertical-align: middle;\n",
       "    }\n",
       "\n",
       "    .dataframe tbody tr th {\n",
       "        vertical-align: top;\n",
       "    }\n",
       "\n",
       "    .dataframe thead th {\n",
       "        text-align: right;\n",
       "    }\n",
       "</style>\n",
       "<table border=\"1\" class=\"dataframe\">\n",
       "  <thead>\n",
       "    <tr style=\"text-align: right;\">\n",
       "      <th>19</th>\n",
       "      <th>Channel</th>\n",
       "      <th>Value</th>\n",
       "    </tr>\n",
       "  </thead>\n",
       "  <tbody>\n",
       "    <tr>\n",
       "      <th>0</th>\n",
       "      <td>0</td>\n",
       "      <td>0</td>\n",
       "    </tr>\n",
       "    <tr>\n",
       "      <th>1</th>\n",
       "      <td>1</td>\n",
       "      <td>0</td>\n",
       "    </tr>\n",
       "    <tr>\n",
       "      <th>2</th>\n",
       "      <td>2</td>\n",
       "      <td>0</td>\n",
       "    </tr>\n",
       "    <tr>\n",
       "      <th>3</th>\n",
       "      <td>3</td>\n",
       "      <td>0</td>\n",
       "    </tr>\n",
       "    <tr>\n",
       "      <th>4</th>\n",
       "      <td>4</td>\n",
       "      <td>0</td>\n",
       "    </tr>\n",
       "  </tbody>\n",
       "</table>\n",
       "</div>"
      ],
      "text/plain": [
       "19  Channel  Value\n",
       "0         0      0\n",
       "1         1      0\n",
       "2         2      0\n",
       "3         3      0\n",
       "4         4      0"
      ]
     },
     "execution_count": 21,
     "metadata": {},
     "output_type": "execute_result"
    }
   ],
   "source": [
    "at_df.head()"
   ]
  },
  {
   "cell_type": "markdown",
   "metadata": {
    "kernel": "SoS"
   },
   "source": [
    "Построим ориентировочный график зависимости $N(E) = a\\,E$"
   ]
  },
  {
   "cell_type": "code",
   "execution_count": 22,
   "metadata": {
    "ExecuteTime": {
     "end_time": "2018-09-25T20:04:56.915336Z",
     "start_time": "2018-09-25T20:04:56.904751Z"
    },
    "kernel": "SoS"
   },
   "outputs": [],
   "source": [
    "x_data = at_df['Channel']\n",
    "y_data = at_df['Value']"
   ]
  },
  {
   "cell_type": "code",
   "execution_count": 23,
   "metadata": {
    "ExecuteTime": {
     "end_time": "2018-09-25T20:04:57.969451Z",
     "start_time": "2018-09-25T20:04:56.924704Z"
    },
    "kernel": "SoS",
    "scrolled": false
   },
   "outputs": [
    {
     "name": "stderr",
     "output_type": "stream",
     "text": [
      "/usr/local/lib/python3.5/dist-packages/matplotlib/figure.py:457: UserWarning: matplotlib is currently using a non-GUI backend, so cannot show the figure\n",
      "  \"matplotlib is currently using a non-GUI backend, \"\n"
     ]
    },
    {
     "data": {
      "image/png": "[encoded data removed]",
      "text/plain": [
       "<Figure size 1152x648 with 1 Axes>"
      ]
     },
     "metadata": {
      "needs_background": "light"
     },
     "output_type": "display_data"
    }
   ],
   "source": [
    "plot_data_optimized(x_values=x_data, y_values=y_data, threshold=0,\n",
    "                    title=r'Эксперимент с $^{241}_{\\,\\,95} Am + ^{230}_{\\,\\,90} Th$', \n",
    "                    x_label=r'Номер канала', y_label=r'Число частиц $N$',\n",
    "                    save_to='out2.pdf')[0].show()"
   ]
  },
  {
   "cell_type": "markdown",
   "metadata": {
    "kernel": "SoS"
   },
   "source": [
    "Попытаемся аппросимировать пики гауссианой"
   ]
  },
  {
   "cell_type": "code",
   "execution_count": 24,
   "metadata": {
    "ExecuteTime": {
     "end_time": "2018-09-25T20:04:57.997169Z",
     "start_time": "2018-09-25T20:04:57.982143Z"
    },
    "kernel": "SoS"
   },
   "outputs": [],
   "source": [
    "# TODO: замените на свои\n",
    "# Я очень хорошо угадал свои интервалы!\n",
    "peaks = [\n",
    "    # Большой пик\n",
    "    (1800, 2000),\n",
    "    # Большой пик\n",
    "    (2150, 2300),\n",
    "]"
   ]
  },
  {
   "cell_type": "code",
   "execution_count": 25,
   "metadata": {
    "ExecuteTime": {
     "end_time": "2018-09-25T20:04:58.024114Z",
     "start_time": "2018-09-25T20:04:58.003742Z"
    },
    "kernel": "SoS"
   },
   "outputs": [],
   "source": [
    "indices = [(x_data > peak[0]) & (x_data < peak[1]) for peak in peaks]"
   ]
  },
  {
   "cell_type": "code",
   "execution_count": 26,
   "metadata": {
    "ExecuteTime": {
     "end_time": "2018-09-25T20:04:58.575452Z",
     "start_time": "2018-09-25T20:04:58.037871Z"
    },
    "kernel": "SoS"
   },
   "outputs": [],
   "source": [
    "f, params = [], []\n",
    "for ind in indices:\n",
    "    f1, params1 = fit_with_gauss(x_data[ind], y_data[ind], \n",
    "                                 initial_guess=[y_data[ind].max(), 0.5, 1])\n",
    "    f.append(f1)\n",
    "    params.append(params1)"
   ]
  },
  {
   "cell_type": "code",
   "execution_count": 27,
   "metadata": {
    "ExecuteTime": {
     "end_time": "2018-09-25T20:04:59.926350Z",
     "start_time": "2018-09-25T20:04:58.587687Z"
    },
    "kernel": "SoS"
   },
   "outputs": [
    {
     "name": "stderr",
     "output_type": "stream",
     "text": [
      "/usr/local/lib/python3.5/dist-packages/matplotlib/figure.py:457: UserWarning: matplotlib is currently using a non-GUI backend, so cannot show the figure\n",
      "  \"matplotlib is currently using a non-GUI backend, \"\n"
     ]
    },
    {
     "data": {
      "image/png": "[encoded data removed]",
      "text/plain": [
       "<Figure size 1152x648 with 1 Axes>"
      ]
     },
     "metadata": {
      "needs_background": "light"
     },
     "output_type": "display_data"
    }
   ],
   "source": [
    "fig, axes = plot_data_optimized(x_data, y_data)\n",
    "for i in range(len(indices)):\n",
    "    fig, axes = plot_data_optimized(x_data[indices[i]], \n",
    "                                    f[i](x_data[indices[i]]), \n",
    "                                    fig=fig, axes=axes,\n",
    "                                    title=r'$^{241}_{\\,\\,95} Am + ^{230}_{\\,\\,90} Th$', \n",
    "                                    x_label=r'номер канала', y_label=r'$N$',\n",
    "                                    save_to='out2.pdf')\n",
    "    # Заполним таблицу из лабника\n",
    "    result_table = pd.concat(\n",
    "        [result_table, pd.DataFrame([['Am+Th', \n",
    "                                      params[i][1], \n",
    "                                      get_gauss_halfwidth(params[i][2]), \n",
    "                                      # Пока мы их не знаем\n",
    "                                      0, 0, 0]], columns=res_table_cols)])\n",
    "fig.show()"
   ]
  },
  {
   "cell_type": "markdown",
   "metadata": {
    "kernel": "SoS"
   },
   "source": [
    "Имеем ярко выраженные пики. Подсчитаем их энергию, соглсно п. 1"
   ]
  },
  {
   "cell_type": "code",
   "execution_count": 28,
   "metadata": {
    "ExecuteTime": {
     "end_time": "2018-09-25T20:04:59.947711Z",
     "start_time": "2018-09-25T20:04:59.936057Z"
    },
    "kernel": "SoS"
   },
   "outputs": [],
   "source": [
    "# Вытащим матожидания\n",
    "mu = [param[1] for param in params]\n",
    "E_at = [m*k for m in mu]"
   ]
  },
  {
   "cell_type": "code",
   "execution_count": 29,
   "metadata": {
    "ExecuteTime": {
     "end_time": "2018-09-25T20:04:59.976862Z",
     "start_time": "2018-09-25T20:04:59.957817Z"
    },
    "kernel": "SoS"
   },
   "outputs": [
    {
     "data": {
      "text/plain": [
       "[4.8136595551771935, 5.626788371790571]"
      ]
     },
     "execution_count": 29,
     "metadata": {},
     "output_type": "execute_result"
    }
   ],
   "source": [
    "E_at"
   ]
  },
  {
   "cell_type": "markdown",
   "metadata": {
    "ExecuteTime": {
     "end_time": "2018-09-20T21:42:14.960350Z",
     "start_time": "2018-09-20T21:42:14.944927Z"
    },
    "kernel": "SoS"
   },
   "source": [
    "\\[ \\boxed{\n",
    "    E_1 = 4.795 \\text{ МэВ} \\\\\n",
    "    E_2 = 5.615 \\text{ МэВ} \n",
    "}\\]"
   ]
  },
  {
   "cell_type": "markdown",
   "metadata": {
    "ExecuteTime": {
     "end_time": "2018-09-25T20:03:03.176956Z",
     "start_time": "2018-09-25T20:03:03.156099Z"
    }
   },
   "source": [
    "Теперь построим графики $N(E)$, где $E$ пересчитаем по найденному выше $k$"
   ]
  },
  {
   "cell_type": "code",
   "execution_count": 30,
   "metadata": {
    "ExecuteTime": {
     "end_time": "2018-09-25T20:05:03.133380Z",
     "start_time": "2018-09-25T20:04:59.989949Z"
    }
   },
   "outputs": [
    {
     "name": "stderr",
     "output_type": "stream",
     "text": [
      "/usr/local/lib/python3.5/dist-packages/matplotlib/figure.py:457: UserWarning: matplotlib is currently using a non-GUI backend, so cannot show the figure\n",
      "  \"matplotlib is currently using a non-GUI backend, \"\n"
     ]
    },
    {
     "data": {
      "image/png": "[encoded data removed]",
      "text/plain": [
       "<Figure size 1152x648 with 1 Axes>"
      ]
     },
     "metadata": {
      "needs_background": "light"
     },
     "output_type": "display_data"
    },
    {
     "data": {
      "image/png": "[encoded data removed]",
      "text/plain": [
       "<Figure size 1152x648 with 1 Axes>"
      ]
     },
     "metadata": {
      "needs_background": "light"
     },
     "output_type": "display_data"
    }
   ],
   "source": [
    "# Сначала пересчитаем в энергию\n",
    "x_data *= k\n",
    "\n",
    "# Не забудем пересчитать координаты пиков\n",
    "for i in range(len(peaks)):\n",
    "    peaks[i] = (peaks[i][0]*k, peaks[i][1]*k)\n",
    "    \n",
    "indices = [(x_data > peak[0]) & (x_data < peak[1]) for peak in peaks]\n",
    "\n",
    "f, params = [], []\n",
    "for ind in indices:\n",
    "    f1, params1 = fit_with_gauss(x_data[ind], y_data[ind], \n",
    "                                 initial_guess=[y_data[ind].max(), 0.5, 1])\n",
    "    f.append(f1)\n",
    "    params.append(params1)\n",
    "\n",
    "plot_data_optimized(x_values=x_data, y_values=y_data,\n",
    "                    title=r'Эксперимент с $^{241}_{\\,\\,95} Am + ^{230}_{\\,\\,90} Th$', \n",
    "                    x_label=r'$E$, МэВ', y_label=r'Число частиц $N$',\n",
    "                    save_to='out2-E.pdf')[0].show()\n",
    "\n",
    "fig, axes = plot_data_optimized(x_data, y_data)\n",
    "for i in range(len(indices)):\n",
    "    fig, axes = plot_data_optimized(x_data[indices[i]], \n",
    "                                    f[i](x_data[indices[i]]), \n",
    "                                    fig=fig, axes=axes,\n",
    "                                    title=r'Эксперимент с $^{241}_{\\,\\,95} Am + ^{230}_{\\,\\,90} Th$', \n",
    "                                    x_label=r'$E$, МэВ', y_label=r'Число частиц $N$',\n",
    "                                    save_to='out2-E.pdf')\n",
    "    \n",
    "fig.show()"
   ]
  },
  {
   "cell_type": "markdown",
   "metadata": {
    "kernel": "SoS"
   },
   "source": [
    "### Исследование $^{239}_{\\,\\,94}Pu$"
   ]
  },
  {
   "cell_type": "code",
   "execution_count": 31,
   "metadata": {
    "ExecuteTime": {
     "end_time": "2018-09-25T20:05:03.198864Z",
     "start_time": "2018-09-25T20:05:03.148750Z"
    },
    "kernel": "SoS"
   },
   "outputs": [],
   "source": [
    "pu_df, pu_time = read_table_and_time(\n",
    "    os.path.join(WORKING_DIRECTORY, PU_FILE))"
   ]
  },
  {
   "cell_type": "code",
   "execution_count": 32,
   "metadata": {
    "ExecuteTime": {
     "end_time": "2018-09-25T20:05:03.243967Z",
     "start_time": "2018-09-25T20:05:03.210629Z"
    },
    "kernel": "SoS"
   },
   "outputs": [
    {
     "data": {
      "text/html": [
       "<div>\n",
       "<style scoped>\n",
       "    .dataframe tbody tr th:only-of-type {\n",
       "        vertical-align: middle;\n",
       "    }\n",
       "\n",
       "    .dataframe tbody tr th {\n",
       "        vertical-align: top;\n",
       "    }\n",
       "\n",
       "    .dataframe thead th {\n",
       "        text-align: right;\n",
       "    }\n",
       "</style>\n",
       "<table border=\"1\" class=\"dataframe\">\n",
       "  <thead>\n",
       "    <tr style=\"text-align: right;\">\n",
       "      <th>19</th>\n",
       "      <th>Channel</th>\n",
       "      <th>Value</th>\n",
       "    </tr>\n",
       "  </thead>\n",
       "  <tbody>\n",
       "    <tr>\n",
       "      <th>0</th>\n",
       "      <td>0.000000</td>\n",
       "      <td>0</td>\n",
       "    </tr>\n",
       "    <tr>\n",
       "      <th>1</th>\n",
       "      <td>0.002528</td>\n",
       "      <td>0</td>\n",
       "    </tr>\n",
       "    <tr>\n",
       "      <th>2</th>\n",
       "      <td>0.005056</td>\n",
       "      <td>0</td>\n",
       "    </tr>\n",
       "    <tr>\n",
       "      <th>3</th>\n",
       "      <td>0.007584</td>\n",
       "      <td>0</td>\n",
       "    </tr>\n",
       "    <tr>\n",
       "      <th>4</th>\n",
       "      <td>0.010112</td>\n",
       "      <td>0</td>\n",
       "    </tr>\n",
       "  </tbody>\n",
       "</table>\n",
       "</div>"
      ],
      "text/plain": [
       "19   Channel  Value\n",
       "0   0.000000      0\n",
       "1   0.002528      0\n",
       "2   0.005056      0\n",
       "3   0.007584      0\n",
       "4   0.010112      0"
      ]
     },
     "execution_count": 32,
     "metadata": {},
     "output_type": "execute_result"
    }
   ],
   "source": [
    "at_df.head()"
   ]
  },
  {
   "cell_type": "markdown",
   "metadata": {
    "kernel": "SoS"
   },
   "source": [
    "Построим ориентировочный график зависимости $N(E) = a\\,E$"
   ]
  },
  {
   "cell_type": "code",
   "execution_count": 33,
   "metadata": {
    "ExecuteTime": {
     "end_time": "2018-09-25T20:05:03.266487Z",
     "start_time": "2018-09-25T20:05:03.259666Z"
    },
    "kernel": "SoS"
   },
   "outputs": [],
   "source": [
    "x_data = pu_df['Channel']\n",
    "y_data = pu_df['Value']"
   ]
  },
  {
   "cell_type": "code",
   "execution_count": 34,
   "metadata": {
    "ExecuteTime": {
     "end_time": "2018-09-25T20:05:04.228554Z",
     "start_time": "2018-09-25T20:05:03.278856Z"
    },
    "kernel": "SoS",
    "scrolled": true
   },
   "outputs": [
    {
     "name": "stderr",
     "output_type": "stream",
     "text": [
      "/usr/local/lib/python3.5/dist-packages/matplotlib/figure.py:457: UserWarning: matplotlib is currently using a non-GUI backend, so cannot show the figure\n",
      "  \"matplotlib is currently using a non-GUI backend, \"\n"
     ]
    },
    {
     "data": {
      "image/png": "[encoded data removed]",
      "text/plain": [
       "<Figure size 1152x648 with 1 Axes>"
      ]
     },
     "metadata": {
      "needs_background": "light"
     },
     "output_type": "display_data"
    }
   ],
   "source": [
    "plot_data_optimized(x_values=x_data, y_values=y_data, threshold=0,\n",
    "                    title=r'Эксперимент с $^{239}_{\\,\\,94}Pu$', \n",
    "                    x_label=r'Номер канала', y_label=r'Число частиц $N$',\n",
    "                    save_to='out3.pdf')[0].show()"
   ]
  },
  {
   "cell_type": "markdown",
   "metadata": {
    "kernel": "SoS"
   },
   "source": [
    "Попытаемся аппросимировать пики гауссианой"
   ]
  },
  {
   "cell_type": "code",
   "execution_count": 35,
   "metadata": {
    "ExecuteTime": {
     "end_time": "2018-09-25T20:05:04.254044Z",
     "start_time": "2018-09-25T20:05:04.241287Z"
    },
    "kernel": "SoS"
   },
   "outputs": [],
   "source": [
    "# TODO: замените на свои\n",
    "# Я очень хорошо угадал свои интервалы!\n",
    "peaks = [\n",
    "    # Большой пик\n",
    "    (2000, 2200),\n",
    "]"
   ]
  },
  {
   "cell_type": "code",
   "execution_count": 36,
   "metadata": {
    "ExecuteTime": {
     "end_time": "2018-09-25T20:05:04.282063Z",
     "start_time": "2018-09-25T20:05:04.264697Z"
    },
    "kernel": "SoS"
   },
   "outputs": [],
   "source": [
    "indices = [(x_data > peak[0]) & (x_data < peak[1]) for peak in peaks]"
   ]
  },
  {
   "cell_type": "code",
   "execution_count": 37,
   "metadata": {
    "ExecuteTime": {
     "end_time": "2018-09-25T20:05:04.418229Z",
     "start_time": "2018-09-25T20:05:04.292098Z"
    },
    "kernel": "SoS"
   },
   "outputs": [],
   "source": [
    "f, params = [], []\n",
    "for ind in indices:\n",
    "    f1, params1 = fit_with_gauss(x_data[ind], y_data[ind], \n",
    "                                 initial_guess=[y_data[ind].max(), 0.5, 1])\n",
    "    f.append(f1)\n",
    "    params.append(params1)"
   ]
  },
  {
   "cell_type": "code",
   "execution_count": 38,
   "metadata": {
    "ExecuteTime": {
     "end_time": "2018-09-25T20:05:05.410907Z",
     "start_time": "2018-09-25T20:05:04.430495Z"
    },
    "kernel": "SoS"
   },
   "outputs": [
    {
     "name": "stderr",
     "output_type": "stream",
     "text": [
      "/usr/local/lib/python3.5/dist-packages/matplotlib/figure.py:457: UserWarning: matplotlib is currently using a non-GUI backend, so cannot show the figure\n",
      "  \"matplotlib is currently using a non-GUI backend, \"\n"
     ]
    },
    {
     "data": {
      "image/png": "[encoded data removed]",
      "text/plain": [
       "<Figure size 1152x648 with 1 Axes>"
      ]
     },
     "metadata": {
      "needs_background": "light"
     },
     "output_type": "display_data"
    }
   ],
   "source": [
    "fig, axes = plot_data_optimized(x_data, y_data)\n",
    "for i in range(len(indices)):\n",
    "    fig, axes = plot_data_optimized(x_data[indices[i]], \n",
    "                                    f[i](x_data[indices[i]]), \n",
    "                                    fig=fig, axes=axes,\n",
    "                                    title=r'Эксперимент с $^{239}_{\\,\\,94}Pu$', \n",
    "                                    x_label=r'Номер канала', y_label=r'Число частиц $N$',\n",
    "                                    save_to='out3.pdf')\n",
    "    # Заполним таблицу из лабника\n",
    "    result_table = pd.concat(\n",
    "        [result_table, pd.DataFrame([['Pu', \n",
    "                                      params[i][1], \n",
    "                                      get_gauss_halfwidth(params[i][2]), \n",
    "                                      # Пока мы их не знаем\n",
    "                                      0, 0, 0]], columns=res_table_cols)])\n",
    "fig.show()"
   ]
  },
  {
   "cell_type": "markdown",
   "metadata": {
    "kernel": "SoS"
   },
   "source": [
    "Имеем ярко выраженный пик. Подсчитаем его энергию, соглсно п. 1"
   ]
  },
  {
   "cell_type": "code",
   "execution_count": 39,
   "metadata": {
    "ExecuteTime": {
     "end_time": "2018-09-25T20:05:05.434451Z",
     "start_time": "2018-09-25T20:05:05.423521Z"
    },
    "kernel": "SoS"
   },
   "outputs": [],
   "source": [
    "# Вытащим матожидания\n",
    "mu = [param[1] for param in params]\n",
    "E_pu = [m*k for m in mu]"
   ]
  },
  {
   "cell_type": "code",
   "execution_count": 40,
   "metadata": {
    "ExecuteTime": {
     "end_time": "2018-09-25T20:05:05.464856Z",
     "start_time": "2018-09-25T20:05:05.448773Z"
    },
    "kernel": "SoS"
   },
   "outputs": [
    {
     "data": {
      "text/plain": [
       "[81.56390147083452]"
      ]
     },
     "execution_count": 40,
     "metadata": {},
     "output_type": "execute_result"
    }
   ],
   "source": [
    "E_pu"
   ]
  },
  {
   "cell_type": "markdown",
   "metadata": {
    "ExecuteTime": {
     "end_time": "2018-09-20T21:42:14.960350Z",
     "start_time": "2018-09-20T21:42:14.944927Z"
    },
    "kernel": "SoS"
   },
   "source": [
    "\\[ \\boxed{\n",
    "    E_1 = 5.298 \\text{ МэВ}\n",
    "}\\]"
   ]
  },
  {
   "cell_type": "markdown",
   "metadata": {},
   "source": [
    "Теперь построим графики $N(E)$, где $E$ пересчитаем по найденному выше $k$"
   ]
  },
  {
   "cell_type": "code",
   "execution_count": 41,
   "metadata": {
    "ExecuteTime": {
     "end_time": "2018-09-25T20:05:07.734561Z",
     "start_time": "2018-09-25T20:05:05.473861Z"
    }
   },
   "outputs": [
    {
     "name": "stderr",
     "output_type": "stream",
     "text": [
      "/usr/local/lib/python3.5/dist-packages/matplotlib/figure.py:457: UserWarning: matplotlib is currently using a non-GUI backend, so cannot show the figure\n",
      "  \"matplotlib is currently using a non-GUI backend, \"\n"
     ]
    },
    {
     "data": {
      "image/png": "[encoded data removed]",
      "text/plain": [
       "<Figure size 1152x648 with 1 Axes>"
      ]
     },
     "metadata": {
      "needs_background": "light"
     },
     "output_type": "display_data"
    },
    {
     "data": {
      "image/png": "[encoded data removed]",
      "text/plain": [
       "<Figure size 1152x648 with 1 Axes>"
      ]
     },
     "metadata": {
      "needs_background": "light"
     },
     "output_type": "display_data"
    }
   ],
   "source": [
    "# Сначала пересчитаем в энергию\n",
    "x_data *= k\n",
    "\n",
    "# Не забудем пересчитать координаты пиков\n",
    "for i in range(len(peaks)):\n",
    "    peaks[i] = (peaks[i][0]*k, peaks[i][1]*k)\n",
    "    \n",
    "indices = [(x_data > peak[0]) & (x_data < peak[1]) for peak in peaks]\n",
    "\n",
    "f, params = [], []\n",
    "for ind in indices:\n",
    "    f1, params1 = fit_with_gauss(x_data[ind], y_data[ind], \n",
    "                                 initial_guess=[y_data[ind].max(), 0.5, 1])\n",
    "    f.append(f1)\n",
    "    params.append(params1)\n",
    "\n",
    "plot_data_optimized(x_values=x_data, y_values=y_data,\n",
    "                    title=r'Эксперимент с $^{239}_{\\,\\,94}Pu$', \n",
    "                    x_label=r'$E$, МэВ', y_label=r'Число частиц $N$',\n",
    "                    save_to='out3-E.pdf')[0].show()\n",
    "\n",
    "fig, axes = plot_data_optimized(x_data, y_data)\n",
    "for i in range(len(indices)):\n",
    "    fig, axes = plot_data_optimized(x_data[indices[i]], \n",
    "                                    f[i](x_data[indices[i]]), \n",
    "                                    fig=fig, axes=axes,\n",
    "                                    title=r'Эксперимент с $^{239}_{\\,\\,94}Pu$', \n",
    "                                    x_label=r'$E$, МэВ', y_label=r'Число частиц $N$',\n",
    "                                    save_to='out3-E.pdf')\n",
    "    \n",
    "fig.show()"
   ]
  },
  {
   "cell_type": "markdown",
   "metadata": {
    "kernel": "SoS"
   },
   "source": [
    "### Исследование $U_\\text{прир} $"
   ]
  },
  {
   "cell_type": "code",
   "execution_count": 42,
   "metadata": {
    "ExecuteTime": {
     "end_time": "2018-09-25T20:05:07.801082Z",
     "start_time": "2018-09-25T20:05:07.751177Z"
    },
    "kernel": "SoS"
   },
   "outputs": [],
   "source": [
    "u_df, u_time = read_table_and_time(\n",
    "    os.path.join(WORKING_DIRECTORY, U_FILE))"
   ]
  },
  {
   "cell_type": "code",
   "execution_count": 43,
   "metadata": {
    "ExecuteTime": {
     "end_time": "2018-09-25T20:05:07.846009Z",
     "start_time": "2018-09-25T20:05:07.813658Z"
    },
    "kernel": "SoS"
   },
   "outputs": [
    {
     "data": {
      "text/html": [
       "<div>\n",
       "<style scoped>\n",
       "    .dataframe tbody tr th:only-of-type {\n",
       "        vertical-align: middle;\n",
       "    }\n",
       "\n",
       "    .dataframe tbody tr th {\n",
       "        vertical-align: top;\n",
       "    }\n",
       "\n",
       "    .dataframe thead th {\n",
       "        text-align: right;\n",
       "    }\n",
       "</style>\n",
       "<table border=\"1\" class=\"dataframe\">\n",
       "  <thead>\n",
       "    <tr style=\"text-align: right;\">\n",
       "      <th>19</th>\n",
       "      <th>Channel</th>\n",
       "      <th>Value</th>\n",
       "    </tr>\n",
       "  </thead>\n",
       "  <tbody>\n",
       "    <tr>\n",
       "      <th>0</th>\n",
       "      <td>0</td>\n",
       "      <td>0</td>\n",
       "    </tr>\n",
       "    <tr>\n",
       "      <th>1</th>\n",
       "      <td>1</td>\n",
       "      <td>0</td>\n",
       "    </tr>\n",
       "    <tr>\n",
       "      <th>2</th>\n",
       "      <td>2</td>\n",
       "      <td>0</td>\n",
       "    </tr>\n",
       "    <tr>\n",
       "      <th>3</th>\n",
       "      <td>3</td>\n",
       "      <td>0</td>\n",
       "    </tr>\n",
       "    <tr>\n",
       "      <th>4</th>\n",
       "      <td>4</td>\n",
       "      <td>0</td>\n",
       "    </tr>\n",
       "  </tbody>\n",
       "</table>\n",
       "</div>"
      ],
      "text/plain": [
       "19  Channel  Value\n",
       "0         0      0\n",
       "1         1      0\n",
       "2         2      0\n",
       "3         3      0\n",
       "4         4      0"
      ]
     },
     "execution_count": 43,
     "metadata": {},
     "output_type": "execute_result"
    }
   ],
   "source": [
    "u_df.head()"
   ]
  },
  {
   "cell_type": "markdown",
   "metadata": {
    "kernel": "SoS"
   },
   "source": [
    "Построим ориентировочный график зависимости $N(E) = a\\,E$"
   ]
  },
  {
   "cell_type": "code",
   "execution_count": 44,
   "metadata": {
    "ExecuteTime": {
     "end_time": "2018-09-25T20:05:07.869126Z",
     "start_time": "2018-09-25T20:05:07.858474Z"
    },
    "kernel": "SoS"
   },
   "outputs": [],
   "source": [
    "x_data = u_df['Channel']\n",
    "y_data = u_df['Value']"
   ]
  },
  {
   "cell_type": "code",
   "execution_count": 45,
   "metadata": {
    "ExecuteTime": {
     "end_time": "2018-09-25T20:05:08.749479Z",
     "start_time": "2018-09-25T20:05:07.881894Z"
    },
    "kernel": "SoS",
    "scrolled": true
   },
   "outputs": [
    {
     "name": "stderr",
     "output_type": "stream",
     "text": [
      "/usr/local/lib/python3.5/dist-packages/matplotlib/figure.py:457: UserWarning: matplotlib is currently using a non-GUI backend, so cannot show the figure\n",
      "  \"matplotlib is currently using a non-GUI backend, \"\n"
     ]
    },
    {
     "data": {
      "image/png": "[encoded data removed]",
      "text/plain": [
       "<Figure size 1152x648 with 1 Axes>"
      ]
     },
     "metadata": {
      "needs_background": "light"
     },
     "output_type": "display_data"
    }
   ],
   "source": [
    "plot_data_optimized(x_values=x_data, y_values=y_data, threshold=0,\n",
    "                    title=r'$Uпр$', \n",
    "                    x_label=r'номер канала', y_label=r'$N$',\n",
    "                    save_to='out4.pdf')[0].show()"
   ]
  },
  {
   "cell_type": "markdown",
   "metadata": {
    "kernel": "SoS"
   },
   "source": [
    "Попытаемся аппросимировать пики гауссианой"
   ]
  },
  {
   "cell_type": "code",
   "execution_count": 46,
   "metadata": {
    "ExecuteTime": {
     "end_time": "2018-09-25T20:05:08.774755Z",
     "start_time": "2018-09-25T20:05:08.762196Z"
    },
    "kernel": "SoS"
   },
   "outputs": [],
   "source": [
    "# TODO: замените на свои\n",
    "# Я очень хорошо угадал свои интервалы!\n",
    "peaks = [\n",
    "    # Большой пик\n",
    "    (1500, 1750),\n",
    "    # Большой пик\n",
    "    (1770, 2000),\n",
    "]"
   ]
  },
  {
   "cell_type": "code",
   "execution_count": 47,
   "metadata": {
    "ExecuteTime": {
     "end_time": "2018-09-25T20:05:08.808808Z",
     "start_time": "2018-09-25T20:05:08.788760Z"
    },
    "kernel": "SoS"
   },
   "outputs": [],
   "source": [
    "indices = [(x_data > peak[0]) & (x_data < peak[1]) for peak in peaks]"
   ]
  },
  {
   "cell_type": "code",
   "execution_count": 48,
   "metadata": {
    "ExecuteTime": {
     "end_time": "2018-09-25T20:05:09.624700Z",
     "start_time": "2018-09-25T20:05:08.821895Z"
    },
    "kernel": "SoS"
   },
   "outputs": [],
   "source": [
    "f, params = [], []\n",
    "for ind in indices:\n",
    "    f1, params1 = fit_with_gauss(x_data[ind], y_data[ind], \n",
    "                                 initial_guess=[y_data[ind].max(), 0.5, 1])\n",
    "    f.append(f1)\n",
    "    params.append(params1)"
   ]
  },
  {
   "cell_type": "code",
   "execution_count": 49,
   "metadata": {
    "ExecuteTime": {
     "end_time": "2018-09-25T20:05:10.734584Z",
     "start_time": "2018-09-25T20:05:09.638053Z"
    },
    "kernel": "SoS"
   },
   "outputs": [
    {
     "name": "stderr",
     "output_type": "stream",
     "text": [
      "/usr/local/lib/python3.5/dist-packages/matplotlib/figure.py:457: UserWarning: matplotlib is currently using a non-GUI backend, so cannot show the figure\n",
      "  \"matplotlib is currently using a non-GUI backend, \"\n"
     ]
    },
    {
     "data": {
      "image/png": "[encoded data removed]",
      "text/plain": [
       "<Figure size 1152x648 with 1 Axes>"
      ]
     },
     "metadata": {
      "needs_background": "light"
     },
     "output_type": "display_data"
    }
   ],
   "source": [
    "fig, axes = plot_data_optimized(x_data, y_data)\n",
    "for i in range(len(indices)):\n",
    "    fig, axes = plot_data_optimized(x_data[indices[i]], \n",
    "                                    f[i](x_data[indices[i]]), \n",
    "                                    fig=fig, axes=axes,\n",
    "                                    title=r'$Uпр$',\n",
    "                                    x_label=r'номер канала', y_label=r'$N$',\n",
    "                                    save_to='out4.pdf')\n",
    "    # Заполним таблицу из лабника\n",
    "    result_table = pd.concat(\n",
    "        [result_table, pd.DataFrame([['U', \n",
    "                                      params[i][1], \n",
    "                                      get_gauss_halfwidth(params[i][2]), \n",
    "                                      # Пока мы их не знаем\n",
    "                                      0, 0, 0]], columns=res_table_cols)])\n",
    "fig.show()"
   ]
  },
  {
   "cell_type": "markdown",
   "metadata": {
    "kernel": "SoS"
   },
   "source": [
    "Имеем плохие пики. Тем не менее, попытаемся подсчитать их энергию:"
   ]
  },
  {
   "cell_type": "code",
   "execution_count": 50,
   "metadata": {
    "ExecuteTime": {
     "end_time": "2018-09-25T20:05:10.757866Z",
     "start_time": "2018-09-25T20:05:10.750882Z"
    },
    "kernel": "SoS"
   },
   "outputs": [],
   "source": [
    "# Вытащим матожидания\n",
    "mu = [param[1] for param in params]\n",
    "E_u = [m*k for m in mu]"
   ]
  },
  {
   "cell_type": "code",
   "execution_count": 51,
   "metadata": {
    "ExecuteTime": {
     "end_time": "2018-09-25T20:05:10.783042Z",
     "start_time": "2018-09-25T20:05:10.769897Z"
    },
    "kernel": "SoS"
   },
   "outputs": [
    {
     "data": {
      "text/plain": [
       "[4.187496753130344, 4.7464444816308005]"
      ]
     },
     "execution_count": 51,
     "metadata": {},
     "output_type": "execute_result"
    }
   ],
   "source": [
    "E_u"
   ]
  },
  {
   "cell_type": "markdown",
   "metadata": {
    "ExecuteTime": {
     "end_time": "2018-09-20T21:42:14.960350Z",
     "start_time": "2018-09-20T21:42:14.944927Z"
    },
    "kernel": "SoS"
   },
   "source": [
    "\\[ \\boxed{\n",
    "    E_1 \\approx 4.172 \\text{ МэВ} \\\\\n",
    "    E_2 \\approx 4.739 \\text{ МэВ} \n",
    "}\\]"
   ]
  },
  {
   "cell_type": "markdown",
   "metadata": {},
   "source": [
    "Теперь построим графики $N(E)$, где $E$ пересчитаем по найденному выше $k$"
   ]
  },
  {
   "cell_type": "code",
   "execution_count": 52,
   "metadata": {
    "ExecuteTime": {
     "end_time": "2018-09-25T20:05:13.567990Z",
     "start_time": "2018-09-25T20:05:10.793867Z"
    }
   },
   "outputs": [
    {
     "name": "stderr",
     "output_type": "stream",
     "text": [
      "/usr/local/lib/python3.5/dist-packages/matplotlib/figure.py:457: UserWarning: matplotlib is currently using a non-GUI backend, so cannot show the figure\n",
      "  \"matplotlib is currently using a non-GUI backend, \"\n"
     ]
    },
    {
     "data": {
      "image/png": "[encoded data removed]",
      "text/plain": [
       "<Figure size 1152x648 with 1 Axes>"
      ]
     },
     "metadata": {
      "needs_background": "light"
     },
     "output_type": "display_data"
    },
    {
     "data": {
      "image/png": "[encoded data removed]",
      "text/plain": [
       "<Figure size 1152x648 with 1 Axes>"
      ]
     },
     "metadata": {
      "needs_background": "light"
     },
     "output_type": "display_data"
    }
   ],
   "source": [
    "# Сначала пересчитаем в энергию\n",
    "x_data *= k\n",
    "\n",
    "# Не забудем пересчитать координаты пиков\n",
    "for i in range(len(peaks)):\n",
    "    peaks[i] = (peaks[i][0]*k, peaks[i][1]*k)\n",
    "    \n",
    "indices = [(x_data > peak[0]) & (x_data < peak[1]) for peak in peaks]\n",
    "\n",
    "f, params = [], []\n",
    "for ind in indices:\n",
    "    f1, params1 = fit_with_gauss(x_data[ind], y_data[ind], \n",
    "                                 initial_guess=[y_data[ind].max(), 0.5, 1])\n",
    "    f.append(f1)\n",
    "    params.append(params1)\n",
    "\n",
    "plot_data_optimized(x_values=x_data, y_values=y_data,\n",
    "                    title=r'Эксперимент с $U$', \n",
    "                    x_label=r'$E$, МэВ', y_label=r'Число частиц $N$',\n",
    "                    save_to='out4-E.pdf')[0].show()\n",
    "\n",
    "fig, axes = plot_data_optimized(x_data, y_data)\n",
    "for i in range(len(indices)):\n",
    "    fig, axes = plot_data_optimized(x_data[indices[i]], \n",
    "                                    f[i](x_data[indices[i]]), \n",
    "                                    fig=fig, axes=axes,\n",
    "                                    title=r'Эксперимент с $U$', \n",
    "                                    x_label=r'$E$, МэВ', y_label=r'Число частиц $N$',\n",
    "                                    save_to='out4-E.pdf')\n",
    "    \n",
    "fig.show()"
   ]
  },
  {
   "cell_type": "markdown",
   "metadata": {
    "kernel": "SoS"
   },
   "source": [
    "## Займемся таблицей из лабника"
   ]
  },
  {
   "cell_type": "markdown",
   "metadata": {
    "kernel": "SoS"
   },
   "source": [
    "Вот она"
   ]
  },
  {
   "cell_type": "markdown",
   "metadata": {
    "kernel": "SoS"
   },
   "source": [
    "Теперь подсчитаем $E_i$ и $\\Delta E_i$, зная значение коэффициента пересчета:"
   ]
  },
  {
   "cell_type": "code",
   "execution_count": 53,
   "metadata": {
    "ExecuteTime": {
     "end_time": "2018-09-25T20:05:13.600425Z",
     "start_time": "2018-09-25T20:05:13.580895Z"
    },
    "kernel": "SoS"
   },
   "outputs": [],
   "source": [
    "result_table['E_i'] = result_table['N_i']*k\n",
    "result_table['Delta E_i'] = result_table['Delta N_i']*k\n",
    "result_table['R_i'] = result_table['Delta E_i'] / result_table['E_i']"
   ]
  },
  {
   "cell_type": "code",
   "execution_count": 54,
   "metadata": {
    "ExecuteTime": {
     "end_time": "2018-09-25T20:05:13.657362Z",
     "start_time": "2018-09-25T20:05:13.613285Z"
    },
    "kernel": "SoS"
   },
   "outputs": [
    {
     "data": {
      "text/html": [
       "<div>\n",
       "<style scoped>\n",
       "    .dataframe tbody tr th:only-of-type {\n",
       "        vertical-align: middle;\n",
       "    }\n",
       "\n",
       "    .dataframe tbody tr th {\n",
       "        vertical-align: top;\n",
       "    }\n",
       "\n",
       "    .dataframe thead th {\n",
       "        text-align: right;\n",
       "    }\n",
       "</style>\n",
       "<table border=\"1\" class=\"dataframe\">\n",
       "  <thead>\n",
       "    <tr style=\"text-align: right;\">\n",
       "      <th></th>\n",
       "      <th>Источник</th>\n",
       "      <th>N_i</th>\n",
       "      <th>Delta N_i</th>\n",
       "      <th>E_i</th>\n",
       "      <th>Delta E_i</th>\n",
       "      <th>R_i</th>\n",
       "    </tr>\n",
       "  </thead>\n",
       "  <tbody>\n",
       "    <tr>\n",
       "      <th>0</th>\n",
       "      <td>Ra</td>\n",
       "      <td>1932.988894</td>\n",
       "      <td>53.403646</td>\n",
       "      <td>4.886662</td>\n",
       "      <td>0.135006</td>\n",
       "      <td>0.027627</td>\n",
       "    </tr>\n",
       "    <tr>\n",
       "      <th>0</th>\n",
       "      <td>Ra</td>\n",
       "      <td>2215.260825</td>\n",
       "      <td>55.432073</td>\n",
       "      <td>5.600255</td>\n",
       "      <td>0.140134</td>\n",
       "      <td>0.025023</td>\n",
       "    </tr>\n",
       "    <tr>\n",
       "      <th>0</th>\n",
       "      <td>Ra</td>\n",
       "      <td>2418.818956</td>\n",
       "      <td>52.437278</td>\n",
       "      <td>6.114857</td>\n",
       "      <td>0.132563</td>\n",
       "      <td>0.021679</td>\n",
       "    </tr>\n",
       "    <tr>\n",
       "      <th>0</th>\n",
       "      <td>Ra</td>\n",
       "      <td>3082.156351</td>\n",
       "      <td>51.648898</td>\n",
       "      <td>7.791796</td>\n",
       "      <td>0.130570</td>\n",
       "      <td>0.016757</td>\n",
       "    </tr>\n",
       "    <tr>\n",
       "      <th>0</th>\n",
       "      <td>Am+Th</td>\n",
       "      <td>1904.111824</td>\n",
       "      <td>52.362397</td>\n",
       "      <td>4.813660</td>\n",
       "      <td>0.132374</td>\n",
       "      <td>0.027500</td>\n",
       "    </tr>\n",
       "    <tr>\n",
       "      <th>0</th>\n",
       "      <td>Am+Th</td>\n",
       "      <td>2225.756547</td>\n",
       "      <td>48.743628</td>\n",
       "      <td>5.626788</td>\n",
       "      <td>0.123226</td>\n",
       "      <td>0.021900</td>\n",
       "    </tr>\n",
       "    <tr>\n",
       "      <th>0</th>\n",
       "      <td>Pu</td>\n",
       "      <td>32263.766773</td>\n",
       "      <td>8521.525004</td>\n",
       "      <td>81.563901</td>\n",
       "      <td>21.542705</td>\n",
       "      <td>0.264121</td>\n",
       "    </tr>\n",
       "    <tr>\n",
       "      <th>0</th>\n",
       "      <td>U</td>\n",
       "      <td>1656.424180</td>\n",
       "      <td>148.911076</td>\n",
       "      <td>4.187497</td>\n",
       "      <td>0.376452</td>\n",
       "      <td>0.089899</td>\n",
       "    </tr>\n",
       "    <tr>\n",
       "      <th>0</th>\n",
       "      <td>U</td>\n",
       "      <td>1877.523941</td>\n",
       "      <td>133.083049</td>\n",
       "      <td>4.746444</td>\n",
       "      <td>0.336438</td>\n",
       "      <td>0.070882</td>\n",
       "    </tr>\n",
       "  </tbody>\n",
       "</table>\n",
       "</div>"
      ],
      "text/plain": [
       "  Источник           N_i    Delta N_i        E_i  Delta E_i       R_i\n",
       "0       Ra   1932.988894    53.403646   4.886662   0.135006  0.027627\n",
       "0       Ra   2215.260825    55.432073   5.600255   0.140134  0.025023\n",
       "0       Ra   2418.818956    52.437278   6.114857   0.132563  0.021679\n",
       "0       Ra   3082.156351    51.648898   7.791796   0.130570  0.016757\n",
       "0    Am+Th   1904.111824    52.362397   4.813660   0.132374  0.027500\n",
       "0    Am+Th   2225.756547    48.743628   5.626788   0.123226  0.021900\n",
       "0       Pu  32263.766773  8521.525004  81.563901  21.542705  0.264121\n",
       "0        U   1656.424180   148.911076   4.187497   0.376452  0.089899\n",
       "0        U   1877.523941   133.083049   4.746444   0.336438  0.070882"
      ]
     },
     "execution_count": 54,
     "metadata": {},
     "output_type": "execute_result"
    }
   ],
   "source": [
    "result_table"
   ]
  },
  {
   "cell_type": "markdown",
   "metadata": {
    "kernel": "SoS"
   },
   "source": [
    "Для радия определим $R_\\text{фл., i} = \\dfrac{1}{\\sqrt{N_i}}$, где $N_i = \\dfrac{E_i}{E_\\text{ср}}$, $E_\\text{ср}$ = 3.6 эВ  "
   ]
  },
  {
   "cell_type": "code",
   "execution_count": 55,
   "metadata": {
    "ExecuteTime": {
     "end_time": "2018-09-25T20:05:13.687634Z",
     "start_time": "2018-09-25T20:05:13.672554Z"
    },
    "kernel": "SoS"
   },
   "outputs": [],
   "source": [
    "R_fluc = 1/np.sqrt(result_table[result_table['Источник'] == 'Ra']['E_i'] / 3.6 * 10**6)"
   ]
  },
  {
   "cell_type": "markdown",
   "metadata": {
    "kernel": "SoS"
   },
   "source": [
    "Составим разность $R_i - R_\\text{фл., i}$ "
   ]
  },
  {
   "cell_type": "code",
   "execution_count": 56,
   "metadata": {
    "ExecuteTime": {
     "end_time": "2018-09-25T20:05:13.725769Z",
     "start_time": "2018-09-25T20:05:13.702109Z"
    },
    "kernel": "SoS"
   },
   "outputs": [],
   "source": [
    "delta_R = result_table[result_table['Источник'] == 'Ra']['R_i'] - R_fluc\n",
    "ra_R_df = pd.DataFrame(np.array([result_table[result_table['Источник'] == 'Ra']['R_i'].values, \n",
    "                        R_fluc.values, delta_R.values]).T, columns=['R_i', 'R_fluc_i', 'Delta R'])"
   ]
  },
  {
   "cell_type": "markdown",
   "metadata": {
    "kernel": "SoS"
   },
   "source": [
    "Результаты сведем в таблицу:"
   ]
  },
  {
   "cell_type": "code",
   "execution_count": 57,
   "metadata": {
    "ExecuteTime": {
     "end_time": "2018-09-25T20:05:13.772716Z",
     "start_time": "2018-09-25T20:05:13.738271Z"
    },
    "kernel": "SoS"
   },
   "outputs": [
    {
     "data": {
      "text/html": [
       "<div>\n",
       "<style scoped>\n",
       "    .dataframe tbody tr th:only-of-type {\n",
       "        vertical-align: middle;\n",
       "    }\n",
       "\n",
       "    .dataframe tbody tr th {\n",
       "        vertical-align: top;\n",
       "    }\n",
       "\n",
       "    .dataframe thead th {\n",
       "        text-align: right;\n",
       "    }\n",
       "</style>\n",
       "<table border=\"1\" class=\"dataframe\">\n",
       "  <thead>\n",
       "    <tr style=\"text-align: right;\">\n",
       "      <th></th>\n",
       "      <th>R_i</th>\n",
       "      <th>R_fluc_i</th>\n",
       "      <th>Delta R</th>\n",
       "    </tr>\n",
       "  </thead>\n",
       "  <tbody>\n",
       "    <tr>\n",
       "      <th>0</th>\n",
       "      <td>0.027627</td>\n",
       "      <td>0.000858</td>\n",
       "      <td>0.026769</td>\n",
       "    </tr>\n",
       "    <tr>\n",
       "      <th>1</th>\n",
       "      <td>0.025023</td>\n",
       "      <td>0.000802</td>\n",
       "      <td>0.024221</td>\n",
       "    </tr>\n",
       "    <tr>\n",
       "      <th>2</th>\n",
       "      <td>0.021679</td>\n",
       "      <td>0.000767</td>\n",
       "      <td>0.020912</td>\n",
       "    </tr>\n",
       "    <tr>\n",
       "      <th>3</th>\n",
       "      <td>0.016757</td>\n",
       "      <td>0.000680</td>\n",
       "      <td>0.016078</td>\n",
       "    </tr>\n",
       "  </tbody>\n",
       "</table>\n",
       "</div>"
      ],
      "text/plain": [
       "        R_i  R_fluc_i   Delta R\n",
       "0  0.027627  0.000858  0.026769\n",
       "1  0.025023  0.000802  0.024221\n",
       "2  0.021679  0.000767  0.020912\n",
       "3  0.016757  0.000680  0.016078"
      ]
     },
     "execution_count": 57,
     "metadata": {},
     "output_type": "execute_result"
    }
   ],
   "source": [
    "ra_R_df"
   ]
  },
  {
   "cell_type": "markdown",
   "metadata": {
    "kernel": "SoS"
   },
   "source": [
    "## Проверка закона Гейгера-Неттола"
   ]
  },
  {
   "cell_type": "markdown",
   "metadata": {
    "kernel": "SoS"
   },
   "source": [
    "Закон Гейгера-Нетолла имеет вид:\n",
    "$$\n",
    "\\lg T_{1/2} = \\dfrac{a}{\\sqrt{E_\\alpha}} + b\n",
    "$$"
   ]
  },
  {
   "cell_type": "markdown",
   "metadata": {
    "kernel": "SoS"
   },
   "source": [
    "Здесь коэффициенты $a$ и $b$ очень слабо зависят от заряда ядра $Z$"
   ]
  },
  {
   "cell_type": "markdown",
   "metadata": {
    "kernel": "SoS"
   },
   "source": [
    "Из материалов к лабораторной работе мы имеем знания об энергии $\\alpha$-частиц $^{226}_{\\phantom{2} 88} Ra$ и его дочерних ядер, а также их периоды полураспада. По этим данным мы построим график \n",
    "$$\\lg T_{1/2} = f \\left(1 / \\sqrt{E_\\alpha} \\right)$$\n",
    "Ожидаем прямую!"
   ]
  },
  {
   "cell_type": "markdown",
   "metadata": {
    "kernel": "SoS"
   },
   "source": [
    "Перепишем данные из описания к работе:"
   ]
  },
  {
   "cell_type": "code",
   "execution_count": 58,
   "metadata": {
    "ExecuteTime": {
     "end_time": "2018-09-25T20:05:13.799950Z",
     "start_time": "2018-09-25T20:05:13.787899Z"
    },
    "kernel": "SoS"
   },
   "outputs": [],
   "source": [
    "geiger_netoll_df = pd.DataFrame(np.array([\n",
    "    [1620*365*24*3600, 3.82*24*3600, 3.11*60, 1.63*10**(-4)], \n",
    "    [4.784, 5.490, 6.002, 7.687]]).T, columns=['T', 'E'])"
   ]
  },
  {
   "cell_type": "code",
   "execution_count": 59,
   "metadata": {
    "ExecuteTime": {
     "end_time": "2018-09-25T20:05:13.849935Z",
     "start_time": "2018-09-25T20:05:13.813874Z"
    },
    "kernel": "SoS"
   },
   "outputs": [
    {
     "data": {
      "text/html": [
       "<div>\n",
       "<style scoped>\n",
       "    .dataframe tbody tr th:only-of-type {\n",
       "        vertical-align: middle;\n",
       "    }\n",
       "\n",
       "    .dataframe tbody tr th {\n",
       "        vertical-align: top;\n",
       "    }\n",
       "\n",
       "    .dataframe thead th {\n",
       "        text-align: right;\n",
       "    }\n",
       "</style>\n",
       "<table border=\"1\" class=\"dataframe\">\n",
       "  <thead>\n",
       "    <tr style=\"text-align: right;\">\n",
       "      <th></th>\n",
       "      <th>T</th>\n",
       "      <th>E</th>\n",
       "    </tr>\n",
       "  </thead>\n",
       "  <tbody>\n",
       "    <tr>\n",
       "      <th>0</th>\n",
       "      <td>5.108832e+10</td>\n",
       "      <td>4.784</td>\n",
       "    </tr>\n",
       "    <tr>\n",
       "      <th>1</th>\n",
       "      <td>3.300480e+05</td>\n",
       "      <td>5.490</td>\n",
       "    </tr>\n",
       "    <tr>\n",
       "      <th>2</th>\n",
       "      <td>1.866000e+02</td>\n",
       "      <td>6.002</td>\n",
       "    </tr>\n",
       "    <tr>\n",
       "      <th>3</th>\n",
       "      <td>1.630000e-04</td>\n",
       "      <td>7.687</td>\n",
       "    </tr>\n",
       "  </tbody>\n",
       "</table>\n",
       "</div>"
      ],
      "text/plain": [
       "              T      E\n",
       "0  5.108832e+10  4.784\n",
       "1  3.300480e+05  5.490\n",
       "2  1.866000e+02  6.002\n",
       "3  1.630000e-04  7.687"
      ]
     },
     "execution_count": 59,
     "metadata": {},
     "output_type": "execute_result"
    }
   ],
   "source": [
    "geiger_netoll_df"
   ]
  },
  {
   "cell_type": "markdown",
   "metadata": {
    "kernel": "SoS"
   },
   "source": [
    "Построим требуемый график:"
   ]
  },
  {
   "cell_type": "code",
   "execution_count": 60,
   "metadata": {
    "ExecuteTime": {
     "end_time": "2018-09-25T20:05:13.877345Z",
     "start_time": "2018-09-25T20:05:13.864733Z"
    },
    "kernel": "SoS"
   },
   "outputs": [],
   "source": [
    "x_data, y_data = 1/np.sqrt(geiger_netoll_df['E']), np.log(geiger_netoll_df['T'])"
   ]
  },
  {
   "cell_type": "code",
   "execution_count": 61,
   "metadata": {
    "ExecuteTime": {
     "end_time": "2018-09-25T20:05:13.899284Z",
     "start_time": "2018-09-25T20:05:13.888761Z"
    },
    "kernel": "SoS"
   },
   "outputs": [],
   "source": [
    "regression_results = sc.stats.linregress(x_data, y_data)"
   ]
  },
  {
   "cell_type": "code",
   "execution_count": 62,
   "metadata": {
    "ExecuteTime": {
     "end_time": "2018-09-25T20:05:15.009763Z",
     "start_time": "2018-09-25T20:05:13.909190Z"
    },
    "kernel": "SoS",
    "scrolled": true
   },
   "outputs": [
    {
     "name": "stderr",
     "output_type": "stream",
     "text": [
      "/usr/local/lib/python3.5/dist-packages/matplotlib/figure.py:457: UserWarning: matplotlib is currently using a non-GUI backend, so cannot show the figure\n",
      "  \"matplotlib is currently using a non-GUI backend, \"\n"
     ]
    },
    {
     "data": {
      "image/png": "[encoded data removed]",
      "text/plain": [
       "<Figure size 1152x648 with 1 Axes>"
      ]
     },
     "metadata": {
      "needs_background": "light"
     },
     "output_type": "display_data"
    }
   ],
   "source": [
    "fig, axes = plt.subplots(figsize=(16, 9))\n",
    "axes.scatter(x_data, y_data)\n",
    "axes.grid(True)\n",
    "axes.set_title(r'Проверка закона Гейгера-Нетолла')\n",
    "axes.set_xlabel(r'$\\dfrac{1}{\\sqrt{E_\\alpha}}$')\n",
    "axes.set_ylabel(r'$\\lg T_{1/2}$')\n",
    "# Линейная регрессия\n",
    "x_linreg_data = np.linspace(min(x_data), max(x_data))\n",
    "f = lambda x: regression_results.slope*x + regression_results.intercept\n",
    "axes.plot(x_linreg_data, f(x_linreg_data))\n",
    "\n",
    "fig.savefig('geiger.pdf')\n",
    "fig.show()"
   ]
  },
  {
   "cell_type": "markdown",
   "metadata": {
    "kernel": "SoS"
   },
   "source": [
    "Неплохо выполняется. Линейная регрессия дает значение <b>p-value</b> = {{format(regression_results.pvalue, '.5f')}} и <b>r-value</b> = {{format(regression_results.rvalue, '.5f')}}, что подтвержает гипотезу о линейной зависимости."
   ]
  }
 ],
 "metadata": {
  "kernelspec": {
   "display_name": "Python 3",
   "language": "python",
   "name": "python3"
  },
  "language_info": {
   "codemirror_mode": {
    "name": "ipython",
    "version": 3
   },
   "file_extension": ".py",
   "mimetype": "text/x-python",
   "name": "python",
   "nbconvert_exporter": "python",
   "pygments_lexer": "ipython3",
   "version": "3.5.2"
  },
  "latex_envs": {
   "LaTeX_envs_menu_present": true,
   "autoclose": false,
   "autocomplete": true,
   "bibliofile": "biblio.bib",
   "cite_by": "apalike",
   "current_citInitial": 1,
   "eqLabelWithNumbers": true,
   "eqNumInitial": 1,
   "hotkeys": {
    "equation": "Ctrl-E",
    "itemize": "Ctrl-I"
   },
   "labels_anchors": false,
   "latex_user_defs": false,
   "report_style_numbering": true,
   "user_envs_cfg": false
  },
  "sos": {
   "kernels": [
    [
     null,
     null,
     "",
     ""
    ]
   ],
   "panel": {
    "displayed": true,
    "height": 0,
    "style": "side"
   }
  },
  "varInspector": {
   "cols": {
    "lenName": 16,
    "lenType": 16,
    "lenVar": 40
   },
   "kernels_config": {
    "python": {
     "delete_cmd_postfix": "",
     "delete_cmd_prefix": "del ",
     "library": "var_list.py",
     "varRefreshCmd": "print(var_dic_list())"
    },
    "r": {
     "delete_cmd_postfix": ") ",
     "delete_cmd_prefix": "rm(",
     "library": "var_list.r",
     "varRefreshCmd": "cat(var_dic_list()) "
    }
   },
   "types_to_exclude": [
    "module",
    "function",
    "builtin_function_or_method",
    "instance",
    "_Feature"
   ],
   "window_display": false
  }
 },
 "nbformat": 4,
 "nbformat_minor": 2
}
