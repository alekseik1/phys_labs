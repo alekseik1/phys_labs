{
 "cells": [
  {
   "cell_type": "markdown",
   "metadata": {},
   "source": [
    "# Лабораторная работа №8.1 \"Тепловое излучение\""
   ]
  },
  {
   "cell_type": "markdown",
   "metadata": {},
   "source": [
    "Исследуется излучение модели АЧТ; тел, отличающихся по излучению от АЧТ. Определяется постоянная Планка и Стефана-Больцмана из анализа излучения раскаленного тела."
   ]
  },
  {
   "cell_type": "markdown",
   "metadata": {},
   "source": [
    "### Изучение работы пирометра"
   ]
  },
  {
   "cell_type": "markdown",
   "metadata": {},
   "source": [
    "В ходе измерения температур на пирометре и термопаре и их сравнения было выяснено, что у пирометра есть **смещение +120 к показаниям пирометра**."
   ]
  },
  {
   "cell_type": "markdown",
   "metadata": {},
   "source": [
    "### Измерение яркостной температуры разных тел"
   ]
  },
  {
   "cell_type": "markdown",
   "metadata": {},
   "source": [
    "Кольца, насаженные на трубку, имели разную _яркостную температуру_ при том, что их _термодинамическая температура_ была одинаковой. Это связано с различиями коэффициентов испускания для двух колец. Видимо, они были изготовлены из разных материалов."
   ]
  },
  {
   "cell_type": "markdown",
   "metadata": {},
   "source": [
    "### Проверка закона Стефана-Больцмана"
   ]
  },
  {
   "cell_type": "markdown",
   "metadata": {},
   "source": [
    "По измерениям температуры лампы накаливания и ее потребляемой мощности можно проверить закон Стефана-Больцмана. Для этого нужно определить угловой коэффициент (**ожидаем 4**) графика:\n",
    "$$\n",
    "\\ln W = \\ln (\\varepsilon_T B) + n \\ln T\n",
    "$$"
   ]
  },
  {
   "cell_type": "code",
   "execution_count": 210,
   "metadata": {},
   "outputs": [],
   "source": [
    "import pandas as pd\n",
    "import numpy as np\n",
    "import matplotlib.pyplot as plt"
   ]
  },
  {
   "cell_type": "code",
   "execution_count": 211,
   "metadata": {
    "code_folding": [
     0
    ]
   },
   "outputs": [],
   "source": [
    "def paint_dots(*args, **kwargs):\n",
    "    fig, ax = plt.subplots()\n",
    "    for i in args:\n",
    "        x_data, y_data = i['x'], i['y']\n",
    "        \n",
    "        if('isScatter' in i):\n",
    "            is_scatter = i['isScatter']\n",
    "        else:\n",
    "            is_scatter = True\n",
    "        \n",
    "        if('label' in i):\n",
    "            label = i['label']\n",
    "        else:\n",
    "            label = 'Graph'\n",
    "        \n",
    "        if('x_label' in i):\n",
    "            x_label = i['x_label']\n",
    "        else:\n",
    "            x_label = r'$V$, В'\n",
    "        \n",
    "        if('y_label' in i):\n",
    "            y_label = i['y_label']\n",
    "        else:\n",
    "            y_label = r'$I$, мА'\n",
    "            \n",
    "        if('y_error' in i):\n",
    "            is_scatter = False\n",
    "            ax.errorbar(x_data, y_data, yerr=i['y_error'], label=label, fmt='o')\n",
    "        else:\n",
    "            if is_scatter:\n",
    "                ax.scatter(x_data, y_data, label=label)\n",
    "            else :\n",
    "                ax.plot(x_data, y_data, label=label)\n",
    "            \n",
    "    if('x_lim' in kwargs):\n",
    "        ax.set_xlim(kwargs['x_lim'])\n",
    "    if('y_lim' in kwargs):\n",
    "        ax.set_ylim(kwargs['y_lim'])\n",
    "    if('scientific' in kwargs):\n",
    "        if(kwargs['scientific']):\n",
    "            import matplotlib.ticker as mtick\n",
    "            ax.yaxis.set_major_formatter(mtick.FormatStrFormatter('%.1e'))\n",
    "    \n",
    "    ax.grid()\n",
    "    ax.set_xlabel(x_label)\n",
    "    ax.set_ylabel(y_label)\n",
    "    ax.legend()\n",
    "    # Ставим title\n",
    "    if('title' in kwargs):\n",
    "        ax.set_title(kwargs['title'])\n",
    "    else:\n",
    "        ax.set_title('ВАХ')\n",
    "    \n",
    "    # Сохраняем график\n",
    "    if('filename' in kwargs):\n",
    "        fig.savefig(kwargs['filename'])\n",
    "    else:\n",
    "        fig.savefig('out1.pdf')"
   ]
  },
  {
   "cell_type": "code",
   "execution_count": 248,
   "metadata": {
    "scrolled": false
   },
   "outputs": [
    {
     "data": {
      "text/html": [
       "<div>\n",
       "<style scoped>\n",
       "    .dataframe tbody tr th:only-of-type {\n",
       "        vertical-align: middle;\n",
       "    }\n",
       "\n",
       "    .dataframe tbody tr th {\n",
       "        vertical-align: top;\n",
       "    }\n",
       "\n",
       "    .dataframe thead th {\n",
       "        text-align: right;\n",
       "    }\n",
       "</style>\n",
       "<table border=\"1\" class=\"dataframe\">\n",
       "  <thead>\n",
       "    <tr style=\"text-align: right;\">\n",
       "      <th></th>\n",
       "      <th>U</th>\n",
       "      <th>I</th>\n",
       "      <th>T</th>\n",
       "      <th>W</th>\n",
       "    </tr>\n",
       "  </thead>\n",
       "  <tbody>\n",
       "    <tr>\n",
       "      <th>0</th>\n",
       "      <td>28.5</td>\n",
       "      <td>0.817</td>\n",
       "      <td>1344</td>\n",
       "      <td>23.2845</td>\n",
       "    </tr>\n",
       "    <tr>\n",
       "      <th>1</th>\n",
       "      <td>36.6</td>\n",
       "      <td>0.918</td>\n",
       "      <td>1498</td>\n",
       "      <td>33.5988</td>\n",
       "    </tr>\n",
       "    <tr>\n",
       "      <th>2</th>\n",
       "      <td>45.0</td>\n",
       "      <td>1.012</td>\n",
       "      <td>1609</td>\n",
       "      <td>45.5400</td>\n",
       "    </tr>\n",
       "    <tr>\n",
       "      <th>3</th>\n",
       "      <td>53.1</td>\n",
       "      <td>1.100</td>\n",
       "      <td>1786</td>\n",
       "      <td>58.4100</td>\n",
       "    </tr>\n",
       "    <tr>\n",
       "      <th>4</th>\n",
       "      <td>67.2</td>\n",
       "      <td>1.244</td>\n",
       "      <td>1745</td>\n",
       "      <td>83.5968</td>\n",
       "    </tr>\n",
       "    <tr>\n",
       "      <th>5</th>\n",
       "      <td>75.5</td>\n",
       "      <td>1.320</td>\n",
       "      <td>1929</td>\n",
       "      <td>99.6600</td>\n",
       "    </tr>\n",
       "    <tr>\n",
       "      <th>6</th>\n",
       "      <td>82.6</td>\n",
       "      <td>1.388</td>\n",
       "      <td>2024</td>\n",
       "      <td>114.6488</td>\n",
       "    </tr>\n",
       "    <tr>\n",
       "      <th>7</th>\n",
       "      <td>91.3</td>\n",
       "      <td>1.465</td>\n",
       "      <td>2157</td>\n",
       "      <td>133.7545</td>\n",
       "    </tr>\n",
       "    <tr>\n",
       "      <th>8</th>\n",
       "      <td>100.2</td>\n",
       "      <td>1.544</td>\n",
       "      <td>2259</td>\n",
       "      <td>154.7088</td>\n",
       "    </tr>\n",
       "  </tbody>\n",
       "</table>\n",
       "</div>"
      ],
      "text/plain": [
       "       U      I     T         W\n",
       "0   28.5  0.817  1344   23.2845\n",
       "1   36.6  0.918  1498   33.5988\n",
       "2   45.0  1.012  1609   45.5400\n",
       "3   53.1  1.100  1786   58.4100\n",
       "4   67.2  1.244  1745   83.5968\n",
       "5   75.5  1.320  1929   99.6600\n",
       "6   82.6  1.388  2024  114.6488\n",
       "7   91.3  1.465  2157  133.7545\n",
       "8  100.2  1.544  2259  154.7088"
      ]
     },
     "execution_count": 248,
     "metadata": {},
     "output_type": "execute_result"
    }
   ],
   "source": [
    "df = pd.read_csv('raw_data_old.csv', delimiter=';')\n",
    "# С учетом замечаний из п.1, добавим всем темепературам оффсет\n",
    "df['T'] += 120 + 273\n",
    "# Здесь U [В], I [А], T [˚C]\n",
    "df['W'] = df.U * df.I\n",
    "#df = df.drop([5, 6, 8, 4, 3, 1, 2])\n",
    "df"
   ]
  },
  {
   "cell_type": "code",
   "execution_count": 249,
   "metadata": {},
   "outputs": [],
   "source": [
    "df_w = pd.read_csv('data_W.csv', delimiter=';')"
   ]
  },
  {
   "cell_type": "code",
   "execution_count": 250,
   "metadata": {},
   "outputs": [
    {
     "data": {
      "image/png": "[encoded data removed]",
      "text/plain": [
       "<Figure size 432x288 with 1 Axes>"
      ]
     },
     "metadata": {
      "needs_background": "light"
     },
     "output_type": "display_data"
    }
   ],
   "source": [
    "x, y = np.log(df['T']), np.log(df['W'])\n",
    "\n",
    "slope, intercept, r_value, p_value, std_err = linregress(x, y)\n",
    "f = lambda x: slope*x + intercept\n",
    "\n",
    "x_linreg = np.linspace(min(x), max(x), 1000)\n",
    "\n",
    "paint_dots(\n",
    "    {'x': x, 'y': y, 'label': 'raw data'},\n",
    "    {'x': x_linreg, 'y': f(x_linreg), 'label': 'linregress', 'isScatter': False, \n",
    "     'x_label': r'$\\ln T$', 'y_label': r'$\\ln W$'},\n",
    "    title='Проверка закона Стефана-Больцмана', filename='stefan.pdf'\n",
    ")"
   ]
  },
  {
   "cell_type": "code",
   "execution_count": 251,
   "metadata": {},
   "outputs": [
    {
     "data": {
      "text/plain": [
       "3.73839039960485"
      ]
     },
     "execution_count": 251,
     "metadata": {},
     "output_type": "execute_result"
    }
   ],
   "source": [
    "slope"
   ]
  },
  {
   "cell_type": "code",
   "execution_count": 252,
   "metadata": {},
   "outputs": [
    {
     "data": {
      "text/plain": [
       "-23.757255735654663"
      ]
     },
     "execution_count": 252,
     "metadata": {},
     "output_type": "execute_result"
    }
   ],
   "source": [
    "intercept"
   ]
  },
  {
   "cell_type": "markdown",
   "metadata": {},
   "source": [
    "Закон Стефана-Больцмана выполняется.\n",
    "\n",
    "Из пересечения с осью находим $\\varepsilon_T S \\sigma = 1.31 \\cdot 10^{-13}$.\n",
    "\n",
    "Для каждой температуры выше 1700 К найдем таким способом $\\sigma$:\n",
    "$$\n",
    "\\sigma = \\dfrac{W}{\\varepsilon_T S T^4}\n",
    "$$"
   ]
  },
  {
   "cell_type": "code",
   "execution_count": 253,
   "metadata": {},
   "outputs": [],
   "source": [
    "S = 5 * 10**(-4)"
   ]
  },
  {
   "cell_type": "code",
   "execution_count": 254,
   "metadata": {
    "code_folding": [
     0
    ]
   },
   "outputs": [],
   "source": [
    "def e_T(T):\n",
    "    if T < 800:\n",
    "        return 0.067\n",
    "    elif 800 <= T < 900:\n",
    "        return 0.081\n",
    "    elif 900 <= T < 1000:\n",
    "        return 0.105\n",
    "    elif 1000 <= T < 1100:\n",
    "        return 0.119\n",
    "    elif 1100 <= T < 1200:\n",
    "        return 0.133\n",
    "    elif 1200 <= T < 1300:\n",
    "        return 0.144\n",
    "    elif 1300 <= T < 1400:\n",
    "        return 0.164\n",
    "    elif 1400 <= T < 1500:\n",
    "        return 0.179\n",
    "    elif 1500 <= T < 1600:\n",
    "        return 0.195\n",
    "    elif 1600 <= T < 1700:\n",
    "        return 0.209\n",
    "    elif 1700 <= T < 1800:\n",
    "        return 0.223\n",
    "    elif 1800 <= T < 1900:\n",
    "        return 0.236\n",
    "    elif 1900 <= T < 2000:\n",
    "        return 0.249\n",
    "    else:\n",
    "        return 1"
   ]
  },
  {
   "cell_type": "code",
   "execution_count": 255,
   "metadata": {},
   "outputs": [],
   "source": [
    "sigma = []\n",
    "for i in range(len(df)):\n",
    "    W, T = df['W'][i], df['T'][i]\n",
    "    sigma.append(W/e_T(T)/S/T**4)"
   ]
  },
  {
   "cell_type": "code",
   "execution_count": 256,
   "metadata": {},
   "outputs": [
    {
     "name": "stdout",
     "output_type": "stream",
     "text": [
      "  Полученная постоянная: 5.05E-8 ± 3.19E-9\n"
     ]
    }
   ],
   "source": [
    "from decimal import Decimal\n",
    "sigma_res = np.mean(sigma)\n",
    "sigma_std = np.std(sigma) / len(sigma)\n",
    "print(r'  Полученная постоянная: {0:.2E} ± {1:.2E}'.format(Decimal(sigma_res), Decimal(sigma_std)))"
   ]
  },
  {
   "cell_type": "markdown",
   "metadata": {},
   "source": [
    "Получили $\\sigma = (5.05 \\pm 0.3) \\cdot 10^{-8}$ Вт $\\cdot$ м$^{-2}$ K$^{-4}$"
   ]
  },
  {
   "cell_type": "markdown",
   "metadata": {},
   "source": [
    "Табличное значение $\\sigma = 5.67 \\cdot 10^{-8}$ Вт $\\cdot$ м$^{-2}$ K$^{-4}$.\n",
    "\n",
    "Эксперимент неплохо сходится с табличными данными."
   ]
  },
  {
   "cell_type": "markdown",
   "metadata": {},
   "source": [
    "### Постоянная Планка"
   ]
  },
  {
   "cell_type": "markdown",
   "metadata": {},
   "source": [
    "Постоянную Планка получим из формулы:\n",
    "$$\n",
    "h = \\sqrt[3]{\\dfrac{2 \\pi^5 k_\\text{Б}^4}{15 c^2 \\sigma}}\n",
    "$$\n",
    "\n",
    "$$\n",
    "h = (6.88 \\pm 0.14) \\cdot 10^{-34} \\text{ Дж} \\cdot \\text{с}\n",
    "$$\n",
    "Табличное: $h = 6.63 \\cdot 10^{-34} \\text{ Дж} \\cdot \\text{с}$\n",
    "\n",
    "Эксперимент неплохо сошелся с ожидаемой величиной."
   ]
  }
 ],
 "metadata": {
  "kernelspec": {
   "display_name": "Python 3",
   "language": "python",
   "name": "python3"
  },
  "language_info": {
   "codemirror_mode": {
    "name": "ipython",
    "version": 3
   },
   "file_extension": ".py",
   "mimetype": "text/x-python",
   "name": "python",
   "nbconvert_exporter": "python",
   "pygments_lexer": "ipython3",
   "version": "3.7.0"
  }
 },
 "nbformat": 4,
 "nbformat_minor": 2
}
