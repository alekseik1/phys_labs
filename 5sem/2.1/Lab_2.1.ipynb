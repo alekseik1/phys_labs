{
 "cells": [
  {
   "cell_type": "markdown",
   "metadata": {},
   "source": [
    "# Лабораторная работа №2.1 \"Опыт Франка-Герца\""
   ]
  },
  {
   "cell_type": "markdown",
   "metadata": {},
   "source": [
    "<center>\n",
    "    Методом электронного возбуждения измеряется энергия первого уровня атома гелия в динамическом и статистическом режиме.\n",
    "</center>"
   ]
  },
  {
   "cell_type": "markdown",
   "metadata": {},
   "source": [
    "### Динамический режим"
   ]
  },
  {
   "cell_type": "markdown",
   "metadata": {},
   "source": [
    "По пикам определим энергию:"
   ]
  },
  {
   "cell_type": "code",
   "execution_count": 1,
   "metadata": {},
   "outputs": [],
   "source": [
    "# [4 В, 6 В, 8 В]\n",
    "E_max = {'up': [16, 15.5, 15], 'down': [17, 15.75, 15.9]}\n",
    "E_min = {'up': [16, 16.25, 17], 'down': [17.25, 17.25, 19.5]}"
   ]
  },
  {
   "cell_type": "code",
   "execution_count": 2,
   "metadata": {},
   "outputs": [],
   "source": [
    "def get_mean_E(E_max, E_min):\n",
    "    import numpy as np\n",
    "    return np.mean(np.concatenate((E_max['up'], E_max['down'], E_min['up'], E_max['down'])))"
   ]
  },
  {
   "cell_type": "code",
   "execution_count": 3,
   "metadata": {},
   "outputs": [
    {
     "data": {
      "text/plain": [
       "16.087500000000002"
      ]
     },
     "execution_count": 3,
     "metadata": {},
     "output_type": "execute_result"
    }
   ],
   "source": [
    "E_expected = get_mean_E(E_max, E_min)\n",
    "E_expected"
   ]
  },
  {
   "cell_type": "markdown",
   "metadata": {},
   "source": [
    "Итак, мы ожидаем энергию $E = 16.09$ эВ."
   ]
  },
  {
   "cell_type": "markdown",
   "metadata": {},
   "source": [
    "## Статический режим"
   ]
  },
  {
   "cell_type": "markdown",
   "metadata": {},
   "source": [
    "Считаем данные"
   ]
  },
  {
   "cell_type": "code",
   "execution_count": 4,
   "metadata": {},
   "outputs": [],
   "source": [
    "import pandas as pd\n",
    "import numpy as np\n",
    "import matplotlib.pyplot as plt\n",
    "from scipy.interpolate import UnivariateSpline"
   ]
  },
  {
   "cell_type": "code",
   "execution_count": 5,
   "metadata": {},
   "outputs": [],
   "source": [
    "df = pd.read_csv('vah_static.csv', delimiter=';', dtype=np.float)"
   ]
  },
  {
   "cell_type": "code",
   "execution_count": 6,
   "metadata": {},
   "outputs": [
    {
     "data": {
      "text/html": [
       "<div>\n",
       "<style scoped>\n",
       "    .dataframe tbody tr th:only-of-type {\n",
       "        vertical-align: middle;\n",
       "    }\n",
       "\n",
       "    .dataframe tbody tr th {\n",
       "        vertical-align: top;\n",
       "    }\n",
       "\n",
       "    .dataframe thead th {\n",
       "        text-align: right;\n",
       "    }\n",
       "</style>\n",
       "<table border=\"1\" class=\"dataframe\">\n",
       "  <thead>\n",
       "    <tr style=\"text-align: right;\">\n",
       "      <th></th>\n",
       "      <th>V_0</th>\n",
       "      <th>V</th>\n",
       "      <th>I</th>\n",
       "    </tr>\n",
       "  </thead>\n",
       "  <tbody>\n",
       "    <tr>\n",
       "      <th>0</th>\n",
       "      <td>4.0</td>\n",
       "      <td>0.00</td>\n",
       "      <td>1.0</td>\n",
       "    </tr>\n",
       "    <tr>\n",
       "      <th>1</th>\n",
       "      <td>4.0</td>\n",
       "      <td>2.19</td>\n",
       "      <td>6.0</td>\n",
       "    </tr>\n",
       "    <tr>\n",
       "      <th>2</th>\n",
       "      <td>4.0</td>\n",
       "      <td>4.82</td>\n",
       "      <td>12.0</td>\n",
       "    </tr>\n",
       "    <tr>\n",
       "      <th>3</th>\n",
       "      <td>4.0</td>\n",
       "      <td>6.67</td>\n",
       "      <td>17.0</td>\n",
       "    </tr>\n",
       "    <tr>\n",
       "      <th>4</th>\n",
       "      <td>4.0</td>\n",
       "      <td>7.93</td>\n",
       "      <td>21.0</td>\n",
       "    </tr>\n",
       "  </tbody>\n",
       "</table>\n",
       "</div>"
      ],
      "text/plain": [
       "   V_0     V     I\n",
       "0  4.0  0.00   1.0\n",
       "1  4.0  2.19   6.0\n",
       "2  4.0  4.82  12.0\n",
       "3  4.0  6.67  17.0\n",
       "4  4.0  7.93  21.0"
      ]
     },
     "execution_count": 6,
     "metadata": {},
     "output_type": "execute_result"
    }
   ],
   "source": [
    "df.head()"
   ]
  },
  {
   "cell_type": "markdown",
   "metadata": {},
   "source": [
    "##### 4 вольта"
   ]
  },
  {
   "cell_type": "code",
   "execution_count": 7,
   "metadata": {},
   "outputs": [],
   "source": [
    "x, y = df.V[df.V_0 == 4], \\\n",
    "        df.I[df.V_0 == 4]*5 # 1 деление прибора было 5 мА\n",
    "# Сортируем\n",
    "y = y[x.argsort()]\n",
    "x = np.sort(x)\n",
    "E = []"
   ]
  },
  {
   "cell_type": "code",
   "execution_count": 8,
   "metadata": {},
   "outputs": [],
   "source": [
    "def paint_dots(*args, **kwargs):\n",
    "    fig, ax = plt.subplots()\n",
    "    for i in args:\n",
    "        x_data, y_data = i['x'], i['y']\n",
    "        \n",
    "        if('isScatter' in i):\n",
    "            is_scatter = i['isScatter']\n",
    "        else:\n",
    "            is_scatter = True\n",
    "        \n",
    "        if('label' in i):\n",
    "            label = i['label']\n",
    "        else:\n",
    "            label = 'Graph'\n",
    "        \n",
    "        if('x_label' in i):\n",
    "            x_label = i['x_label']\n",
    "        else:\n",
    "            x_label = r'$V$, В'\n",
    "        \n",
    "        if('y_label' in i):\n",
    "            y_label = i['y_label']\n",
    "        else:\n",
    "            y_label = r'$I$, мА'\n",
    "            \n",
    "        if is_scatter:\n",
    "            ax.scatter(x_data, y_data, label=label)\n",
    "        else:\n",
    "            ax.plot(x_data, y_data, label=label)\n",
    "    \n",
    "    ax.grid()\n",
    "    ax.set_xlabel(x_label)\n",
    "    ax.set_ylabel(y_label)\n",
    "    ax.legend()\n",
    "    # Ставим title\n",
    "    if('title' in kwargs):\n",
    "        ax.set_title(kwargs['title'])\n",
    "    else:\n",
    "        ax.set_title('ВАХ')\n",
    "    \n",
    "    # Сохраняем график\n",
    "    if('filename' in kwargs):\n",
    "        fig.savefig(kwargs['filename'])\n",
    "    else:\n",
    "        fig.savefig('out1.pdf')"
   ]
  },
  {
   "cell_type": "code",
   "execution_count": 9,
   "metadata": {},
   "outputs": [],
   "source": [
    "from scipy.interpolate import CubicSpline\n",
    "\n",
    "cs = CubicSpline(x, y)\n",
    "cs_deriv_roots = cs.derivative().roots()"
   ]
  },
  {
   "cell_type": "code",
   "execution_count": 10,
   "metadata": {},
   "outputs": [
    {
     "data": {
      "image/png": "[encoded data removed]",
      "text/plain": [
       "<Figure size 432x288 with 1 Axes>"
      ]
     },
     "metadata": {
      "needs_background": "light"
     },
     "output_type": "display_data"
    }
   ],
   "source": [
    "x_spline = np.linspace(x[0], x[-1], 1000)\n",
    "paint_dots(\n",
    "    {'x': x, 'y': y, 'isScatter': True, 'label': r'Exp. data'}, \n",
    "    {'x': x_spline, 'y': cs(x_spline), 'isScatter': False, 'label': r'Spline'},\n",
    "    filename='4v.pdf'\n",
    ")"
   ]
  },
  {
   "cell_type": "markdown",
   "metadata": {},
   "source": [
    "Экстремумы (и шумы, кажущиеся экстремумами) приходятся на точки"
   ]
  },
  {
   "cell_type": "code",
   "execution_count": 11,
   "metadata": {},
   "outputs": [
    {
     "name": "stdout",
     "output_type": "stream",
     "text": [
      "[18.71232306 18.93502767 19.41592136 19.9718728  20.50574638 24.06421498\n",
      " 37.59476139 43.91248945]\n"
     ]
    }
   ],
   "source": [
    "print(cs_deriv_roots)"
   ]
  },
  {
   "cell_type": "code",
   "execution_count": 12,
   "metadata": {},
   "outputs": [],
   "source": [
    "# Массив для ошибок, потом пригодится\n",
    "errors = []"
   ]
  },
  {
   "cell_type": "markdown",
   "metadata": {},
   "source": [
    "Разность между минимумами дает:"
   ]
  },
  {
   "cell_type": "code",
   "execution_count": 13,
   "metadata": {},
   "outputs": [
    {
     "data": {
      "text/plain": [
       "19.848"
      ]
     },
     "execution_count": 13,
     "metadata": {},
     "output_type": "execute_result"
    }
   ],
   "source": [
    "E_by_min = 43.912 - 24.064\n",
    "E_by_min"
   ]
  },
  {
   "cell_type": "markdown",
   "metadata": {},
   "source": [
    "Разность между максимумами дает:"
   ]
  },
  {
   "cell_type": "code",
   "execution_count": 14,
   "metadata": {},
   "outputs": [
    {
     "data": {
      "text/plain": [
       "18.185"
      ]
     },
     "execution_count": 14,
     "metadata": {},
     "output_type": "execute_result"
    }
   ],
   "source": [
    "E_by_max = 37.595 - 19.41\n",
    "E_by_max"
   ]
  },
  {
   "cell_type": "markdown",
   "metadata": {},
   "source": [
    "Среднее между разностями:"
   ]
  },
  {
   "cell_type": "code",
   "execution_count": 15,
   "metadata": {},
   "outputs": [
    {
     "data": {
      "text/plain": [
       "19.0165"
      ]
     },
     "execution_count": 15,
     "metadata": {},
     "output_type": "execute_result"
    }
   ],
   "source": [
    "E_mean = 0.5*(E_by_max + E_by_min)\n",
    "E.append(E_mean)\n",
    "errors.append(np.sqrt((E_mean - E_by_min)**2 + (E_mean - E_by_max)**2))\n",
    "E_mean"
   ]
  },
  {
   "cell_type": "markdown",
   "metadata": {},
   "source": [
    "#### 6 вольт"
   ]
  },
  {
   "cell_type": "code",
   "execution_count": 16,
   "metadata": {},
   "outputs": [],
   "source": [
    "x, y = df.V[df.V_0 == 6], \\\n",
    "        df.I[df.V_0 == 6]*5 # 1 деление прибора было 5 мА\n",
    "# Сортируем\n",
    "y = y[x.argsort() + x.index[0]]\n",
    "x = np.sort(x)"
   ]
  },
  {
   "cell_type": "code",
   "execution_count": 17,
   "metadata": {},
   "outputs": [],
   "source": [
    "from scipy.interpolate import CubicSpline\n",
    "\n",
    "cs = CubicSpline(x, y)\n",
    "cs_deriv_roots = cs.derivative().roots()\n",
    "\n",
    "cs = UnivariateSpline(x, y, s=100)"
   ]
  },
  {
   "cell_type": "code",
   "execution_count": 18,
   "metadata": {
    "scrolled": true
   },
   "outputs": [
    {
     "name": "stdout",
     "output_type": "stream",
     "text": [
      ".  [20.16756264 21.70405693 22.46776868 25.11440481 37.79214932 46.27838961\n",
      " 65.12190644]\n"
     ]
    },
    {
     "data": {
      "image/png": "[encoded data removed]",
      "text/plain": [
       "<Figure size 432x288 with 1 Axes>"
      ]
     },
     "metadata": {
      "needs_background": "light"
     },
     "output_type": "display_data"
    }
   ],
   "source": [
    "x_spline = np.linspace(x[0], x[-1], 1000)\n",
    "paint_dots(\n",
    "    {'x': x, 'y': y, 'isScatter': True, 'label': r'Exp. data'}, \n",
    "    {'x': x_spline, 'y': cs(x_spline), 'isScatter': False, 'label': r'Spline'},\n",
    "    filename='6v.pdf'\n",
    ")\n",
    "\n",
    "print('. ',cs_deriv_roots)"
   ]
  },
  {
   "cell_type": "code",
   "execution_count": 19,
   "metadata": {},
   "outputs": [
    {
     "data": {
      "text/plain": [
       "19.39"
      ]
     },
     "execution_count": 19,
     "metadata": {},
     "output_type": "execute_result"
    }
   ],
   "source": [
    "E_by_min = 46.27 - 25.11\n",
    "E_by_max = 37.79 - 20.17\n",
    "E_mean = 0.5*(E_by_min + E_by_max)\n",
    "E.append(E_mean)\n",
    "\n",
    "errors.append(np.sqrt((E_mean - E_by_min)**2 + (E_mean - E_by_max)**2))\n",
    "E_mean"
   ]
  },
  {
   "cell_type": "markdown",
   "metadata": {},
   "source": [
    "#### 8 вольт"
   ]
  },
  {
   "cell_type": "code",
   "execution_count": 20,
   "metadata": {
    "scrolled": false
   },
   "outputs": [
    {
     "name": "stdout",
     "output_type": "stream",
     "text": [
      ".  [ 1.76535706 19.76893443 22.29645059 23.63285641 24.59416862 24.79320911\n",
      " 26.23940735 38.31659222 49.01185927 64.38899786]\n"
     ]
    },
    {
     "data": {
      "image/png": "[encoded data removed]",
      "text/plain": [
       "<Figure size 432x288 with 1 Axes>"
      ]
     },
     "metadata": {
      "needs_background": "light"
     },
     "output_type": "display_data"
    }
   ],
   "source": [
    "x, y = df.V[df.V_0 == 8], \\\n",
    "        df.I[df.V_0 == 8]*5 # 1 деление прибора было 5 мА\n",
    "# Сортируем\n",
    "y = y[x.argsort() + x.index[0]]\n",
    "x = np.sort(x)\n",
    "\n",
    "from scipy.interpolate import UnivariateSpline\n",
    "\n",
    "cs_cubic = CubicSpline(x, y)\n",
    "\n",
    "cs = UnivariateSpline(x, y, s=1000)\n",
    "cs_deriv_roots = cs.derivative()\n",
    "\n",
    "x_spline = np.linspace(x[0], x[-1], 1000)\n",
    "paint_dots(\n",
    "    {'x': x, 'y': y, 'isScatter': True, 'label': r'Exp. data'}, \n",
    "    {'x': x_spline, 'y': cs(x_spline), 'isScatter': False, 'label': r'Spline'},\n",
    "    filename='8v.pdf'\n",
    ")\n",
    "\n",
    "print('. ',cs_cubic.derivative().roots())"
   ]
  },
  {
   "cell_type": "code",
   "execution_count": 21,
   "metadata": {},
   "outputs": [
    {
     "data": {
      "text/plain": [
       "18.875"
      ]
     },
     "execution_count": 21,
     "metadata": {},
     "output_type": "execute_result"
    }
   ],
   "source": [
    "E_by_min = - (24.79 - 49.01)\n",
    "E_by_max = 38.32 - 24.79\n",
    "E_mean = 0.5*(E_by_min + E_by_max)\n",
    "E.append(E_mean)\n",
    "\n",
    "errors.append(np.sqrt((E_mean - E_by_min)**2 + (E_mean - E_by_max)**2))\n",
    "E_mean"
   ]
  },
  {
   "cell_type": "markdown",
   "metadata": {},
   "source": [
    "Оценим погрешности:"
   ]
  },
  {
   "cell_type": "code",
   "execution_count": 22,
   "metadata": {},
   "outputs": [
    {
     "data": {
      "text/plain": [
       "2.0122536262235933"
      ]
     },
     "execution_count": 22,
     "metadata": {},
     "output_type": "execute_result"
    }
   ],
   "source": [
    "d_E_mean = np.sqrt(np.sum(np.array(errors)**2))/4\n",
    "E_mean = np.mean(E)\n",
    "d_E_mean"
   ]
  },
  {
   "cell_type": "markdown",
   "metadata": {},
   "source": [
    "Оценка относительной статистической погрешности:"
   ]
  },
  {
   "cell_type": "code",
   "execution_count": 23,
   "metadata": {},
   "outputs": [
    {
     "name": "stdout",
     "output_type": "stream",
     "text": [
      "  E = (19.09 ± 2.01) эВ\n"
     ]
    }
   ],
   "source": [
    "print(r'  E = ({0:.2f} ± {1:.2f}) эВ'.format(E_mean, float(d_E_mean)))"
   ]
  },
  {
   "cell_type": "markdown",
   "metadata": {},
   "source": [
    "Итак, энергия возбуждения составила $E = (19.09 \\pm 2.01)$ эВ"
   ]
  },
  {
   "cell_type": "code",
   "execution_count": 24,
   "metadata": {},
   "outputs": [
    {
     "name": "stdout",
     "output_type": "stream",
     "text": [
      "  ∆E/E = 10.54%\n"
     ]
    }
   ],
   "source": [
    "print('  ∆E/E = {0:.2f}%'.format(d_E_mean/E_mean*100))"
   ]
  },
  {
   "cell_type": "markdown",
   "metadata": {},
   "source": [
    "Погрешности приборов были порядка 1%, поэтому их можно не учесть в конеченой оценке погрешности."
   ]
  },
  {
   "cell_type": "markdown",
   "metadata": {},
   "source": [
    "Итоговая погрешность двух измерений будет "
   ]
  },
  {
   "cell_type": "code",
   "execution_count": 25,
   "metadata": {},
   "outputs": [
    {
     "name": "stdout",
     "output_type": "stream",
     "text": [
      "  Относительная погрешность в результатах, полученных двумя способами, в процентах: 15.75%\n"
     ]
    }
   ],
   "source": [
    "print('  Относительная погрешность в результатах, полученных двумя способами, в процентах: {0:.2f}%'.format((E_mean - E_expected) / E_mean * 100))"
   ]
  },
  {
   "cell_type": "markdown",
   "metadata": {},
   "source": [
    "## Выводы"
   ]
  },
  {
   "cell_type": "markdown",
   "metadata": {},
   "source": [
    "<ol>\n",
    "    <li> Убедились в дискретности спектра гелия </li>\n",
    "    <li> Уведели отклонение поведения ВАХ от классической модели </li>\n",
    "    <li> Определили энергию возбуждения атома гелия </li>\n",
    "</ol>"
   ]
  }
 ],
 "metadata": {
  "kernelspec": {
   "display_name": "Python 3",
   "language": "python",
   "name": "python3"
  },
  "language_info": {
   "codemirror_mode": {
    "name": "ipython",
    "version": 3
   },
   "file_extension": ".py",
   "mimetype": "text/x-python",
   "name": "python",
   "nbconvert_exporter": "python",
   "pygments_lexer": "ipython3",
   "version": "3.7.0"
  }
 },
 "nbformat": 4,
 "nbformat_minor": 2
}
