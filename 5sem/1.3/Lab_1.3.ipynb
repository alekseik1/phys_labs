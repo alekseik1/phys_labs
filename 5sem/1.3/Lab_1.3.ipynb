{
 "cells": [
  {
   "cell_type": "markdown",
   "metadata": {},
   "source": [
    "# Лабораторная работа №1.3 \"Эффект Рамзауэра\""
   ]
  },
  {
   "cell_type": "markdown",
   "metadata": {},
   "source": [
    "<center> Исследуется энергетическая зависимость вероятности рассеяния электронов атомами ксенона, определяются энергии электронов, при которых наблюдается \"просветление\" (не объяснимо в рамках классической физики) ксенона, и оценивается размер его внешней электронной оболчки. </center>"
   ]
  },
  {
   "cell_type": "markdown",
   "metadata": {},
   "source": [
    "### Измерение ВАХ"
   ]
  },
  {
   "cell_type": "code",
   "execution_count": 127,
   "metadata": {},
   "outputs": [],
   "source": [
    "import pandas as pd\n",
    "import numpy as np\n",
    "import matplotlib.pyplot as plt"
   ]
  },
  {
   "cell_type": "code",
   "execution_count": 128,
   "metadata": {},
   "outputs": [
    {
     "data": {
      "text/html": [
       "<div>\n",
       "<style scoped>\n",
       "    .dataframe tbody tr th:only-of-type {\n",
       "        vertical-align: middle;\n",
       "    }\n",
       "\n",
       "    .dataframe tbody tr th {\n",
       "        vertical-align: top;\n",
       "    }\n",
       "\n",
       "    .dataframe thead th {\n",
       "        text-align: right;\n",
       "    }\n",
       "</style>\n",
       "<table border=\"1\" class=\"dataframe\">\n",
       "  <thead>\n",
       "    <tr style=\"text-align: right;\">\n",
       "      <th></th>\n",
       "      <th>V_I</th>\n",
       "      <th>V</th>\n",
       "    </tr>\n",
       "  </thead>\n",
       "  <tbody>\n",
       "    <tr>\n",
       "      <th>0</th>\n",
       "      <td>0.1</td>\n",
       "      <td>-0.013</td>\n",
       "    </tr>\n",
       "    <tr>\n",
       "      <th>1</th>\n",
       "      <td>1.6</td>\n",
       "      <td>0.800</td>\n",
       "    </tr>\n",
       "    <tr>\n",
       "      <th>2</th>\n",
       "      <td>3.7</td>\n",
       "      <td>0.895</td>\n",
       "    </tr>\n",
       "    <tr>\n",
       "      <th>3</th>\n",
       "      <td>12.0</td>\n",
       "      <td>1.047</td>\n",
       "    </tr>\n",
       "    <tr>\n",
       "      <th>4</th>\n",
       "      <td>34.5</td>\n",
       "      <td>1.250</td>\n",
       "    </tr>\n",
       "  </tbody>\n",
       "</table>\n",
       "</div>"
      ],
      "text/plain": [
       "    V_I      V\n",
       "0   0.1 -0.013\n",
       "1   1.6  0.800\n",
       "2   3.7  0.895\n",
       "3  12.0  1.047\n",
       "4  34.5  1.250"
      ]
     },
     "execution_count": 128,
     "metadata": {},
     "output_type": "execute_result"
    }
   ],
   "source": [
    "df_vah = pd.read_csv('vah.csv', delimiter=';', dtype=float)\n",
    "df_vah.head()"
   ]
  },
  {
   "cell_type": "code",
   "execution_count": 129,
   "metadata": {},
   "outputs": [],
   "source": [
    "# В описании указано, что ток получается делением на 100 кОм\n",
    "multiplier = (100*10**3)**(-1)\n",
    "# Ток будем считать в мА\n",
    "multiplier *= 10**3\n",
    "df_vah['I'] = df_vah['V_I'] * multiplier"
   ]
  },
  {
   "cell_type": "code",
   "execution_count": 130,
   "metadata": {},
   "outputs": [],
   "source": [
    "def paint_dots(*args, **kwargs):\n",
    "    fig, ax = plt.subplots()\n",
    "    for i in args:\n",
    "        x_data, y_data = i['x'], i['y']\n",
    "        \n",
    "        if('isScatter' in i):\n",
    "            is_scatter = i['isScatter']\n",
    "        else:\n",
    "            is_scatter = True\n",
    "        \n",
    "        if('label' in i):\n",
    "            label = i['label']\n",
    "        else:\n",
    "            label = 'Graph'\n",
    "        \n",
    "        if('x_label' in i):\n",
    "            x_label = i['x_label']\n",
    "        else:\n",
    "            x_label = r'$V$, В'\n",
    "        \n",
    "        if('y_label' in i):\n",
    "            y_label = i['y_label']\n",
    "        else:\n",
    "            y_label = r'$I$, мА'\n",
    "            \n",
    "        if is_scatter:\n",
    "            ax.scatter(x_data, y_data, label=label)\n",
    "        else:\n",
    "            ax.plot(x_data, y_data, label=label)\n",
    "    \n",
    "    ax.grid()\n",
    "    ax.set_xlabel(x_label)\n",
    "    ax.set_ylabel(y_label)\n",
    "    ax.legend()\n",
    "    # Ставим title\n",
    "    if('title' in kwargs):\n",
    "        ax.set_title(kwargs['title'])\n",
    "    else:\n",
    "        ax.set_title('ВАХ')\n",
    "    \n",
    "    # Сохраняем график\n",
    "    if('filename' in kwargs):\n",
    "        fig.savefig(kwargs['filename'])\n",
    "    else:\n",
    "        fig.savefig('out1.pdf')"
   ]
  },
  {
   "cell_type": "markdown",
   "metadata": {},
   "source": [
    "Посмотрим, что из себя представляет ВАХ"
   ]
  },
  {
   "cell_type": "code",
   "execution_count": 131,
   "metadata": {},
   "outputs": [
    {
     "data": {
      "image/png": "[encoded data removed]",
      "text/plain": [
       "<Figure size 432x288 with 1 Axes>"
      ]
     },
     "metadata": {
      "needs_background": "light"
     },
     "output_type": "display_data"
    }
   ],
   "source": [
    "x, y = df_vah.V, df_vah.I\n",
    "\n",
    "# Сортируем, чтобы сплайны работали хорошо\n",
    "y = y[x.argsort()]\n",
    "x = np.sort(x)\n",
    "\n",
    "paint_dots(\n",
    "    {'x': x, 'y': y, 'isScatter': True, 'label': r'Exper.dots'}\n",
    ")"
   ]
  },
  {
   "cell_type": "markdown",
   "metadata": {},
   "source": [
    "Эту картину мы получали на осциллографе."
   ]
  },
  {
   "cell_type": "markdown",
   "metadata": {},
   "source": [
    "Поищем зависимость вероятности рассеяния электрона от его энергии из соотношения:\n",
    "$$\n",
    "\\omega (V) = - \\dfrac{1}{C} \\ln \\dfrac{I_a (V)}{I_0}\n",
    "$$\n",
    "Здесь $C = L n_a \\Delta_a$ и $I_0 = e N_0$, где\n",
    "\n",
    "$n_a$ - концентрация атомов газа в лампе, $L$ - длина лампы, $\\Delta_a$ - площадь поперечного сечения атома, $N_0$ - начальный поток электронов."
   ]
  },
  {
   "cell_type": "code",
   "execution_count": 132,
   "metadata": {},
   "outputs": [],
   "source": [
    "def to_omega(x_data, y_data, C=1, I_0=1):\n",
    "    return [x_data, -1/C * np.log(y_data / I_0)]"
   ]
  },
  {
   "cell_type": "code",
   "execution_count": 133,
   "metadata": {},
   "outputs": [],
   "source": [
    "# TODO: Пересчитать C и I_0 по формулам\n",
    "C, I_0 = 1, 10**3\n",
    "I_0 = np.max(y)\n",
    "N_0 = I_0 * 10**3 / 1.6*10**(19) # Пересчитаем N_0, для себя :)"
   ]
  },
  {
   "cell_type": "code",
   "execution_count": 207,
   "metadata": {},
   "outputs": [
    {
     "name": "stdout",
     "output_type": "stream",
     "text": [
      ".   C = 0.15126036295526835\n"
     ]
    }
   ],
   "source": [
    "# Пересчитаем C у учетом нормировки интеграла\n",
    "import scipy as sc\n",
    "C = 1/sc.integrate.simps(y, x=x)\n",
    "print('.  ', 'C =', C)"
   ]
  },
  {
   "cell_type": "code",
   "execution_count": 246,
   "metadata": {},
   "outputs": [],
   "source": [
    "# Пробуем сплайн\n",
    "from scipy.interpolate import UnivariateSpline\n",
    "\n",
    "x_omega, y_omega = to_omega(x, y, C, I_0)\n",
    "\n",
    "spl = UnivariateSpline(x_omega, y_omega, k=3)\n",
    "spl.set_smoothing_factor(5)\n",
    "\n",
    "x_spl = np.linspace(x_omega[0], x_omega[-1], 1000)\n",
    "y_spl = spl(x_spl)"
   ]
  },
  {
   "cell_type": "code",
   "execution_count": 247,
   "metadata": {},
   "outputs": [
    {
     "data": {
      "image/png": "[encoded data removed]",
      "text/plain": [
       "<Figure size 432x288 with 1 Axes>"
      ]
     },
     "metadata": {
      "needs_background": "light"
     },
     "output_type": "display_data"
    }
   ],
   "source": [
    "paint_dots(\n",
    "    {'x': x_omega,\n",
    "     'y': y_omega, \n",
    "     'isScatter': True, 'label': r'Omega',\n",
    "     'y_label': r'$\\omega$',\n",
    "     'filename': 'out2.pdf'\n",
    "    },\n",
    "    {'x': x_spl, 'y': y_spl, 'isScatter': False, 'label': r'Spline'}\n",
    "    , filename='out2.pdf', title='$\\omega$ (V)')"
   ]
  },
  {
   "cell_type": "code",
   "execution_count": 248,
   "metadata": {},
   "outputs": [
    {
     "name": "stdout",
     "output_type": "stream",
     "text": [
      "  Имеем коэффициенты: I_0 = 1.37 мА, C = 0.151\n"
     ]
    }
   ],
   "source": [
    "print('  Имеем коэффициенты: I_0 = {0:.2f} мА, C = {1:.3f}'.format(I_0, C))"
   ]
  },
  {
   "cell_type": "markdown",
   "metadata": {},
   "source": [
    "### Определим газ в тиратроне"
   ]
  },
  {
   "cell_type": "markdown",
   "metadata": {},
   "source": [
    "В ходе эксперимента была получена оценка напряжения пробоя:\n",
    "$ E_\\text{проб} \\approx 12 \\text{ эВ} $\n",
    "\n",
    "На основании нее мы получим, что газ в тиратроне был **ксенон**."
   ]
  },
  {
   "cell_type": "markdown",
   "metadata": {},
   "source": [
    "### Оценим размер электронной оболочки"
   ]
  },
  {
   "cell_type": "markdown",
   "metadata": {},
   "source": [
    "Исходя из значения коэффициента $C$ и его формулы выше, можно найти $\\Delta_a$:"
   ]
  },
  {
   "cell_type": "code",
   "execution_count": 270,
   "metadata": {},
   "outputs": [
    {
     "name": "stdout",
     "output_type": "stream",
     "text": [
      "   Оценка радиуса атома: 2.37 А\n"
     ]
    }
   ],
   "source": [
    "def make_estimation(C, n_a = N_0):\n",
    "    # Тут мы делаем:\n",
    "    #    1) N_0 = N_a (для оценки)\n",
    "    #    2) L = 10 см\n",
    "    L = 0.1\n",
    "    delta_a = C / n_a * 10**3 / L\n",
    "    # А из delta_a мы найдем радиус как sqrt(delta_a/ pi)\n",
    "    return np.sqrt(delta_a / np.pi)\n",
    "    \n",
    "print('   Оценка радиуса атома: {0:.2f} А'.format(make_estimation(C) * 10**10))"
   ]
  },
  {
   "cell_type": "markdown",
   "metadata": {},
   "source": [
    "Истинный размер атома ксенона $r_{Xe} = 2.16 \\text{ А}$"
   ]
  },
  {
   "cell_type": "markdown",
   "metadata": {},
   "source": [
    "### Оценим напряжения максимумов"
   ]
  },
  {
   "cell_type": "markdown",
   "metadata": {},
   "source": [
    "Проведем экстраполяцию и посмотрим, к чем она приведет"
   ]
  },
  {
   "cell_type": "code",
   "execution_count": 251,
   "metadata": {},
   "outputs": [
    {
     "data": {
      "image/png": "[encoded data removed]",
      "text/plain": [
       "<Figure size 432x288 with 1 Axes>"
      ]
     },
     "metadata": {
      "needs_background": "light"
     },
     "output_type": "display_data"
    }
   ],
   "source": [
    "x_spl_extra = np.linspace(min(x_omega), max(x_omega)*1.2, 1000)\n",
    "paint_dots(\n",
    "    {'x': x_omega,\n",
    "     'y': y_omega, \n",
    "     'isScatter': True, 'label': r'Omega',\n",
    "     'y_label': r'$\\omega$',\n",
    "     'filename': 'out2.pdf'\n",
    "    },\n",
    "    {'x': x_spl_extra, 'y': spl(x_spl_extra), 'isScatter': False, 'label': r'Spline'}\n",
    "    , filename='out3.pdf', title='$\\omega$ (V)')"
   ]
  },
  {
   "cell_type": "markdown",
   "metadata": {},
   "source": [
    "Видно, что вторая энергия больше 12.1 эВ (потенциала ионизации ксенона). Следовательно, на $n=2$ у нас уже будет ионизация ксенона и пробой тиратрона. Это подтверждает вывод лабника о том, что далее первого максимума наблюдать не удастся."
   ]
  }
 ],
 "metadata": {
  "kernelspec": {
   "display_name": "Python 3",
   "language": "python",
   "name": "python3"
  },
  "language_info": {
   "codemirror_mode": {
    "name": "ipython",
    "version": 3
   },
   "file_extension": ".py",
   "mimetype": "text/x-python",
   "name": "python",
   "nbconvert_exporter": "python",
   "pygments_lexer": "ipython3",
   "version": "3.7.0"
  }
 },
 "nbformat": 4,
 "nbformat_minor": 2
}
