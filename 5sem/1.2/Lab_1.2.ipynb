{
 "cells": [
  {
   "cell_type": "markdown",
   "metadata": {},
   "source": [
    "# Лабораторная работа №1.2 \"Исследование эффекта Комптона\""
   ]
  },
  {
   "cell_type": "markdown",
   "metadata": {},
   "source": [
    "В ходе исследования проверяется теоретическая зависимость для эффекта Комптона:\n",
    "$$\n",
    "\\dfrac{1}{N(\\theta)} - \\dfrac{1}{N(0)} = A (1 - \\cos \\theta)\n",
    "$$\n",
    "\n",
    "Энергия вылетающих $\\gamma$-квантов равна $E_\\gamma = 662 \\text{ кэВ}$\n",
    "\n",
    "Из измерений можно также получить энергию покоя частиц, на которых происходило комптоновское рассеяния (в нашем случае, электронов):\n",
    "$$\n",
    "m c^2 = E_\\gamma \\dfrac{N(90)}{N(0) - N(90)}\n",
    "$$"
   ]
  },
  {
   "cell_type": "markdown",
   "metadata": {},
   "source": [
    "### Обработка"
   ]
  },
  {
   "cell_type": "code",
   "execution_count": 1,
   "metadata": {},
   "outputs": [],
   "source": [
    "import numpy as np\n",
    "import pandas as pd\n",
    "import matplotlib.pyplot as plt\n",
    "import scipy"
   ]
  },
  {
   "cell_type": "code",
   "execution_count": 2,
   "metadata": {
    "scrolled": true
   },
   "outputs": [
    {
     "data": {
      "text/html": [
       "<div>\n",
       "<style scoped>\n",
       "    .dataframe tbody tr th:only-of-type {\n",
       "        vertical-align: middle;\n",
       "    }\n",
       "\n",
       "    .dataframe tbody tr th {\n",
       "        vertical-align: top;\n",
       "    }\n",
       "\n",
       "    .dataframe thead th {\n",
       "        text-align: right;\n",
       "    }\n",
       "</style>\n",
       "<table border=\"1\" class=\"dataframe\">\n",
       "  <thead>\n",
       "    <tr style=\"text-align: right;\">\n",
       "      <th></th>\n",
       "      <th>angle</th>\n",
       "      <th>N</th>\n",
       "      <th>delta</th>\n",
       "    </tr>\n",
       "  </thead>\n",
       "  <tbody>\n",
       "    <tr>\n",
       "      <th>0</th>\n",
       "      <td>0.0</td>\n",
       "      <td>979.0</td>\n",
       "      <td>-36.0</td>\n",
       "    </tr>\n",
       "    <tr>\n",
       "      <th>1</th>\n",
       "      <td>10.0</td>\n",
       "      <td>909.0</td>\n",
       "      <td>-35.0</td>\n",
       "    </tr>\n",
       "    <tr>\n",
       "      <th>2</th>\n",
       "      <td>20.0</td>\n",
       "      <td>774.0</td>\n",
       "      <td>-61.0</td>\n",
       "    </tr>\n",
       "    <tr>\n",
       "      <th>3</th>\n",
       "      <td>30.0</td>\n",
       "      <td>757.0</td>\n",
       "      <td>-70.0</td>\n",
       "    </tr>\n",
       "    <tr>\n",
       "      <th>4</th>\n",
       "      <td>40.0</td>\n",
       "      <td>704.0</td>\n",
       "      <td>-64.0</td>\n",
       "    </tr>\n",
       "  </tbody>\n",
       "</table>\n",
       "</div>"
      ],
      "text/plain": [
       "   angle      N  delta\n",
       "0    0.0  979.0  -36.0\n",
       "1   10.0  909.0  -35.0\n",
       "2   20.0  774.0  -61.0\n",
       "3   30.0  757.0  -70.0\n",
       "4   40.0  704.0  -64.0"
      ]
     },
     "execution_count": 2,
     "metadata": {},
     "output_type": "execute_result"
    }
   ],
   "source": [
    "df = pd.read_csv('raw_data.csv', delimiter=';', dtype=float)\n",
    "df.head()"
   ]
  },
  {
   "cell_type": "code",
   "execution_count": 3,
   "metadata": {},
   "outputs": [],
   "source": [
    "# Разберемся с погрешностями\n",
    "df['err'] = np.abs(df['delta'] / df['N'])"
   ]
  },
  {
   "cell_type": "code",
   "execution_count": 4,
   "metadata": {
    "code_folding": []
   },
   "outputs": [],
   "source": [
    "def paint_dots(*args, **kwargs):\n",
    "    fig, ax = plt.subplots()\n",
    "    for i in args:\n",
    "        x_data, y_data = i['x'], i['y']\n",
    "        \n",
    "        if('isScatter' in i):\n",
    "            is_scatter = i['isScatter']\n",
    "        else:\n",
    "            is_scatter = True\n",
    "        \n",
    "        if('label' in i):\n",
    "            label = i['label']\n",
    "        else:\n",
    "            label = 'Graph'\n",
    "        \n",
    "        if('x_label' in i):\n",
    "            x_label = i['x_label']\n",
    "        else:\n",
    "            x_label = r'$V$, В'\n",
    "        \n",
    "        if('y_label' in i):\n",
    "            y_label = i['y_label']\n",
    "        else:\n",
    "            y_label = r'$I$, мА'\n",
    "            \n",
    "        if('y_error' in i):\n",
    "            is_scatter = False\n",
    "            ax.errorbar(x_data, y_data, yerr=i['y_error'], label=label, fmt='o')\n",
    "        else:\n",
    "            if is_scatter:\n",
    "                ax.scatter(x_data, y_data, label=label)\n",
    "            else :\n",
    "                ax.plot(x_data, y_data, label=label)\n",
    "            \n",
    "    if('x_lim' in kwargs):\n",
    "        ax.set_xlim(kwargs['x_lim'])\n",
    "    if('y_lim' in kwargs):\n",
    "        ax.set_ylim(kwargs['y_lim'])\n",
    "    if('scientific' in kwargs):\n",
    "        if(kwargs['scientific']):\n",
    "            import matplotlib.ticker as mtick\n",
    "            ax.yaxis.set_major_formatter(mtick.FormatStrFormatter('%.1e'))\n",
    "    \n",
    "    ax.grid()\n",
    "    ax.set_xlabel(x_label)\n",
    "    ax.set_ylabel(y_label)\n",
    "    ax.legend()\n",
    "    # Ставим title\n",
    "    if('title' in kwargs):\n",
    "        ax.set_title(kwargs['title'])\n",
    "    else:\n",
    "        ax.set_title('ВАХ')\n",
    "    \n",
    "    plt.subplots_adjust(bottom=.2, left=.2)\n",
    "    # Сохраняем график\n",
    "    if('filename' in kwargs):\n",
    "        fig.savefig(kwargs['filename'])\n",
    "    else:\n",
    "        fig.savefig('out1.pdf')"
   ]
  },
  {
   "cell_type": "code",
   "execution_count": 5,
   "metadata": {},
   "outputs": [],
   "source": [
    "x, y = (1 - np.cos(df['angle']*np.pi/180)), (1/df['N'])"
   ]
  },
  {
   "cell_type": "code",
   "execution_count": 6,
   "metadata": {
    "scrolled": true
   },
   "outputs": [
    {
     "data": {
      "image/png": "[encoded data removed]",
      "text/plain": [
       "<Figure size 432x288 with 1 Axes>"
      ]
     },
     "metadata": {
      "needs_background": "light"
     },
     "output_type": "display_data"
    }
   ],
   "source": [
    "from scipy.stats import linregress\n",
    "\n",
    "slope, intercept, r_value, p_value, std_err = linregress(x,y)\n",
    "f = lambda x: slope*x + intercept\n",
    "\n",
    "g = lambda theta: (slope*(1-np.cos(theta*np.pi/180)) + intercept)**(-1)\n",
    "\n",
    "\n",
    "x_interp = np.linspace(np.min(x), np.max(x), 1000)\n",
    "paint_dots(\n",
    "    {'x': x, 'y': y, 'y_error': y*df['err'], 'label': 'Raw data'}, \n",
    "    {'x': x_interp, 'y': f(x_interp), \n",
    "     'isScatter': False, 'x_label': r'$1 - \\cos\\,\\theta$', \n",
    "     'y_label': r'$1/N(\\theta)$', 'label': 'Interpolation'},\n",
    "    filename='out1.pdf', title='', y_lim=(0, 0.0045), scientific=True)"
   ]
  },
  {
   "cell_type": "code",
   "execution_count": 7,
   "metadata": {},
   "outputs": [],
   "source": [
    "e_rel = std_err / np.mean(f(x_interp))"
   ]
  },
  {
   "cell_type": "code",
   "execution_count": 8,
   "metadata": {},
   "outputs": [
    {
     "data": {
      "text/plain": [
       "0.001102819600932174"
      ]
     },
     "execution_count": 8,
     "metadata": {},
     "output_type": "execute_result"
    }
   ],
   "source": [
    "intercept"
   ]
  },
  {
   "cell_type": "markdown",
   "metadata": {},
   "source": [
    "По графику определяем угловой коэффициент и пересечения с осями:"
   ]
  },
  {
   "cell_type": "code",
   "execution_count": 9,
   "metadata": {},
   "outputs": [
    {
     "name": "stdout",
     "output_type": "stream",
     "text": [
      "  N(0) = 907 ± 15\n",
      "  N(90) = 392 ± 7\n"
     ]
    }
   ],
   "source": [
    "print(r'  N(0) = {0:.0f} ± {1:.0f}'.format(g(0), g(0)*e_rel))\n",
    "print(r'  N(90) = {0:.0f} ± {1:.0f}'.format(g(90), g(90)*e_rel))"
   ]
  },
  {
   "cell_type": "markdown",
   "metadata": {},
   "source": [
    "### Энергия покоя электрона"
   ]
  },
  {
   "cell_type": "code",
   "execution_count": 10,
   "metadata": {},
   "outputs": [],
   "source": [
    "E = 662 * g(90)/(g(0) - g(90))"
   ]
  },
  {
   "cell_type": "code",
   "execution_count": 11,
   "metadata": {},
   "outputs": [
    {
     "name": "stdout",
     "output_type": "stream",
     "text": [
      "  E = 504 ± 12 кэВ, теоретическое E: 511 кэВ\n",
      "  Относительное расхождение: 1.29%\n"
     ]
    }
   ],
   "source": [
    "print('  E = {0:.0f} ± {1:.0f} кэВ, теоретическое E: {2:.0f} кэВ'.format(E, E*np.sqrt(2)*e_rel, 511))\n",
    "print('  Относительное расхождение: {0:.2f}%'.format(abs(E - 511)/E * 100))"
   ]
  },
  {
   "cell_type": "markdown",
   "metadata": {},
   "source": [
    "Данные хорошо сходятся с табличными"
   ]
  }
 ],
 "metadata": {
  "kernelspec": {
   "display_name": "Python 3",
   "language": "python",
   "name": "python3"
  },
  "language_info": {
   "codemirror_mode": {
    "name": "ipython",
    "version": 3
   },
   "file_extension": ".py",
   "mimetype": "text/x-python",
   "name": "python",
   "nbconvert_exporter": "python",
   "pygments_lexer": "ipython3",
   "version": "3.7.0"
  }
 },
 "nbformat": 4,
 "nbformat_minor": 2
}
