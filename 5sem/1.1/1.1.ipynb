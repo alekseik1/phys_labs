{
 "cells": [
  {
   "cell_type": "markdown",
   "metadata": {},
   "source": [
    "# Лабораторная работа №1.1 \"Экспериментальная проверка уравнения Эйнштейна для фотоэффекта и определение постоянной Планка\""
   ]
  },
  {
   "cell_type": "markdown",
   "metadata": {},
   "source": [
    "В работе исследуется зависимость фототока от величины задерживающего потенциала и частоты падающего излучения, что позволяет вычислить величину постоянной Планка."
   ]
  },
  {
   "cell_type": "markdown",
   "metadata": {},
   "source": [
    "Уравнение Эйнштейна:\n",
    "\\begin{equation}\n",
    "\\label{eq1}\n",
    "\\hbar \\omega = E_{\\text{max}} + W\n",
    "\\end{equation}\n",
    "где $E_{\\text{max}}$ - максимальная кинетическая энергия электрона после выхода из фотокатода, $W$ - работа выхода электрона из катода."
   ]
  },
  {
   "cell_type": "markdown",
   "metadata": {},
   "source": [
    "Из описания имеем формулу для полного числа частиц:\n",
    "\\begin{equation}\n",
    "\\label{eq2}\n",
    "N(\\nu) = 2\\pi n_0 \\left[ \\dfrac{\\nu_0^2}{4} - \\left(\\dfrac{1 - V/V_0}{\\nu_0} - \\dfrac{\\nu_0}{2}\\right)^2 \\right]\n",
    "\\end{equation}\n",
    "Корень квадратный из фототока линейно зависит от запирающего напряжения."
   ]
  },
  {
   "cell_type": "markdown",
   "metadata": {},
   "source": [
    "### Калибровочный график"
   ]
  },
  {
   "cell_type": "code",
   "execution_count": 311,
   "metadata": {},
   "outputs": [
    {
     "data": {
      "text/html": [
       "<div>\n",
       "<style scoped>\n",
       "    .dataframe tbody tr th:only-of-type {\n",
       "        vertical-align: middle;\n",
       "    }\n",
       "\n",
       "    .dataframe tbody tr th {\n",
       "        vertical-align: top;\n",
       "    }\n",
       "\n",
       "    .dataframe thead th {\n",
       "        text-align: right;\n",
       "    }\n",
       "</style>\n",
       "<table border=\"1\" class=\"dataframe\">\n",
       "  <thead>\n",
       "    <tr style=\"text-align: right;\">\n",
       "      <th></th>\n",
       "      <th>lambda</th>\n",
       "      <th>angle</th>\n",
       "    </tr>\n",
       "  </thead>\n",
       "  <tbody>\n",
       "    <tr>\n",
       "      <th>0</th>\n",
       "      <td>534.1</td>\n",
       "      <td>1830.0</td>\n",
       "    </tr>\n",
       "    <tr>\n",
       "      <th>1</th>\n",
       "      <td>540.1</td>\n",
       "      <td>1878.0</td>\n",
       "    </tr>\n",
       "    <tr>\n",
       "      <th>2</th>\n",
       "      <td>585.2</td>\n",
       "      <td>2140.0</td>\n",
       "    </tr>\n",
       "    <tr>\n",
       "      <th>3</th>\n",
       "      <td>588.2</td>\n",
       "      <td>2150.0</td>\n",
       "    </tr>\n",
       "    <tr>\n",
       "      <th>4</th>\n",
       "      <td>594.5</td>\n",
       "      <td>2180.0</td>\n",
       "    </tr>\n",
       "  </tbody>\n",
       "</table>\n",
       "</div>"
      ],
      "text/plain": [
       "   lambda   angle\n",
       "0   534.1  1830.0\n",
       "1   540.1  1878.0\n",
       "2   585.2  2140.0\n",
       "3   588.2  2150.0\n",
       "4   594.5  2180.0"
      ]
     },
     "execution_count": 311,
     "metadata": {},
     "output_type": "execute_result"
    }
   ],
   "source": [
    "import pandas as pd\n",
    "\n",
    "CALIBRATION_DATA_PATH = './calibration.csv'\n",
    "LAMP_DATA_PATH = './all_data.csv'\n",
    "df_calibration = pd.read_csv(CALIBRATION_DATA_PATH, sep=';', dtype=float)\n",
    "\n",
    "# Длина волны дана в ангстремах. Переведем ее в нм:\n",
    "df_calibration['lambda'] /= 10\n",
    "\n",
    "df_calibration.head()"
   ]
  },
  {
   "cell_type": "markdown",
   "metadata": {},
   "source": [
    "Посмотрим, является ли калибровочный график прямой"
   ]
  },
  {
   "cell_type": "code",
   "execution_count": 312,
   "metadata": {},
   "outputs": [
    {
     "data": {
      "image/png": "[encoded data removed]",
      "text/plain": [
       "<Figure size 432x288 with 1 Axes>"
      ]
     },
     "metadata": {
      "needs_background": "light"
     },
     "output_type": "display_data"
    }
   ],
   "source": [
    "import matplotlib.pyplot as plt\n",
    "\n",
    "y, x = df_calibration['lambda'], df_calibration['angle']\n",
    "plt.scatter(x, y, label='Real data')\n",
    "\n",
    "# Аппроксимация\n",
    "from scipy.stats import linregress\n",
    "calibration_slope, calibration_intercept, r_value, p_value, std_err = linregress(x,y)\n",
    "plt.plot(x, calibration_slope*x+calibration_intercept, '--', label='linearization')\n",
    "\n",
    "plt.ylabel('$\\lambda$, [нм]')\n",
    "plt.xlabel('Angle, $^\\degree$')\n",
    "plt.grid()\n",
    "plt.legend()\n",
    "plt.title(r'Калибровочный график')\n",
    "\n",
    "plt.show()"
   ]
  },
  {
   "cell_type": "markdown",
   "metadata": {},
   "source": [
    "Видно, что в середине диапазона калибровочной график хорошо описывается прямой. Это нам пригодится в будущем, а пока сделаем функцию для перевода угла в длину волны"
   ]
  },
  {
   "cell_type": "code",
   "execution_count": 313,
   "metadata": {},
   "outputs": [],
   "source": [
    "angle_to_lambda = lambda angle: calibration_slope*angle + calibration_intercept"
   ]
  },
  {
   "cell_type": "markdown",
   "metadata": {},
   "source": [
    "### Информация с лампы"
   ]
  },
  {
   "cell_type": "code",
   "execution_count": 314,
   "metadata": {
    "scrolled": true
   },
   "outputs": [
    {
     "data": {
      "text/html": [
       "<div>\n",
       "<style scoped>\n",
       "    .dataframe tbody tr th:only-of-type {\n",
       "        vertical-align: middle;\n",
       "    }\n",
       "\n",
       "    .dataframe tbody tr th {\n",
       "        vertical-align: top;\n",
       "    }\n",
       "\n",
       "    .dataframe thead th {\n",
       "        text-align: right;\n",
       "    }\n",
       "</style>\n",
       "<table border=\"1\" class=\"dataframe\">\n",
       "  <thead>\n",
       "    <tr style=\"text-align: right;\">\n",
       "      <th></th>\n",
       "      <th>angle</th>\n",
       "      <th>V</th>\n",
       "      <th>I</th>\n",
       "    </tr>\n",
       "  </thead>\n",
       "  <tbody>\n",
       "    <tr>\n",
       "      <th>0</th>\n",
       "      <td>1850.0</td>\n",
       "      <td>5.440</td>\n",
       "      <td>0.517</td>\n",
       "    </tr>\n",
       "    <tr>\n",
       "      <th>1</th>\n",
       "      <td>1850.0</td>\n",
       "      <td>4.910</td>\n",
       "      <td>0.508</td>\n",
       "    </tr>\n",
       "    <tr>\n",
       "      <th>2</th>\n",
       "      <td>1850.0</td>\n",
       "      <td>4.412</td>\n",
       "      <td>0.501</td>\n",
       "    </tr>\n",
       "    <tr>\n",
       "      <th>3</th>\n",
       "      <td>1850.0</td>\n",
       "      <td>3.915</td>\n",
       "      <td>0.491</td>\n",
       "    </tr>\n",
       "    <tr>\n",
       "      <th>4</th>\n",
       "      <td>1850.0</td>\n",
       "      <td>3.409</td>\n",
       "      <td>0.478</td>\n",
       "    </tr>\n",
       "  </tbody>\n",
       "</table>\n",
       "</div>"
      ],
      "text/plain": [
       "    angle      V      I\n",
       "0  1850.0  5.440  0.517\n",
       "1  1850.0  4.910  0.508\n",
       "2  1850.0  4.412  0.501\n",
       "3  1850.0  3.915  0.491\n",
       "4  1850.0  3.409  0.478"
      ]
     },
     "execution_count": 314,
     "metadata": {},
     "output_type": "execute_result"
    }
   ],
   "source": [
    "df_lamp = pd.read_csv(LAMP_DATA_PATH, sep=';', dtype=float)\n",
    "df_lamp.head()"
   ]
  },
  {
   "cell_type": "code",
   "execution_count": 315,
   "metadata": {},
   "outputs": [],
   "source": [
    "# Добавим погрешности\n",
    "df_lamp['I_error'] = 0.01"
   ]
  },
  {
   "cell_type": "code",
   "execution_count": 316,
   "metadata": {},
   "outputs": [],
   "source": [
    "angles = pd.unique(df_lamp['angle'])"
   ]
  },
  {
   "cell_type": "markdown",
   "metadata": {},
   "source": [
    "На самом деле, в столбце $I$ находится не сам $I$, а напряжение, пропорциональное $I$. Но для нас это не важно, так как в этой работе мы интересуемся только напряжением запирания. **Поэтому будем дальше писать $I$ вместо $U$.**\n",
    "\n",
    "Из уравнения выше следует, что нам надо строить график зависимости $V = V(\\sqrt{I})$."
   ]
  },
  {
   "cell_type": "markdown",
   "metadata": {},
   "source": [
    "#### Угол $1850˚$"
   ]
  },
  {
   "cell_type": "code",
   "execution_count": 317,
   "metadata": {},
   "outputs": [],
   "source": [
    "# НЕ НУЖНО. Дает плохую аппроксимацию, поэтому\n",
    "# мы просто аппроксимируем прямой ближе к концу\n",
    "from sklearn.base import BaseEstimator\n",
    "class SigmoidRegressor(BaseEstimator):\n",
    "    \n",
    "    def __init__(self, function):\n",
    "        self.func = function\n",
    "        \n",
    "    def fit(self, x_data, y_data):\n",
    "        scX, scY = StandardScaler(), StandardScaler()\n",
    "        x_fit = scX.fit_transform(np.array(x_data).reshape(-1, 1)).reshape(1, -1)[0]\n",
    "        y_fit = scY.fit_transform(np.array(y_data).reshape(-1, 1)).reshape(1, -1)[0]\n",
    "        from scipy.optimize import curve_fit\n",
    "        popt, pcov = curve_fit(func, x_fit, y_fit)\n",
    "        opt_func = lambda x: scY.inverse_transform(func(\n",
    "            scX.transform(np.array(x).reshape(-1, 1)), \n",
    "            *popt)).reshape(1, -1)[0]\n",
    "        self.scX, self.scY, self.opt_func = scX, scY, opt_func\n",
    "        return self\n",
    "        \n",
    "    def predict(self, x_data):\n",
    "        return self.opt_func(x_data)"
   ]
  },
  {
   "cell_type": "code",
   "execution_count": 352,
   "metadata": {},
   "outputs": [],
   "source": [
    "def fit_line_at_range(x_data, y_data, limits=None):\n",
    "    \"\"\"\n",
    "    Подгоняет прямой на заданном интервале\n",
    "    \"\"\"\n",
    "    if limits is None:\n",
    "        limits = np.min(x_data), np.max(x_data)\n",
    "    x_data = x_data.copy()\n",
    "    y_data = y_data.copy()\n",
    "    x_range = (x_data >= limits[0]) & (x_data <= limits[1])\n",
    "    x_data, y_data = x_data[x_range], y_data[x_range]\n",
    "    return linregress(x_data, y_data)"
   ]
  },
  {
   "cell_type": "code",
   "execution_count": 353,
   "metadata": {},
   "outputs": [],
   "source": [
    "def handle_angle(angle, limits, fig=None, axes=None):\n",
    "    \"\"\"\n",
    "    Обработка конкретного угла\n",
    "    \"\"\"\n",
    "    import numpy as np\n",
    "    import scipy as sc\n",
    "    \n",
    "    if fig is None or axes is None:\n",
    "        fig, axes = plt.subplots(figsize=(16, 9))\n",
    "\n",
    "    # Отберем нужный угол из глобального датасета\n",
    "    subset = df_lamp[df_lamp['angle'] == angle]\n",
    "\n",
    "    # Подсчитаем квадрат (как в лабнике)\n",
    "    y, x = subset['I']**2, subset['V']\n",
    "    # Нанесем экспериментальные точки\n",
    "    axes.scatter(x, y, label='experiment')\n",
    "    \n",
    "    x_spline = np.linspace(np.min(x), np.max(x), 1000)\n",
    "    \n",
    "    slope, intercept, r_value, p_value, std_error = fit_line_at_range(x, y, limits)\n",
    "    print(slope)\n",
    "    fit_function = lambda x: slope*x+intercept\n",
    "    axes.plot(x_spline, fit_function(x_spline), '--', label=r'Лин.регрессия')\n",
    "    \n",
    "    \n",
    "    # Попытаемся приблизить сигмоидой\n",
    "    #funcs = [\n",
    "    #    lambda x, k, a, b: k/(1+np.exp(-a*x + b)),\n",
    "    #    lambda x, k, a, b: k*np.tanh(x - a),\n",
    "    #    lambda x, k, a, b: k*np.arctan(x - a),\n",
    "    #    lambda x, k, a, b: k*np.acos(x - a)\n",
    "    #]\n",
    "    #sigmoid_regressor = SigmoidRegressor(funcs[1])\n",
    "    #y_spline = sigmoid_regressor.fit(x, y).predict(x_spline)\n",
    "    #axes.plot(x_spline, y_spline, '--', label=r'Сплайны')\n",
    "\n",
    "    axes.set_ylabel(r'$\\sqrt{I}$')\n",
    "    axes.set_xlabel(r'$V$')\n",
    "    axes.grid()\n",
    "    axes.legend()\n",
    "    \n",
    "    fig.savefig('angle-%s.pdf' % angle)\n",
    "    \n",
    "    return fig, axes"
   ]
  },
  {
   "cell_type": "code",
   "execution_count": 354,
   "metadata": {},
   "outputs": [
    {
     "name": "stdout",
     "output_type": "stream",
     "text": [
      "0.19294230769230772\n",
      "0.09364575084263227\n",
      "0.023837827121332273\n"
     ]
    },
    {
     "data": {
      "text/plain": [
       "(<Figure size 1152x648 with 1 Axes>,\n",
       " <matplotlib.axes._subplots.AxesSubplot at 0x11a89a780>)"
      ]
     },
     "execution_count": 354,
     "metadata": {},
     "output_type": "execute_result"
    },
    {
     "data": {
      "image/png": "[encoded data removed]",
      "text/plain": [
       "<Figure size 1152x648 with 1 Axes>"
      ]
     },
     "metadata": {
      "needs_background": "light"
     },
     "output_type": "display_data"
    },
    {
     "data": {
      "image/png": "[encoded data removed]",
      "text/plain": [
       "<Figure size 1152x648 with 1 Axes>"
      ]
     },
     "metadata": {
      "needs_background": "light"
     },
     "output_type": "display_data"
    },
    {
     "data": {
      "image/png": "[encoded data removed]",
      "text/plain": [
       "<Figure size 1152x648 with 1 Axes>"
      ]
     },
     "metadata": {
      "needs_background": "light"
     },
     "output_type": "display_data"
    }
   ],
   "source": [
    "#fig, axes = plt.subplots(figsize=(16, 9))\n",
    "# График 1\n",
    "handle_angle(angles[0], (-0.05, 0.1))\n",
    "# 2\n",
    "handle_angle(angles[1], (-0.17, 0.2))\n",
    "# 3\n",
    "handle_angle(angles[2], (-0.2, -0.1))"
   ]
  },
  {
   "cell_type": "markdown",
   "metadata": {},
   "source": [
    "Дальнейшие результаты опираются на экстраполяцию. Мы будем **полагать**, что она выполнена успешно и _заданы_ напряжения запирания"
   ]
  },
  {
   "cell_type": "code",
   "execution_count": 275,
   "metadata": {},
   "outputs": [],
   "source": [
    "V_0 = [-0.1, -0.2, -0.22, -0.24, -0.15]"
   ]
  },
  {
   "cell_type": "markdown",
   "metadata": {},
   "source": [
    "Эти значения запирающих напряжений соответствуют каким-то $\\lambda_i$. Найдем их, исходя из знаний соответствующих углов и калибровочного графика:"
   ]
  },
  {
   "cell_type": "code",
   "execution_count": 276,
   "metadata": {},
   "outputs": [],
   "source": [
    "df_V_lambda = pd.DataFrame(columns=['lambda', 'V_0'])"
   ]
  },
  {
   "cell_type": "code",
   "execution_count": 277,
   "metadata": {},
   "outputs": [],
   "source": [
    "df_V_lambda['lambda'] = [calibration_slope*angle + calibration_intercept for angle in angles]\n",
    "df_V_lambda['V_0'] = V_0"
   ]
  },
  {
   "cell_type": "code",
   "execution_count": 280,
   "metadata": {},
   "outputs": [],
   "source": [
    "df_V_lambda['omega'] = 2*np.pi*3*10**9/(df_V_lambda['lambda']*10**(-9))"
   ]
  },
  {
   "cell_type": "code",
   "execution_count": 281,
   "metadata": {},
   "outputs": [
    {
     "data": {
      "text/html": [
       "<div>\n",
       "<style scoped>\n",
       "    .dataframe tbody tr th:only-of-type {\n",
       "        vertical-align: middle;\n",
       "    }\n",
       "\n",
       "    .dataframe tbody tr th {\n",
       "        vertical-align: top;\n",
       "    }\n",
       "\n",
       "    .dataframe thead th {\n",
       "        text-align: right;\n",
       "    }\n",
       "</style>\n",
       "<table border=\"1\" class=\"dataframe\">\n",
       "  <thead>\n",
       "    <tr style=\"text-align: right;\">\n",
       "      <th></th>\n",
       "      <th>lambda</th>\n",
       "      <th>V_0</th>\n",
       "      <th>omega</th>\n",
       "    </tr>\n",
       "  </thead>\n",
       "  <tbody>\n",
       "    <tr>\n",
       "      <th>0</th>\n",
       "      <td>532.020868</td>\n",
       "      <td>-0.10</td>\n",
       "      <td>3.543011e+16</td>\n",
       "    </tr>\n",
       "    <tr>\n",
       "      <th>1</th>\n",
       "      <td>553.823492</td>\n",
       "      <td>-0.20</td>\n",
       "      <td>3.403531e+16</td>\n",
       "    </tr>\n",
       "    <tr>\n",
       "      <th>2</th>\n",
       "      <td>575.626115</td>\n",
       "      <td>-0.22</td>\n",
       "      <td>3.274618e+16</td>\n",
       "    </tr>\n",
       "    <tr>\n",
       "      <th>3</th>\n",
       "      <td>587.518455</td>\n",
       "      <td>-0.24</td>\n",
       "      <td>3.208334e+16</td>\n",
       "    </tr>\n",
       "    <tr>\n",
       "      <th>4</th>\n",
       "      <td>619.231362</td>\n",
       "      <td>-0.15</td>\n",
       "      <td>3.044025e+16</td>\n",
       "    </tr>\n",
       "  </tbody>\n",
       "</table>\n",
       "</div>"
      ],
      "text/plain": [
       "       lambda   V_0         omega\n",
       "0  532.020868 -0.10  3.543011e+16\n",
       "1  553.823492 -0.20  3.403531e+16\n",
       "2  575.626115 -0.22  3.274618e+16\n",
       "3  587.518455 -0.24  3.208334e+16\n",
       "4  619.231362 -0.15  3.044025e+16"
      ]
     },
     "execution_count": 281,
     "metadata": {},
     "output_type": "execute_result"
    }
   ],
   "source": [
    "df_V_lambda"
   ]
  },
  {
   "cell_type": "markdown",
   "metadata": {},
   "source": [
    "Уравнение на фотоэффект будет иметь вид:\n",
    "$$\n",
    "V_0 = \\dfrac{\\hbar}{e} \\omega - \\dfrac{W}{e}\n",
    "$$"
   ]
  },
  {
   "cell_type": "markdown",
   "metadata": {},
   "source": [
    "Строим график $V_0 (\\omega)$:"
   ]
  },
  {
   "cell_type": "code",
   "execution_count": 304,
   "metadata": {},
   "outputs": [
    {
     "name": "stdout",
     "output_type": "stream",
     "text": [
      "k = 1.9812242337871145e-17\n"
     ]
    },
    {
     "data": {
      "image/png": "[encoded data removed]",
      "text/plain": [
       "<Figure size 432x288 with 1 Axes>"
      ]
     },
     "metadata": {
      "needs_background": "light"
     },
     "output_type": "display_data"
    }
   ],
   "source": [
    "x, y = df_V_lambda['omega'], df_V_lambda['V_0']\n",
    "# plt.scatter(x, y)\n",
    "# TODO: разберись с точками\n",
    "# Там плохие точки. Я их выкину пока\n",
    "plt.scatter(x[1:4], y[1:4], label=r'Raw data')\n",
    "from scipy.stats import linregress\n",
    "h_slope, h_intercept, r_value, p_value, std_err = linregress(x[1:4], y[1:4])\n",
    "x_linreg = np.linspace(min(x), max(x), 1000)\n",
    "plt.plot(x_linreg, h_slope*x_linreg + h_intercept, label=r'Regression')\n",
    "\n",
    "\n",
    "plt.legend()\n",
    "plt.grid()\n",
    "plt.show()"
   ]
  },
  {
   "cell_type": "code",
   "execution_count": 306,
   "metadata": {},
   "outputs": [
    {
     "name": "stdout",
     "output_type": "stream",
     "text": [
      "k = 1.9812242337871145e-17\n"
     ]
    }
   ],
   "source": [
    "print('k = {}'.format(h_slope))"
   ]
  },
  {
   "cell_type": "markdown",
   "metadata": {},
   "source": [
    "Исходя из углового коэффициента имеем $\\hbar$:"
   ]
  },
  {
   "cell_type": "code",
   "execution_count": 308,
   "metadata": {},
   "outputs": [],
   "source": [
    "hbar = h_slope * 1.6*10**(-19)\n",
    "h = 2*np.pi*hbar"
   ]
  },
  {
   "cell_type": "code",
   "execution_count": 310,
   "metadata": {},
   "outputs": [
    {
     "data": {
      "text/plain": [
       "1.991743839353493e-35"
      ]
     },
     "execution_count": 310,
     "metadata": {},
     "output_type": "execute_result"
    }
   ],
   "source": [
    "h"
   ]
  },
  {
   "cell_type": "code",
   "execution_count": null,
   "metadata": {},
   "outputs": [],
   "source": []
  }
 ],
 "metadata": {
  "kernelspec": {
   "display_name": "Python 3",
   "language": "python",
   "name": "python3"
  },
  "language_info": {
   "codemirror_mode": {
    "name": "ipython",
    "version": 3
   },
   "file_extension": ".py",
   "mimetype": "text/x-python",
   "name": "python",
   "nbconvert_exporter": "python",
   "pygments_lexer": "ipython3",
   "version": "3.7.0"
  }
 },
 "nbformat": 4,
 "nbformat_minor": 2
}
