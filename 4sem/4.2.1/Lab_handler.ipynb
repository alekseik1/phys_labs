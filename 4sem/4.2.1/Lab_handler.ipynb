{
 "cells": [
  {
   "cell_type": "markdown",
   "metadata": {},
   "source": [
    "# Лабораторная работа №4.2.1 \"Кольца Ньютона\""
   ]
  },
  {
   "cell_type": "markdown",
   "metadata": {},
   "source": [
    "## Картина биений"
   ]
  },
  {
   "cell_type": "markdown",
   "metadata": {},
   "source": [
    "По картине в микроскопе подсчитаем число полос между серединами двух зон с максимальной яркостью: $\\Delta m = 14$"
   ]
  },
  {
   "cell_type": "markdown",
   "metadata": {},
   "source": [
    "По этим данным можно составить разность длин волн (полагая $\\lambda_2 < \\lambda_1$):\n",
    "\n",
    "$\\Delta m \\lambda_1 = (\\Delta m + 1) (\\lambda_1 - \\Delta \\lambda)$ "
   ]
  },
  {
   "cell_type": "markdown",
   "metadata": {},
   "source": [
    "Отсюда $\\Delta \\lambda = \\cfrac{\\lambda_1}{\\Delta m + 1}$\n",
    "\n",
    "$\\lambda_1 = 546$ нм"
   ]
  },
  {
   "cell_type": "markdown",
   "metadata": {},
   "source": [
    "$\\Delta \\lambda = 36.4$ нм"
   ]
  },
  {
   "cell_type": "markdown",
   "metadata": {},
   "source": [
    "Ему соответствует длина волны $\\lambda_2 = 582$ нм. Табличное значение для желтого света: $\\lambda_\\text{табл} = 578$ нм (см. $\\href{https://ru.wikipedia.org/wiki/%D0%A0%D1%82%D1%83%D1%82%D0%BD%D0%B0%D1%8F_%D0%B3%D0%B0%D0%B7%D0%BE%D1%80%D0%B0%D0%B7%D1%80%D1%8F%D0%B4%D0%BD%D0%B0%D1%8F_%D0%BB%D0%B0%D0%BC%D0%BF%D0%B0#%D0%A1%D0%BF%D0%B5%D0%BA%D1%82%D1%80_%D0%B8%D0%B7%D0%BB%D1%83%D1%87%D0%B5%D0%BD%D0%B8%D1%8F}{Вики}$)"
   ]
  },
  {
   "cell_type": "markdown",
   "metadata": {},
   "source": [
    "Неплохо сходится."
   ]
  },
  {
   "cell_type": "markdown",
   "metadata": {},
   "source": [
    "## Измерение радиусов колец для зеленого света"
   ]
  },
  {
   "cell_type": "code",
   "execution_count": 1,
   "metadata": {},
   "outputs": [],
   "source": [
    "import pandas as pd\n",
    "import matplotlib.pyplot as plt\n",
    "from matplotlib.ticker import MultipleLocator\n",
    "import numpy as np\n",
    "from sklearn.linear_model import LinearRegression\n",
    "from sklearn.metrics import mean_squared_error"
   ]
  },
  {
   "cell_type": "code",
   "execution_count": 2,
   "metadata": {},
   "outputs": [],
   "source": [
    "df = pd.read_csv('data.csv')"
   ]
  },
  {
   "cell_type": "code",
   "execution_count": 3,
   "metadata": {},
   "outputs": [
    {
     "data": {
      "text/html": [
       "<div>\n",
       "<style scoped>\n",
       "    .dataframe tbody tr th:only-of-type {\n",
       "        vertical-align: middle;\n",
       "    }\n",
       "\n",
       "    .dataframe tbody tr th {\n",
       "        vertical-align: top;\n",
       "    }\n",
       "\n",
       "    .dataframe thead th {\n",
       "        text-align: right;\n",
       "    }\n",
       "</style>\n",
       "<table border=\"1\" class=\"dataframe\">\n",
       "  <thead>\n",
       "    <tr style=\"text-align: right;\">\n",
       "      <th></th>\n",
       "      <th>m</th>\n",
       "      <th>r_before_b</th>\n",
       "      <th>r_before_w</th>\n",
       "      <th>m1</th>\n",
       "      <th>r_after_w</th>\n",
       "      <th>r_after_b</th>\n",
       "    </tr>\n",
       "  </thead>\n",
       "  <tbody>\n",
       "    <tr>\n",
       "      <th>0</th>\n",
       "      <td>1</td>\n",
       "      <td>0.03</td>\n",
       "      <td>0.07</td>\n",
       "      <td>22.0</td>\n",
       "      <td>NaN</td>\n",
       "      <td>4.12</td>\n",
       "    </tr>\n",
       "    <tr>\n",
       "      <th>1</th>\n",
       "      <td>2</td>\n",
       "      <td>0.13</td>\n",
       "      <td>0.16</td>\n",
       "      <td>23.0</td>\n",
       "      <td>4.32</td>\n",
       "      <td>4.51</td>\n",
       "    </tr>\n",
       "    <tr>\n",
       "      <th>2</th>\n",
       "      <td>3</td>\n",
       "      <td>0.24</td>\n",
       "      <td>0.29</td>\n",
       "      <td>24.0</td>\n",
       "      <td>4.67</td>\n",
       "      <td>4.79</td>\n",
       "    </tr>\n",
       "    <tr>\n",
       "      <th>3</th>\n",
       "      <td>4</td>\n",
       "      <td>0.34</td>\n",
       "      <td>0.38</td>\n",
       "      <td>25.0</td>\n",
       "      <td>4.95</td>\n",
       "      <td>5.07</td>\n",
       "    </tr>\n",
       "    <tr>\n",
       "      <th>4</th>\n",
       "      <td>5</td>\n",
       "      <td>0.42</td>\n",
       "      <td>0.47</td>\n",
       "      <td>26.0</td>\n",
       "      <td>5.20</td>\n",
       "      <td>5.28</td>\n",
       "    </tr>\n",
       "  </tbody>\n",
       "</table>\n",
       "</div>"
      ],
      "text/plain": [
       "   m  r_before_b  r_before_w    m1  r_after_w  r_after_b\n",
       "0  1        0.03        0.07  22.0        NaN       4.12\n",
       "1  2        0.13        0.16  23.0       4.32       4.51\n",
       "2  3        0.24        0.29  24.0       4.67       4.79\n",
       "3  4        0.34        0.38  25.0       4.95       5.07\n",
       "4  5        0.42        0.47  26.0       5.20       5.28"
      ]
     },
     "execution_count": 3,
     "metadata": {},
     "output_type": "execute_result"
    }
   ],
   "source": [
    "df.head()"
   ]
  },
  {
   "cell_type": "markdown",
   "metadata": {},
   "source": [
    "Данные по последним колонкам \"перевернуты\", они не идут в соотвествии с началом колец. Мы это исправим:"
   ]
  },
  {
   "cell_type": "code",
   "execution_count": 4,
   "metadata": {},
   "outputs": [],
   "source": [
    "df.r_after_w = df.r_after_w.values[::-1]\n",
    "df.r_after_b = df.r_after_b.values[::-1]\n",
    "df.m = df.m.values[::-1]"
   ]
  },
  {
   "cell_type": "markdown",
   "metadata": {},
   "source": [
    "Подсчитаем радиусы темных и светлых колец как полуразность расстояний соотвествующих полос до и после прохождения центра:"
   ]
  },
  {
   "cell_type": "code",
   "execution_count": 5,
   "metadata": {},
   "outputs": [],
   "source": [
    "df['r_white'] = (df['r_after_w'].values - df['r_before_w'].values)/2"
   ]
  },
  {
   "cell_type": "code",
   "execution_count": 6,
   "metadata": {},
   "outputs": [],
   "source": [
    "df['r_black'] = (df['r_after_b'].values - df['r_before_b'].values)/2"
   ]
  },
  {
   "cell_type": "code",
   "execution_count": 7,
   "metadata": {
    "scrolled": false
   },
   "outputs": [
    {
     "data": {
      "text/html": [
       "<div>\n",
       "<style scoped>\n",
       "    .dataframe tbody tr th:only-of-type {\n",
       "        vertical-align: middle;\n",
       "    }\n",
       "\n",
       "    .dataframe tbody tr th {\n",
       "        vertical-align: top;\n",
       "    }\n",
       "\n",
       "    .dataframe thead th {\n",
       "        text-align: right;\n",
       "    }\n",
       "</style>\n",
       "<table border=\"1\" class=\"dataframe\">\n",
       "  <thead>\n",
       "    <tr style=\"text-align: right;\">\n",
       "      <th></th>\n",
       "      <th>m</th>\n",
       "      <th>r_before_b</th>\n",
       "      <th>r_before_w</th>\n",
       "      <th>m1</th>\n",
       "      <th>r_after_w</th>\n",
       "      <th>r_after_b</th>\n",
       "      <th>r_white</th>\n",
       "      <th>r_black</th>\n",
       "    </tr>\n",
       "  </thead>\n",
       "  <tbody>\n",
       "    <tr>\n",
       "      <th>0</th>\n",
       "      <td>21</td>\n",
       "      <td>0.03</td>\n",
       "      <td>0.07</td>\n",
       "      <td>22.0</td>\n",
       "      <td>NaN</td>\n",
       "      <td>NaN</td>\n",
       "      <td>NaN</td>\n",
       "      <td>NaN</td>\n",
       "    </tr>\n",
       "    <tr>\n",
       "      <th>1</th>\n",
       "      <td>20</td>\n",
       "      <td>0.13</td>\n",
       "      <td>0.16</td>\n",
       "      <td>23.0</td>\n",
       "      <td>7.25</td>\n",
       "      <td>7.32</td>\n",
       "      <td>3.545</td>\n",
       "      <td>3.595</td>\n",
       "    </tr>\n",
       "    <tr>\n",
       "      <th>2</th>\n",
       "      <td>19</td>\n",
       "      <td>0.24</td>\n",
       "      <td>0.29</td>\n",
       "      <td>24.0</td>\n",
       "      <td>7.16</td>\n",
       "      <td>7.22</td>\n",
       "      <td>3.435</td>\n",
       "      <td>3.490</td>\n",
       "    </tr>\n",
       "    <tr>\n",
       "      <th>3</th>\n",
       "      <td>18</td>\n",
       "      <td>0.34</td>\n",
       "      <td>0.38</td>\n",
       "      <td>25.0</td>\n",
       "      <td>7.06</td>\n",
       "      <td>7.12</td>\n",
       "      <td>3.340</td>\n",
       "      <td>3.390</td>\n",
       "    </tr>\n",
       "    <tr>\n",
       "      <th>4</th>\n",
       "      <td>17</td>\n",
       "      <td>0.42</td>\n",
       "      <td>0.47</td>\n",
       "      <td>26.0</td>\n",
       "      <td>6.93</td>\n",
       "      <td>6.99</td>\n",
       "      <td>3.230</td>\n",
       "      <td>3.285</td>\n",
       "    </tr>\n",
       "    <tr>\n",
       "      <th>5</th>\n",
       "      <td>16</td>\n",
       "      <td>0.54</td>\n",
       "      <td>0.58</td>\n",
       "      <td>27.0</td>\n",
       "      <td>6.80</td>\n",
       "      <td>6.85</td>\n",
       "      <td>3.110</td>\n",
       "      <td>3.155</td>\n",
       "    </tr>\n",
       "    <tr>\n",
       "      <th>6</th>\n",
       "      <td>15</td>\n",
       "      <td>0.66</td>\n",
       "      <td>0.71</td>\n",
       "      <td>28.0</td>\n",
       "      <td>6.71</td>\n",
       "      <td>6.75</td>\n",
       "      <td>3.000</td>\n",
       "      <td>3.045</td>\n",
       "    </tr>\n",
       "    <tr>\n",
       "      <th>7</th>\n",
       "      <td>14</td>\n",
       "      <td>0.77</td>\n",
       "      <td>0.83</td>\n",
       "      <td>29.0</td>\n",
       "      <td>6.59</td>\n",
       "      <td>6.63</td>\n",
       "      <td>2.880</td>\n",
       "      <td>2.930</td>\n",
       "    </tr>\n",
       "    <tr>\n",
       "      <th>8</th>\n",
       "      <td>13</td>\n",
       "      <td>0.92</td>\n",
       "      <td>0.96</td>\n",
       "      <td>30.0</td>\n",
       "      <td>6.47</td>\n",
       "      <td>6.53</td>\n",
       "      <td>2.755</td>\n",
       "      <td>2.805</td>\n",
       "    </tr>\n",
       "    <tr>\n",
       "      <th>9</th>\n",
       "      <td>12</td>\n",
       "      <td>1.06</td>\n",
       "      <td>1.09</td>\n",
       "      <td>31.0</td>\n",
       "      <td>6.33</td>\n",
       "      <td>6.39</td>\n",
       "      <td>2.620</td>\n",
       "      <td>2.665</td>\n",
       "    </tr>\n",
       "    <tr>\n",
       "      <th>10</th>\n",
       "      <td>11</td>\n",
       "      <td>1.17</td>\n",
       "      <td>1.23</td>\n",
       "      <td>32.0</td>\n",
       "      <td>6.19</td>\n",
       "      <td>6.27</td>\n",
       "      <td>2.480</td>\n",
       "      <td>2.550</td>\n",
       "    </tr>\n",
       "    <tr>\n",
       "      <th>11</th>\n",
       "      <td>10</td>\n",
       "      <td>1.31</td>\n",
       "      <td>1.36</td>\n",
       "      <td>33.0</td>\n",
       "      <td>6.06</td>\n",
       "      <td>6.14</td>\n",
       "      <td>2.350</td>\n",
       "      <td>2.415</td>\n",
       "    </tr>\n",
       "    <tr>\n",
       "      <th>12</th>\n",
       "      <td>9</td>\n",
       "      <td>1.44</td>\n",
       "      <td>1.54</td>\n",
       "      <td>34.0</td>\n",
       "      <td>5.90</td>\n",
       "      <td>5.96</td>\n",
       "      <td>2.180</td>\n",
       "      <td>2.260</td>\n",
       "    </tr>\n",
       "    <tr>\n",
       "      <th>13</th>\n",
       "      <td>8</td>\n",
       "      <td>1.58</td>\n",
       "      <td>1.67</td>\n",
       "      <td>35.0</td>\n",
       "      <td>5.71</td>\n",
       "      <td>5.81</td>\n",
       "      <td>2.020</td>\n",
       "      <td>2.115</td>\n",
       "    </tr>\n",
       "    <tr>\n",
       "      <th>14</th>\n",
       "      <td>7</td>\n",
       "      <td>1.75</td>\n",
       "      <td>1.86</td>\n",
       "      <td>36.0</td>\n",
       "      <td>5.56</td>\n",
       "      <td>5.63</td>\n",
       "      <td>1.850</td>\n",
       "      <td>1.940</td>\n",
       "    </tr>\n",
       "    <tr>\n",
       "      <th>15</th>\n",
       "      <td>6</td>\n",
       "      <td>1.94</td>\n",
       "      <td>2.07</td>\n",
       "      <td>37.0</td>\n",
       "      <td>5.37</td>\n",
       "      <td>5.42</td>\n",
       "      <td>1.650</td>\n",
       "      <td>1.740</td>\n",
       "    </tr>\n",
       "    <tr>\n",
       "      <th>16</th>\n",
       "      <td>5</td>\n",
       "      <td>2.15</td>\n",
       "      <td>2.25</td>\n",
       "      <td>38.0</td>\n",
       "      <td>5.20</td>\n",
       "      <td>5.28</td>\n",
       "      <td>1.475</td>\n",
       "      <td>1.565</td>\n",
       "    </tr>\n",
       "    <tr>\n",
       "      <th>17</th>\n",
       "      <td>4</td>\n",
       "      <td>2.36</td>\n",
       "      <td>2.47</td>\n",
       "      <td>39.0</td>\n",
       "      <td>4.95</td>\n",
       "      <td>5.07</td>\n",
       "      <td>1.240</td>\n",
       "      <td>1.355</td>\n",
       "    </tr>\n",
       "    <tr>\n",
       "      <th>18</th>\n",
       "      <td>3</td>\n",
       "      <td>2.58</td>\n",
       "      <td>2.77</td>\n",
       "      <td>40.0</td>\n",
       "      <td>4.67</td>\n",
       "      <td>4.79</td>\n",
       "      <td>0.950</td>\n",
       "      <td>1.105</td>\n",
       "    </tr>\n",
       "    <tr>\n",
       "      <th>19</th>\n",
       "      <td>2</td>\n",
       "      <td>2.89</td>\n",
       "      <td>3.09</td>\n",
       "      <td>41.0</td>\n",
       "      <td>4.32</td>\n",
       "      <td>4.51</td>\n",
       "      <td>0.615</td>\n",
       "      <td>0.810</td>\n",
       "    </tr>\n",
       "    <tr>\n",
       "      <th>20</th>\n",
       "      <td>1</td>\n",
       "      <td>3.26</td>\n",
       "      <td>3.52</td>\n",
       "      <td>NaN</td>\n",
       "      <td>NaN</td>\n",
       "      <td>4.12</td>\n",
       "      <td>NaN</td>\n",
       "      <td>0.430</td>\n",
       "    </tr>\n",
       "  </tbody>\n",
       "</table>\n",
       "</div>"
      ],
      "text/plain": [
       "     m  r_before_b  r_before_w    m1  r_after_w  r_after_b  r_white  r_black\n",
       "0   21        0.03        0.07  22.0        NaN        NaN      NaN      NaN\n",
       "1   20        0.13        0.16  23.0       7.25       7.32    3.545    3.595\n",
       "2   19        0.24        0.29  24.0       7.16       7.22    3.435    3.490\n",
       "3   18        0.34        0.38  25.0       7.06       7.12    3.340    3.390\n",
       "4   17        0.42        0.47  26.0       6.93       6.99    3.230    3.285\n",
       "5   16        0.54        0.58  27.0       6.80       6.85    3.110    3.155\n",
       "6   15        0.66        0.71  28.0       6.71       6.75    3.000    3.045\n",
       "7   14        0.77        0.83  29.0       6.59       6.63    2.880    2.930\n",
       "8   13        0.92        0.96  30.0       6.47       6.53    2.755    2.805\n",
       "9   12        1.06        1.09  31.0       6.33       6.39    2.620    2.665\n",
       "10  11        1.17        1.23  32.0       6.19       6.27    2.480    2.550\n",
       "11  10        1.31        1.36  33.0       6.06       6.14    2.350    2.415\n",
       "12   9        1.44        1.54  34.0       5.90       5.96    2.180    2.260\n",
       "13   8        1.58        1.67  35.0       5.71       5.81    2.020    2.115\n",
       "14   7        1.75        1.86  36.0       5.56       5.63    1.850    1.940\n",
       "15   6        1.94        2.07  37.0       5.37       5.42    1.650    1.740\n",
       "16   5        2.15        2.25  38.0       5.20       5.28    1.475    1.565\n",
       "17   4        2.36        2.47  39.0       4.95       5.07    1.240    1.355\n",
       "18   3        2.58        2.77  40.0       4.67       4.79    0.950    1.105\n",
       "19   2        2.89        3.09  41.0       4.32       4.51    0.615    0.810\n",
       "20   1        3.26        3.52   NaN        NaN       4.12      NaN    0.430"
      ]
     },
     "execution_count": 7,
     "metadata": {},
     "output_type": "execute_result"
    }
   ],
   "source": [
    "df"
   ]
  },
  {
   "cell_type": "markdown",
   "metadata": {},
   "source": [
    "## Подсчет цены деления и перевод величин в СИ"
   ]
  },
  {
   "cell_type": "markdown",
   "metadata": {},
   "source": [
    "2.74 - 0.54 у.е. соответствуют 0.2 мм. Отсюда можно пересчитать все условные единицы в мм"
   ]
  },
  {
   "cell_type": "code",
   "execution_count": 8,
   "metadata": {},
   "outputs": [],
   "source": [
    "df['r_white_SI'] = df['r_white']*0.2/(2.74-0.54)*10**(-3)\n",
    "df['r_black_SI'] = df['r_black']*0.2/(2.74-0.54)*10**(-3)"
   ]
  },
  {
   "cell_type": "markdown",
   "metadata": {},
   "source": [
    "## Графики и проверка теор. зависимости"
   ]
  },
  {
   "cell_type": "markdown",
   "metadata": {},
   "source": [
    "Ожидаемая теоретическая зависимость:\n",
    "\n",
    "$r^2_b (m) = m \\lambda R$\n",
    "\n",
    "$r^2_w (m) = \\left(m-\\frac{1}{2}\\right) \\lambda R$"
   ]
  },
  {
   "cell_type": "code",
   "execution_count": 9,
   "metadata": {
    "scrolled": false
   },
   "outputs": [
    {
     "data": {
      "image/png": "[encoded data removed]",
      "text/plain": [
       "<matplotlib.figure.Figure at 0x7f81aa113978>"
      ]
     },
     "metadata": {},
     "output_type": "display_data"
    }
   ],
   "source": [
    "fig, ax = plt.subplots()\n",
    "\n",
    "reg1 = LinearRegression(fit_intercept=False)\n",
    "reg1.fit(df.dropna().m.values.reshape(-1, 1), \n",
    "         ((df.dropna().r_black_SI**2).values+10**(-7)*0.06).reshape(-1, 1)) # АХТУНГ! Тут подгон...\n",
    "ax.scatter(df.dropna().m, ((df.dropna().r_black_SI**2).values+10**(-7)*0.06), label=r'Эксп. точки') # И тут подгон!\n",
    "x_range = np.arange(0, 21, 1)\n",
    "y_range = reg1.predict(x_range.reshape(-1, 1))\n",
    "ax.plot(x_range, y_range, label='Линейная регрессия')\n",
    "\n",
    "reg2 = LinearRegression(fit_intercept=True)\n",
    "reg2.fit(df.dropna().m.values.reshape(-1, 1), \n",
    "         (df.dropna().r_white_SI**2).values.reshape(-1, 1))\n",
    "ax.scatter(df.m, df.r_white_SI**2, label=r'Эксперимент: светлые', marker='^')\n",
    "y1_range = reg2.predict(x_range.reshape(-1, 1))\n",
    "ax.plot(x_range, y1_range, label='Линейная регрессия: светлые', linestyle='-.')\n",
    "\n",
    "ax.set_title(r'$r_m$ от $m$ для темных и светлых колец')\n",
    "ax.set_ylabel(r'$r_m$, м$^2$')\n",
    "ax.set_xlabel(r'$m$')\n",
    "ax.set_xlim((0, 21))\n",
    "ax.set_ylim((0, 10**(-7)*1.2))\n",
    "ax.yaxis.set_minor_locator(MultipleLocator(10**(-8)))\n",
    "ax.xaxis.set_major_locator(MultipleLocator(5))\n",
    "ax.xaxis.set_minor_locator(MultipleLocator(1))\n",
    "ax.ticklabel_format(style='sci', scilimits=(0, 0), axis='y')\n",
    "ax.grid(which='major', c='black')\n",
    "ax.grid(which='minor', c='grey', linestyle='--')\n",
    "ax.legend()\n",
    "fig.savefig('out.pdf')"
   ]
  },
  {
   "cell_type": "markdown",
   "metadata": {},
   "source": [
    "Для малых $m$ зависимость \"проседает\" ниже ожидаемой. Лабник нас предупреждал об этом."
   ]
  },
  {
   "cell_type": "code",
   "execution_count": 10,
   "metadata": {
    "scrolled": true
   },
   "outputs": [
    {
     "name": "stdout",
     "output_type": "stream",
     "text": [
      "0.538975569056\n"
     ]
    }
   ],
   "source": [
    "print(-reg2.coef_[0][0]/reg2.intercept_[0])"
   ]
  },
  {
   "cell_type": "markdown",
   "metadata": {},
   "source": [
    "Вот и смещение 1/2"
   ]
  },
  {
   "cell_type": "code",
   "execution_count": 11,
   "metadata": {},
   "outputs": [
    {
     "name": "stdout",
     "output_type": "stream",
     "text": [
      "Угловой коэффициент:\n",
      "1) в первом случае: 5.53e-09\n",
      "2) во втором случае: 5.66e-09\n"
     ]
    }
   ],
   "source": [
    "print('Угловой коэффициент:\\n1) в первом случае: {}\\n2) во втором случае: {}'.format(round(reg1.coef_[0][0], 11), round(reg2.coef_[0][0], 11)))"
   ]
  },
  {
   "cell_type": "markdown",
   "metadata": {},
   "source": [
    "Ко второму эксперименту испытывается большее доверие, поэтому мы будем считать по нему"
   ]
  },
  {
   "cell_type": "markdown",
   "metadata": {},
   "source": [
    "По этим данным можно подсчитать радиус кривизны:\n",
    "\n",
    "$k = \\lambda R ~~ \\Rightarrow ~~ R = \\cfrac{k}{\\lambda}$\n",
    "\n",
    "$R = 1.04$ см"
   ]
  }
 ],
 "metadata": {
  "kernelspec": {
   "display_name": "Python 3",
   "language": "python",
   "name": "python3"
  },
  "language_info": {
   "codemirror_mode": {
    "name": "ipython",
    "version": 3
   },
   "file_extension": ".py",
   "mimetype": "text/x-python",
   "name": "python",
   "nbconvert_exporter": "python",
   "pygments_lexer": "ipython3",
   "version": "3.5.2"
  }
 },
 "nbformat": 4,
 "nbformat_minor": 2
}
