{
 "cells": [
  {
   "cell_type": "markdown",
   "metadata": {},
   "source": [
    "_#TODO: Проверь у Клима и Вовы __R__ (разрешающую способность)_"
   ]
  },
  {
   "cell_type": "markdown",
   "metadata": {},
   "source": [
    "# Лабораторная работа №4.4.1 \"Амплитудная дифракционная решетка\""
   ]
  },
  {
   "cell_type": "markdown",
   "metadata": {},
   "source": [
    "В работе предстоит познакомиться с работой гониометра и исследовать спектральные характеристики спектральных приборов (амплитудной решетки)."
   ]
  },
  {
   "cell_type": "code",
   "execution_count": 37,
   "metadata": {},
   "outputs": [],
   "source": [
    "import numpy as np\n",
    "import pandas as pd\n",
    "import matplotlib.pyplot as plt\n",
    "from matplotlib.ticker import MultipleLocator\n",
    "from sklearn.linear_model import LinearRegression\n",
    "from astropy.coordinates import Angle # Для работы с углами, минутами и секундами. Установите библиотеку, если что"
   ]
  },
  {
   "cell_type": "markdown",
   "metadata": {},
   "source": [
    "## 1. Определение шага решетки"
   ]
  },
  {
   "cell_type": "markdown",
   "metadata": {},
   "source": [
    "Считаем данные:"
   ]
  },
  {
   "cell_type": "code",
   "execution_count": 38,
   "metadata": {},
   "outputs": [],
   "source": [
    "df = pd.read_csv('1.csv')"
   ]
  },
  {
   "cell_type": "code",
   "execution_count": 39,
   "metadata": {},
   "outputs": [
    {
     "data": {
      "text/html": [
       "<div>\n",
       "<style scoped>\n",
       "    .dataframe tbody tr th:only-of-type {\n",
       "        vertical-align: middle;\n",
       "    }\n",
       "\n",
       "    .dataframe tbody tr th {\n",
       "        vertical-align: top;\n",
       "    }\n",
       "\n",
       "    .dataframe thead th {\n",
       "        text-align: right;\n",
       "    }\n",
       "</style>\n",
       "<table border=\"1\" class=\"dataframe\">\n",
       "  <thead>\n",
       "    <tr style=\"text-align: right;\">\n",
       "      <th></th>\n",
       "      <th>m</th>\n",
       "      <th>line</th>\n",
       "      <th>alpha</th>\n",
       "    </tr>\n",
       "  </thead>\n",
       "  <tbody>\n",
       "    <tr>\n",
       "      <th>0</th>\n",
       "      <td>1</td>\n",
       "      <td>6</td>\n",
       "      <td>168°22′19″</td>\n",
       "    </tr>\n",
       "    <tr>\n",
       "      <th>1</th>\n",
       "      <td>1</td>\n",
       "      <td>5</td>\n",
       "      <td>167°27′56″</td>\n",
       "    </tr>\n",
       "    <tr>\n",
       "      <th>2</th>\n",
       "      <td>1</td>\n",
       "      <td>4</td>\n",
       "      <td>165°50′15″</td>\n",
       "    </tr>\n",
       "    <tr>\n",
       "      <th>3</th>\n",
       "      <td>1</td>\n",
       "      <td>3</td>\n",
       "      <td>164°13′41″</td>\n",
       "    </tr>\n",
       "    <tr>\n",
       "      <th>4</th>\n",
       "      <td>1</td>\n",
       "      <td>2</td>\n",
       "      <td>163°19′10″</td>\n",
       "    </tr>\n",
       "    <tr>\n",
       "      <th>5</th>\n",
       "      <td>1</td>\n",
       "      <td>1</td>\n",
       "      <td>163°15′39″</td>\n",
       "    </tr>\n",
       "    <tr>\n",
       "      <th>6</th>\n",
       "      <td>-1</td>\n",
       "      <td>6</td>\n",
       "      <td>191°40′32″</td>\n",
       "    </tr>\n",
       "    <tr>\n",
       "      <th>7</th>\n",
       "      <td>-1</td>\n",
       "      <td>5</td>\n",
       "      <td>192°38′38″</td>\n",
       "    </tr>\n",
       "    <tr>\n",
       "      <th>8</th>\n",
       "      <td>-1</td>\n",
       "      <td>4</td>\n",
       "      <td>194°17′32″</td>\n",
       "    </tr>\n",
       "    <tr>\n",
       "      <th>9</th>\n",
       "      <td>-1</td>\n",
       "      <td>3</td>\n",
       "      <td>195°55′24″</td>\n",
       "    </tr>\n",
       "    <tr>\n",
       "      <th>10</th>\n",
       "      <td>-1</td>\n",
       "      <td>2</td>\n",
       "      <td>196°50′51″</td>\n",
       "    </tr>\n",
       "    <tr>\n",
       "      <th>11</th>\n",
       "      <td>-1</td>\n",
       "      <td>1</td>\n",
       "      <td>196°54′46″</td>\n",
       "    </tr>\n",
       "  </tbody>\n",
       "</table>\n",
       "</div>"
      ],
      "text/plain": [
       "    m  line       alpha\n",
       "0   1     6  168°22′19″\n",
       "1   1     5  167°27′56″\n",
       "2   1     4  165°50′15″\n",
       "3   1     3  164°13′41″\n",
       "4   1     2  163°19′10″\n",
       "5   1     1  163°15′39″\n",
       "6  -1     6  191°40′32″\n",
       "7  -1     5  192°38′38″\n",
       "8  -1     4  194°17′32″\n",
       "9  -1     3  195°55′24″\n",
       "10 -1     2  196°50′51″\n",
       "11 -1     1  196°54′46″"
      ]
     },
     "execution_count": 39,
     "metadata": {},
     "output_type": "execute_result"
    }
   ],
   "source": [
    "df"
   ]
  },
  {
   "cell_type": "code",
   "execution_count": 40,
   "metadata": {},
   "outputs": [],
   "source": [
    "# Переведем строки в углы. Это пригодится в будущем, но испортит вид датафрейма при выводе на экран\n",
    "# Все углы будут в градусах. Но numpy это поймет, так что переводить не нужно\n",
    "df['alpha'] = df['alpha'].map(lambda x: Angle(x))\n",
    "# Не забудем, что у гониометра есть alpha_0. Вычтем его\n",
    "alpha_0 = Angle('180d1m51s')\n",
    "df['alpha'] -= alpha_0"
   ]
  },
  {
   "cell_type": "markdown",
   "metadata": {},
   "source": [
    "В лабнике есть таблица соотвествия: длина волны $\\longleftrightarrow$ номер линии. Возьмем ее:"
   ]
  },
  {
   "cell_type": "code",
   "execution_count": 41,
   "metadata": {},
   "outputs": [],
   "source": [
    "line_map = {1: 579.1, 2: 577.0, 3: 546.1, \n",
    "            4: 491.6, 5: 435.8, 6: 404.7}"
   ]
  },
  {
   "cell_type": "code",
   "execution_count": 42,
   "metadata": {},
   "outputs": [
    {
     "data": {
      "text/html": [
       "<div>\n",
       "<style scoped>\n",
       "    .dataframe tbody tr th:only-of-type {\n",
       "        vertical-align: middle;\n",
       "    }\n",
       "\n",
       "    .dataframe tbody tr th {\n",
       "        vertical-align: top;\n",
       "    }\n",
       "\n",
       "    .dataframe thead th {\n",
       "        text-align: right;\n",
       "    }\n",
       "</style>\n",
       "<table border=\"1\" class=\"dataframe\">\n",
       "  <thead>\n",
       "    <tr style=\"text-align: right;\">\n",
       "      <th></th>\n",
       "      <th>m</th>\n",
       "      <th>line</th>\n",
       "      <th>alpha</th>\n",
       "      <th>lambda</th>\n",
       "    </tr>\n",
       "  </thead>\n",
       "  <tbody>\n",
       "    <tr>\n",
       "      <th>0</th>\n",
       "      <td>1</td>\n",
       "      <td>6</td>\n",
       "      <td>-11d39m32s</td>\n",
       "      <td>404.7</td>\n",
       "    </tr>\n",
       "    <tr>\n",
       "      <th>1</th>\n",
       "      <td>1</td>\n",
       "      <td>5</td>\n",
       "      <td>-12d33m55s</td>\n",
       "      <td>435.8</td>\n",
       "    </tr>\n",
       "    <tr>\n",
       "      <th>2</th>\n",
       "      <td>1</td>\n",
       "      <td>4</td>\n",
       "      <td>-14d11m36s</td>\n",
       "      <td>491.6</td>\n",
       "    </tr>\n",
       "    <tr>\n",
       "      <th>3</th>\n",
       "      <td>1</td>\n",
       "      <td>3</td>\n",
       "      <td>-15d48m10s</td>\n",
       "      <td>546.1</td>\n",
       "    </tr>\n",
       "    <tr>\n",
       "      <th>4</th>\n",
       "      <td>1</td>\n",
       "      <td>2</td>\n",
       "      <td>-16d42m41s</td>\n",
       "      <td>577.0</td>\n",
       "    </tr>\n",
       "  </tbody>\n",
       "</table>\n",
       "</div>"
      ],
      "text/plain": [
       "   m  line       alpha  lambda\n",
       "0  1     6  -11d39m32s   404.7\n",
       "1  1     5  -12d33m55s   435.8\n",
       "2  1     4  -14d11m36s   491.6\n",
       "3  1     3  -15d48m10s   546.1\n",
       "4  1     2  -16d42m41s   577.0"
      ]
     },
     "execution_count": 42,
     "metadata": {},
     "output_type": "execute_result"
    }
   ],
   "source": [
    "df['lambda'] = [line_map[x] for x in df['line'].astype(int)]\n",
    "df.head()"
   ]
  },
  {
   "cell_type": "markdown",
   "metadata": {},
   "source": [
    "Построим график $\\sin \\phi_m$ от длины волны $\\lambda$. Ожидаемая зависимость: $\\sin \\phi_m = \\cfrac{m}{d} \\lambda$"
   ]
  },
  {
   "cell_type": "markdown",
   "metadata": {},
   "source": [
    "Для $\\underline{m = 1}$ имеем:"
   ]
  },
  {
   "cell_type": "code",
   "execution_count": 43,
   "metadata": {},
   "outputs": [],
   "source": [
    "reg = LinearRegression(n_jobs=-1)\n",
    "\n",
    "# m = 1\n",
    "sub_df = df[df.m == 1]\n",
    "y_train, x_train = sub_df['alpha'].map(np.sin), sub_df['lambda']\n",
    "reg.fit(x_train.values.reshape(-1, 1), y_train.values)\n",
    "k1 = reg.coef_[0]\n",
    "x_line = np.linspace(0, 1.1*max(x_train), 1000)\n",
    "y_line = reg.predict(x_line.reshape(-1, 1))"
   ]
  },
  {
   "cell_type": "code",
   "execution_count": 44,
   "metadata": {},
   "outputs": [],
   "source": [
    "# m = -1\n",
    "sub_df = df[df.m == -1]\n",
    "y_train1, x_train1 = sub_df['alpha'].map(np.sin), sub_df['lambda']\n",
    "reg.fit(x_train1.values.reshape(-1, 1), y_train1.values)\n",
    "k2 = reg.coef_[0]\n",
    "x_line1 = np.linspace(0, 1.1*max(x_train1), 1000)\n",
    "y_line1 = reg.predict(x_line1.reshape(-1, 1))"
   ]
  },
  {
   "cell_type": "code",
   "execution_count": 45,
   "metadata": {},
   "outputs": [],
   "source": [
    "fig, ax = plt.subplots()\n",
    "# P.S. У нас что-то пошло не так и для m = 1 синус отрицательный. Поэтому я его свапну с m = -1\n",
    "ax.scatter(x_train, y_train, marker='v', label=r'Эксперимент, $m = -1$')\n",
    "ax.scatter(x_train1, y_train1, marker='^', label=r'Эксперимент, $m = 1$')\n",
    "ax.plot(x_line, y_line, label=r'Лин. регрессия, $m = -1$')\n",
    "ax.plot(x_line1, y_line1, label=r'Лин. регрессия, $m = 1$')\n",
    "# Оси\n",
    "ax.set_xlim((min(min(x_line), min(x_line1)), max(max(x_line1), max(x_line))))\n",
    "ax.xaxis.set_major_locator(MultipleLocator(100))\n",
    "ax.xaxis.set_minor_locator(MultipleLocator(25))\n",
    "ax.yaxis.set_major_locator(MultipleLocator(0.1))\n",
    "ax.yaxis.set_minor_locator(MultipleLocator(0.025))\n",
    "\n",
    "# Подписи\n",
    "ax.set_xlabel(r'$\\lambda$, нм')\n",
    "ax.set_ylabel(r'$\\sin\\,(\\phi_m)$')\n",
    "ax.text(40, .25, r'$k_1 = $ %s, $k_2$ = %s, $\\left[\\frac{\\mathrm{штрих}}{\\mathrm{мм}}\\right]$'\n",
    "        % (round(k1*10**6, 2), round(k2*10**6, 2)), \n",
    "        bbox={'facecolor':'white', 'alpha': 1, 'pad':10})\n",
    "ax.set_title(r'Определение шага решетки')\n",
    "# Прочая красота\n",
    "ax.grid(which='minor', c='black', linestyle='--', alpha=0.2)\n",
    "ax.grid(which='major', c='black')\n",
    "ax.legend()\n",
    "fig.savefig('1.pdf')"
   ]
  },
  {
   "cell_type": "code",
   "execution_count": 48,
   "metadata": {},
   "outputs": [],
   "source": [
    "d = (-k1+k2)/2*10**6"
   ]
  },
  {
   "cell_type": "code",
   "execution_count": 49,
   "metadata": {},
   "outputs": [
    {
     "name": "stdout",
     "output_type": "stream",
     "text": [
      "Итого: 500.92835425639896 штрих/мм\n"
     ]
    }
   ],
   "source": [
    "print('Итого: {} штрих/мм'.format(d))"
   ]
  },
  {
   "cell_type": "markdown",
   "metadata": {},
   "source": [
    "## 2. Определение угловой дисперсии"
   ]
  },
  {
   "cell_type": "code",
   "execution_count": 50,
   "metadata": {},
   "outputs": [],
   "source": [
    "df = pd.read_csv('2.csv')"
   ]
  },
  {
   "cell_type": "code",
   "execution_count": 51,
   "metadata": {},
   "outputs": [
    {
     "data": {
      "text/html": [
       "<div>\n",
       "<style scoped>\n",
       "    .dataframe tbody tr th:only-of-type {\n",
       "        vertical-align: middle;\n",
       "    }\n",
       "\n",
       "    .dataframe tbody tr th {\n",
       "        vertical-align: top;\n",
       "    }\n",
       "\n",
       "    .dataframe thead th {\n",
       "        text-align: right;\n",
       "    }\n",
       "</style>\n",
       "<table border=\"1\" class=\"dataframe\">\n",
       "  <thead>\n",
       "    <tr style=\"text-align: right;\">\n",
       "      <th></th>\n",
       "      <th>m</th>\n",
       "      <th>line1</th>\n",
       "      <th>line2</th>\n",
       "    </tr>\n",
       "  </thead>\n",
       "  <tbody>\n",
       "    <tr>\n",
       "      <th>0</th>\n",
       "      <td>1</td>\n",
       "      <td>163°15′39″</td>\n",
       "      <td>163°19′10″</td>\n",
       "    </tr>\n",
       "    <tr>\n",
       "      <th>1</th>\n",
       "      <td>2</td>\n",
       "      <td>144°54′30″</td>\n",
       "      <td>145°2′50″</td>\n",
       "    </tr>\n",
       "    <tr>\n",
       "      <th>2</th>\n",
       "      <td>3</td>\n",
       "      <td>120°51′38″</td>\n",
       "      <td>121°11′40″</td>\n",
       "    </tr>\n",
       "    <tr>\n",
       "      <th>3</th>\n",
       "      <td>-1</td>\n",
       "      <td>196°54′46″</td>\n",
       "      <td>196°50′51″</td>\n",
       "    </tr>\n",
       "    <tr>\n",
       "      <th>4</th>\n",
       "      <td>-2</td>\n",
       "      <td>215°40′37″</td>\n",
       "      <td>215°31′53″</td>\n",
       "    </tr>\n",
       "    <tr>\n",
       "      <th>5</th>\n",
       "      <td>-3</td>\n",
       "      <td>241°34′37″</td>\n",
       "      <td>241°11′49″</td>\n",
       "    </tr>\n",
       "  </tbody>\n",
       "</table>\n",
       "</div>"
      ],
      "text/plain": [
       "   m       line1       line2\n",
       "0  1  163°15′39″  163°19′10″\n",
       "1  2  144°54′30″   145°2′50″\n",
       "2  3  120°51′38″  121°11′40″\n",
       "3 -1  196°54′46″  196°50′51″\n",
       "4 -2  215°40′37″  215°31′53″\n",
       "5 -3  241°34′37″  241°11′49″"
      ]
     },
     "execution_count": 51,
     "metadata": {},
     "output_type": "execute_result"
    }
   ],
   "source": [
    "df"
   ]
  },
  {
   "cell_type": "code",
   "execution_count": 52,
   "metadata": {},
   "outputs": [],
   "source": [
    "# Переведем строки в углы. Это пригодится в будущем, но испортит вид датафрейма при выводе на экран\n",
    "# Все углы будут в градусах. Но numpy это поймет, так что переводить не нужно\n",
    "df['line1'] = df['line1'].map(lambda x: Angle(x))\n",
    "df['line2'] = df['line2'].map(lambda x: Angle(x))\n",
    "# Не забудем, что у гониометра есть alpha_0. Вычтем его\n",
    "alpha_0 = Angle('180d1m53s')\n",
    "df['line1'] -= alpha_0\n",
    "df['line2'] -= alpha_0"
   ]
  },
  {
   "cell_type": "code",
   "execution_count": 53,
   "metadata": {},
   "outputs": [],
   "source": [
    "l2 = 577\n",
    "l1 = 579.1"
   ]
  },
  {
   "cell_type": "code",
   "execution_count": 54,
   "metadata": {},
   "outputs": [],
   "source": [
    "df['disp'] = (df['line2'] - df['line1'])/(l2 - l1)\n",
    "# Угловая дисперсия мерится в град/нм !!!\n",
    "# Опять же, мы мудаки. У нас m=1 спутался с m=-1\n",
    "df['disp'] *= -1"
   ]
  },
  {
   "cell_type": "code",
   "execution_count": 55,
   "metadata": {
    "scrolled": true
   },
   "outputs": [
    {
     "data": {
      "text/html": [
       "<div>\n",
       "<style scoped>\n",
       "    .dataframe tbody tr th:only-of-type {\n",
       "        vertical-align: middle;\n",
       "    }\n",
       "\n",
       "    .dataframe tbody tr th {\n",
       "        vertical-align: top;\n",
       "    }\n",
       "\n",
       "    .dataframe thead th {\n",
       "        text-align: right;\n",
       "    }\n",
       "</style>\n",
       "<table border=\"1\" class=\"dataframe\">\n",
       "  <thead>\n",
       "    <tr style=\"text-align: right;\">\n",
       "      <th></th>\n",
       "      <th>m</th>\n",
       "      <th>line1</th>\n",
       "      <th>line2</th>\n",
       "      <th>disp</th>\n",
       "    </tr>\n",
       "  </thead>\n",
       "  <tbody>\n",
       "    <tr>\n",
       "      <th>0</th>\n",
       "      <td>1</td>\n",
       "      <td>-16d46m14s</td>\n",
       "      <td>-16d42m43s</td>\n",
       "      <td>0d01m40.4762s</td>\n",
       "    </tr>\n",
       "    <tr>\n",
       "      <th>1</th>\n",
       "      <td>2</td>\n",
       "      <td>-35d07m23s</td>\n",
       "      <td>-34d59m03s</td>\n",
       "      <td>0d03m58.0952s</td>\n",
       "    </tr>\n",
       "    <tr>\n",
       "      <th>2</th>\n",
       "      <td>3</td>\n",
       "      <td>-59d10m15s</td>\n",
       "      <td>-58d50m13s</td>\n",
       "      <td>0d09m32.381s</td>\n",
       "    </tr>\n",
       "    <tr>\n",
       "      <th>3</th>\n",
       "      <td>-1</td>\n",
       "      <td>16d52m53s</td>\n",
       "      <td>16d48m58s</td>\n",
       "      <td>-0d01m51.9048s</td>\n",
       "    </tr>\n",
       "    <tr>\n",
       "      <th>4</th>\n",
       "      <td>-2</td>\n",
       "      <td>35d38m44s</td>\n",
       "      <td>35d30m00s</td>\n",
       "      <td>-0d04m09.5238s</td>\n",
       "    </tr>\n",
       "    <tr>\n",
       "      <th>5</th>\n",
       "      <td>-3</td>\n",
       "      <td>61d32m44s</td>\n",
       "      <td>61d09m56s</td>\n",
       "      <td>-0d10m51.4286s</td>\n",
       "    </tr>\n",
       "  </tbody>\n",
       "</table>\n",
       "</div>"
      ],
      "text/plain": [
       "   m       line1       line2            disp\n",
       "0  1  -16d46m14s  -16d42m43s   0d01m40.4762s\n",
       "1  2  -35d07m23s  -34d59m03s   0d03m58.0952s\n",
       "2  3  -59d10m15s  -58d50m13s    0d09m32.381s\n",
       "3 -1   16d52m53s   16d48m58s  -0d01m51.9048s\n",
       "4 -2   35d38m44s   35d30m00s  -0d04m09.5238s\n",
       "5 -3   61d32m44s   61d09m56s  -0d10m51.4286s"
      ]
     },
     "execution_count": 55,
     "metadata": {},
     "output_type": "execute_result"
    }
   ],
   "source": [
    "df"
   ]
  },
  {
   "cell_type": "markdown",
   "metadata": {},
   "source": [
    "Строим график этого безобразия. В качестве $d$ возьмем указанную на установке: $d = 500~\\mathrm{штрих}/\\mathrm{нм}$ "
   ]
  },
  {
   "cell_type": "code",
   "execution_count": 80,
   "metadata": {},
   "outputs": [],
   "source": [
    "df['disp_d'] = df['disp'].map(lambda x: x.to_value())"
   ]
  },
  {
   "cell_type": "code",
   "execution_count": 81,
   "metadata": {},
   "outputs": [],
   "source": [
    "y_train, x_train = df['disp_d']/180*np.pi, df['m']\n",
    "\n",
    "x_line = np.linspace(1.1*min(x_train), 1.1*max(x_train), 1000)\n",
    "y_line = np.apply_along_axis(lambda x: x/np.sqrt((1/d*10**6)**2-x**2*((l1+l2)/2)**2), 0, x_line)"
   ]
  },
  {
   "cell_type": "code",
   "execution_count": 117,
   "metadata": {},
   "outputs": [
    {
     "name": "stderr",
     "output_type": "stream",
     "text": [
      "/usr/lib/python3.6/site-packages/matplotlib/pyplot.py:537: RuntimeWarning: More than 20 figures have been opened. Figures created through the pyplot interface (`matplotlib.pyplot.figure`) are retained until explicitly closed and may consume too much memory. (To control this warning, see the rcParam `figure.max_open_warning`).\n",
      "  max_open_warning, RuntimeWarning)\n"
     ]
    }
   ],
   "source": [
    "fig, ax = plt.subplots()\n",
    "# P.S. У нас что-то пошло не так и для m = 1 синус отрицательный. Поэтому я его свапну с m = -1\n",
    "ax.scatter(x_train, y_train, marker='v', label=r'Эксперимент')\n",
    "ax.plot(x_line, y_line, label=r'Теоретическая зависимость')\n",
    "# Оси\n",
    "#ax.set_xlim(min(x_line), max(x_line))\n",
    "ax.set_ylim((-0.006, 0.006))\n",
    "ax.yaxis.set_label_coords(-0.07, 0.5)\n",
    "ax.ticklabel_format(style='sci', axis='y', scilimits=(0,0))\n",
    "#ax.xaxis.set_major_locator(MultipleLocator(100))\n",
    "#ax.xaxis.set_minor_locator(MultipleLocator(25))\n",
    "ax.yaxis.set_major_locator(MultipleLocator(1*10**-3))\n",
    "ax.yaxis.set_minor_locator(MultipleLocator(0.5*10**-3))\n",
    "\n",
    "# Подписи\n",
    "ax.set_xlabel(r'$m$')\n",
    "ax.set_ylabel(r'$\\phi_m$, рад')\n",
    "#ax.text(40, .25, r'$k_1 = $ %s, $k_2$ = %s, $\\left[\\frac{\\mathrm{штрих}}{\\mathrm{мм}}\\right]$'\n",
    "#        % (round(k1*10**6, 2), round(k2*10**6, 2)), \n",
    "#        bbox={'facecolor':'white', 'alpha': 1, 'pad':10})\n",
    "ax.set_title(r'Угловая дисперсия')\n",
    "# Прочая красота\n",
    "ax.grid(which='minor', c='black', linestyle='--', alpha=0.2)\n",
    "ax.grid(which='major', c='black')\n",
    "ax.legend()\n",
    "fig.savefig('2.pdf')"
   ]
  },
  {
   "cell_type": "markdown",
   "metadata": {},
   "source": [
    "## 3. Оценка разрешающей способности и числа штрихов"
   ]
  },
  {
   "cell_type": "code",
   "execution_count": 154,
   "metadata": {},
   "outputs": [],
   "source": [
    "df = pd.read_csv('4.csv')"
   ]
  },
  {
   "cell_type": "code",
   "execution_count": 155,
   "metadata": {},
   "outputs": [
    {
     "data": {
      "text/html": [
       "<div>\n",
       "<style scoped>\n",
       "    .dataframe tbody tr th:only-of-type {\n",
       "        vertical-align: middle;\n",
       "    }\n",
       "\n",
       "    .dataframe tbody tr th {\n",
       "        vertical-align: top;\n",
       "    }\n",
       "\n",
       "    .dataframe thead th {\n",
       "        text-align: right;\n",
       "    }\n",
       "</style>\n",
       "<table border=\"1\" class=\"dataframe\">\n",
       "  <thead>\n",
       "    <tr style=\"text-align: right;\">\n",
       "      <th></th>\n",
       "      <th>m</th>\n",
       "      <th>left</th>\n",
       "      <th>right</th>\n",
       "    </tr>\n",
       "  </thead>\n",
       "  <tbody>\n",
       "    <tr>\n",
       "      <th>0</th>\n",
       "      <td>-1</td>\n",
       "      <td>196°54′17″</td>\n",
       "      <td>196°55′05″</td>\n",
       "    </tr>\n",
       "    <tr>\n",
       "      <th>1</th>\n",
       "      <td>-2</td>\n",
       "      <td>215°40′15″</td>\n",
       "      <td>215°41′09″</td>\n",
       "    </tr>\n",
       "    <tr>\n",
       "      <th>2</th>\n",
       "      <td>-3</td>\n",
       "      <td>241°33′51″</td>\n",
       "      <td>241°36′40″</td>\n",
       "    </tr>\n",
       "  </tbody>\n",
       "</table>\n",
       "</div>"
      ],
      "text/plain": [
       "   m        left       right\n",
       "0 -1  196°54′17″  196°55′05″\n",
       "1 -2  215°40′15″  215°41′09″\n",
       "2 -3  241°33′51″  241°36′40″"
      ]
     },
     "execution_count": 155,
     "metadata": {},
     "output_type": "execute_result"
    }
   ],
   "source": [
    "df"
   ]
  },
  {
   "cell_type": "code",
   "execution_count": 156,
   "metadata": {},
   "outputs": [],
   "source": [
    "# Переведем строки в углы. Это пригодится в будущем, но испортит вид датафрейма при выводе на экран\n",
    "# Все углы будут в градусах. Но numpy это поймет, так что переводить не нужно\n",
    "df['left'] = df['left'].map(lambda x: Angle(x))\n",
    "df['right'] = df['right'].map(lambda x: Angle(x))\n",
    "# Не забудем, что у гониометра есть alpha_0. Вычтем его\n",
    "alpha_0 = Angle('180d1m51s')\n",
    "df['left'] -= alpha_0\n",
    "df['right'] -= alpha_0\n",
    "df['left_d'] = df['left'].map(lambda x: x.to_value())\n",
    "df['right_d'] = df['right'].map(lambda x: x.to_value())"
   ]
  },
  {
   "cell_type": "code",
   "execution_count": 157,
   "metadata": {},
   "outputs": [],
   "source": [
    "df['2delta'] = df['right_d'] - df['left_d']"
   ]
  },
  {
   "cell_type": "code",
   "execution_count": 158,
   "metadata": {},
   "outputs": [],
   "source": [
    "df['delta'] = df['2delta']/2"
   ]
  },
  {
   "cell_type": "markdown",
   "metadata": {},
   "source": [
    "По этим данным оценим $\\Delta \\phi = \\cfrac{m}{d \\cos \\phi_m} \\delta \\lambda$, а затем уже\n",
    "$R = \\cfrac{\\lambda}{\\delta \\lambda} = \\cfrac{\\lambda m}{d \\Delta \\phi \\cos \\phi_m}$"
   ]
  },
  {
   "cell_type": "code",
   "execution_count": 161,
   "metadata": {},
   "outputs": [],
   "source": [
    "l = (l1+l2)/2"
   ]
  },
  {
   "cell_type": "code",
   "execution_count": 171,
   "metadata": {},
   "outputs": [],
   "source": [
    "df['R'] = np.abs(l*df['m']*10**(-6)*d/(df['delta']*np.cos(df['left_d'])))"
   ]
  },
  {
   "cell_type": "code",
   "execution_count": 172,
   "metadata": {
    "scrolled": true
   },
   "outputs": [
    {
     "data": {
      "text/plain": [
       "0    110.267209\n",
       "1    164.591827\n",
       "2    137.618597\n",
       "Name: R, dtype: float64"
      ]
     },
     "execution_count": 172,
     "metadata": {},
     "output_type": "execute_result"
    }
   ],
   "source": [
    "df['R']"
   ]
  },
  {
   "cell_type": "code",
   "execution_count": 180,
   "metadata": {},
   "outputs": [
    {
     "data": {
      "text/html": [
       "<div>\n",
       "<style scoped>\n",
       "    .dataframe tbody tr th:only-of-type {\n",
       "        vertical-align: middle;\n",
       "    }\n",
       "\n",
       "    .dataframe tbody tr th {\n",
       "        vertical-align: top;\n",
       "    }\n",
       "\n",
       "    .dataframe thead th {\n",
       "        text-align: right;\n",
       "    }\n",
       "</style>\n",
       "<table border=\"1\" class=\"dataframe\">\n",
       "  <thead>\n",
       "    <tr style=\"text-align: right;\">\n",
       "      <th></th>\n",
       "      <th>m</th>\n",
       "      <th>left</th>\n",
       "      <th>right</th>\n",
       "      <th>left_d</th>\n",
       "      <th>right_d</th>\n",
       "      <th>2delta</th>\n",
       "      <th>delta</th>\n",
       "      <th>R</th>\n",
       "    </tr>\n",
       "  </thead>\n",
       "  <tbody>\n",
       "    <tr>\n",
       "      <th>0</th>\n",
       "      <td>-1</td>\n",
       "      <td>16d52m26s</td>\n",
       "      <td>16d53m14s</td>\n",
       "      <td>16.873889</td>\n",
       "      <td>16.887222</td>\n",
       "      <td>0.013333</td>\n",
       "      <td>0.006667</td>\n",
       "      <td>110.267209</td>\n",
       "    </tr>\n",
       "    <tr>\n",
       "      <th>1</th>\n",
       "      <td>-2</td>\n",
       "      <td>35d38m24s</td>\n",
       "      <td>35d39m18s</td>\n",
       "      <td>35.640000</td>\n",
       "      <td>35.655000</td>\n",
       "      <td>0.015000</td>\n",
       "      <td>0.007500</td>\n",
       "      <td>164.591827</td>\n",
       "    </tr>\n",
       "    <tr>\n",
       "      <th>2</th>\n",
       "      <td>-3</td>\n",
       "      <td>61d32m00s</td>\n",
       "      <td>61d34m49s</td>\n",
       "      <td>61.533333</td>\n",
       "      <td>61.580278</td>\n",
       "      <td>0.046944</td>\n",
       "      <td>0.023472</td>\n",
       "      <td>137.618597</td>\n",
       "    </tr>\n",
       "  </tbody>\n",
       "</table>\n",
       "</div>"
      ],
      "text/plain": [
       "   m       left      right     left_d    right_d    2delta     delta  \\\n",
       "0 -1  16d52m26s  16d53m14s  16.873889  16.887222  0.013333  0.006667   \n",
       "1 -2  35d38m24s  35d39m18s  35.640000  35.655000  0.015000  0.007500   \n",
       "2 -3  61d32m00s  61d34m49s  61.533333  61.580278  0.046944  0.023472   \n",
       "\n",
       "            R  \n",
       "0  110.267209  \n",
       "1  164.591827  \n",
       "2  137.618597  "
      ]
     },
     "execution_count": 180,
     "metadata": {},
     "output_type": "execute_result"
    }
   ],
   "source": [
    "df"
   ]
  },
  {
   "cell_type": "code",
   "execution_count": 181,
   "metadata": {},
   "outputs": [],
   "source": [
    "df['N'] = df['R']/df['m']"
   ]
  },
  {
   "cell_type": "code",
   "execution_count": 182,
   "metadata": {},
   "outputs": [
    {
     "data": {
      "text/html": [
       "<div>\n",
       "<style scoped>\n",
       "    .dataframe tbody tr th:only-of-type {\n",
       "        vertical-align: middle;\n",
       "    }\n",
       "\n",
       "    .dataframe tbody tr th {\n",
       "        vertical-align: top;\n",
       "    }\n",
       "\n",
       "    .dataframe thead th {\n",
       "        text-align: right;\n",
       "    }\n",
       "</style>\n",
       "<table border=\"1\" class=\"dataframe\">\n",
       "  <thead>\n",
       "    <tr style=\"text-align: right;\">\n",
       "      <th></th>\n",
       "      <th>m</th>\n",
       "      <th>left</th>\n",
       "      <th>right</th>\n",
       "      <th>left_d</th>\n",
       "      <th>right_d</th>\n",
       "      <th>2delta</th>\n",
       "      <th>delta</th>\n",
       "      <th>R</th>\n",
       "      <th>N</th>\n",
       "    </tr>\n",
       "  </thead>\n",
       "  <tbody>\n",
       "    <tr>\n",
       "      <th>0</th>\n",
       "      <td>-1</td>\n",
       "      <td>16d52m26s</td>\n",
       "      <td>16d53m14s</td>\n",
       "      <td>16.873889</td>\n",
       "      <td>16.887222</td>\n",
       "      <td>0.013333</td>\n",
       "      <td>0.006667</td>\n",
       "      <td>110.267209</td>\n",
       "      <td>-110.267209</td>\n",
       "    </tr>\n",
       "    <tr>\n",
       "      <th>1</th>\n",
       "      <td>-2</td>\n",
       "      <td>35d38m24s</td>\n",
       "      <td>35d39m18s</td>\n",
       "      <td>35.640000</td>\n",
       "      <td>35.655000</td>\n",
       "      <td>0.015000</td>\n",
       "      <td>0.007500</td>\n",
       "      <td>164.591827</td>\n",
       "      <td>-82.295913</td>\n",
       "    </tr>\n",
       "    <tr>\n",
       "      <th>2</th>\n",
       "      <td>-3</td>\n",
       "      <td>61d32m00s</td>\n",
       "      <td>61d34m49s</td>\n",
       "      <td>61.533333</td>\n",
       "      <td>61.580278</td>\n",
       "      <td>0.046944</td>\n",
       "      <td>0.023472</td>\n",
       "      <td>137.618597</td>\n",
       "      <td>-45.872866</td>\n",
       "    </tr>\n",
       "  </tbody>\n",
       "</table>\n",
       "</div>"
      ],
      "text/plain": [
       "   m       left      right     left_d    right_d    2delta     delta  \\\n",
       "0 -1  16d52m26s  16d53m14s  16.873889  16.887222  0.013333  0.006667   \n",
       "1 -2  35d38m24s  35d39m18s  35.640000  35.655000  0.015000  0.007500   \n",
       "2 -3  61d32m00s  61d34m49s  61.533333  61.580278  0.046944  0.023472   \n",
       "\n",
       "            R           N  \n",
       "0  110.267209 -110.267209  \n",
       "1  164.591827  -82.295913  \n",
       "2  137.618597  -45.872866  "
      ]
     },
     "execution_count": 182,
     "metadata": {},
     "output_type": "execute_result"
    }
   ],
   "source": [
    "df"
   ]
  },
  {
   "cell_type": "code",
   "execution_count": 173,
   "metadata": {},
   "outputs": [],
   "source": [
    "R = np.mean(df['R'])"
   ]
  },
  {
   "cell_type": "code",
   "execution_count": 179,
   "metadata": {},
   "outputs": [
    {
     "name": "stdout",
     "output_type": "stream",
     "text": [
      "R = 137\n"
     ]
    }
   ],
   "source": [
    "print('R = {}'.format(int(round(R))))"
   ]
  }
 ],
 "metadata": {
  "kernelspec": {
   "display_name": "Python 3",
   "language": "python",
   "name": "python3"
  },
  "language_info": {
   "codemirror_mode": {
    "name": "ipython",
    "version": 3
   },
   "file_extension": ".py",
   "mimetype": "text/x-python",
   "name": "python",
   "nbconvert_exporter": "python",
   "pygments_lexer": "ipython3",
   "version": "3.6.5"
  }
 },
 "nbformat": 4,
 "nbformat_minor": 2
}
