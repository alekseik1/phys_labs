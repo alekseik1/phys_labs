{
 "cells": [
  {
   "cell_type": "markdown",
   "metadata": {},
   "source": [
    "# Лабораторная работа 4.3.2"
   ]
  },
  {
   "cell_type": "markdown",
   "metadata": {},
   "source": [
    "Предлагается 2 метода определения скорости ультразвука. Обработаем данные для каждого из них:"
   ]
  },
  {
   "cell_type": "markdown",
   "metadata": {},
   "source": [
    "## 1. По дифракционной картине"
   ]
  },
  {
   "cell_type": "code",
   "execution_count": 37,
   "metadata": {
    "scrolled": true
   },
   "outputs": [],
   "source": [
    "import numpy as np\n",
    "import matplotlib.pyplot as plt\n",
    "from sklearn.linear_model import LinearRegression\n",
    "import pandas as pd\n",
    "from matplotlib.ticker import MultipleLocator, ScalarFormatter"
   ]
  },
  {
   "cell_type": "code",
   "execution_count": 3,
   "metadata": {},
   "outputs": [],
   "source": [
    "data1 = pd.read_csv('data-1.csv')"
   ]
  },
  {
   "cell_type": "code",
   "execution_count": 4,
   "metadata": {
    "scrolled": false
   },
   "outputs": [
    {
     "data": {
      "text/html": [
       "<div>\n",
       "<style scoped>\n",
       "    .dataframe tbody tr th:only-of-type {\n",
       "        vertical-align: middle;\n",
       "    }\n",
       "\n",
       "    .dataframe tbody tr th {\n",
       "        vertical-align: top;\n",
       "    }\n",
       "\n",
       "    .dataframe thead th {\n",
       "        text-align: right;\n",
       "    }\n",
       "</style>\n",
       "<table border=\"1\" class=\"dataframe\">\n",
       "  <thead>\n",
       "    <tr style=\"text-align: right;\">\n",
       "      <th></th>\n",
       "      <th>v</th>\n",
       "      <th>m</th>\n",
       "      <th>y</th>\n",
       "    </tr>\n",
       "  </thead>\n",
       "  <tbody>\n",
       "    <tr>\n",
       "      <th>0</th>\n",
       "      <td>1.1593</td>\n",
       "      <td>0</td>\n",
       "      <td>0</td>\n",
       "    </tr>\n",
       "    <tr>\n",
       "      <th>1</th>\n",
       "      <td>1.1593</td>\n",
       "      <td>1</td>\n",
       "      <td>136</td>\n",
       "    </tr>\n",
       "    <tr>\n",
       "      <th>2</th>\n",
       "      <td>1.1593</td>\n",
       "      <td>2</td>\n",
       "      <td>288</td>\n",
       "    </tr>\n",
       "    <tr>\n",
       "      <th>3</th>\n",
       "      <td>1.1593</td>\n",
       "      <td>3</td>\n",
       "      <td>428</td>\n",
       "    </tr>\n",
       "    <tr>\n",
       "      <th>4</th>\n",
       "      <td>1.1593</td>\n",
       "      <td>4</td>\n",
       "      <td>568</td>\n",
       "    </tr>\n",
       "    <tr>\n",
       "      <th>5</th>\n",
       "      <td>2.0983</td>\n",
       "      <td>0</td>\n",
       "      <td>0</td>\n",
       "    </tr>\n",
       "    <tr>\n",
       "      <th>6</th>\n",
       "      <td>2.0983</td>\n",
       "      <td>1</td>\n",
       "      <td>264</td>\n",
       "    </tr>\n",
       "    <tr>\n",
       "      <th>7</th>\n",
       "      <td>2.0983</td>\n",
       "      <td>-1</td>\n",
       "      <td>-280</td>\n",
       "    </tr>\n",
       "    <tr>\n",
       "      <th>8</th>\n",
       "      <td>4.0101</td>\n",
       "      <td>0</td>\n",
       "      <td>0</td>\n",
       "    </tr>\n",
       "    <tr>\n",
       "      <th>9</th>\n",
       "      <td>4.0101</td>\n",
       "      <td>1</td>\n",
       "      <td>288</td>\n",
       "    </tr>\n",
       "    <tr>\n",
       "      <th>10</th>\n",
       "      <td>5.0004</td>\n",
       "      <td>0</td>\n",
       "      <td>0</td>\n",
       "    </tr>\n",
       "    <tr>\n",
       "      <th>11</th>\n",
       "      <td>5.0004</td>\n",
       "      <td>-1</td>\n",
       "      <td>-292</td>\n",
       "    </tr>\n",
       "  </tbody>\n",
       "</table>\n",
       "</div>"
      ],
      "text/plain": [
       "         v  m    y\n",
       "0   1.1593  0    0\n",
       "1   1.1593  1  136\n",
       "2   1.1593  2  288\n",
       "3   1.1593  3  428\n",
       "4   1.1593  4  568\n",
       "5   2.0983  0    0\n",
       "6   2.0983  1  264\n",
       "7   2.0983 -1 -280\n",
       "8   4.0101  0    0\n",
       "9   4.0101  1  288\n",
       "10  5.0004  0    0\n",
       "11  5.0004 -1 -292"
      ]
     },
     "execution_count": 4,
     "metadata": {},
     "output_type": "execute_result"
    }
   ],
   "source": [
    "data1"
   ]
  },
  {
   "cell_type": "code",
   "execution_count": 5,
   "metadata": {},
   "outputs": [],
   "source": [
    "freqs = set(data1['v'].values * 10**6)"
   ]
  },
  {
   "cell_type": "code",
   "execution_count": 6,
   "metadata": {},
   "outputs": [
    {
     "data": {
      "text/plain": [
       "{1159300.0, 2098300.0, 4010100.0000000005, 5000400.0}"
      ]
     },
     "execution_count": 6,
     "metadata": {},
     "output_type": "execute_result"
    }
   ],
   "source": [
    "freqs"
   ]
  },
  {
   "cell_type": "markdown",
   "metadata": {},
   "source": [
    "#### Для первой частоты $\\nu = 1.1593$ МГц"
   ]
  },
  {
   "cell_type": "code",
   "execution_count": 7,
   "metadata": {},
   "outputs": [],
   "source": [
    "x1 = data1['m'][:5]\n",
    "y1 = data1['y'][:5]"
   ]
  },
  {
   "cell_type": "markdown",
   "metadata": {},
   "source": [
    "#### Для второй частоты $\\nu = 2.0983$ МГц"
   ]
  },
  {
   "cell_type": "code",
   "execution_count": 8,
   "metadata": {},
   "outputs": [],
   "source": [
    "x2 = data1['m'][5:8]\n",
    "y2 = data1['y'][5:8]"
   ]
  },
  {
   "cell_type": "markdown",
   "metadata": {},
   "source": [
    "#### Для третьей частоты $\\nu = 4.0101$ МГц"
   ]
  },
  {
   "cell_type": "code",
   "execution_count": 9,
   "metadata": {},
   "outputs": [],
   "source": [
    "x3 = data1['m'][8:10]\n",
    "y3 = data1['y'][8:10]"
   ]
  },
  {
   "cell_type": "markdown",
   "metadata": {},
   "source": [
    "#### Для четвертой частоты $\\nu = 5.0004$ МГц"
   ]
  },
  {
   "cell_type": "code",
   "execution_count": 10,
   "metadata": {},
   "outputs": [],
   "source": [
    "x4 = data1['m'][10:]\n",
    "y4 = data1['y'][10:]"
   ]
  },
  {
   "cell_type": "markdown",
   "metadata": {},
   "source": [
    "### Строим графики $Y_m (m)$"
   ]
  },
  {
   "cell_type": "code",
   "execution_count": 11,
   "metadata": {
    "scrolled": true
   },
   "outputs": [
    {
     "data": {
      "text/plain": [
       "<matplotlib.legend.Legend at 0x7f1eaf4b5f28>"
      ]
     },
     "execution_count": 11,
     "metadata": {},
     "output_type": "execute_result"
    },
    {
     "data": {
      "image/png": "[encoded data removed]",
      "text/plain": [
       "<matplotlib.figure.Figure at 0x7f1eb14d12b0>"
      ]
     },
     "metadata": {},
     "output_type": "display_data"
    }
   ],
   "source": [
    "fig, ax = plt.subplots(figsize=(10, 6))\n",
    "ax.plot(x1, y1, 'r-', x2, y2, 'g-', x3, y3, 'm--', x4, y4, 'b--', label='')\n",
    "ax.scatter(x1, y1, c='r', marker='s', label=r'$\\nu=1.1593$ МГц')\n",
    "ax.scatter(x2, y2, c='g', marker='v', label=r'$\\nu=2.0983$ МГц')\n",
    "ax.scatter(x3, y3, c='m', marker='^', label=r'$\\nu=4.0101$ МГц')\n",
    "ax.scatter(x4, y4, c='b', marker='p', label=r'$\\nu=5.0004$ МГц')\n",
    "\n",
    "ax.set_title('Зависимость $Y_m (m)$')\n",
    "ax.set_xlabel(r'$m$')\n",
    "ax.set_ylabel(r'$Y_m$, мкм')\n",
    "ax.set_xlim((-1, 4))\n",
    "ax.set_ylim((-300, 600))\n",
    "ax.yaxis.set_minor_locator(MultipleLocator(50))\n",
    "ax.grid(which='minor', color='grey', linestyle='--')\n",
    "ax.grid(which='major', color='black')\n",
    "\n",
    "ax.legend()"
   ]
  },
  {
   "cell_type": "code",
   "execution_count": 12,
   "metadata": {
    "scrolled": true
   },
   "outputs": [],
   "source": [
    "# Сохраним график\n",
    "fig.savefig('out1.pdf')"
   ]
  },
  {
   "cell_type": "markdown",
   "metadata": {},
   "source": [
    "Пользуясь зависимостью $Y_m = m ~ f_2 \\cfrac{\\lambda}{\\Lambda}$, где \n",
    "\n",
    "$\\lambda = (6400 \\pm 200) \\cdot 10^{-10}$ м\n",
    "\n",
    "$ f = 0.28$ м\n",
    "\n",
    "получим для всех частот значение $\\Lambda (\\nu)$:"
   ]
  },
  {
   "cell_type": "code",
   "execution_count": 13,
   "metadata": {},
   "outputs": [],
   "source": [
    "# Пересчитаем L из угловых коэффициентов по формуле\n",
    "L = []\n",
    "L.append(0.28*6400*10**(-10)/LinearRegression(fit_intercept=False).fit(x1.values.reshape(-1,1), y1).coef_[0]*10**6)\n",
    "L.append(0.28*6400*10**(-10)/LinearRegression(fit_intercept=False).fit(x2.values.reshape(-1,1), y2).coef_[0]*10**6)\n",
    "L.append(0.28*6400*10**(-10)/LinearRegression(fit_intercept=False).fit(x3.values.reshape(-1,1), y3).coef_[0]*10**6)\n",
    "L.append(0.28*6400*10**(-10)/LinearRegression(fit_intercept=False).fit(x4.values.reshape(-1,1), y4).coef_[0]*10**6)"
   ]
  },
  {
   "cell_type": "code",
   "execution_count": 14,
   "metadata": {},
   "outputs": [
    {
     "data": {
      "text/plain": [
       "[0.001259606373008435,\n",
       " 0.00065882352941176487,\n",
       " 0.00062222222222222225,\n",
       " 0.0006136986301369863]"
      ]
     },
     "execution_count": 14,
     "metadata": {},
     "output_type": "execute_result"
    }
   ],
   "source": [
    "L"
   ]
  },
  {
   "cell_type": "code",
   "execution_count": 15,
   "metadata": {},
   "outputs": [],
   "source": [
    "speeds = []\n",
    "for i, freq in enumerate(sorted(list(freqs))):\n",
    "    speeds.append(L[i]*freq)"
   ]
  },
  {
   "cell_type": "code",
   "execution_count": 16,
   "metadata": {},
   "outputs": [
    {
     "data": {
      "text/plain": [
       "[1460.2616682286787,\n",
       " 1382.4094117647062,\n",
       " 2495.1733333333336,\n",
       " 3068.7386301369861]"
      ]
     },
     "execution_count": 16,
     "metadata": {},
     "output_type": "execute_result"
    }
   ],
   "source": [
    "speeds"
   ]
  },
  {
   "cell_type": "markdown",
   "metadata": {},
   "source": [
    "Плохие данные на последних скоростях. Мы их выкинем:"
   ]
  },
  {
   "cell_type": "code",
   "execution_count": 17,
   "metadata": {},
   "outputs": [],
   "source": [
    "speeds_1 = speeds[:-2]"
   ]
  },
  {
   "cell_type": "code",
   "execution_count": 18,
   "metadata": {},
   "outputs": [],
   "source": [
    "result_1 = np.mean(speeds_1)"
   ]
  },
  {
   "cell_type": "code",
   "execution_count": 19,
   "metadata": {},
   "outputs": [
    {
     "name": "stdout",
     "output_type": "stream",
     "text": [
      "Скорость звука по первому эксперименту: 1421.33554 м/с\n"
     ]
    }
   ],
   "source": [
    "print(r'Скорость звука по первому эксперименту: %s м/с' % result_1)"
   ]
  },
  {
   "cell_type": "markdown",
   "metadata": {},
   "source": [
    "## 2. Метод темного поля"
   ]
  },
  {
   "cell_type": "markdown",
   "metadata": {},
   "source": [
    "В этом методе все проще, поскольку мы непосредственно измеряем $\\cfrac{\\Lambda}{2}$. Загрузим данные:"
   ]
  },
  {
   "cell_type": "code",
   "execution_count": 20,
   "metadata": {},
   "outputs": [],
   "source": [
    "data2 = pd.read_csv('data-2.csv')"
   ]
  },
  {
   "cell_type": "code",
   "execution_count": 21,
   "metadata": {},
   "outputs": [
    {
     "data": {
      "text/html": [
       "<div>\n",
       "<style scoped>\n",
       "    .dataframe tbody tr th:only-of-type {\n",
       "        vertical-align: middle;\n",
       "    }\n",
       "\n",
       "    .dataframe tbody tr th {\n",
       "        vertical-align: top;\n",
       "    }\n",
       "\n",
       "    .dataframe thead th {\n",
       "        text-align: right;\n",
       "    }\n",
       "</style>\n",
       "<table border=\"1\" class=\"dataframe\">\n",
       "  <thead>\n",
       "    <tr style=\"text-align: right;\">\n",
       "      <th></th>\n",
       "      <th>l</th>\n",
       "      <th>v</th>\n",
       "    </tr>\n",
       "  </thead>\n",
       "  <tbody>\n",
       "    <tr>\n",
       "      <th>0</th>\n",
       "      <td>15.0</td>\n",
       "      <td>1.1078</td>\n",
       "    </tr>\n",
       "    <tr>\n",
       "      <th>1</th>\n",
       "      <td>8.5</td>\n",
       "      <td>2.0390</td>\n",
       "    </tr>\n",
       "  </tbody>\n",
       "</table>\n",
       "</div>"
      ],
      "text/plain": [
       "      l       v\n",
       "0  15.0  1.1078\n",
       "1   8.5  2.0390"
      ]
     },
     "execution_count": 21,
     "metadata": {},
     "output_type": "execute_result"
    }
   ],
   "source": [
    "data2"
   ]
  },
  {
   "cell_type": "markdown",
   "metadata": {},
   "source": [
    "Здесь $l$ измеряется в усл. единицах, причем 22 усл. ед. = 1 мм\n",
    "\n",
    "$\\nu$ измеряется в МГц"
   ]
  },
  {
   "cell_type": "code",
   "execution_count": 22,
   "metadata": {},
   "outputs": [],
   "source": [
    "# Колонка для метров, умножим еще на 2, чтобы l/2 --> l (в эксперименте мерим именно l/2)\n",
    "data2['l_m'] = data2['l'] / 22 * 10**(-3) * 2"
   ]
  },
  {
   "cell_type": "code",
   "execution_count": 23,
   "metadata": {},
   "outputs": [
    {
     "data": {
      "text/html": [
       "<div>\n",
       "<style scoped>\n",
       "    .dataframe tbody tr th:only-of-type {\n",
       "        vertical-align: middle;\n",
       "    }\n",
       "\n",
       "    .dataframe tbody tr th {\n",
       "        vertical-align: top;\n",
       "    }\n",
       "\n",
       "    .dataframe thead th {\n",
       "        text-align: right;\n",
       "    }\n",
       "</style>\n",
       "<table border=\"1\" class=\"dataframe\">\n",
       "  <thead>\n",
       "    <tr style=\"text-align: right;\">\n",
       "      <th></th>\n",
       "      <th>l</th>\n",
       "      <th>v</th>\n",
       "      <th>l_m</th>\n",
       "    </tr>\n",
       "  </thead>\n",
       "  <tbody>\n",
       "    <tr>\n",
       "      <th>0</th>\n",
       "      <td>15.0</td>\n",
       "      <td>1.1078</td>\n",
       "      <td>0.001364</td>\n",
       "    </tr>\n",
       "    <tr>\n",
       "      <th>1</th>\n",
       "      <td>8.5</td>\n",
       "      <td>2.0390</td>\n",
       "      <td>0.000773</td>\n",
       "    </tr>\n",
       "  </tbody>\n",
       "</table>\n",
       "</div>"
      ],
      "text/plain": [
       "      l       v       l_m\n",
       "0  15.0  1.1078  0.001364\n",
       "1   8.5  2.0390  0.000773"
      ]
     },
     "execution_count": 23,
     "metadata": {},
     "output_type": "execute_result"
    }
   ],
   "source": [
    "data2"
   ]
  },
  {
   "cell_type": "code",
   "execution_count": 24,
   "metadata": {},
   "outputs": [],
   "source": [
    "speeds = data2['l_m']*data2['v'] * 10**6"
   ]
  },
  {
   "cell_type": "code",
   "execution_count": 25,
   "metadata": {},
   "outputs": [
    {
     "data": {
      "text/plain": [
       "0    1510.636364\n",
       "1    1575.590909\n",
       "dtype: float64"
      ]
     },
     "execution_count": 25,
     "metadata": {},
     "output_type": "execute_result"
    }
   ],
   "source": [
    "speeds"
   ]
  },
  {
   "cell_type": "markdown",
   "metadata": {},
   "source": [
    "Хорошо сходится. Подготовим ответ:"
   ]
  },
  {
   "cell_type": "code",
   "execution_count": 26,
   "metadata": {},
   "outputs": [],
   "source": [
    "result_2 = speeds.mean()"
   ]
  },
  {
   "cell_type": "code",
   "execution_count": 27,
   "metadata": {
    "scrolled": true
   },
   "outputs": [
    {
     "name": "stdout",
     "output_type": "stream",
     "text": [
      "Скорость звука по второму эксперименту: 1543.11363636 м/с\n"
     ]
    }
   ],
   "source": [
    "print(r'Скорость звука по второму эксперименту: %s м/с' % result_2)"
   ]
  },
  {
   "cell_type": "markdown",
   "metadata": {},
   "source": [
    "## Построим $\\Lambda (\\nu)$ по двум способам измерения"
   ]
  },
  {
   "cell_type": "code",
   "execution_count": 28,
   "metadata": {},
   "outputs": [],
   "source": [
    "x1 = data2['v']\n",
    "y1 = data2['l_m']\n",
    "\n",
    "x2 = sorted(list(set(data1['v'])))\n",
    "y2 = L"
   ]
  },
  {
   "cell_type": "code",
   "execution_count": 29,
   "metadata": {},
   "outputs": [
    {
     "data": {
      "image/png": "[encoded data removed]",
      "text/plain": [
       "<matplotlib.figure.Figure at 0x7f1eaf11b320>"
      ]
     },
     "metadata": {},
     "output_type": "display_data"
    }
   ],
   "source": [
    "fig, ax = plt.subplots()\n",
    "\n",
    "ax.scatter(x1, y1, label='Дифракция')\n",
    "ax.scatter(x2, y2, label='Темное поле')\n",
    "\n",
    "ax.xaxis.set_minor_locator(MultipleLocator(0.1))\n",
    "ax.yaxis.set_minor_locator(MultipleLocator(0.0002))\n",
    "ax.set_ylim((0, 0.005))\n",
    "ax.set_xlim((1, 5.1))\n",
    "ax.grid(which='major', c='black')\n",
    "ax.grid(which='minor', c='grey', linestyle='--')\n",
    "ax.set_title(r'$\\Lambda (\\nu)$ на двух способах измерения')\n",
    "ax.set_xlabel(r'$\\nu$, МГц')\n",
    "ax.set_ylabel(r'$\\Lambda$, м')\n",
    "ax.ticklabel_format(style='sci', scilimits=(0, 0))\n",
    "\n",
    "ax.legend()\n",
    "fig.savefig('out2.pdf')"
   ]
  },
  {
   "cell_type": "markdown",
   "metadata": {},
   "source": [
    "## Построим $\\Lambda (1/\\nu)$ по двум способам измерения"
   ]
  },
  {
   "cell_type": "code",
   "execution_count": null,
   "metadata": {},
   "outputs": [],
   "source": [
    "fig, ax = plt.subplots()\n",
    "\n",
    "ax.scatter([1/i*10**(-6) for i in x1], y1, label='Дифракция')\n",
    "ax.scatter([1/i*10**(-6) for i in x2], y2, label='Темное поле')\n",
    "\n",
    "x1_1 = np.array([1/i*10**(-6) for i in x1])\n",
    "x2_1 = np.array([1/i*10**(-6) for i in x2])\n",
    "x_new = np.linspace(0, np.max(np.array([1/i*10**(-6) for i in x1])), 1000)\n",
    "y_new = LinearRegression(fit_intercept=False).fit(x1_1.reshape(-1,1), y1)\\\n",
    "    .predict(np.linspace(0, np.max(x_new), 1000).reshape(-1,1))\n",
    "ax.plot(x_new, y_new, label='Аппроксимация дифракции', c='g')\n",
    "\n",
    "x_new = np.linsapce(0, np.max(np.array([1/i*10**(-6) for i in x2])), 1000)\n",
    "y_new = LinearRegression(fit_intercept=False).fit(x2_1.reshape(-1, 1), y2)\\\n",
    "    .predict(np.linspace(0, np.max(x_new), 1000).reshape(-1,1))\n",
    "ax.plot(x_new, y_new, label='Аппроксимация темного поля', c='r')\n",
    "\n",
    "#ax.xaxis.set_minor_locator(MultipleLocator(0.1))\n",
    "ax.yaxis.set_minor_locator(MultipleLocator(0.0002))\n",
    "ax.set_ylim((0, 0.005))\n",
    "xfmt = ScalarFormatter()\n",
    "ax.xaxis.set_major_formatter(xfmt)\n",
    "ax.set_xlim((0.0*10**-6, 10**-6))\n",
    "ax.grid(which='major', c='black')\n",
    "ax.grid(which='minor', c='grey', linestyle='--')\n",
    "ax.set_title(r'$\\Lambda (1/\\nu)$ на двух способах измерения')\n",
    "ax.set_xlabel(r'$1/\\nu$, Гц$^{-1}$')\n",
    "ax.set_ylabel(r'$\\Lambda$, м')\n",
    "ax.ticklabel_format(style='sci', scilimits=(0, 0))\n",
    "\n",
    "ax.legend()\n",
    "fig.savefig('out3.pdf')"
   ]
  },
  {
   "cell_type": "code",
   "execution_count": 53,
   "metadata": {},
   "outputs": [],
   "source": [
    "with open('result_speed.txt', 'w') as f:\n",
    "    f.write(\"По результатам 1-го эксперимента: {} м/с\\nПо результатам второго эксперимента: {} м/с\"\n",
    "           .format(result_1.round(2), result_2.round(2)))"
   ]
  }
 ],
 "metadata": {
  "kernelspec": {
   "display_name": "Python 3",
   "language": "python",
   "name": "python3"
  },
  "language_info": {
   "codemirror_mode": {
    "name": "ipython",
    "version": 3
   },
   "file_extension": ".py",
   "mimetype": "text/x-python",
   "name": "python",
   "nbconvert_exporter": "python",
   "pygments_lexer": "ipython3",
   "version": "3.5.2"
  }
 },
 "nbformat": 4,
 "nbformat_minor": 2
}
