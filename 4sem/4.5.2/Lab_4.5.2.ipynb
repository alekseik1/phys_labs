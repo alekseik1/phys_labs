{
 "cells": [
  {
   "cell_type": "markdown",
   "metadata": {},
   "source": [
    "# Лабораторная работа 4.5.2 \"Интерференция лазерного излучения\""
   ]
  },
  {
   "cell_type": "code",
   "execution_count": 1,
   "metadata": {},
   "outputs": [],
   "source": [
    "import pandas as pd\n",
    "import numpy as np\n",
    "import matplotlib.pyplot as plt\n",
    "import sklearn as sc\n",
    "from matplotlib.ticker import MultipleLocator"
   ]
  },
  {
   "cell_type": "markdown",
   "metadata": {},
   "source": [
    "### 1. Нулевая разность хода. Строим видимость: $\\nu_3 = f(\\beta)$"
   ]
  },
  {
   "cell_type": "markdown",
   "metadata": {},
   "source": [
    "При $\\nu_2 = 1$ имеем:  \n",
    "$\\boxed{\\nu_3 = \\cfrac{\\nu}{\\nu_1}}$"
   ]
  },
  {
   "cell_type": "markdown",
   "metadata": {},
   "source": [
    "$\\boxed{\\nu_1 = \\cfrac{2 \\sqrt{\\delta}}{1 + \\delta}}$"
   ]
  },
  {
   "cell_type": "markdown",
   "metadata": {},
   "source": [
    "$\\boxed{\\delta = \\cfrac{h_1}{h_2}}$"
   ]
  },
  {
   "cell_type": "markdown",
   "metadata": {},
   "source": [
    "$\\boxed{\\nu = \\cfrac{h_4 - h_3}{h_4 + h_3}}$"
   ]
  },
  {
   "cell_type": "markdown",
   "metadata": {},
   "source": [
    "Теперь считаем данные:"
   ]
  },
  {
   "cell_type": "code",
   "execution_count": 2,
   "metadata": {},
   "outputs": [],
   "source": [
    "df_1 = pd.read_csv('exper1.csv')"
   ]
  },
  {
   "cell_type": "code",
   "execution_count": 3,
   "metadata": {
    "scrolled": true
   },
   "outputs": [
    {
     "data": {
      "text/html": [
       "<div>\n",
       "<style scoped>\n",
       "    .dataframe tbody tr th:only-of-type {\n",
       "        vertical-align: middle;\n",
       "    }\n",
       "\n",
       "    .dataframe tbody tr th {\n",
       "        vertical-align: top;\n",
       "    }\n",
       "\n",
       "    .dataframe thead th {\n",
       "        text-align: right;\n",
       "    }\n",
       "</style>\n",
       "<table border=\"1\" class=\"dataframe\">\n",
       "  <thead>\n",
       "    <tr style=\"text-align: right;\">\n",
       "      <th></th>\n",
       "      <th>beta</th>\n",
       "      <th>h1</th>\n",
       "      <th>h2</th>\n",
       "      <th>h3</th>\n",
       "      <th>h4</th>\n",
       "    </tr>\n",
       "  </thead>\n",
       "  <tbody>\n",
       "    <tr>\n",
       "      <th>0</th>\n",
       "      <td>73</td>\n",
       "      <td>0.30</td>\n",
       "      <td>1.9</td>\n",
       "      <td>1.80</td>\n",
       "      <td>2.80</td>\n",
       "    </tr>\n",
       "    <tr>\n",
       "      <th>1</th>\n",
       "      <td>83</td>\n",
       "      <td>0.55</td>\n",
       "      <td>1.9</td>\n",
       "      <td>2.15</td>\n",
       "      <td>3.00</td>\n",
       "    </tr>\n",
       "    <tr>\n",
       "      <th>2</th>\n",
       "      <td>93</td>\n",
       "      <td>0.70</td>\n",
       "      <td>1.9</td>\n",
       "      <td>2.20</td>\n",
       "      <td>3.30</td>\n",
       "    </tr>\n",
       "    <tr>\n",
       "      <th>3</th>\n",
       "      <td>103</td>\n",
       "      <td>1.65</td>\n",
       "      <td>1.9</td>\n",
       "      <td>2.30</td>\n",
       "      <td>4.80</td>\n",
       "    </tr>\n",
       "    <tr>\n",
       "      <th>4</th>\n",
       "      <td>113</td>\n",
       "      <td>1.50</td>\n",
       "      <td>1.9</td>\n",
       "      <td>1.75</td>\n",
       "      <td>5.00</td>\n",
       "    </tr>\n",
       "    <tr>\n",
       "      <th>5</th>\n",
       "      <td>123</td>\n",
       "      <td>1.90</td>\n",
       "      <td>1.9</td>\n",
       "      <td>1.60</td>\n",
       "      <td>5.85</td>\n",
       "    </tr>\n",
       "    <tr>\n",
       "      <th>6</th>\n",
       "      <td>133</td>\n",
       "      <td>2.00</td>\n",
       "      <td>1.9</td>\n",
       "      <td>1.30</td>\n",
       "      <td>6.40</td>\n",
       "    </tr>\n",
       "    <tr>\n",
       "      <th>7</th>\n",
       "      <td>143</td>\n",
       "      <td>2.70</td>\n",
       "      <td>1.7</td>\n",
       "      <td>1.55</td>\n",
       "      <td>7.20</td>\n",
       "    </tr>\n",
       "    <tr>\n",
       "      <th>8</th>\n",
       "      <td>153</td>\n",
       "      <td>2.55</td>\n",
       "      <td>1.7</td>\n",
       "      <td>1.25</td>\n",
       "      <td>7.25</td>\n",
       "    </tr>\n",
       "    <tr>\n",
       "      <th>9</th>\n",
       "      <td>163</td>\n",
       "      <td>2.35</td>\n",
       "      <td>1.7</td>\n",
       "      <td>1.10</td>\n",
       "      <td>7.20</td>\n",
       "    </tr>\n",
       "  </tbody>\n",
       "</table>\n",
       "</div>"
      ],
      "text/plain": [
       "   beta    h1   h2    h3    h4\n",
       "0    73  0.30  1.9  1.80  2.80\n",
       "1    83  0.55  1.9  2.15  3.00\n",
       "2    93  0.70  1.9  2.20  3.30\n",
       "3   103  1.65  1.9  2.30  4.80\n",
       "4   113  1.50  1.9  1.75  5.00\n",
       "5   123  1.90  1.9  1.60  5.85\n",
       "6   133  2.00  1.9  1.30  6.40\n",
       "7   143  2.70  1.7  1.55  7.20\n",
       "8   153  2.55  1.7  1.25  7.25\n",
       "9   163  2.35  1.7  1.10  7.20"
      ]
     },
     "execution_count": 3,
     "metadata": {},
     "output_type": "execute_result"
    }
   ],
   "source": [
    "df_1"
   ]
  },
  {
   "cell_type": "markdown",
   "metadata": {},
   "source": [
    "Поставим в формулы выше все значения:"
   ]
  },
  {
   "cell_type": "code",
   "execution_count": 4,
   "metadata": {},
   "outputs": [],
   "source": [
    "df_1['delta'] = df_1['h1']/df_1['h2']\n",
    "df_1['nu_1'] = 2*np.sqrt(df_1['delta'])/(1+df_1['delta'])\n",
    "df_1['nu'] = (df_1['h4'] - df_1['h3'])/(df_1['h4'] + df_1['h3'])\n",
    "df_1['nu_3'] = df_1['nu']/df_1['nu_1']\n",
    "df_1['beta_rad'] = df_1['beta']*np.pi/180"
   ]
  },
  {
   "cell_type": "markdown",
   "metadata": {},
   "source": [
    "Сначала посмотрим, как оно выглядит. Нанесем точки $\\nu_3$ и $\\beta$"
   ]
  },
  {
   "cell_type": "code",
   "execution_count": 5,
   "metadata": {
    "scrolled": false
   },
   "outputs": [
    {
     "data": {
      "image/png": "[encoded data removed]",
      "text/plain": [
       "<Figure size 432x288 with 1 Axes>"
      ]
     },
     "metadata": {},
     "output_type": "display_data"
    }
   ],
   "source": [
    "fig, ax = plt.subplots()\n",
    "ax.scatter(df_1['beta_rad'], df_1['nu_3'], label=r'На практике')\n",
    "ax.plot(df_1['beta_rad'], np.cos(df_1['beta_rad'])**2, label=r'$\\nu_3 = \\cos^2(\\beta)$')\n",
    "ax.plot(df_1['beta_rad'], 0.2*np.cos(df_1['beta_rad']), label=r'$\\nu_3 = \\cos(\\beta)$')\n",
    "\n",
    "ax.grid(which='major')\n",
    "ax.set_xlabel(r'$\\beta$')\n",
    "ax.set_ylabel(r'$\\nu_3$')\n",
    "ax.set_title(r'Экспериментальные точки и теор. зависимости')\n",
    "ax.legend()\n",
    "fig.savefig('exp1-1.pdf')"
   ]
  },
  {
   "cell_type": "markdown",
   "metadata": {},
   "source": [
    "Посмотрим на зависимость $\\nu_3 = \\cos^2(\\beta)$ поближе:"
   ]
  },
  {
   "cell_type": "code",
   "execution_count": 6,
   "metadata": {},
   "outputs": [
    {
     "data": {
      "image/png": "[encoded data removed]",
      "text/plain": [
       "<Figure size 432x288 with 1 Axes>"
      ]
     },
     "metadata": {},
     "output_type": "display_data"
    }
   ],
   "source": [
    "fig, ax = plt.subplots()\n",
    "x_range = np.cos(df_1['beta_rad'])**2\n",
    "ax.scatter(x_range, df_1['nu_3'], label=r'Экспериментальные точки', c='black')\n",
    "# Истинная зависимость\n",
    "ax.plot(x_range, x_range, label=r'Теоретическая зависимость', c='r')\n",
    "\n",
    "ax.set_title(r'Проверка теории: $\\nu_3 = \\cos^2(\\beta)$')\n",
    "ax.set_ylabel(r'$\\nu_3$')\n",
    "ax.set_xlabel(r'$\\cos^2(\\beta)$')\n",
    "ax.grid(which='major')\n",
    "ax.legend()\n",
    "fig.savefig('exp1-2.pdf')"
   ]
  },
  {
   "cell_type": "markdown",
   "metadata": {},
   "source": [
    "Достаточно неплохо работает зависимость $\\nu_3 = \\cos^2(\\beta)$. Похоже, что поляризация _круглая_ (вопрос Вове)"
   ]
  },
  {
   "cell_type": "markdown",
   "metadata": {},
   "source": [
    "### 2. Разность хода меняется. $\\beta = 0, ~ \\nu_3 = 1$"
   ]
  },
  {
   "cell_type": "markdown",
   "metadata": {},
   "source": [
    "При $\\nu_3 = 1$ имеем:  \n",
    "$\\nu_2(l) = \\cfrac{\\nu}{\\nu_1}$"
   ]
  },
  {
   "cell_type": "markdown",
   "metadata": {},
   "source": [
    "Считаем данные:"
   ]
  },
  {
   "cell_type": "code",
   "execution_count": 7,
   "metadata": {},
   "outputs": [],
   "source": [
    "df_2 = pd.read_csv('exper2.csv')"
   ]
  },
  {
   "cell_type": "code",
   "execution_count": 8,
   "metadata": {
    "scrolled": true
   },
   "outputs": [
    {
     "data": {
      "text/html": [
       "<div>\n",
       "<style scoped>\n",
       "    .dataframe tbody tr th:only-of-type {\n",
       "        vertical-align: middle;\n",
       "    }\n",
       "\n",
       "    .dataframe tbody tr th {\n",
       "        vertical-align: top;\n",
       "    }\n",
       "\n",
       "    .dataframe thead th {\n",
       "        text-align: right;\n",
       "    }\n",
       "</style>\n",
       "<table border=\"1\" class=\"dataframe\">\n",
       "  <thead>\n",
       "    <tr style=\"text-align: right;\">\n",
       "      <th></th>\n",
       "      <th>x</th>\n",
       "      <th>h1</th>\n",
       "      <th>h2</th>\n",
       "      <th>h3</th>\n",
       "      <th>h4</th>\n",
       "    </tr>\n",
       "  </thead>\n",
       "  <tbody>\n",
       "    <tr>\n",
       "      <th>0</th>\n",
       "      <td>16</td>\n",
       "      <td>2.35</td>\n",
       "      <td>1.75</td>\n",
       "      <td>1.05</td>\n",
       "      <td>6.85</td>\n",
       "    </tr>\n",
       "    <tr>\n",
       "      <th>1</th>\n",
       "      <td>18</td>\n",
       "      <td>1.95</td>\n",
       "      <td>2.15</td>\n",
       "      <td>1.45</td>\n",
       "      <td>6.65</td>\n",
       "    </tr>\n",
       "    <tr>\n",
       "      <th>2</th>\n",
       "      <td>20</td>\n",
       "      <td>3.25</td>\n",
       "      <td>2.20</td>\n",
       "      <td>4.90</td>\n",
       "      <td>6.10</td>\n",
       "    </tr>\n",
       "    <tr>\n",
       "      <th>3</th>\n",
       "      <td>22</td>\n",
       "      <td>0.05</td>\n",
       "      <td>5.50</td>\n",
       "      <td>5.60</td>\n",
       "      <td>5.90</td>\n",
       "    </tr>\n",
       "    <tr>\n",
       "      <th>4</th>\n",
       "      <td>24</td>\n",
       "      <td>1.10</td>\n",
       "      <td>1.65</td>\n",
       "      <td>2.45</td>\n",
       "      <td>3.20</td>\n",
       "    </tr>\n",
       "  </tbody>\n",
       "</table>\n",
       "</div>"
      ],
      "text/plain": [
       "    x    h1    h2    h3    h4\n",
       "0  16  2.35  1.75  1.05  6.85\n",
       "1  18  1.95  2.15  1.45  6.65\n",
       "2  20  3.25  2.20  4.90  6.10\n",
       "3  22  0.05  5.50  5.60  5.90\n",
       "4  24  1.10  1.65  2.45  3.20"
      ]
     },
     "execution_count": 8,
     "metadata": {},
     "output_type": "execute_result"
    }
   ],
   "source": [
    "df_2.head()"
   ]
  },
  {
   "cell_type": "code",
   "execution_count": 9,
   "metadata": {},
   "outputs": [],
   "source": [
    "df_2['delta'] = df_2['h1']/df_2['h2']\n",
    "df_2['nu_1'] = 2*np.sqrt(df_2['delta'])/(1+df_2['delta'])\n",
    "df_2['nu'] = (df_2['h4'] - df_2['h3'])/(df_2['h4'] + df_2['h3'])\n",
    "df_2['nu_2'] = df_2['nu']/df_2['nu_1']"
   ]
  },
  {
   "cell_type": "markdown",
   "metadata": {},
   "source": [
    "Посмотрим, что там для $\\nu_2 = f(x)$:"
   ]
  },
  {
   "cell_type": "code",
   "execution_count": 16,
   "metadata": {},
   "outputs": [],
   "source": [
    "def draw_graph2(df, number=None):\n",
    "    fig, ax = plt.subplots()\n",
    "    ax.scatter(df['x'], df['nu_2'], c='black', label=r'На практике')\n",
    "\n",
    "    ax.set_title(r'$\\nu_2 = f(x)$')\n",
    "    ax.set_xlabel(r'x, см')\n",
    "    ax.set_ylabel(r'$\\nu_2$')\n",
    "    ax.grid(which='major', c='black')\n",
    "    if number is not None:\n",
    "        fig.savefig('exp2-{}.pdf'.format(number))"
   ]
  },
  {
   "cell_type": "code",
   "execution_count": 17,
   "metadata": {},
   "outputs": [
    {
     "data": {
      "image/png": "[encoded data removed]",
      "text/plain": [
       "<Figure size 432x288 with 1 Axes>"
      ]
     },
     "metadata": {},
     "output_type": "display_data"
    }
   ],
   "source": [
    "draw_graph2(df_2)"
   ]
  },
  {
   "cell_type": "markdown",
   "metadata": {},
   "source": [
    "Видим, что есть три плохие точки в окрестности 20. Выкинем их:"
   ]
  },
  {
   "cell_type": "code",
   "execution_count": 18,
   "metadata": {
    "scrolled": true
   },
   "outputs": [
    {
     "data": {
      "image/png": "[encoded data removed]",
      "text/plain": [
       "<Figure size 432x288 with 1 Axes>"
      ]
     },
     "metadata": {},
     "output_type": "display_data"
    }
   ],
   "source": [
    "bad_dots = [20, 22, 24]\n",
    "df_2_fixed = df_2[~df_2['x'].isin(bad_dots)]\n",
    "draw_graph2(df_2_fixed, 1)"
   ]
  },
  {
   "cell_type": "markdown",
   "metadata": {},
   "source": [
    "Видим по графику, что расстояние между максимумами составляет:  \n",
    "$L = 2\\cdot(66 - 34) ~\\text{см} = 64$ см"
   ]
  },
  {
   "cell_type": "markdown",
   "metadata": {},
   "source": [
    "Посмотрим на график. Расстояние, при котором видимость падает в два раза, есть:  \n",
    "$l_{1/2} = 2 \\cdot (28 - 16) ~\\text{см} = 24$ см"
   ]
  },
  {
   "cell_type": "markdown",
   "metadata": {},
   "source": [
    "По формуле:  \n",
    "$\\Delta \\nu_\\text{полн} \\approx 0.6~\\cfrac{c}{l_\\text{1/2}} = 750$ МГц  \n",
    "$\\Delta F = 750$ МГц"
   ]
  },
  {
   "cell_type": "markdown",
   "metadata": {},
   "source": [
    "Число мод:  \n",
    "$n \\approx 1 + 1.2~\\cfrac{L}{l_\\text{1/2}} = [4.2] = 4$  \n",
    "$n = 4$"
   ]
  },
  {
   "cell_type": "markdown",
   "metadata": {},
   "source": [
    "$$\n",
    "l_\\text{1/2} = 24~\\text{см} \\\\\n",
    "\\Delta F = 750~\\text{МГц} \\\\\n",
    "n = 4\n",
    "$$"
   ]
  }
 ],
 "metadata": {
  "kernelspec": {
   "display_name": "Python 3",
   "language": "python",
   "name": "python3"
  },
  "language_info": {
   "codemirror_mode": {
    "name": "ipython",
    "version": 3
   },
   "file_extension": ".py",
   "mimetype": "text/x-python",
   "name": "python",
   "nbconvert_exporter": "python",
   "pygments_lexer": "ipython3",
   "version": "3.5.2"
  }
 },
 "nbformat": 4,
 "nbformat_minor": 2
}
