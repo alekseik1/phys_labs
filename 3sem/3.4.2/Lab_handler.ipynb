{
 "cells": [
  {
   "cell_type": "markdown",
   "metadata": {},
   "source": [
    "# Закон Кюри-Вейсса"
   ]
  },
  {
   "cell_type": "markdown",
   "metadata": {},
   "source": [
    "### Оценим допустимую ЭДС"
   ]
  },
  {
   "cell_type": "code",
   "execution_count": 1,
   "metadata": {},
   "outputs": [
    {
     "name": "stdout",
     "output_type": "stream",
     "text": [
      "0.020833333333333332 мВ\n"
     ]
    }
   ],
   "source": [
    "delta_T = 0.5\n",
    "k = 24\n",
    "E = delta_T/k\n",
    "print(E, \"мВ\")"
   ]
  },
  {
   "cell_type": "markdown",
   "metadata": {},
   "source": [
    "## Исследуем зависимость периода колебаний $\\tau$ от температуры $T$"
   ]
  },
  {
   "cell_type": "code",
   "execution_count": 2,
   "metadata": {},
   "outputs": [],
   "source": [
    "import pandas as pd\n",
    "import matplotlib.pyplot as plt\n",
    "from matplotlib.ticker import MultipleLocator\n",
    "import numpy as np\n",
    "from sklearn import linear_model, metrics\n",
    "from scipy.optimize import curve_fit"
   ]
  },
  {
   "cell_type": "code",
   "execution_count": 3,
   "metadata": {},
   "outputs": [
    {
     "data": {
      "text/html": [
       "<div>\n",
       "<style scoped>\n",
       "    .dataframe tbody tr th:only-of-type {\n",
       "        vertical-align: middle;\n",
       "    }\n",
       "\n",
       "    .dataframe tbody tr th {\n",
       "        vertical-align: top;\n",
       "    }\n",
       "\n",
       "    .dataframe thead th {\n",
       "        text-align: right;\n",
       "    }\n",
       "</style>\n",
       "<table border=\"1\" class=\"dataframe\">\n",
       "  <thead>\n",
       "    <tr style=\"text-align: right;\">\n",
       "      <th></th>\n",
       "      <th>t</th>\n",
       "      <th>T_s</th>\n",
       "      <th>T_m</th>\n",
       "      <th>U</th>\n",
       "      <th>T</th>\n",
       "    </tr>\n",
       "  </thead>\n",
       "  <tbody>\n",
       "    <tr>\n",
       "      <th>0</th>\n",
       "      <td>10.788</td>\n",
       "      <td>14.00</td>\n",
       "      <td>14.5</td>\n",
       "      <td>-0.005</td>\n",
       "      <td>14.380</td>\n",
       "    </tr>\n",
       "    <tr>\n",
       "      <th>1</th>\n",
       "      <td>10.725</td>\n",
       "      <td>15.83</td>\n",
       "      <td>16.3</td>\n",
       "      <td>-0.015</td>\n",
       "      <td>15.940</td>\n",
       "    </tr>\n",
       "    <tr>\n",
       "      <th>2</th>\n",
       "      <td>10.573</td>\n",
       "      <td>17.87</td>\n",
       "      <td>18.6</td>\n",
       "      <td>-0.015</td>\n",
       "      <td>18.240</td>\n",
       "    </tr>\n",
       "    <tr>\n",
       "      <th>3</th>\n",
       "      <td>10.288</td>\n",
       "      <td>20.02</td>\n",
       "      <td>20.6</td>\n",
       "      <td>-0.014</td>\n",
       "      <td>20.264</td>\n",
       "    </tr>\n",
       "    <tr>\n",
       "      <th>4</th>\n",
       "      <td>9.960</td>\n",
       "      <td>21.96</td>\n",
       "      <td>22.8</td>\n",
       "      <td>-0.016</td>\n",
       "      <td>22.416</td>\n",
       "    </tr>\n",
       "    <tr>\n",
       "      <th>5</th>\n",
       "      <td>9.610</td>\n",
       "      <td>23.96</td>\n",
       "      <td>24.8</td>\n",
       "      <td>-0.018</td>\n",
       "      <td>24.368</td>\n",
       "    </tr>\n",
       "    <tr>\n",
       "      <th>6</th>\n",
       "      <td>9.428</td>\n",
       "      <td>25.95</td>\n",
       "      <td>26.9</td>\n",
       "      <td>-0.018</td>\n",
       "      <td>26.468</td>\n",
       "    </tr>\n",
       "    <tr>\n",
       "      <th>7</th>\n",
       "      <td>9.340</td>\n",
       "      <td>27.96</td>\n",
       "      <td>28.6</td>\n",
       "      <td>-0.017</td>\n",
       "      <td>28.192</td>\n",
       "    </tr>\n",
       "    <tr>\n",
       "      <th>8</th>\n",
       "      <td>9.288</td>\n",
       "      <td>29.96</td>\n",
       "      <td>30.6</td>\n",
       "      <td>-0.017</td>\n",
       "      <td>30.192</td>\n",
       "    </tr>\n",
       "    <tr>\n",
       "      <th>9</th>\n",
       "      <td>9.252</td>\n",
       "      <td>31.96</td>\n",
       "      <td>32.6</td>\n",
       "      <td>-0.017</td>\n",
       "      <td>32.192</td>\n",
       "    </tr>\n",
       "    <tr>\n",
       "      <th>10</th>\n",
       "      <td>9.224</td>\n",
       "      <td>33.97</td>\n",
       "      <td>34.7</td>\n",
       "      <td>-0.017</td>\n",
       "      <td>34.292</td>\n",
       "    </tr>\n",
       "    <tr>\n",
       "      <th>11</th>\n",
       "      <td>9.206</td>\n",
       "      <td>35.94</td>\n",
       "      <td>36.8</td>\n",
       "      <td>-0.017</td>\n",
       "      <td>36.392</td>\n",
       "    </tr>\n",
       "    <tr>\n",
       "      <th>12</th>\n",
       "      <td>9.189</td>\n",
       "      <td>37.96</td>\n",
       "      <td>38.8</td>\n",
       "      <td>-0.016</td>\n",
       "      <td>38.416</td>\n",
       "    </tr>\n",
       "    <tr>\n",
       "      <th>13</th>\n",
       "      <td>9.178</td>\n",
       "      <td>39.92</td>\n",
       "      <td>40.8</td>\n",
       "      <td>-0.017</td>\n",
       "      <td>40.392</td>\n",
       "    </tr>\n",
       "  </tbody>\n",
       "</table>\n",
       "</div>"
      ],
      "text/plain": [
       "         t    T_s   T_m      U       T\n",
       "0   10.788  14.00  14.5 -0.005  14.380\n",
       "1   10.725  15.83  16.3 -0.015  15.940\n",
       "2   10.573  17.87  18.6 -0.015  18.240\n",
       "3   10.288  20.02  20.6 -0.014  20.264\n",
       "4    9.960  21.96  22.8 -0.016  22.416\n",
       "5    9.610  23.96  24.8 -0.018  24.368\n",
       "6    9.428  25.95  26.9 -0.018  26.468\n",
       "7    9.340  27.96  28.6 -0.017  28.192\n",
       "8    9.288  29.96  30.6 -0.017  30.192\n",
       "9    9.252  31.96  32.6 -0.017  32.192\n",
       "10   9.224  33.97  34.7 -0.017  34.292\n",
       "11   9.206  35.94  36.8 -0.017  36.392\n",
       "12   9.189  37.96  38.8 -0.016  38.416\n",
       "13   9.178  39.92  40.8 -0.017  40.392"
      ]
     },
     "execution_count": 3,
     "metadata": {},
     "output_type": "execute_result"
    }
   ],
   "source": [
    "df = pd.read_csv('main.csv')\n",
    "df['T'] = df.T_m + k*df.U\n",
    "df"
   ]
  },
  {
   "cell_type": "code",
   "execution_count": 4,
   "metadata": {},
   "outputs": [],
   "source": [
    "# TODO: Поменять на экспериментальное\n",
    "t0 = 9.05"
   ]
  },
  {
   "cell_type": "code",
   "execution_count": 5,
   "metadata": {},
   "outputs": [],
   "source": [
    "X = np.divide(np.power(t0, 2), np.power(df.t, 2) - np.power(t0, 2))\n",
    "Y = df['T']"
   ]
  },
  {
   "cell_type": "code",
   "execution_count": 6,
   "metadata": {},
   "outputs": [
    {
     "data": {
      "image/png": "[encoded data removed]",
      "text/plain": [
       "<matplotlib.figure.Figure at 0x7f95997d3668>"
      ]
     },
     "metadata": {},
     "output_type": "display_data"
    }
   ],
   "source": [
    "X_line = X[lambda x: x >= 5] # Здесь точка отброса\n",
    "\n",
    "# Строим регрессиюц\n",
    "regressor = linear_model.LinearRegression()\n",
    "regressor.fit(X_line.values.reshape(-1, 1), Y[X_line.index].values.reshape(-1, 1))\n",
    "Y_line = regressor.predict(X_line.values.reshape(-1, 1))\n",
    "X_line = X_line.append(pd.Series([0]))\n",
    "Y_line = np.append(Y_line, pd.Series(regressor.intercept_[0]))\n",
    "\n",
    "f, ax = plt.subplots(figsize=(7, 5))\n",
    "ax.scatter(Y, X, label='Exper. data', c='r')\n",
    "\n",
    "ax.plot(Y_line, X_line, label='Linear regression', c='black')\n",
    "ax.set_title(r'Зависимость $\\frac{1}{(\\tau^2 - \\tau_0^2)}$ от $T$', y=1.02)\n",
    "ax.set_ylabel(r'$\\frac{\\tau_0^2}{\\tau^2-\\tau_0^2}$, $\\left[ \\mu s^{-2} \\right]$')\n",
    "ax.set_xlabel(r'$T, [^oC]$')\n",
    "\n",
    "ax.xaxis.set_minor_locator(MultipleLocator(1))\n",
    "ax.yaxis.set_minor_locator(MultipleLocator(1))\n",
    "ax.set_ylim(0, 36)\n",
    "ax.set_xlim(10, 42)\n",
    "#ax.set_yticks(np.append(ax.get_yticks(), [np.round(regressor.intercept_[0], 2)]))\n",
    "ax.annotate(round(regressor.intercept_[0], 2), \n",
    "            xy=(regressor.intercept_[0], 0), \n",
    "            xytext=(regressor.intercept_[0]*0.85, -3),\n",
    "           arrowprops={\"facecolor\": \"black\", \"arrowstyle\":\"->\"})\n",
    "ax.grid(True, which='minor', linestyle='--')\n",
    "ax.grid(True, which='major', c='black', linestyle='-')\n",
    "\n",
    "f.text(x=0.15, y=0.72, s=r\"$\\theta _p = {}$\".format(round(regressor.intercept_[0], 2)), bbox={\"alpha\": 1, \"facecolor\": \"white\"})\n",
    "ax.legend()\n",
    "\n",
    "plt.savefig('out.pdf', fmt='pdf')\n",
    "plt.show(f)"
   ]
  },
  {
   "cell_type": "code",
   "execution_count": 7,
   "metadata": {},
   "outputs": [
    {
     "name": "stdout",
     "output_type": "stream",
     "text": [
      "Уголовой коэффициент: 0.5878182516011139 \n",
      "Точка пересечения (константный признак): 19.40590155155477\n",
      "Стандартное отклонение: 2.57840029802427\n"
     ]
    }
   ],
   "source": [
    "print(\"Уголовой коэффициент: {} \\nТочка пересечения (константный признак): {}\\nСтандартное отклонение: {}\".format(regressor.coef_[0][0], regressor.intercept_[0], metrics.mean_squared_error(Y[X_line.index], Y_line)))"
   ]
  },
  {
   "cell_type": "markdown",
   "metadata": {},
   "source": [
    "### Оригинальное T от $\\tau$"
   ]
  },
  {
   "cell_type": "code",
   "execution_count": 8,
   "metadata": {},
   "outputs": [],
   "source": [
    "Y_or = np.power(df.t, 2)\n",
    "X_or = df['T']"
   ]
  },
  {
   "cell_type": "code",
   "execution_count": 9,
   "metadata": {},
   "outputs": [],
   "source": [
    "def pol(x, w, n):\n",
    "    return sum([w[n]*x**n for n in range(n+1)])\n",
    "def fu(x, a, b, c): # Будем пытаться аппроксимировать гиперболой в общем виде\n",
    "    return 1/(a*x+b) + c"
   ]
  },
  {
   "cell_type": "code",
   "execution_count": 10,
   "metadata": {},
   "outputs": [
    {
     "name": "stdout",
     "output_type": "stream",
     "text": [
      "[  1.17056011e-03   1.23730662e-17   6.01953225e+01]\n"
     ]
    },
    {
     "ename": "NameError",
     "evalue": "name 'Y_or_pred' is not defined",
     "output_type": "error",
     "traceback": [
      "\u001b[0;31m---------------------------------------------------------------------------\u001b[0m",
      "\u001b[0;31mNameError\u001b[0m                                 Traceback (most recent call last)",
      "\u001b[0;32m<ipython-input-10-dcf34cfb4aa3>\u001b[0m in \u001b[0;36m<module>\u001b[0;34m()\u001b[0m\n\u001b[1;32m     18\u001b[0m \u001b[0;31m#X_or_pred = np.linspace(min(X_or)*0.999, max(X_or), 5000)\u001b[0m\u001b[0;34m\u001b[0m\u001b[0;34m\u001b[0m\u001b[0m\n\u001b[1;32m     19\u001b[0m \u001b[0;31m#Y_or_pred = fu(X_or_pred, *popt)\u001b[0m\u001b[0;34m\u001b[0m\u001b[0;34m\u001b[0m\u001b[0m\n\u001b[0;32m---> 20\u001b[0;31m \u001b[0mprint\u001b[0m\u001b[0;34m(\u001b[0m\u001b[0mY_or_pred\u001b[0m\u001b[0;34m)\u001b[0m\u001b[0;34m\u001b[0m\u001b[0m\n\u001b[0m\u001b[1;32m     21\u001b[0m \u001b[0max\u001b[0m\u001b[0;34m.\u001b[0m\u001b[0mplot\u001b[0m\u001b[0;34m(\u001b[0m\u001b[0mX_or\u001b[0m\u001b[0;34m,\u001b[0m \u001b[0mfu\u001b[0m\u001b[0;34m(\u001b[0m\u001b[0mX_or\u001b[0m\u001b[0;34m,\u001b[0m \u001b[0;34m*\u001b[0m\u001b[0mpopt\u001b[0m\u001b[0;34m)\u001b[0m\u001b[0;34m,\u001b[0m \u001b[0mlabel\u001b[0m\u001b[0;34m=\u001b[0m\u001b[0;34m\"Prediction\"\u001b[0m\u001b[0;34m,\u001b[0m \u001b[0mc\u001b[0m\u001b[0;34m=\u001b[0m\u001b[0mcolors\u001b[0m\u001b[0;34m[\u001b[0m\u001b[0;36m1\u001b[0m\u001b[0;34m]\u001b[0m\u001b[0;34m,\u001b[0m \u001b[0malpha\u001b[0m\u001b[0;34m=\u001b[0m\u001b[0;36m0.8\u001b[0m\u001b[0;34m)\u001b[0m\u001b[0;34m\u001b[0m\u001b[0m\n\u001b[1;32m     22\u001b[0m \u001b[0;34m\u001b[0m\u001b[0m\n",
      "\u001b[0;31mNameError\u001b[0m: name 'Y_or_pred' is not defined"
     ]
    }
   ],
   "source": [
    "f, ax = plt.subplots(figsize=(7, 5))\n",
    "ax.scatter(X_or, Y_or, label=\"Exp. dots\", c='r')\n",
    "# ПОДГОНИСТАЯ АППРОКСИМАЦИЯ. ПИТОН, Я ЛЮБЛЮ ТЕБЯ\n",
    "n = 1 # Отбосим первые n точек\n",
    "X_or_a = X_or[n-1:]\n",
    "Y_or_a = Y_or[n-1:]\n",
    "popt, pcov = curve_fit(fu, X_or_a, Y_or_a, bounds=([10**(-30), 10**(-20), 40], [10**(1), 10**(1), 100]))\n",
    "print(popt)\n",
    "colors = ['r', 'g', 'm', 'y', 'c', 'k', 'black']\n",
    "'''\n",
    "best = [9]   # НЕ СПРАШИВАЙТЕ, КАК\n",
    "for n in best:\n",
    "    w = np.polyfit(X_or, Y_or, deg=n)\n",
    "    X_or_pred = np.linspace(min(X_or)*0.999, max(X_or), 5000)\n",
    "    Y_or_pred = [pol(i, w[::-1], n) for i in X_or_pred]\n",
    "    ax.plot(X_or_pred, Y_or_pred, label=\"Prediction, n={}\".format(n), c=colors[n-3], alpha=0.7)\n",
    "'''\n",
    "#X_or_pred = np.linspace(min(X_or)*0.999, max(X_or), 5000)\n",
    "#Y_or_pred = fu(X_or_pred, *popt)\n",
    "print(Y_or_pred)\n",
    "ax.plot(X_or, fu(X_or, *popt), label=\"Prediction\", c=colors[1], alpha=0.8)\n",
    "\n",
    "ax.set_title(r'Зависимость $T$ от $\\tau$', y=1.02)\n",
    "ax.set_ylabel(r'$\\chi \\sim \\tau^2$, [$\\mu s^2$]')\n",
    "ax.set_xlabel(r'$T, [^oC]$')\n",
    "\n",
    "#ax.yaxis.set_minor_locator(MultipleLocator(1))\n",
    "#ax.xaxis.set_minor_locator(MultipleLocator(0.025))\n",
    "#ax.set_xlim(0, 0.4)\n",
    "#ax.set_yticks(np.append(ax.get_yticks(), [np.round(regressor.intercept_[0], 2)]))\n",
    "ax.grid(True, which='minor', linestyle='--')\n",
    "ax.grid(True, which='major', c='black', linestyle='-')\n",
    "\n",
    "ax.legend()\n",
    "plt.savefig('out1.pdf', fmt='pdf')\n",
    "plt.show(f)"
   ]
  },
  {
   "cell_type": "code",
   "execution_count": null,
   "metadata": {},
   "outputs": [],
   "source": []
  },
  {
   "cell_type": "code",
   "execution_count": null,
   "metadata": {},
   "outputs": [],
   "source": []
  }
 ],
 "metadata": {
  "kernelspec": {
   "display_name": "Python 3",
   "language": "python",
   "name": "python3"
  },
  "language_info": {
   "codemirror_mode": {
    "name": "ipython",
    "version": 3
   },
   "file_extension": ".py",
   "mimetype": "text/x-python",
   "name": "python",
   "nbconvert_exporter": "python",
   "pygments_lexer": "ipython3",
   "version": "3.5.2"
  }
 },
 "nbformat": 4,
 "nbformat_minor": 2
}
