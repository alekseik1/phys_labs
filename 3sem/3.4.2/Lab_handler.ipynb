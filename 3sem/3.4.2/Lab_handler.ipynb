{
 "cells": [
  {
   "cell_type": "markdown",
   "metadata": {},
   "source": [
    "# Закон Кюри-Вейсса"
   ]
  },
  {
   "cell_type": "markdown",
   "metadata": {},
   "source": [
    "### Оценим допустимую ЭДС"
   ]
  },
  {
   "cell_type": "code",
   "execution_count": 1,
   "metadata": {},
   "outputs": [
    {
     "name": "stdout",
     "output_type": "stream",
     "text": [
      "0.020833333333333332 мВ\n"
     ]
    }
   ],
   "source": [
    "delta_T = 0.5\n",
    "k = 24\n",
    "E = delta_T/k\n",
    "print(E, \"мВ\")"
   ]
  },
  {
   "cell_type": "markdown",
   "metadata": {},
   "source": [
    "## Исследуем зависимость периода колебаний $\\tau$ от температуры $T$"
   ]
  },
  {
   "cell_type": "code",
   "execution_count": 2,
   "metadata": {},
   "outputs": [],
   "source": [
    "import pandas as pd\n",
    "import matplotlib.pyplot as plt\n",
    "import numpy as np\n",
    "from sklearn import linear_model, metrics"
   ]
  },
  {
   "cell_type": "code",
   "execution_count": 3,
   "metadata": {},
   "outputs": [
    {
     "data": {
      "text/html": [
       "<div>\n",
       "<style scoped>\n",
       "    .dataframe tbody tr th:only-of-type {\n",
       "        vertical-align: middle;\n",
       "    }\n",
       "\n",
       "    .dataframe tbody tr th {\n",
       "        vertical-align: top;\n",
       "    }\n",
       "\n",
       "    .dataframe thead th {\n",
       "        text-align: right;\n",
       "    }\n",
       "</style>\n",
       "<table border=\"1\" class=\"dataframe\">\n",
       "  <thead>\n",
       "    <tr style=\"text-align: right;\">\n",
       "      <th></th>\n",
       "      <th>t</th>\n",
       "      <th>T</th>\n",
       "    </tr>\n",
       "  </thead>\n",
       "  <tbody>\n",
       "    <tr>\n",
       "      <th>0</th>\n",
       "      <td>4</td>\n",
       "      <td>273</td>\n",
       "    </tr>\n",
       "    <tr>\n",
       "      <th>1</th>\n",
       "      <td>5</td>\n",
       "      <td>300</td>\n",
       "    </tr>\n",
       "  </tbody>\n",
       "</table>\n",
       "</div>"
      ],
      "text/plain": [
       "   t    T\n",
       "0  4  273\n",
       "1  5  300"
      ]
     },
     "execution_count": 3,
     "metadata": {},
     "output_type": "execute_result"
    }
   ],
   "source": [
    "df = pd.read_csv('main.csv')\n",
    "df"
   ]
  },
  {
   "cell_type": "code",
   "execution_count": 4,
   "metadata": {},
   "outputs": [],
   "source": [
    "# TODO: Поменять на экспериментальное\n",
    "t0 = 1"
   ]
  },
  {
   "cell_type": "code",
   "execution_count": 5,
   "metadata": {},
   "outputs": [],
   "source": [
    "X = df.t\n",
    "Y = np.divide(1, np.power(X, 2) - np.power(t0, 2))"
   ]
  },
  {
   "cell_type": "code",
   "execution_count": 6,
   "metadata": {},
   "outputs": [
    {
     "data": {
      "image/png": "[encoded data removed]",
      "text/plain": [
       "<matplotlib.figure.Figure at 0x7f1e1a489048>"
      ]
     },
     "metadata": {},
     "output_type": "display_data"
    }
   ],
   "source": [
    "# Строим регрессию\n",
    "regressor = linear_model.LinearRegression()\n",
    "regressor.fit(X.values.reshape(-1, 1), Y.values.reshape(-1, 1))\n",
    "Y_pred = regressor.predict(X.values.reshape(-1, 1))\n",
    "\n",
    "f = plt.subplot()\n",
    "f.scatter(X, Y, label='Exper. data', c='r')\n",
    "f.plot(X, Y_pred, label='Linear regression', c='b')\n",
    "f.set_title(r'Зависимость ${1}/{(\\tau^2 - \\tau_0^2)}$ от $T$')\n",
    "f.grid(True, which='major')\n",
    "f.grid(True, which='minor')\n",
    "f.set_ylabel(r'$\\frac{1}{\\tau^2-\\tau_0^2}$, $\\left[\\frac{1}{\\,c^2}\\right]$')\n",
    "f.set_xlabel(r'$T, [K]$')\n",
    "\n",
    "plt.savefig('out.pdf', fmt='pdf')\n",
    "plt.show(f)"
   ]
  },
  {
   "cell_type": "code",
   "execution_count": 41,
   "metadata": {},
   "outputs": [
    {
     "name": "stdout",
     "output_type": "stream",
     "text": [
      "Уголовой коэффициент: -0.02499999999999999 \n",
      "Точка пересечения (константный признак): 0.16666666666666663\n",
      "Стандартное отклонение: 2.407412430484045e-35\n"
     ]
    }
   ],
   "source": [
    "print(\"Уголовой коэффициент: {} \\nТочка пересечения (константный признак): {}\\nСтандартное отклонение: {}\".format(regressor.coef_[0][0], regressor.intercept_[0], metrics.mean_squared_error(Y, Y_pred)))"
   ]
  },
  {
   "cell_type": "code",
   "execution_count": null,
   "metadata": {},
   "outputs": [],
   "source": []
  },
  {
   "cell_type": "code",
   "execution_count": null,
   "metadata": {},
   "outputs": [],
   "source": []
  }
 ],
 "metadata": {
  "kernelspec": {
   "display_name": "Python 3",
   "language": "python",
   "name": "python3"
  },
  "language_info": {
   "codemirror_mode": {
    "name": "ipython",
    "version": 3
   },
   "file_extension": ".py",
   "mimetype": "text/x-python",
   "name": "python",
   "nbconvert_exporter": "python",
   "pygments_lexer": "ipython3",
   "version": "3.5.2"
  }
 },
 "nbformat": 4,
 "nbformat_minor": 2
}
