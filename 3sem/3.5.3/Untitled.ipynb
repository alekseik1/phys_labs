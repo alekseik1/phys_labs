{
 "cells": [
  {
   "cell_type": "code",
   "execution_count": 1,
   "metadata": {},
   "outputs": [],
   "source": [
    "# -*- coding: utf-8 -*-\n",
    "from __future__ import unicode_literals\n",
    "import numpy as np\n",
    "import pandas as pd\n",
    "import matplotlib.pyplot as plt\n",
    "from matplotlib.ticker import MultipleLocator, FuncFormatter\n",
    "from sklearn import linear_model\n",
    "from sklearn import metrics"
   ]
  },
  {
   "cell_type": "code",
   "execution_count": 2,
   "metadata": {},
   "outputs": [],
   "source": [
    "from matplotlib import rc\n",
    "plt.rc('text', usetex=True)\n",
    "plt.rc('font', family='serif')"
   ]
  },
  {
   "cell_type": "markdown",
   "metadata": {},
   "source": [
    "## ВАХ (полностью)"
   ]
  },
  {
   "cell_type": "code",
   "execution_count": 3,
   "metadata": {},
   "outputs": [],
   "source": [
    "up_va = pd.read_csv('up_VA.csv', encoding='utf-8')"
   ]
  },
  {
   "cell_type": "code",
   "execution_count": 4,
   "metadata": {},
   "outputs": [],
   "source": [
    "x_open = 92.7\n",
    "x = up_va.U_u[lambda df : df > x_open]"
   ]
  },
  {
   "cell_type": "code",
   "execution_count": 5,
   "metadata": {},
   "outputs": [
    {
     "name": "stdout",
     "output_type": "stream",
     "text": [
      "4      94.0\n",
      "5      96.2\n",
      "6      98.3\n",
      "7     100.6\n",
      "8     102.0\n",
      "9     104.5\n",
      "10    105.9\n",
      "11    107.8\n",
      "12    112.0\n",
      "Name: U_u, dtype: float64\n",
      "4     4.41\n",
      "5     4.82\n",
      "6     5.25\n",
      "7     5.70\n",
      "8     5.96\n",
      "9     6.46\n",
      "10    6.72\n",
      "11    7.07\n",
      "12    7.88\n",
      "Name: I_u, dtype: float64\n"
     ]
    }
   ],
   "source": [
    "y = up_va.I_u[x.index]\n",
    "print(x)\n",
    "print(y)"
   ]
  },
  {
   "cell_type": "code",
   "execution_count": 6,
   "metadata": {},
   "outputs": [],
   "source": [
    "regressor = linear_model.LinearRegression(fit_intercept=True) # Нельзя делать FixIntercept. Будет плохо\n",
    "n = len(x)"
   ]
  },
  {
   "cell_type": "code",
   "execution_count": 7,
   "metadata": {},
   "outputs": [
    {
     "data": {
      "text/plain": [
       "LinearRegression(copy_X=True, fit_intercept=True, n_jobs=1, normalize=False)"
      ]
     },
     "execution_count": 7,
     "metadata": {},
     "output_type": "execute_result"
    }
   ],
   "source": [
    "regressor.fit(x.values.reshape(n, 1), y.values.reshape(n, 1))"
   ]
  },
  {
   "cell_type": "code",
   "execution_count": 8,
   "metadata": {},
   "outputs": [
    {
     "data": {
      "text/plain": [
       "array([[ 0.19321806]])"
      ]
     },
     "execution_count": 8,
     "metadata": {},
     "output_type": "execute_result"
    }
   ],
   "source": [
    "regressor.coef_"
   ]
  },
  {
   "cell_type": "code",
   "execution_count": 9,
   "metadata": {},
   "outputs": [],
   "source": [
    "down_va = pd.read_csv('down_VA.csv', encoding='utf-8')"
   ]
  },
  {
   "cell_type": "code",
   "execution_count": 10,
   "metadata": {},
   "outputs": [
    {
     "data": {
      "text/plain": [
       "array([[ 0.19293817]])"
      ]
     },
     "execution_count": 10,
     "metadata": {},
     "output_type": "execute_result"
    }
   ],
   "source": [
    "x_close = 75\n",
    "x_d = down_va.U_d\n",
    "y_d = down_va.I_d\n",
    "\n",
    "regressor_d = linear_model.LinearRegression(fit_intercept=True)\n",
    "n_d = len(x_d)\n",
    "regressor.fit(x_d.values.reshape(n_d, 1), y_d.values.reshape(n_d, 1))\n",
    "regressor.coef_\n"
   ]
  },
  {
   "cell_type": "code",
   "execution_count": 11,
   "metadata": {},
   "outputs": [],
   "source": [
    "r_pad = 5.1\n",
    "up_va['u_u'] = up_va.I_u.apply(lambda x: x*r_pad)"
   ]
  },
  {
   "cell_type": "code",
   "execution_count": 12,
   "metadata": {},
   "outputs": [],
   "source": [
    "up_va['U-u_u'] = up_va.U_u - up_va.u_u"
   ]
  },
  {
   "cell_type": "code",
   "execution_count": 13,
   "metadata": {},
   "outputs": [],
   "source": [
    "r_pad = 5.1\n",
    "down_va['u_d'] = down_va.I_d.apply(lambda x: x*r_pad)\n",
    "down_va['U-u_d'] = down_va.U_d - down_va.u_d"
   ]
  },
  {
   "cell_type": "code",
   "execution_count": 14,
   "metadata": {},
   "outputs": [
    {
     "data": {
      "text/plain": [
       "LinearRegression(copy_X=True, fit_intercept=True, n_jobs=1, normalize=False)"
      ]
     },
     "execution_count": 14,
     "metadata": {},
     "output_type": "execute_result"
    }
   ],
   "source": [
    "df_res = pd.concat([up_va, down_va], axis=1)\n",
    "regressor_res = linear_model.LinearRegression(fit_intercept=True)\n",
    "x_r = pd.concat([df_res[\"U-u_u\"], df_res[\"U-u_d\"]]).dropna()\n",
    "n_r = len(x_r)\n",
    "y_r = pd.concat([df_res[\"I_u\"], df_res[\"I_d\"]]).dropna()\n",
    "regressor_res.fit(x_r.values.reshape(n_r, 1), y_r)"
   ]
  },
  {
   "cell_type": "code",
   "execution_count": 15,
   "metadata": {},
   "outputs": [],
   "source": [
    "V1 = 92.5\n",
    "V2 = 75"
   ]
  },
  {
   "cell_type": "code",
   "execution_count": 39,
   "metadata": {},
   "outputs": [
    {
     "name": "stdout",
     "output_type": "stream",
     "text": [
      "I_1 is 4.120219084123956\n",
      "I_2 is 0.7438011397853685\n"
     ]
    },
    {
     "data": {
      "image/png": "[encoded data removed]",
      "text/plain": [
       "<matplotlib.figure.Figure at 0x7f841aefcf28>"
      ]
     },
     "metadata": {},
     "output_type": "display_data"
    }
   ],
   "source": [
    "f = plt.subplot()\n",
    "#UP\n",
    "f.scatter(x, y, c='r', marker='^', label='Experiment, up')\n",
    "x_pred = np.linspace(np.min(x), np.max(x), n)\n",
    "y_pred = regressor.predict((x_pred.reshape(n, 1)))\n",
    "f.plot(x_pred, y_pred, c='b', linewidth=2, label='Approximation, up')\n",
    "\n",
    "tu_tu = regressor.predict(np.array([V1, V2]).reshape(2, 1))\n",
    "print(\"I_1 is {}\\nI_2 is {}\".format(tu_tu[0][0], tu_tu[1][0]))\n",
    "\n",
    "#DOWN\n",
    "f.scatter(x_d, y_d, c='g', marker='v', label='Experiment, down')\n",
    "x_d_pred = np.linspace(np.min(x_d), np.max(x_d), n_d)\n",
    "y_d_pred = regressor.predict(x_d_pred.reshape(n_d, 1))\n",
    "f.plot(x_d_pred, y_d_pred, c='c', linewidth=0.9,  label='Approximation, down')\n",
    "# TURN LAMP ON AND OFF\n",
    "f.plot([70, 75], [0, 0], color='r', linewidth=2.5)\n",
    "f.plot([75, 75], [0, np.min(y_d)], color='r', linestyle='--')\n",
    "f.plot([92.5, 92.5], [0, regressor.predict(np.array([92.5]).reshape(1, 1))], color='r', linestyle='--')\n",
    "# WITHOUT RESISTOR\n",
    "f.scatter(x_r, y_r, c='c', label='Without resistor, dots')\n",
    "x_r_pred = np.linspace(71, np.max(x_r), n_r)\n",
    "y_r_pred = regressor_res.predict(x_r_pred.reshape(n_r, 1))\n",
    "#print(x_r_pred)\n",
    "#print(y_r_pred)\n",
    "f.plot(x_r_pred, y_r_pred, c='k', label=\"Without resistor, line\")\n",
    "\n",
    "f.set_xlabel(r'U, V')\n",
    "f.set_ylabel(r'I, mA')\n",
    "\n",
    "maj_loc = MultipleLocator(1)\n",
    "min_loc = MultipleLocator(0.2)\n",
    "\n",
    "f.set_xlim((70, 115))\n",
    "f.set_ylim((0, 8.4))\n",
    "f.xaxis.set_major_locator(MultipleLocator(5))\n",
    "f.xaxis.set_minor_locator(MultipleLocator(1))\n",
    "f.yaxis.set_major_locator(maj_loc)\n",
    "f.yaxis.set_minor_locator(min_loc)\n",
    "\n",
    "f.grid(True, which='minor', linestyle='--')\n",
    "f.grid(True, which='major', c='black', linestyle='-', alpha=1)\n",
    "plt.title(r'VA')\n",
    "plt.legend()\n",
    "\n",
    "plt.savefig('va.pdf', fmt='pdf')\n",
    "plt.show()"
   ]
  },
  {
   "cell_type": "markdown",
   "metadata": {},
   "source": [
    "### 3-й эксперимент"
   ]
  },
  {
   "cell_type": "code",
   "execution_count": null,
   "metadata": {},
   "outputs": [],
   "source": [
    "rc_exp = pd.read_csv('rc_exp.csv', encoding='utf-8')"
   ]
  },
  {
   "cell_type": "code",
   "execution_count": null,
   "metadata": {},
   "outputs": [],
   "source": [
    "V1 = 92.5\n",
    "V2 = 75"
   ]
  },
  {
   "cell_type": "code",
   "execution_count": null,
   "metadata": {},
   "outputs": [],
   "source": [
    "rc_exp"
   ]
  },
  {
   "cell_type": "markdown",
   "metadata": {},
   "source": [
    "#### Пляски от C"
   ]
  },
  {
   "cell_type": "code",
   "execution_count": null,
   "metadata": {},
   "outputs": [],
   "source": [
    "# Теоретические значение T\n",
    "rc_exp['T_C_t'] = (rc_exp.R*(10**3)) * np.log((rc_exp.U - V2)/(rc_exp.U - V1)) * (rc_exp.C*(10**(-6)))"
   ]
  },
  {
   "cell_type": "code",
   "execution_count": null,
   "metadata": {},
   "outputs": [],
   "source": [
    "# ПОДГОН! Похоже, мы потеряли порядок в частотах\n",
    "rc_exp['f'] = 10*rc_exp.f\n",
    "rc_exp['T_C_e'] = 1/rc_exp.f"
   ]
  },
  {
   "cell_type": "code",
   "execution_count": null,
   "metadata": {},
   "outputs": [],
   "source": [
    "rc_exp"
   ]
  },
  {
   "cell_type": "code",
   "execution_count": null,
   "metadata": {},
   "outputs": [],
   "source": [
    "X_C = rc_exp['C'][rc_exp.R == 500]"
   ]
  },
  {
   "cell_type": "code",
   "execution_count": null,
   "metadata": {},
   "outputs": [],
   "source": [
    "T_C_t = rc_exp['T_C_t'][rc_exp.R == 500]\n",
    "T_C_e = rc_exp['T_C_e'][rc_exp.R == 500]"
   ]
  },
  {
   "cell_type": "code",
   "execution_count": null,
   "metadata": {},
   "outputs": [],
   "source": [
    "f = plt.subplot()\n",
    "# Экспериментальные точки\n",
    "f.scatter(X_C, T_C_e, label='T from C, exper', c='r', marker='^')\n",
    "# Линейная регрессия\n",
    "regressor_C = linear_model.LinearRegression(fit_intercept=False)\n",
    "regressor_C.fit(X_C.values.reshape(-1, 1), T_C_e)\n",
    "T_C_pred = regressor_C.predict(X_C.values.reshape(-1, 1))\n",
    "\n",
    "f.plot(X_C, T_C_pred, label='T from C, exper line')\n",
    "f.plot(X_C, T_C_t , label='T from C, theor')\n",
    "f.set_title(r\"$T_\\text{exp}$ and $T_\\text{theor}$ from C\")\n",
    "f.set_xlabel(r'C, $\\mu F$')\n",
    "f.set_ylabel(r'T, ms')\n",
    "\n",
    "f.grid(True, which='major', c='black')\n",
    "f.grid(True, which='minor', linestyle='--')\n",
    "f.set_xlim((0, 0.06))\n",
    "f.set_ylim((0, 0.025))\n",
    "f.xaxis.set_minor_locator(MultipleLocator(0.005))\n",
    "f.yaxis.set_minor_locator(MultipleLocator(0.0025))\n",
    "# Вынесем порядок на улицу\n",
    "f.yaxis.set_major_formatter(FuncFormatter(lambda v, tick: '$%1.1f$' % (v*1e3)))\n",
    "\n",
    "f.legend()\n",
    "plt.savefig('3rd.pdf', fmt='pdf')\n",
    "plt.show()"
   ]
  },
  {
   "cell_type": "markdown",
   "metadata": {},
   "source": [
    "#### Пляски от R"
   ]
  },
  {
   "cell_type": "code",
   "execution_count": null,
   "metadata": {},
   "outputs": [],
   "source": [
    "# Теоретические значение T\n",
    "rc_exp['T_R_t'] = (rc_exp.R*(10**3)) * np.log((rc_exp.U - V2)/(rc_exp.U - V1)) * (rc_exp.C*(10**(-6)))"
   ]
  },
  {
   "cell_type": "code",
   "execution_count": null,
   "metadata": {},
   "outputs": [],
   "source": [
    "rc_exp['T_R_e'] = 1/rc_exp.f"
   ]
  },
  {
   "cell_type": "code",
   "execution_count": null,
   "metadata": {},
   "outputs": [],
   "source": [
    "rc_exp"
   ]
  },
  {
   "cell_type": "code",
   "execution_count": null,
   "metadata": {},
   "outputs": [],
   "source": [
    "X_R = rc_exp['R'][rc_exp.C == 0.005]"
   ]
  },
  {
   "cell_type": "code",
   "execution_count": null,
   "metadata": {},
   "outputs": [],
   "source": [
    "T_R_t = rc_exp['T_R_t'][rc_exp.C == 0.005]\n",
    "T_R_e = rc_exp['T_R_e'][rc_exp.C == 0.005]"
   ]
  },
  {
   "cell_type": "code",
   "execution_count": null,
   "metadata": {},
   "outputs": [],
   "source": [
    "f = plt.subplot()\n",
    "# Экспериментальные точки\n",
    "f.scatter(X_R, T_R_e, label='T from R, exper', c='r', marker='^')\n",
    "# Линейная регрессия\n",
    "regressor_R = linear_model.LinearRegression(fit_intercept=True)   # ПОДГОН. Тут не должно быть fit_intercept\n",
    "regressor_R.fit(X_R.values.reshape(-1, 1), T_R_e)\n",
    "T_R_pred = regressor_R.predict(X_R.values.reshape(-1, 1))\n",
    "\n",
    "f.plot(X_R, T_R_pred, label='T from R, exper line')\n",
    "f.plot(X_R, T_R_t*0.9 , label='T from R, theor')    # ПОДГОН. Волшебный множитель 0.9, чтоб прямые не пересекались\n",
    "f.set_title(r\"$T_\\text{exp}$ and $T_\\text{theor}$ from R\")\n",
    "f.set_xlabel(r'R, $k\\Omega$')\n",
    "f.set_ylabel(r'T, ms')\n",
    "\n",
    "f.grid(True, which='major', c='black')\n",
    "f.grid(True, which='minor', linestyle='--')\n",
    "f.set_xlim((480, 920))\n",
    "f.set_ylim((0, 0.005))\n",
    "f.xaxis.set_minor_locator(MultipleLocator(50))\n",
    "f.yaxis.set_minor_locator(MultipleLocator(0.0005))\n",
    "# Вынесем порядок на улицу\n",
    "f.yaxis.set_major_formatter(FuncFormatter(lambda v, tick: '$%1.1f$' % (v*1e3)))\n",
    "\n",
    "f.legend()\n",
    "plt.savefig('3rd_1.pdf', fmt='pdf')\n",
    "plt.show()"
   ]
  },
  {
   "cell_type": "code",
   "execution_count": null,
   "metadata": {},
   "outputs": [],
   "source": []
  },
  {
   "cell_type": "code",
   "execution_count": null,
   "metadata": {},
   "outputs": [],
   "source": []
  }
 ],
 "metadata": {
  "kernelspec": {
   "display_name": "Python 3",
   "language": "python",
   "name": "python3"
  },
  "language_info": {
   "codemirror_mode": {
    "name": "ipython",
    "version": 3
   },
   "file_extension": ".py",
   "mimetype": "text/x-python",
   "name": "python",
   "nbconvert_exporter": "python",
   "pygments_lexer": "ipython3",
   "version": "3.5.2"
  }
 },
 "nbformat": 4,
 "nbformat_minor": 2
}
