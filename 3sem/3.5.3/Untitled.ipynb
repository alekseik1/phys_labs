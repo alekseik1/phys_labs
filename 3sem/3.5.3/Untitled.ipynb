{
 "cells": [
  {
   "cell_type": "code",
   "execution_count": 1,
   "metadata": {},
   "outputs": [],
   "source": [
    "# -*- coding: utf-8 -*-\n",
    "from __future__ import unicode_literals\n",
    "import numpy as np\n",
    "import pandas as pd\n",
    "import matplotlib.pyplot as plt\n",
    "from matplotlib.ticker import MultipleLocator\n",
    "from sklearn import linear_model\n",
    "from sklearn import metrics"
   ]
  },
  {
   "cell_type": "code",
   "execution_count": 2,
   "metadata": {},
   "outputs": [],
   "source": [
    "from matplotlib import rc\n",
    "plt.rc('text', usetex=True)\n",
    "plt.rc('font', family='serif')"
   ]
  },
  {
   "cell_type": "markdown",
   "metadata": {},
   "source": [
    "## ВАХ без поправки на падение напряжения"
   ]
  },
  {
   "cell_type": "code",
   "execution_count": 3,
   "metadata": {},
   "outputs": [],
   "source": [
    "up_va = pd.read_csv('up_VA.csv', encoding='utf-8')"
   ]
  },
  {
   "cell_type": "code",
   "execution_count": 4,
   "metadata": {},
   "outputs": [],
   "source": [
    "x_open = 92.7\n",
    "x = up_va.U_u[lambda df : df > x_open]"
   ]
  },
  {
   "cell_type": "code",
   "execution_count": 5,
   "metadata": {},
   "outputs": [
    {
     "name": "stdout",
     "output_type": "stream",
     "text": [
      "4      94.0\n",
      "5      96.2\n",
      "6      98.3\n",
      "7     100.6\n",
      "8     102.0\n",
      "9     104.5\n",
      "10    105.9\n",
      "11    107.8\n",
      "12    112.0\n",
      "Name: U_u, dtype: float64\n",
      "4     4.41\n",
      "5     4.82\n",
      "6     5.25\n",
      "7     5.70\n",
      "8     5.96\n",
      "9     6.46\n",
      "10    6.72\n",
      "11    7.07\n",
      "12    7.88\n",
      "Name: I_u, dtype: float64\n"
     ]
    }
   ],
   "source": [
    "y = up_va.I_u[x.index]\n",
    "print x\n",
    "print y"
   ]
  },
  {
   "cell_type": "code",
   "execution_count": 6,
   "metadata": {},
   "outputs": [],
   "source": [
    "regressor = linear_model.LinearRegression(fit_intercept=True) # Нельзя делать FixIntercept. Будет плохо\n",
    "n = len(x)"
   ]
  },
  {
   "cell_type": "code",
   "execution_count": 7,
   "metadata": {},
   "outputs": [
    {
     "data": {
      "text/plain": [
       "LinearRegression(copy_X=True, fit_intercept=True, n_jobs=1, normalize=False)"
      ]
     },
     "execution_count": 7,
     "metadata": {},
     "output_type": "execute_result"
    }
   ],
   "source": [
    "regressor.fit(x.values.reshape(n, 1), y.values.reshape(n, 1))"
   ]
  },
  {
   "cell_type": "code",
   "execution_count": 8,
   "metadata": {},
   "outputs": [
    {
     "data": {
      "text/plain": [
       "array([[ 0.19321806]])"
      ]
     },
     "execution_count": 8,
     "metadata": {},
     "output_type": "execute_result"
    }
   ],
   "source": [
    "regressor.coef_"
   ]
  },
  {
   "cell_type": "code",
   "execution_count": 9,
   "metadata": {},
   "outputs": [],
   "source": [
    "down_va = pd.read_csv('down_VA.csv', encoding='utf-8')"
   ]
  },
  {
   "cell_type": "code",
   "execution_count": 10,
   "metadata": {},
   "outputs": [
    {
     "data": {
      "text/plain": [
       "array([[ 0.19293817]])"
      ]
     },
     "execution_count": 10,
     "metadata": {},
     "output_type": "execute_result"
    }
   ],
   "source": [
    "x_close = 75\n",
    "x_d = down_va.U_d\n",
    "y_d = down_va.I_d\n",
    "\n",
    "regressor_d = linear_model.LinearRegression(fit_intercept=True)\n",
    "n_d = len(x_d)\n",
    "regressor.fit(x_d.values.reshape(n_d, 1), y_d.values.reshape(n_d, 1))\n",
    "regressor.coef_\n"
   ]
  },
  {
   "cell_type": "code",
   "execution_count": 11,
   "metadata": {},
   "outputs": [],
   "source": [
    "r_pad = 5.1\n",
    "up_va['u_u'] = up_va.I_u.apply(lambda x: x*r_pad)"
   ]
  },
  {
   "cell_type": "code",
   "execution_count": 12,
   "metadata": {},
   "outputs": [],
   "source": [
    "up_va['U-u_u'] = up_va.U_u - up_va.u_u"
   ]
  },
  {
   "cell_type": "code",
   "execution_count": 13,
   "metadata": {},
   "outputs": [],
   "source": [
    "r_pad = 5.1\n",
    "down_va['u_d'] = down_va.I_d.apply(lambda x: x*r_pad)\n",
    "down_va['U-u_d'] = down_va.U_d - down_va.u_d"
   ]
  },
  {
   "cell_type": "code",
   "execution_count": 14,
   "metadata": {},
   "outputs": [
    {
     "data": {
      "text/plain": [
       "LinearRegression(copy_X=True, fit_intercept=True, n_jobs=1, normalize=False)"
      ]
     },
     "execution_count": 14,
     "metadata": {},
     "output_type": "execute_result"
    }
   ],
   "source": [
    "df_res = pd.concat([up_va, down_va], axis=1)\n",
    "regressor_res = linear_model.LinearRegression(fit_intercept=True)\n",
    "x_r = pd.concat([df_res[\"U-u_u\"], df_res[\"U-u_d\"]]).dropna()\n",
    "n_r = len(x_r)\n",
    "y_r = pd.concat([df_res[\"I_u\"], df_res[\"I_d\"]]).dropna()\n",
    "regressor_res.fit(x_r.values.reshape(n_r, 1), y_r)"
   ]
  },
  {
   "cell_type": "code",
   "execution_count": null,
   "metadata": {},
   "outputs": [],
   "source": []
  },
  {
   "cell_type": "code",
   "execution_count": 15,
   "metadata": {},
   "outputs": [
    {
     "name": "stdout",
     "output_type": "stream",
     "text": [
      "[ 71.          71.04107143  71.08214286  71.12321429  71.16428571\n",
      "  71.20535714  71.24642857  71.2875      71.32857143  71.36964286\n",
      "  71.41071429  71.45178571  71.49285714  71.53392857  71.575       71.61607143\n",
      "  71.65714286  71.69821429  71.73928571  71.78035714  71.82142857  71.8625\n",
      "  71.90357143  71.94464286  71.98571429  72.02678571  72.06785714\n",
      "  72.10892857  72.15      ]\n",
      "[ 0.73152879  1.03115112  1.33077345  1.63039578  1.93001812  2.22964045\n",
      "  2.52926278  2.82888512  3.12850745  3.42812978  3.72775211  4.02737445\n",
      "  4.32699678  4.62661911  4.92624145  5.22586378  5.52548611  5.82510844\n",
      "  6.12473078  6.42435311  6.72397544  7.02359778  7.32322011  7.62284244\n",
      "  7.92246478  8.22208711  8.52170944  8.82133177  9.12095411]\n"
     ]
    },
    {
     "data": {
      "image/png": "[encoded data removed]",
      "text/plain": [
       "<matplotlib.figure.Figure at 0x7f0090896110>"
      ]
     },
     "metadata": {},
     "output_type": "display_data"
    }
   ],
   "source": [
    "f = plt.subplot()\n",
    "#UP\n",
    "f.scatter(x, y, c='r', marker='^', label='Experiment, up')\n",
    "x_pred = np.linspace(np.min(x), np.max(x), n)\n",
    "y_pred = regressor.predict(x_pred.reshape(n, 1))\n",
    "f.plot(x_pred, y_pred, c='b', linewidth=2, label='Approximation, up')\n",
    "#DOWN\n",
    "f.scatter(x_d, y_d, c='g', marker='v', label='Experiment, down')\n",
    "x_d_pred = np.linspace(np.min(x_d), np.max(x_d), n_d)\n",
    "y_d_pred = regressor.predict(x_d_pred.reshape(n_d, 1))\n",
    "f.plot(x_d_pred, y_d_pred, c='c', linewidth=0.9,  label='Approximation, down')\n",
    "# TURN LAMP ON AND OFF\n",
    "f.plot([70, 75], [0, 0], color='r', linewidth=2.5)\n",
    "f.plot([75, 75], [0, np.min(y_d)], color='r', linestyle='--')\n",
    "f.plot([92.5, 92.5], [0, regressor.predict(np.array([92.5]).reshape(1, 1))], color='r', linestyle='--')\n",
    "# WITHOUT RESISTOR\n",
    "f.scatter(x_r, y_r, c='c', marker='s', label='Without resistor, dots')\n",
    "x_r_pred = np.linspace(71, np.max(x_r), n_r)\n",
    "y_r_pred = regressor_res.predict(x_r_pred.reshape(n_r, 1))\n",
    "print x_r_pred\n",
    "print y_r_pred\n",
    "f.plot(x_r_pred, y_r_pred, c='k', label=\"Without resistor, line\")\n",
    "\n",
    "f.set_xlabel(r'U, [V]')\n",
    "f.set_ylabel(r'I, [mA]')\n",
    "\n",
    "maj_loc = MultipleLocator(1)\n",
    "min_loc = MultipleLocator(0.2)\n",
    "\n",
    "f.set_xlim((70, 115))\n",
    "f.set_ylim((0, 8.4))\n",
    "f.xaxis.set_major_locator(MultipleLocator(5))\n",
    "f.xaxis.set_minor_locator(MultipleLocator(1))\n",
    "f.yaxis.set_major_locator(maj_loc)\n",
    "f.yaxis.set_minor_locator(min_loc)\n",
    "\n",
    "f.grid(True, which='minor', linestyle='--')\n",
    "f.grid(True, which='major', c='black', linestyle='-', alpha=1)\n",
    "plt.title(r'VA')\n",
    "plt.legend()\n",
    "\n",
    "plt.savefig('va.pdf', fmt='pdf')\n",
    "plt.show()"
   ]
  },
  {
   "cell_type": "code",
   "execution_count": null,
   "metadata": {},
   "outputs": [],
   "source": []
  },
  {
   "cell_type": "code",
   "execution_count": null,
   "metadata": {},
   "outputs": [],
   "source": []
  }
 ],
 "metadata": {
  "kernelspec": {
   "display_name": "Python 3",
   "language": "python",
   "name": "python3"
  },
  "language_info": {
   "codemirror_mode": {
    "name": "ipython",
    "version": 2
   },
   "file_extension": ".py",
   "mimetype": "text/x-python",
   "name": "python",
   "nbconvert_exporter": "python",
   "pygments_lexer": "ipython2",
   "version": "2.7.12"
  }
 },
 "nbformat": 4,
 "nbformat_minor": 2
}
